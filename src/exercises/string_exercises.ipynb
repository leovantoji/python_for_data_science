{
 "cells": [
  {
   "cell_type": "markdown",
   "metadata": {},
   "source": [
    "# String Exercises\n",
    "\n",
    "**Exercise 1**: \n",
    "\n",
    "Write a Python program to count the number of characters (character frequency) in a string.\n",
    "\n",
    "**Input**:\n",
    "```python\n",
    "\"pythonfordatascience\"\n",
    "```\n",
    "\n",
    "**Output**:\n",
    "```python\n",
    "{'p': 1, 'y': 1, 't': 2, 'h': 1, 'o': 2, 'n': 2, 'f': 1, 'r': 1, 'd': 1, 'a': 2, 's': 1, 'c': 2, 'i': 1, 'e': 2}\n",
    "```"
   ]
  },
  {
   "cell_type": "code",
   "execution_count": null,
   "metadata": {},
   "outputs": [],
   "source": [
    "# Exercise 1:\n",
    "# [TODO]\n"
   ]
  },
  {
   "cell_type": "markdown",
   "metadata": {},
   "source": [
    "**Exercise 2**: \n",
    "\n",
    "Write a Python program that accepts a comma separated sequence of words as input and prints the unique words in sorted form (alphanumerically).\n",
    "\n",
    "**Input**:\n",
    "```python\n",
    "\"red, white, black, red, green, black\"\n",
    "```\n",
    "\n",
    "**Output**:\n",
    "```python\n",
    "\"black, green, red, white\"\n",
    "```"
   ]
  },
  {
   "cell_type": "code",
   "execution_count": null,
   "metadata": {},
   "outputs": [],
   "source": [
    "# Exercise 2:\n",
    "# [TODO]\n"
   ]
  },
  {
   "cell_type": "markdown",
   "metadata": {},
   "source": [
    "**Exercise 3**:\n",
    "\n",
    "Write a Python program to create a **Caesar encryption**.\n",
    "\n",
    "**Note**:\n",
    "- We'll treat lowercase and uppercase letters as the same.\n",
    "- The key to be used for encryption should be an integer.\n",
    "- The output will all be in lowercase.\n",
    "- **Caesar encryption** is one of the simplest and most widely known encryption techniques. \n",
    "    - It is a type of substitution cipher in which each letter in the plaintext is replaced by a letter some fixed number of positions down the alphabet. \n",
    "    - The encryption key is the number of letters to shift.\n",
    "\n",
    "**Input**:\n",
    "```python\n",
    "unencrypted_string = \"This is a test\"\n",
    "key = 3\n",
    "```\n",
    "\n",
    "**Output**:\n",
    "```python\n",
    "encrypted_string = \"wklv lv d whvw\"\n",
    "```"
   ]
  },
  {
   "cell_type": "code",
   "execution_count": 3,
   "metadata": {},
   "outputs": [],
   "source": [
    "# Exercise 3:\n",
    "# [TODO]\n"
   ]
  },
  {
   "cell_type": "markdown",
   "metadata": {},
   "source": [
    "**Exercise 4**: \n",
    "\n",
    "Write a Python program to swap comma and dot in a string.\n",
    "\n",
    "**Input:**\n",
    "\n",
    "```python\n",
    "\"32.054,23\"\n",
    "```\n",
    "\n",
    "**Output:**\n",
    "\n",
    "```python\n",
    "\"32,054.23\"\n",
    "```"
   ]
  },
  {
   "cell_type": "code",
   "execution_count": null,
   "metadata": {},
   "outputs": [],
   "source": [
    "# Exercise 4:\n",
    "# [TODO]\n"
   ]
  },
  {
   "cell_type": "markdown",
   "metadata": {},
   "source": [
    "**Exercise 5**: \n",
    "\n",
    "Write a Python program to find the minimum window in a given string which will contain all the characters of another given string.\n",
    "\n",
    "**Input:**\n",
    "```python\n",
    "str1 = \"PRWSOERIUSFK\"\n",
    "str2 = \"OSU\"\n",
    "```\n",
    "\n",
    "**Output:**\n",
    "\n",
    "```python\n",
    "\"OERIUS\"\n",
    "```"
   ]
  },
  {
   "cell_type": "code",
   "execution_count": null,
   "metadata": {},
   "outputs": [],
   "source": [
    "# Exercise 5:\n",
    "# [TODO]\n"
   ]
  }
 ],
 "metadata": {
  "kernelspec": {
   "display_name": "Python 3.9.12 ('base')",
   "language": "python",
   "name": "python3"
  },
  "language_info": {
   "codemirror_mode": {
    "name": "ipython",
    "version": 3
   },
   "file_extension": ".py",
   "mimetype": "text/x-python",
   "name": "python",
   "nbconvert_exporter": "python",
   "pygments_lexer": "ipython3",
   "version": "3.9.12"
  },
  "orig_nbformat": 4,
  "vscode": {
   "interpreter": {
    "hash": "e720081de2fd57dd700935953acd9dd6610ea2e1d5e7379bea03675c6c751eb5"
   }
  }
 },
 "nbformat": 4,
 "nbformat_minor": 2
}
