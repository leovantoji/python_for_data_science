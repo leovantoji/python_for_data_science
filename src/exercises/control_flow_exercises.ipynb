{
 "cells": [
  {
   "cell_type": "markdown",
   "metadata": {},
   "source": [
    "# Control Flow Exercises\n",
    "\n",
    "**Exercise 1**: \n",
    "\n",
    "Write a Python program that takes in a number and construct the corresponding pattern using a nested for loop.\n",
    "\n",
    "**Input 1**:\n",
    "```python\n",
    "n = 3\n",
    "```\n",
    "\n",
    "**Output 1**:\n",
    "```python\n",
    "*\n",
    "* *\n",
    "* * *\n",
    "* *\n",
    "*\n",
    "```\n",
    "\n",
    "**Input 2**:\n",
    "```python\n",
    "n = 5\n",
    "```\n",
    "\n",
    "**Output 2**:\n",
    "```python\n",
    "*\n",
    "* *\n",
    "* * *\n",
    "* * * *\n",
    "* * * * *\n",
    "* * * *\n",
    "* * *\n",
    "* *\n",
    "*\n",
    "```"
   ]
  },
  {
   "cell_type": "code",
   "execution_count": null,
   "metadata": {},
   "outputs": [],
   "source": [
    "# Exercise 1:\n",
    "# [TODO]\n"
   ]
  },
  {
   "cell_type": "markdown",
   "metadata": {},
   "source": [
    "**Exercise 2**: \n",
    "\n",
    "Write a Python program to print alphabet pattern `E`.\n",
    "\n",
    "**Output**:\n",
    "```python\n",
    "*****\n",
    "*\n",
    "*\n",
    "*****\n",
    "*\n",
    "*\n",
    "*****\n",
    "```"
   ]
  },
  {
   "cell_type": "code",
   "execution_count": null,
   "metadata": {},
   "outputs": [],
   "source": [
    "# Exercise 2:\n",
    "# [TODO]\n"
   ]
  },
  {
   "cell_type": "markdown",
   "metadata": {},
   "source": [
    "**Exercise 3**:\n",
    "\n",
    "Write a Python program to check whether an character is a vowel or consonant.\n",
    "- `vowel`: `a`, `e`, `i`, `o`, `u`\n",
    "- `consonant`: `b`, `c`, `d`, `f`, `g`, `h`, `j`, `k`, `l`, `m`, `n`, `p`, `q`, `r`, `s`, `t`, `v`, `w`, `x`, `y`, `z`\n",
    "\n",
    "**Input**:\n",
    "```python\n",
    "input_character = \"e\"\n",
    "```\n",
    "\n",
    "**Output**:\n",
    "```python\n",
    "\"Vowel\"\n",
    "```"
   ]
  },
  {
   "cell_type": "code",
   "execution_count": 3,
   "metadata": {},
   "outputs": [],
   "source": [
    "# Exercise 3:\n",
    "# [TODO]\n"
   ]
  },
  {
   "cell_type": "markdown",
   "metadata": {},
   "source": [
    "**Exercise 4**: \n",
    "\n",
    "Write a Python program to display the sign of the Vietnamese Zodiac for given list of years.\n",
    "\n",
    "Vietnamese Zodiacs: `[\"Rat\", \"Ox\", \"Tiger\", \"Cat\", \"Dragon\", \"Snake\", \"Horse\", \"Goat\", \"Monkey\", \"Rooster\", \"Dog\", \"Pig\"]`\n",
    "\n",
    "\n",
    "**Input:**\n",
    "\n",
    "```python\n",
    "input_years = [1989, 1990, 1991, 1992]\n",
    "```\n",
    "\n",
    "**Output:**\n",
    "\n",
    "```python\n",
    "[\"Snake\", \"Horse\", \"Goat\", \"Monkey\"]\n",
    "```"
   ]
  },
  {
   "cell_type": "code",
   "execution_count": null,
   "metadata": {},
   "outputs": [],
   "source": [
    "# Exercise 4:\n",
    "# [TODO]\n"
   ]
  },
  {
   "cell_type": "markdown",
   "metadata": {},
   "source": [
    "**Exercise 5**: \n",
    "\n",
    "Write a Python program to create the multiplication table (from 1 to 10) of a number.\n",
    "\n",
    "**Input:**\n",
    "```python\n",
    "n = 6\n",
    "```\n",
    "\n",
    "**Output:**\n",
    "\n",
    "```python\n",
    "6 x 1 = 6\n",
    "6 x 2 = 12\n",
    "6 x 3 = 18\n",
    "6 x 4 = 24\n",
    "6 x 5 = 30\n",
    "6 x 6 = 36\n",
    "6 x 7 = 42\n",
    "6 x 8 = 48\n",
    "6 x 9 = 54\n",
    "6 x 10 = 60\n",
    "```"
   ]
  },
  {
   "cell_type": "code",
   "execution_count": null,
   "metadata": {},
   "outputs": [],
   "source": [
    "# Exercise 5:\n",
    "# [TODO]\n"
   ]
  }
 ],
 "metadata": {
  "kernelspec": {
   "display_name": "Python 3.9.12 ('base')",
   "language": "python",
   "name": "python3"
  },
  "language_info": {
   "codemirror_mode": {
    "name": "ipython",
    "version": 3
   },
   "file_extension": ".py",
   "mimetype": "text/x-python",
   "name": "python",
   "nbconvert_exporter": "python",
   "pygments_lexer": "ipython3",
   "version": "3.9.12"
  },
  "orig_nbformat": 4,
  "vscode": {
   "interpreter": {
    "hash": "e720081de2fd57dd700935953acd9dd6610ea2e1d5e7379bea03675c6c751eb5"
   }
  }
 },
 "nbformat": 4,
 "nbformat_minor": 2
}
