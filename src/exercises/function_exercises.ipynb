{
 "cells": [
  {
   "cell_type": "markdown",
   "metadata": {},
   "source": [
    "# Function Exercises\n",
    "\n",
    "**Exercise 1**: \n",
    "\n",
    "Write a Python function that prints out the first n rows of Pascal's triangle.\n",
    "\n",
    "This is what a Pascal triangle looks like:\n",
    "\n",
    "![image](../../images/pascal_triangle.png)\n",
    "\n",
    "**Input**:\n",
    "```python\n",
    "n = 5\n",
    "```\n",
    "\n",
    "**Output**:\n",
    "```python\n",
    "[1]\n",
    "[1, 1]\n",
    "[1, 2, 1]\n",
    "[1, 3, 3, 1]\n",
    "[1, 4, 6, 4, 1]\n",
    "```"
   ]
  },
  {
   "cell_type": "code",
   "execution_count": null,
   "metadata": {},
   "outputs": [],
   "source": [
    "# Exercise 1:\n",
    "# [TODO]\n"
   ]
  },
  {
   "cell_type": "markdown",
   "metadata": {},
   "source": [
    "**Exercise 2**: \n",
    "\n",
    "Write a Python function to check whether a string is a pangram or not.\n",
    "\n",
    "**Note**: \n",
    "- **Pangrams** are words or sentences containing every letter of the alphabet at least once.\n",
    "- Alphabet characters include: *a, b, c, d, e, f, g, h, i, j, k, l, m, n, o, p, q, r, s, t, u, v, w, x, y, z*.\n",
    "\n",
    "**Input 1**:\n",
    "```python\n",
    "input_sentence = \"The quick brown fox jumps over the lazy dog\"\n",
    "```\n",
    "\n",
    "**Output 1**:\n",
    "```python\n",
    "True\n",
    "```\n",
    "\n",
    "**Input 2**:\n",
    "```python\n",
    "input_sentence = \"This Python for Data Science course is so exciting!\"\n",
    "```\n",
    "\n",
    "**Output 2**:\n",
    "```python\n",
    "False\n",
    "```"
   ]
  },
  {
   "cell_type": "code",
   "execution_count": null,
   "metadata": {},
   "outputs": [],
   "source": [
    "# Exercise 2:\n",
    "# [TODO]\n"
   ]
  },
  {
   "cell_type": "markdown",
   "metadata": {},
   "source": [
    "**Exercise 3**:\n",
    "\n",
    "Write a Python function to take in a list of numbers and return another list of boolean values where the boolean value:\n",
    "- `True` if the number is a perfect number.\n",
    "- `False` if the number is not a perfect number.\n",
    "\n",
    "A perfect number is defined as a number that is equal to the sum of its positive divisors excluding itself.\n",
    "\n",
    "For example:\n",
    "- `6` has the following positive divisors (`1`, `2`, `3`, `6`). Thus, `6` is a perfect number because it is equal to `6 = 1 + 2 + 3`.\n",
    "- `28` has the following positive divisors (`1`, `2`, `4`, `7`, `14`, `28`). Thus, `28` is a perfect number because it is equal to `28 = 1 + 2 + 4 + 7 + 14`.\n",
    "\n",
    "**Input**:\n",
    "```python\n",
    "input_numbers = [1, 5, 6, 28, 496, 829]\n",
    "```\n",
    "\n",
    "**Output**:\n",
    "```python\n",
    "[False, False, True, True, True, False]\n",
    "```"
   ]
  },
  {
   "cell_type": "code",
   "execution_count": null,
   "metadata": {},
   "outputs": [],
   "source": [
    "# Exercise 3:\n",
    "# [TODO]\n"
   ]
  },
  {
   "cell_type": "markdown",
   "metadata": {},
   "source": [
    "**Exercise 4**: \n",
    "\n",
    "Write a Python program to reverse a string.\n",
    "\n",
    "**Input:**\n",
    "\n",
    "```python\n",
    "input_string = \"123456python\"\n",
    "```\n",
    "\n",
    "**Output:**\n",
    "\n",
    "```python\n",
    "\"nohtyp654321\"\n",
    "```"
   ]
  },
  {
   "cell_type": "code",
   "execution_count": null,
   "metadata": {},
   "outputs": [],
   "source": [
    "# Exercise 4:\n",
    "# [TODO]\n"
   ]
  },
  {
   "cell_type": "markdown",
   "metadata": {},
   "source": [
    "**Exercise 5**: \n",
    "\n",
    "Write a Python function to calculate the factorial of a number (a non-negative integer). The function accepts the number as an argument.\n",
    "\n",
    "For example:\n",
    "- `0! = 1`\n",
    "- `5! = 5 * 4 * 3 * 2 * 1 = 120`\n",
    "\n",
    "**Input:**\n",
    "```python\n",
    "n = 6\n",
    "```\n",
    "\n",
    "**Output:**\n",
    "\n",
    "```python\n",
    "720\n",
    "```"
   ]
  },
  {
   "cell_type": "code",
   "execution_count": null,
   "metadata": {},
   "outputs": [],
   "source": [
    "# Exercise 5:\n",
    "# [TODO]\n"
   ]
  }
 ],
 "metadata": {
  "kernelspec": {
   "display_name": "Python 3.9.12 ('base')",
   "language": "python",
   "name": "python3"
  },
  "language_info": {
   "name": "python",
   "version": "3.9.12"
  },
  "orig_nbformat": 4,
  "vscode": {
   "interpreter": {
    "hash": "e720081de2fd57dd700935953acd9dd6610ea2e1d5e7379bea03675c6c751eb5"
   }
  }
 },
 "nbformat": 4,
 "nbformat_minor": 2
}
