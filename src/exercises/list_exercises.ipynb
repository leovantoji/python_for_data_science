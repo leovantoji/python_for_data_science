{
 "cells": [
  {
   "cell_type": "markdown",
   "metadata": {},
   "source": [
    "# List Exercises\n",
    "\n",
    "**Exercise 1**: \n",
    "\n",
    "Write a Python program to convert a list of multiple integers into a single integer.\n",
    "\n",
    "**Input**:\n",
    "```python\n",
    "[11, 33, 50]\n",
    "```\n",
    "\n",
    "**Output**:\n",
    "```python\n",
    "113350\n",
    "```"
   ]
  },
  {
   "cell_type": "code",
   "execution_count": null,
   "metadata": {},
   "outputs": [],
   "source": [
    "# Exercise 1:\n",
    "# [TODO]\n"
   ]
  },
  {
   "cell_type": "markdown",
   "metadata": {},
   "source": [
    "**Exercise 2**: \n",
    "\n",
    "Write a Python program to split a list every `Nth` element.\n",
    "\n",
    "**Input**:\n",
    "```python\n",
    "input_list = ['a', 'b', 'c', 'd', 'e', 'f', 'g', 'h', 'i', 'j', 'k', 'l', 'm', 'n']\n",
    "n = 3\n",
    "```\n",
    "\n",
    "**Output**:\n",
    "```python\n",
    "['a', 'd', 'g', 'j', 'm']\n",
    "['b', 'e', 'h', 'k', 'n']\n",
    "['c', 'f', 'i', 'l']\n",
    "```"
   ]
  },
  {
   "cell_type": "code",
   "execution_count": null,
   "metadata": {},
   "outputs": [],
   "source": [
    "# Exercise 2:\n",
    "# [TODO]\n"
   ]
  },
  {
   "cell_type": "markdown",
   "metadata": {},
   "source": [
    "**Exercise 3**:\n",
    "\n",
    "Write a Python program to insert a given string at the beginning of all items in a list.\n",
    "\n",
    "**Input**:\n",
    "```python\n",
    "input_list = [1,2,3,4]\n",
    "input_string = \"python\"\n",
    "```\n",
    "\n",
    "**Output**:\n",
    "```python\n",
    "[\"python1\", \"python2\", \"python3\", \"python4\"]\n",
    "```"
   ]
  },
  {
   "cell_type": "code",
   "execution_count": null,
   "metadata": {},
   "outputs": [],
   "source": [
    "# Exercise 3:\n",
    "# [TODO]\n"
   ]
  },
  {
   "cell_type": "markdown",
   "metadata": {},
   "source": [
    "**Exercise 4**: \n",
    "\n",
    "Write a Python program to find the items starts with specific character from a given list.\n",
    "\n",
    "**Input:**\n",
    "\n",
    "```python\n",
    "input_list = ['abcd', 'abc', 'bcd', 'bkie', 'cder', 'cdsw', 'sdfsd', 'dagfa', 'acjd']\n",
    "input_char = 'a'\n",
    "```\n",
    "\n",
    "**Output:**\n",
    "\n",
    "```python\n",
    "['abcd', 'abc', 'acjd']\n",
    "```"
   ]
  },
  {
   "cell_type": "code",
   "execution_count": null,
   "metadata": {},
   "outputs": [],
   "source": [
    "# Exercise 4:\n",
    "# [TODO]\n"
   ]
  },
  {
   "cell_type": "markdown",
   "metadata": {},
   "source": [
    "**Exercise 5**: \n",
    "\n",
    "Write a Python program to count integer in a given mixed list.\n",
    "\n",
    "**Input:**\n",
    "```python\n",
    "[1, 'abcd', 3, 1.2, 4, 'xyz', 5, 'pqr', 7, -5, -12.22]\n",
    "```\n",
    "\n",
    "**Output:**\n",
    "\n",
    "```python\n",
    "6\n",
    "```"
   ]
  },
  {
   "cell_type": "code",
   "execution_count": null,
   "metadata": {},
   "outputs": [],
   "source": [
    "# Exercise 5:\n",
    "# [TODO]\n"
   ]
  }
 ],
 "metadata": {
  "kernelspec": {
   "display_name": "Python 3.9.12 ('base')",
   "language": "python",
   "name": "python3"
  },
  "language_info": {
   "name": "python",
   "version": "3.9.12"
  },
  "orig_nbformat": 4,
  "vscode": {
   "interpreter": {
    "hash": "e720081de2fd57dd700935953acd9dd6610ea2e1d5e7379bea03675c6c751eb5"
   }
  }
 },
 "nbformat": 4,
 "nbformat_minor": 2
}
