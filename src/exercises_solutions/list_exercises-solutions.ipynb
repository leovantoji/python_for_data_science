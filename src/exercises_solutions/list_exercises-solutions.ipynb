{
 "cells": [
  {
   "cell_type": "markdown",
   "metadata": {},
   "source": [
    "# List Exercises\n",
    "\n",
    "**Exercise 1**: \n",
    "\n",
    "Write a Python program to convert a list of multiple integers into a single integer.\n",
    "\n",
    "**Input**:\n",
    "```python\n",
    "[11, 33, 50]\n",
    "```\n",
    "\n",
    "**Output**:\n",
    "```python\n",
    "113350\n",
    "```"
   ]
  },
  {
   "cell_type": "code",
   "execution_count": 3,
   "metadata": {},
   "outputs": [
    {
     "data": {
      "text/plain": [
       "0"
      ]
     },
     "execution_count": 3,
     "metadata": {},
     "output_type": "execute_result"
    }
   ],
   "source": [
    "# Exercise 1:\n",
    "# [TODO]\n",
    "def combine_numbers(list_numbers):\n",
    "    return int(\"\".join(map(str, list_numbers)))\n",
    "\n",
    "combine_numbers([0])"
   ]
  },
  {
   "cell_type": "markdown",
   "metadata": {},
   "source": [
    "**Exercise 2**: \n",
    "\n",
    "Write a Python program to split a list every `Nth` element.\n",
    "\n",
    "**Input**:\n",
    "```python\n",
    "input_list = ['a', 'b', 'c', 'd', 'e', 'f', 'g', 'h', 'i', 'j', 'k', 'l', 'm', 'n']\n",
    "n = 3\n",
    "```\n",
    "\n",
    "**Output**:\n",
    "```python\n",
    "['a', 'd', 'g', 'j', 'm']\n",
    "['b', 'e', 'h', 'k', 'n']\n",
    "['c', 'f', 'i', 'l']\n",
    "```"
   ]
  },
  {
   "cell_type": "code",
   "execution_count": 9,
   "metadata": {},
   "outputs": [
    {
     "data": {
      "text/plain": [
       "[['a', 'd', 'g', 'j', 'm'], ['b', 'e', 'h', 'k', 'n'], ['c', 'f', 'i', 'l']]"
      ]
     },
     "execution_count": 9,
     "metadata": {},
     "output_type": "execute_result"
    }
   ],
   "source": [
    "# Exercise 2:\n",
    "# [TODO]\n",
    "def split_list(input_list, n):\n",
    "    if len(input_list) < n:\n",
    "        return \"Wrong input! Length of input_list needs to be bigger than n.\"\n",
    "    \n",
    "    return [input_list[i::n] for i in range(n)]\n",
    "\n",
    "split_list(['a', 'b', 'c', 'd', 'e', 'f', 'g', 'h', 'i', 'j', 'k', 'l', 'm', 'n'], 3)"
   ]
  },
  {
   "cell_type": "markdown",
   "metadata": {},
   "source": [
    "**Exercise 3**:\n",
    "\n",
    "Write a Python program to insert a given string at the beginning of all items in a list.\n",
    "\n",
    "**Input**:\n",
    "```python\n",
    "input_list = [1,2,3,4]\n",
    "input_string = \"python\"\n",
    "```\n",
    "\n",
    "**Output**:\n",
    "```python\n",
    "[\"python1\", \"python2\", \"python3\", \"python4\"]\n",
    "```"
   ]
  },
  {
   "cell_type": "code",
   "execution_count": 13,
   "metadata": {},
   "outputs": [
    {
     "data": {
      "text/plain": [
       "['python1', 'python2', 'python3', 'python4']"
      ]
     },
     "execution_count": 13,
     "metadata": {},
     "output_type": "execute_result"
    }
   ],
   "source": [
    "# Exercise 3:\n",
    "# [TODO]\n",
    "def insert_func(input_list, input_string):\n",
    "    return [str(input_string) + str(i) for i in input_list]\n",
    "\n",
    "insert_func([1, 2, 3, 4], \"python\")"
   ]
  },
  {
   "cell_type": "markdown",
   "metadata": {},
   "source": [
    "**Exercise 4**: \n",
    "\n",
    "Write a Python program to find the items starts with specific character from a given list.\n",
    "\n",
    "**Input:**\n",
    "\n",
    "```python\n",
    "input_list = ['abcd', 'abc', 'bcd', 'bkie', 'cder', 'cdsw', 'sdfsd', 'dagfa', 'acjd']\n",
    "input_char = 'a'\n",
    "```\n",
    "\n",
    "**Output:**\n",
    "\n",
    "```python\n",
    "['abcd', 'abc', 'acjd']\n",
    "```"
   ]
  },
  {
   "cell_type": "code",
   "execution_count": 15,
   "metadata": {},
   "outputs": [
    {
     "data": {
      "text/plain": [
       "['abcd', 'abc', 'acjd']"
      ]
     },
     "execution_count": 15,
     "metadata": {},
     "output_type": "execute_result"
    }
   ],
   "source": [
    "# Exercise 4:\n",
    "# [TODO]\n",
    "def start_with_char(input_list, char):\n",
    "    return [i for i in input_list if i.startswith(char)]\n",
    "\n",
    "start_with_char([\"abcd\", \"abc\", \"bcd\", \"acjd\"], \"a\")"
   ]
  },
  {
   "cell_type": "markdown",
   "metadata": {},
   "source": [
    "**Exercise 5**: \n",
    "\n",
    "Write a Python program to count integer in a given mixed list.\n",
    "\n",
    "**Input:**\n",
    "```python\n",
    "[1, 'abcd', 3, 1.2, 4, 'xyz', 5, 'pqr', 7, -5, -12.22]\n",
    "```\n",
    "\n",
    "**Output:**\n",
    "\n",
    "```python\n",
    "6\n",
    "```"
   ]
  },
  {
   "cell_type": "code",
   "execution_count": 14,
   "metadata": {},
   "outputs": [
    {
     "data": {
      "text/plain": [
       "6"
      ]
     },
     "execution_count": 14,
     "metadata": {},
     "output_type": "execute_result"
    }
   ],
   "source": [
    "# Exercise 5:\n",
    "# [TODO]\n",
    "def count_integer(input_list):\n",
    "    count = 0\n",
    "    for i in input_list:\n",
    "        if isinstance(i, int):\n",
    "            count += 1\n",
    "    return count\n",
    "\n",
    "count_integer([1, 'abcd', 3, 1.2, 4, 'xyz', 5, 'pqr', 7, -5, -12.22])"
   ]
  }
 ],
 "metadata": {
  "kernelspec": {
   "display_name": "Python 3.9.12 ('base')",
   "language": "python",
   "name": "python3"
  },
  "language_info": {
   "codemirror_mode": {
    "name": "ipython",
    "version": 3
   },
   "file_extension": ".py",
   "mimetype": "text/x-python",
   "name": "python",
   "nbconvert_exporter": "python",
   "pygments_lexer": "ipython3",
   "version": "3.9.12"
  },
  "orig_nbformat": 4,
  "vscode": {
   "interpreter": {
    "hash": "e720081de2fd57dd700935953acd9dd6610ea2e1d5e7379bea03675c6c751eb5"
   }
  }
 },
 "nbformat": 4,
 "nbformat_minor": 2
}
