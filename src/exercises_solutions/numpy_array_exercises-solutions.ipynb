{
 "cells": [
  {
   "cell_type": "markdown",
   "metadata": {},
   "source": [
    "# Numpy Array Exercises\n",
    "\n",
    "**Exercise 1**: \n",
    "\n",
    "Write a NumPy program to add a border (filled with `0`'s) around an existing array.\n",
    "\n",
    "**Input**:\n",
    "```python\n",
    "[[ 1.  1.  1.]                                                          \n",
    " [ 1.  1.  1.]                                                          \n",
    " [ 1.  1.  1.]]\n",
    "```\n",
    "\n",
    "**Output**:\n",
    "```python\n",
    "[[ 0.  0.  0.  0.  0.]                                                  \n",
    " [ 0.  1.  1.  1.  0.]                                                  \n",
    " [ 0.  1.  1.  1.  0.]                                                  \n",
    " [ 0.  1.  1.  1.  0.]                                                  \n",
    " [ 0.  0.  0.  0.  0.]]\n",
    "```"
   ]
  },
  {
   "cell_type": "code",
   "execution_count": null,
   "metadata": {},
   "outputs": [],
   "source": [
    "# Exercise 1:\n",
    "# [TODO]\n"
   ]
  },
  {
   "cell_type": "markdown",
   "metadata": {},
   "source": [
    "**Exercise 2**: \n",
    "\n",
    "Write a NumPy program to find common values between two arrays.\n",
    "\n",
    "**Input**:\n",
    "```python\n",
    "arr1 = np.array([0, 10, 20, 40, 60])\n",
    "arr2 = np.arrar([10, 30, 40])\n",
    "```\n",
    "\n",
    "**Output**:\n",
    "```python\n",
    "np.array([10, 40])\n",
    "```"
   ]
  },
  {
   "cell_type": "code",
   "execution_count": null,
   "metadata": {},
   "outputs": [],
   "source": [
    "# Exercise 2:\n",
    "# [TODO]\n"
   ]
  },
  {
   "cell_type": "markdown",
   "metadata": {},
   "source": [
    "**Exercise 3**:\n",
    "\n",
    "Write a NumPy program to find the union of two arrays. Union will return the unique, sorted array of values that are in either of the two input arrays.\n",
    "\n",
    "**Input**:\n",
    "```python\n",
    "arr1 = np.array([0, 10, 20, 40, 60, 80])\n",
    "arr2 = np.array([10, 30, 40, 50, 70])\n",
    "```\n",
    "\n",
    "**Output**:\n",
    "```python\n",
    "np.array([0, 10, 20, 30, 40, 50, 60, 70, 80])\n",
    "```"
   ]
  },
  {
   "cell_type": "code",
   "execution_count": 3,
   "metadata": {},
   "outputs": [],
   "source": [
    "# Exercise 3:\n",
    "# [TODO]\n"
   ]
  },
  {
   "cell_type": "markdown",
   "metadata": {},
   "source": [
    "**Exercise 4**: \n",
    "\n",
    "Write a NumPy program to create a 2-D array whose diagonal equals `[4, 5, 6, 8]` and `0`'s elsewhere.\n",
    "\n",
    "**Output:**\n",
    "\n",
    "```python\n",
    "[[4 0 0 0]\n",
    "[0 5 0 0]\n",
    "[0 0 6 0]\n",
    "[0 0 0 8]]\n",
    "```"
   ]
  },
  {
   "cell_type": "code",
   "execution_count": null,
   "metadata": {},
   "outputs": [],
   "source": [
    "# Exercise 4:\n",
    "# [TODO]\n"
   ]
  },
  {
   "cell_type": "markdown",
   "metadata": {},
   "source": [
    "**Exercise 5**: \n",
    "\n",
    "Write a NumPy program to test whether each element of a 1-D array is also present in a second array.\n",
    "\n",
    "**Input:**\n",
    "```python\n",
    "arr1 = np.array([0, 10, 20, 30, 40, 50])\n",
    "arr2 = np.array([0, 40, 70])\n",
    "```\n",
    "\n",
    "**Output:**\n",
    "\n",
    "```python\n",
    "[True, False, False, False, True, False, False]\n",
    "```"
   ]
  },
  {
   "cell_type": "code",
   "execution_count": null,
   "metadata": {},
   "outputs": [],
   "source": [
    "# Exercise 5:\n",
    "# [TODO]\n"
   ]
  }
 ],
 "metadata": {
  "kernelspec": {
   "display_name": "Python 3.9.12 ('base')",
   "language": "python",
   "name": "python3"
  },
  "language_info": {
   "codemirror_mode": {
    "name": "ipython",
    "version": 3
   },
   "file_extension": ".py",
   "mimetype": "text/x-python",
   "name": "python",
   "nbconvert_exporter": "python",
   "pygments_lexer": "ipython3",
   "version": "3.9.12"
  },
  "orig_nbformat": 4,
  "vscode": {
   "interpreter": {
    "hash": "e720081de2fd57dd700935953acd9dd6610ea2e1d5e7379bea03675c6c751eb5"
   }
  }
 },
 "nbformat": 4,
 "nbformat_minor": 2
}
