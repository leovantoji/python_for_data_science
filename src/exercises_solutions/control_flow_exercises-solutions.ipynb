{
 "cells": [
  {
   "cell_type": "markdown",
   "metadata": {},
   "source": [
    "# Control Flow Exercises\n",
    "\n",
    "**Exercise 1**: \n",
    "\n",
    "Write a Python program that takes in a number and construct the corresponding pattern using a nested for loop.\n",
    "\n",
    "**Input 1**:\n",
    "```python\n",
    "n = 3\n",
    "```\n",
    "\n",
    "**Output 1**:\n",
    "```python\n",
    "*\n",
    "* *\n",
    "* * *\n",
    "* *\n",
    "*\n",
    "```\n",
    "\n",
    "**Input 2**:\n",
    "```python\n",
    "n = 5\n",
    "```\n",
    "\n",
    "**Output 2**:\n",
    "```python\n",
    "*\n",
    "* *\n",
    "* * *\n",
    "* * * *\n",
    "* * * * *\n",
    "* * * *\n",
    "* * *\n",
    "* *\n",
    "*\n",
    "```"
   ]
  },
  {
   "cell_type": "code",
   "execution_count": 2,
   "metadata": {},
   "outputs": [
    {
     "name": "stdout",
     "output_type": "stream",
     "text": [
      "\n",
      "*\n",
      "**\n",
      "***\n",
      "****\n",
      "*****\n",
      "****\n",
      "***\n",
      "**\n",
      "*\n"
     ]
    }
   ],
   "source": [
    "# Exercise 1:\n",
    "# [TODO]\n",
    "def draw_triangle(n):\n",
    "    for i in range(n):\n",
    "        for j in range(i):\n",
    "            print(\"*\", end=\"\")\n",
    "        print(\"\")\n",
    "    \n",
    "    for i in range(n, 0, -1):\n",
    "        for j in range(i):\n",
    "            print(\"*\", end=\"\")\n",
    "        print(\"\")\n",
    "\n",
    "draw_triangle(5)"
   ]
  },
  {
   "cell_type": "markdown",
   "metadata": {},
   "source": [
    "**Exercise 2**: \n",
    "\n",
    "Write a Python program to print alphabet pattern `E`.\n",
    "\n",
    "**Output**:\n",
    "```python\n",
    "*****\n",
    "*\n",
    "*\n",
    "*****\n",
    "*\n",
    "*\n",
    "*****\n",
    "```"
   ]
  },
  {
   "cell_type": "code",
   "execution_count": 8,
   "metadata": {},
   "outputs": [
    {
     "name": "stdout",
     "output_type": "stream",
     "text": [
      " ***** \n",
      " *     \n",
      " *     \n",
      " ****  \n",
      " *     \n",
      " *     \n",
      " ***** \n",
      "\n"
     ]
    }
   ],
   "source": [
    "# Exercise 2:\n",
    "# [TODO]\n",
    "def draw_an_e():\n",
    "    e_str = \"\"\n",
    "    for i in range(7):\n",
    "        for j in range(7):\n",
    "            if (j == 1) or ((i == 0 or i == 6) and (1 < j < 6)) or (i == 3 and 1 < j < 5):\n",
    "                e_str += \"*\"\n",
    "            else:\n",
    "                e_str += \" \"\n",
    "        e_str += \"\\n\"\n",
    "\n",
    "    print(e_str)\n",
    "\n",
    "draw_an_e()"
   ]
  },
  {
   "cell_type": "markdown",
   "metadata": {},
   "source": [
    "**Exercise 3**:\n",
    "\n",
    "Write a Python program to check whether an character is a vowel or consonant.\n",
    "- `vowel`: `a`, `e`, `i`, `o`, `u`\n",
    "- `consonant`: `b`, `c`, `d`, `f`, `g`, `h`, `j`, `k`, `l`, `m`, `n`, `p`, `q`, `r`, `s`, `t`, `v`, `w`, `x`, `y`, `z`\n",
    "\n",
    "**Input**:\n",
    "```python\n",
    "input_character = \"e\"\n",
    "```\n",
    "\n",
    "**Output**:\n",
    "```python\n",
    "\"Vowel\"\n",
    "```"
   ]
  },
  {
   "cell_type": "code",
   "execution_count": 11,
   "metadata": {},
   "outputs": [
    {
     "name": "stdout",
     "output_type": "stream",
     "text": [
      "e is a vowel\n",
      "k is a consonant\n",
      "y is a consonant\n",
      "a is a vowel\n"
     ]
    }
   ],
   "source": [
    "# Exercise 3:\n",
    "# [TODO]\n",
    "def vowel_consonant(letter):\n",
    "    return_str = f\"{letter} is a \"\n",
    "    if letter in (\"a\", \"e\", \"i\", \"o\", \"u\"):\n",
    "        return_str += \"vowel\"\n",
    "    else:\n",
    "        return_str += \"consonant\"\n",
    "\n",
    "    return return_str\n",
    "\n",
    "print(vowel_consonant(\"e\"))\n",
    "print(vowel_consonant(\"k\"))\n",
    "print(vowel_consonant(\"y\"))\n",
    "print(vowel_consonant(\"a\"))"
   ]
  },
  {
   "cell_type": "markdown",
   "metadata": {},
   "source": [
    "**Exercise 4**: \n",
    "\n",
    "Write a Python program to display the sign of the Vietnamese Zodiac for given list of years.\n",
    "\n",
    "Vietnamese Zodiacs: `[\"Rat\", \"Ox\", \"Tiger\", \"Cat\", \"Dragon\", \"Snake\", \"Horse\", \"Goat\", \"Monkey\", \"Rooster\", \"Dog\", \"Pig\"]`\n",
    "\n",
    "\n",
    "**Input:**\n",
    "\n",
    "```python\n",
    "input_years = [1989, 1990, 1991, 1992]\n",
    "```\n",
    "\n",
    "**Output:**\n",
    "\n",
    "```python\n",
    "[\"Snake\", \"Horse\", \"Goat\", \"Monkey\"]\n",
    "```"
   ]
  },
  {
   "cell_type": "code",
   "execution_count": 17,
   "metadata": {},
   "outputs": [
    {
     "data": {
      "text/plain": [
       "['Snake', 'Horse', 'Goat', 'Monkey']"
      ]
     },
     "execution_count": 17,
     "metadata": {},
     "output_type": "execute_result"
    }
   ],
   "source": [
    "# Exercise 4:\n",
    "# [TODO]\n",
    "def vn_zodiac(input_years):\n",
    "    zodiac_list = [\"Rat\", \"Ox\", \"Tiger\", \"Cat\", \"Dragon\", \"Snake\", \"Horse\", \"Goat\", \"Monkey\", \"Rooster\", \"Dog\", \"Pig\"]\n",
    "    if len(input_years) == 0:\n",
    "        print(\"No input year(s)\")\n",
    "    \n",
    "    return_list = []\n",
    "    for year in input_years:\n",
    "        for i, zodiac in enumerate(zodiac_list):\n",
    "            if i == ((year - 4) % 12):\n",
    "                return_list.append(zodiac)\n",
    "    \n",
    "    return return_list\n",
    "\n",
    "vn_zodiac([1989, 1990, 1991, 1992])"
   ]
  },
  {
   "cell_type": "markdown",
   "metadata": {},
   "source": [
    "**Exercise 5**: \n",
    "\n",
    "Write a Python program to create the multiplication table (from 1 to 10) of a number.\n",
    "\n",
    "**Input:**\n",
    "```python\n",
    "n = 6\n",
    "```\n",
    "\n",
    "**Output:**\n",
    "\n",
    "```python\n",
    "6 x 1 = 6\n",
    "6 x 2 = 12\n",
    "6 x 3 = 18\n",
    "6 x 4 = 24\n",
    "6 x 5 = 30\n",
    "6 x 6 = 36\n",
    "6 x 7 = 42\n",
    "6 x 8 = 48\n",
    "6 x 9 = 54\n",
    "6 x 10 = 60\n",
    "```"
   ]
  },
  {
   "cell_type": "code",
   "execution_count": 21,
   "metadata": {},
   "outputs": [
    {
     "name": "stdout",
     "output_type": "stream",
     "text": [
      "9 x 1 = 9\n",
      "9 x 2 = 18\n",
      "9 x 3 = 27\n",
      "9 x 4 = 36\n",
      "9 x 5 = 45\n",
      "9 x 6 = 54\n",
      "9 x 7 = 63\n",
      "9 x 8 = 72\n",
      "9 x 9 = 81\n",
      "9 x 10 = 90\n"
     ]
    }
   ],
   "source": [
    "# Exercise 5:\n",
    "# [TODO]\n",
    "def multiplication_table(n):\n",
    "    if n > 9 or n < 0:\n",
    "        print(\"Wrong input 1 <= n <= 9\")\n",
    "    else:\n",
    "        for i in range(1,11):\n",
    "            print(f\"{n} x {i} = {n*i}\")\n",
    "\n",
    "multiplication_table(9)"
   ]
  }
 ],
 "metadata": {
  "kernelspec": {
   "display_name": "Python 3.9.12 ('base')",
   "language": "python",
   "name": "python3"
  },
  "language_info": {
   "codemirror_mode": {
    "name": "ipython",
    "version": 3
   },
   "file_extension": ".py",
   "mimetype": "text/x-python",
   "name": "python",
   "nbconvert_exporter": "python",
   "pygments_lexer": "ipython3",
   "version": "3.9.12"
  },
  "orig_nbformat": 4,
  "vscode": {
   "interpreter": {
    "hash": "e720081de2fd57dd700935953acd9dd6610ea2e1d5e7379bea03675c6c751eb5"
   }
  }
 },
 "nbformat": 4,
 "nbformat_minor": 2
}
