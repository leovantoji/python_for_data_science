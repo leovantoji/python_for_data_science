{
 "cells": [
  {
   "cell_type": "markdown",
   "id": "7be4f8c5",
   "metadata": {
    "papermill": {
     "duration": 0.039759,
     "end_time": "2021-11-11T14:28:18.308469",
     "exception": false,
     "start_time": "2021-11-11T14:28:18.268710",
     "status": "completed"
    },
    "tags": []
   },
   "source": [
    "# String\n",
    "\n",
    "Manipulating strings is one of the most common tasks in data science and machine learning. In fact, there's a whole field of machine learning called **Natural Language Processing** that uses strings as input.\n",
    "\n",
    "Through out the course, you have seen plenty of `string` variables. In python, strings are surrounded by quotes. The quotes can either be single quote (`'`) or double quote (`\"`).\n",
    "\n",
    "For example, the string `'Hello World'` and `\"Hello World\"` are the same."
   ]
  },
  {
   "cell_type": "code",
   "execution_count": 8,
   "id": "0f732cac",
   "metadata": {},
   "outputs": [
    {
     "name": "stdout",
     "output_type": "stream",
     "text": [
      "True\n"
     ]
    }
   ],
   "source": [
    "x = 'Hello World'\n",
    "y = \"Hello World\"\n",
    "print(x == y)"
   ]
  },
  {
   "cell_type": "markdown",
   "id": "3704cf3a",
   "metadata": {},
   "source": [
    "Personally, I prefer to use double quotes (`\"`) because it's easier to read, and there are often occasions where the string contains a single quote (`'`). In this case, if you use \"'\" to wrap around the string, you need to provide an extra backslash (`\\`) before the single quote.\n",
    "\n",
    "Let's look at an example. The 2 strings below are the same.\n",
    "\n",
    "```python\n",
    "first_string = 'Welcome to \\'Python for Data Science course\\'!'\n",
    "second_string = \"Welcome to 'Python for Data Science course'!\"\n",
    "print(first_string == second_string)\n",
    "```"
   ]
  },
  {
   "cell_type": "code",
   "execution_count": 9,
   "id": "53cd2691",
   "metadata": {},
   "outputs": [
    {
     "name": "stdout",
     "output_type": "stream",
     "text": [
      "True\n"
     ]
    }
   ],
   "source": [
    "first_string = 'Welcome to \\'Python for Data Science course\\'!'\n",
    "second_string = \"Welcome to 'Python for Data Science course'!\"\n",
    "print(first_string == second_string)"
   ]
  },
  {
   "cell_type": "markdown",
   "id": "2ec19639",
   "metadata": {},
   "source": [
    "**Exercise**\n",
    "\n",
    "What would happen if you forget a backslash (`\\`) before the single quote (`'`) in the first string?\n",
    "\n",
    "```python\n",
    "print('Welcome to 'Python for Data Science course'!')\n",
    "```"
   ]
  },
  {
   "cell_type": "code",
   "execution_count": 5,
   "id": "5aea99c4",
   "metadata": {},
   "outputs": [
    {
     "ename": "SyntaxError",
     "evalue": "invalid syntax (3157157420.py, line 2)",
     "output_type": "error",
     "traceback": [
      "\u001b[0;36m  Input \u001b[0;32mIn [5]\u001b[0;36m\u001b[0m\n\u001b[0;31m    print('Welcome to 'Python for Data Science course'!')\u001b[0m\n\u001b[0m                       ^\u001b[0m\n\u001b[0;31mSyntaxError\u001b[0m\u001b[0;31m:\u001b[0m invalid syntax\n"
     ]
    }
   ],
   "source": [
    "# [TODO]\n",
    "print('Welcome to 'Python for Data Science course'!')"
   ]
  },
  {
   "cell_type": "markdown",
   "id": "acff6d97",
   "metadata": {},
   "source": [
    "**Exercise**\n",
    "\n",
    "If we define a `third_string` as follow, is it the same as the `first_string` and `second_string`?\n",
    "\n",
    "```python\n",
    "third_string = 'Welcome to \\\"Python for Data Science course\\\"!'\n",
    "```"
   ]
  },
  {
   "cell_type": "code",
   "execution_count": 7,
   "id": "e53e70c4",
   "metadata": {},
   "outputs": [
    {
     "name": "stdout",
     "output_type": "stream",
     "text": [
      "False\n"
     ]
    }
   ],
   "source": [
    "third_string = 'Welcome to \\\"Python for Data Science course\\\"!'\n",
    "\n",
    "# [TODO]\n",
    "print(third_string == second_string)"
   ]
  },
  {
   "cell_type": "markdown",
   "id": "0d22f90b",
   "metadata": {
    "papermill": {
     "duration": 0.041998,
     "end_time": "2021-11-11T14:28:19.190950",
     "exception": false,
     "start_time": "2021-11-11T14:28:19.148952",
     "status": "completed"
    },
    "tags": []
   },
   "source": [
    "**Exercise**\n",
    "\n",
    "Fill in the summary table below.\n",
    "\n",
    "|`example_str`|Output of `print(f\"{example_str}\")`|\n",
    "|:-:|:-:|\n",
    "|`\"This course is awesome!\"`|**WRITE YOUR ANSWER HERE!**|\n",
    "|`\"How\\'re you?\"`|**WRITE YOUR ANSWER HERE!**|\n",
    "|`\"Does this /\\\\ look like a mountain to you?\"`|**WRITE YOUR ANSWER HERE!**|"
   ]
  },
  {
   "cell_type": "markdown",
   "id": "182840e0",
   "metadata": {},
   "source": [
    "<font size=\"5\">[TODO] 📖</font>\n",
    "\n",
    "|`example_str`|Output of `print(f\"{example_str}\")`|\n",
    "|:-:|:-:|\n",
    "|`\"This course is awesome!\"`|`This course is awesome!`|\n",
    "|`\"How\\'re you?\"`|`How're you?`|\n",
    "|`\"Does this /\\\\ look like a mountain to you?\"`|`Does this /\\ look like a mountain to you?`|"
   ]
  },
  {
   "cell_type": "markdown",
   "id": "d83a86a6",
   "metadata": {},
   "source": [
    "`\\n` is a newline character. It's used to create a new line.\n",
    "\n",
    "The following example will demonstrate the difference between using and not using `\\n`:\n",
    "\n",
    "```python\n",
    "print(\"Welcome to Python for Data Science course!\")\n",
    "print(\"I am your instructor\")\n",
    "\n",
    "print(\"------------------------------------------\")\n",
    "\n",
    "print(\"Welcome to Python for Data Science course!\\n\")\n",
    "print(\"I am your instructor\")\n",
    "```"
   ]
  },
  {
   "cell_type": "code",
   "execution_count": 10,
   "id": "7ca0f6c3",
   "metadata": {},
   "outputs": [
    {
     "name": "stdout",
     "output_type": "stream",
     "text": [
      "Welcome to Python for Data Science course!\n",
      "I am your instructor\n",
      "------------------------------------------\n",
      "Welcome to Python for Data Science course!\n",
      "\n",
      "I am your instructor\n"
     ]
    }
   ],
   "source": [
    "print(\"Welcome to Python for Data Science course!\")\n",
    "print(\"I am your instructor\")\n",
    "\n",
    "print(\"------------------------------------------\")\n",
    "\n",
    "print(\"Welcome to Python for Data Science course!\\n\")\n",
    "print(\"I am your instructor\")"
   ]
  },
  {
   "cell_type": "markdown",
   "id": "600181cd",
   "metadata": {},
   "source": [
    "Python also allows **multiline strings**. You can assign a multiline string to a variable by using triple quotes (either `\"` or `'`).\n",
    "\n",
    "For example, below is a multiline string.\n",
    "\n",
    "```python\n",
    "multiline_str = \"\"\"\n",
    "I am\n",
    "learning\n",
    "Python for Data Science\n",
    "with Leo\n",
    "a Data Scientist\n",
    "\"\"\"\n",
    "\n",
    "print(multiline_str)\n",
    "```"
   ]
  },
  {
   "cell_type": "code",
   "execution_count": 17,
   "id": "4bfa1d91",
   "metadata": {},
   "outputs": [
    {
     "name": "stdout",
     "output_type": "stream",
     "text": [
      "\n",
      "I am\n",
      "learning\n",
      "Python for Data Science\n",
      "with Leo\n",
      "a Data Scientist\n",
      "\n"
     ]
    }
   ],
   "source": [
    "multiline_str = \"\"\"\n",
    "I am\n",
    "learning\n",
    "Python for Data Science\n",
    "with Leo\n",
    "a Data Scientist\n",
    "\"\"\"\n",
    "\n",
    "print(multiline_str)"
   ]
  },
  {
   "cell_type": "markdown",
   "id": "40fd7f83",
   "metadata": {},
   "source": [
    "Let's define another variable called `another_str`.\n",
    "\n",
    "```python\n",
    "another_str = \"I am\\nlearning\\nPython for Data Science\\nwith Leo\\na Data Scientist\"\n",
    "\n",
    "print(another_str)\n",
    "```"
   ]
  },
  {
   "cell_type": "code",
   "execution_count": 19,
   "id": "cc9833d4",
   "metadata": {},
   "outputs": [
    {
     "name": "stdout",
     "output_type": "stream",
     "text": [
      "I am\n",
      "learning\n",
      "Python for Data Science\n",
      "with Leo\n",
      "a Data Scientist\n"
     ]
    }
   ],
   "source": [
    "another_str = \"I am\\nlearning\\nPython for Data Science\\nwith Leo\\na Data Scientist\"\n",
    "\n",
    "print(another_str)"
   ]
  },
  {
   "cell_type": "markdown",
   "id": "0427184e",
   "metadata": {},
   "source": [
    "**Exercise**\n",
    "\n",
    "Is `another_str` the same as `multiline_str`? In other words, what would be the result of the following code?\n",
    "\n",
    "```python\n",
    "another_str == multiline_str\n",
    "```"
   ]
  },
  {
   "cell_type": "code",
   "execution_count": 22,
   "id": "7f471a0e",
   "metadata": {},
   "outputs": [
    {
     "name": "stdout",
     "output_type": "stream",
     "text": [
      "False\n",
      "multiline_str contains 65 characters.\n",
      "another_str contains 63 characters.\n"
     ]
    }
   ],
   "source": [
    "# [TODO]\n",
    "print(another_str == multiline_str)\n",
    "print(f\"multiline_str contains {len(multiline_str)} characters.\")\n",
    "print(f\"another_str contains {len(another_str)} characters.\")"
   ]
  },
  {
   "cell_type": "markdown",
   "id": "55a983f2",
   "metadata": {
    "papermill": {
     "duration": 0.043751,
     "end_time": "2021-11-11T14:28:19.838764",
     "exception": false,
     "start_time": "2021-11-11T14:28:19.795013",
     "status": "completed"
    },
    "tags": []
   },
   "source": [
    "**Strings** can be thought of as a list of characters. Let's see if we can apply what we know about **list** on **string**.\n",
    "\n",
    "The following exercises will all use this `example_str` variable.\n",
    "\n",
    "```python\n",
    "example_str = \"I am old enough to drive a car!\" \n",
    "```\n",
    "\n",
    "🏎️🏎️🏎️🏎️"
   ]
  },
  {
   "cell_type": "code",
   "execution_count": 25,
   "id": "0535a9fa",
   "metadata": {},
   "outputs": [],
   "source": [
    "example_str = \"I am old enough to drive a car!\""
   ]
  },
  {
   "cell_type": "markdown",
   "id": "ffcee00d",
   "metadata": {},
   "source": [
    "**Exercise**\n",
    "\n",
    "What's the length of `example_str`?"
   ]
  },
  {
   "cell_type": "code",
   "execution_count": 26,
   "id": "e18d793a",
   "metadata": {},
   "outputs": [
    {
     "name": "stdout",
     "output_type": "stream",
     "text": [
      "31\n"
     ]
    }
   ],
   "source": [
    "# [TODO]\n",
    "print(len(example_str))"
   ]
  },
  {
   "cell_type": "markdown",
   "id": "e015cece",
   "metadata": {},
   "source": [
    "**Exercise**\n",
    "\n",
    "What is the index of the first `o` character in `example_str`?"
   ]
  },
  {
   "cell_type": "code",
   "execution_count": 28,
   "id": "d97f80d0",
   "metadata": {},
   "outputs": [
    {
     "name": "stdout",
     "output_type": "stream",
     "text": [
      "5\n"
     ]
    }
   ],
   "source": [
    "# [TODO]\n",
    "print(example_str.index(\"o\"))"
   ]
  },
  {
   "cell_type": "markdown",
   "id": "900888b2",
   "metadata": {},
   "source": [
    "**Exercise**\n",
    "\n",
    "- Can you print the characters from index `2` to index `10`?\n",
    "- **BONUS**: Can you print the last 4 characters of `example_str`?"
   ]
  },
  {
   "cell_type": "code",
   "execution_count": 34,
   "id": "00f1d7f8",
   "metadata": {},
   "outputs": [
    {
     "name": "stdout",
     "output_type": "stream",
     "text": [
      "Characters from index 2 to 10: 'am old en'\n",
      "Last 4 characters: 'car!'\n"
     ]
    }
   ],
   "source": [
    "# [TODO]\n",
    "print(f\"Characters from index 2 to 10: '{example_str[2:11]}'\")\n",
    "print(f\"Last 4 characters: '{example_str[-4:]}'\")"
   ]
  },
  {
   "cell_type": "markdown",
   "id": "3239c324",
   "metadata": {},
   "source": [
    "**Exercise**\n",
    "\n",
    "Try looping through the first 5 characters of `example_str` and print each character."
   ]
  },
  {
   "cell_type": "code",
   "execution_count": 36,
   "id": "252b798e",
   "metadata": {},
   "outputs": [
    {
     "name": "stdout",
     "output_type": "stream",
     "text": [
      "I\n",
      " \n",
      "a\n",
      "m\n",
      " \n"
     ]
    }
   ],
   "source": [
    "# [TODO]\n",
    "for char in example_str[:5]:\n",
    "    print(char)"
   ]
  },
  {
   "cell_type": "markdown",
   "id": "27dd1365",
   "metadata": {},
   "source": [
    "**Exercise**\n",
    "\n",
    "Try modifying the 1st character of `example_str` to `\"X\"`."
   ]
  },
  {
   "cell_type": "code",
   "execution_count": 37,
   "id": "e92d833e",
   "metadata": {},
   "outputs": [
    {
     "ename": "TypeError",
     "evalue": "'str' object does not support item assignment",
     "output_type": "error",
     "traceback": [
      "\u001b[0;31m---------------------------------------------------------------------------\u001b[0m",
      "\u001b[0;31mTypeError\u001b[0m                                 Traceback (most recent call last)",
      "\u001b[1;32m/hdd/online_teaching/python_for_data_science/src/solutions/l05-strings_dictionaries_solution.ipynb Cell 76'\u001b[0m in \u001b[0;36m<cell line: 3>\u001b[0;34m()\u001b[0m\n\u001b[1;32m      <a href='vscode-notebook-cell:/hdd/online_teaching/python_for_data_science/src/solutions/l05-strings_dictionaries_solution.ipynb#ch0000065?line=0'>1</a>\u001b[0m \u001b[39m# [TODO]\u001b[39;00m\n\u001b[0;32m----> <a href='vscode-notebook-cell:/hdd/online_teaching/python_for_data_science/src/solutions/l05-strings_dictionaries_solution.ipynb#ch0000065?line=2'>3</a>\u001b[0m example_str[\u001b[39m0\u001b[39m] \u001b[39m=\u001b[39m \u001b[39m\"\u001b[39m\u001b[39mX\u001b[39m\u001b[39m\"\u001b[39m\n",
      "\u001b[0;31mTypeError\u001b[0m: 'str' object does not support item assignment"
     ]
    }
   ],
   "source": [
    "# [TODO]\n",
    "example_str[0] = \"X\""
   ]
  },
  {
   "cell_type": "markdown",
   "id": "067ff5ec",
   "metadata": {},
   "source": [
    "**Exercise**\n",
    "\n",
    "Can you `append()` a character to `example_str`? **YES** or **NO**?"
   ]
  },
  {
   "cell_type": "code",
   "execution_count": 38,
   "id": "b7e1f10e",
   "metadata": {},
   "outputs": [
    {
     "ename": "AttributeError",
     "evalue": "'str' object has no attribute 'append'",
     "output_type": "error",
     "traceback": [
      "\u001b[0;31m---------------------------------------------------------------------------\u001b[0m",
      "\u001b[0;31mAttributeError\u001b[0m                            Traceback (most recent call last)",
      "\u001b[1;32m/hdd/online_teaching/python_for_data_science/src/solutions/l05-strings_dictionaries_solution.ipynb Cell 81'\u001b[0m in \u001b[0;36m<cell line: 3>\u001b[0;34m()\u001b[0m\n\u001b[1;32m      <a href='vscode-notebook-cell:/hdd/online_teaching/python_for_data_science/src/solutions/l05-strings_dictionaries_solution.ipynb#ch0000067?line=0'>1</a>\u001b[0m \u001b[39m# [TODO]\u001b[39;00m\n\u001b[0;32m----> <a href='vscode-notebook-cell:/hdd/online_teaching/python_for_data_science/src/solutions/l05-strings_dictionaries_solution.ipynb#ch0000067?line=2'>3</a>\u001b[0m example_str\u001b[39m.\u001b[39;49mappend(\u001b[39m\"\u001b[39m\u001b[39mABC\u001b[39m\u001b[39m\"\u001b[39m)\n",
      "\u001b[0;31mAttributeError\u001b[0m: 'str' object has no attribute 'append'"
     ]
    }
   ],
   "source": [
    "# [TODO]\n",
    "example_str.append(\"ABC\")"
   ]
  },
  {
   "cell_type": "markdown",
   "id": "e4c7e1f4",
   "metadata": {},
   "source": [
    "From the 2 exercises above, you can see that we **CANNOT** modify a string. In other words, **string is immutable**.\n",
    "\n",
    "What if we still want to modify the value of our string variable `example_str`? 🤔\n",
    "\n",
    "In this case, we can simply reassign our string variable `example_str` to the desired value.\n",
    "\n",
    "```python\n",
    "example_str = \"I am old enough to drive a car!\"\n",
    "print(example_str)\n",
    "\n",
    "example_str = \"We are old enough to drive a car!\"\n",
    "print(example_str)\n",
    "```"
   ]
  },
  {
   "cell_type": "code",
   "execution_count": 1,
   "id": "e34f1533",
   "metadata": {},
   "outputs": [
    {
     "name": "stdout",
     "output_type": "stream",
     "text": [
      "I am old enough to drive a car!\n",
      "We are old enough to drive a car!\n"
     ]
    }
   ],
   "source": [
    "example_str = \"I am old enough to drive a car!\"\n",
    "print(example_str)\n",
    "\n",
    "example_str = \"We are old enough to drive a car!\"\n",
    "print(example_str)"
   ]
  },
  {
   "cell_type": "markdown",
   "id": "75f8b7f1",
   "metadata": {
    "papermill": {
     "duration": 0.046088,
     "end_time": "2021-11-11T14:28:20.572533",
     "exception": false,
     "start_time": "2021-11-11T14:28:20.526445",
     "status": "completed"
    },
    "tags": []
   },
   "source": [
    "**String methods**\n",
    "\n",
    "In `lesson 2`, you have learned to:\n",
    "- concatenate multiple strings together using the `+` operator.\n",
    "- duplicate a string using the `*` operator.\n",
    "\n",
    "In this lesson, you'll learn about **other string methods**.\n",
    "- Capitalise the first letter of a string using `.capitalize()`.\n",
    "- Check if a string starts with a certain character using `.startswith()`.\n",
    "- Check if a string ends with a certain character using `.endswith()`.\n",
    "- Check if a string contains a certain character using `.in`.\n",
    "- Check if a string can be converted to an `int` using `.isnumeric()`.\n",
    "- Convert a string to **UPPERCASE** using `.upper()`.\n",
    "- Convert a string to **LOWERCASE** using `.lower()`.\n",
    "- Replace a string with another string using `.replace()`.\n",
    "\n",
    "Let's perform all of the above-mentioned transformations on a our string variable `example_str`.\n",
    "\n",
    "```python\n",
    "print(f\"Original:                   {example_str}\")\n",
    "print(\"-------------------------------------------------------------\")\n",
    "print(f\"Capitalise 1st letter:      {example_str.capitalize()}\")\n",
    "print(\"-------------------------------------------------------------\")\n",
    "print(f\"Check if starts with 'I':   {example_str.startswith('I')}\")\n",
    "print(\"-------------------------------------------------------------\")\n",
    "print(f\"Check if ends with '!':     {example_str.endswith('!')}\")\n",
    "print(\"-------------------------------------------------------------\")\n",
    "print(f\"Check if contains 'old':    {'old' in example_str}\") \n",
    "print(\"-------------------------------------------------------------\")\n",
    "print(f\"Check if is numeric:        {example_str.isnumeric()}\")\n",
    "print(\"-------------------------------------------------------------\")\n",
    "print(f\"Convert to UPPERCASE:       {example_str.upper()}\")\n",
    "print(\"-------------------------------------------------------------\")\n",
    "print(f\"Convert to LOWERCASE:       {example_str.lower()}\")\n",
    "print(\"-------------------------------------------------------------\")\n",
    "print(f\"Replace 'o' with '0':       {example_str.replace('o', '0')}\")\n",
    "```"
   ]
  },
  {
   "cell_type": "code",
   "execution_count": 16,
   "id": "b49ef7b0",
   "metadata": {},
   "outputs": [
    {
     "name": "stdout",
     "output_type": "stream",
     "text": [
      "Original:                   i am old enough to drive a car!\n",
      "-------------------------------------------------------------\n",
      "Capitalise 1st letter:      I am old enough to drive a car!\n",
      "-------------------------------------------------------------\n",
      "Check if starts with 'I':   False\n",
      "-------------------------------------------------------------\n",
      "Check if ends with '!':     True\n",
      "-------------------------------------------------------------\n",
      "Check if contains 'old':    True\n",
      "-------------------------------------------------------------\n",
      "Check if is numeric:        False\n",
      "-------------------------------------------------------------\n",
      "Convert to UPPERCASE:       I AM OLD ENOUGH TO DRIVE A CAR!\n",
      "-------------------------------------------------------------\n",
      "Convert to LOWERCASE:       i am old enough to drive a car!\n",
      "-------------------------------------------------------------\n",
      "Replace 'o' with '0':       i am 0ld en0ugh t0 drive a car!\n"
     ]
    }
   ],
   "source": [
    "example_str = \"i am old enough to drive a car!\"\n",
    "\n",
    "print(f\"Original:                   {example_str}\")\n",
    "print(\"-------------------------------------------------------------\")\n",
    "print(f\"Capitalise 1st letter:      {example_str.capitalize()}\")\n",
    "print(\"-------------------------------------------------------------\")\n",
    "print(f\"Check if starts with 'I':   {example_str.startswith('I')}\")\n",
    "print(\"-------------------------------------------------------------\")\n",
    "print(f\"Check if ends with '!':     {example_str.endswith('!')}\")\n",
    "print(\"-------------------------------------------------------------\")\n",
    "print(f\"Check if contains 'old':    {'old' in example_str}\") \n",
    "print(\"-------------------------------------------------------------\")\n",
    "print(f\"Check if is numeric:        {example_str.isnumeric()}\")\n",
    "print(\"-------------------------------------------------------------\")\n",
    "print(f\"Convert to UPPERCASE:       {example_str.upper()}\")\n",
    "print(\"-------------------------------------------------------------\")\n",
    "print(f\"Convert to LOWERCASE:       {example_str.lower()}\")\n",
    "print(\"-------------------------------------------------------------\")\n",
    "print(f\"Replace 'o' with '0':       {example_str.replace('o', '0')}\")"
   ]
  },
  {
   "cell_type": "markdown",
   "id": "f0d2a76f",
   "metadata": {},
   "source": [
    "**Exercise**\n",
    "\n",
    "What's the output of the following code?\n",
    "\n",
    "```python\n",
    "print(f\"Check if contains 'Old': {'Old' in example_str}\")\n",
    "```\n",
    "\n",
    "**Hint**: Python is **CASE-SENSITIVE**."
   ]
  },
  {
   "cell_type": "code",
   "execution_count": 11,
   "id": "9a00a864",
   "metadata": {},
   "outputs": [
    {
     "name": "stdout",
     "output_type": "stream",
     "text": [
      "Check if contains 'Old': False\n"
     ]
    }
   ],
   "source": [
    "# [TODO]\n",
    "print(f\"Check if contains 'Old': {'Old' in example_str}\")"
   ]
  },
  {
   "cell_type": "markdown",
   "id": "994e3080",
   "metadata": {},
   "source": [
    "Thus, to ensure that we cover for all forms of the word `Old`, it is common practice to use `upper()` or `lower()` method. \n",
    "\n",
    "Our code should be:\n",
    "```python\n",
    "print(f\"Check if contains 'Old': {'Old'.lower() in example_str.lower()}\")\n",
    "```"
   ]
  },
  {
   "cell_type": "code",
   "execution_count": 12,
   "id": "37bec121",
   "metadata": {},
   "outputs": [
    {
     "name": "stdout",
     "output_type": "stream",
     "text": [
      "Check if contains 'Old': True\n"
     ]
    }
   ],
   "source": [
    "print(f\"Check if contains 'Old': {'Old'.lower() in example_str.lower()}\")"
   ]
  },
  {
   "cell_type": "markdown",
   "id": "d00db705",
   "metadata": {},
   "source": [
    "**Exercise**\n",
    "\n",
    "**HARD** 🤯\n",
    "\n",
    "Write a function that takes in 2 strings and returns the number of times the second string appears in the first string.\n",
    "- The function should be **Case-Insensitive**.\n",
    "- If the second string is not in the first string, return 0.\n",
    "- If the second string is empty, return the length of the first string."
   ]
  },
  {
   "cell_type": "code",
   "execution_count": 1,
   "id": "30c9bfe6",
   "metadata": {},
   "outputs": [
    {
     "name": "stdout",
     "output_type": "stream",
     "text": [
      "Count occurences of 'i': 3\n"
     ]
    }
   ],
   "source": [
    "# [TODO]\n",
    "def count_occurences(fir_str: str, sec_str: str) -> int:\n",
    "    sec_str = sec_str.lower()\n",
    "    fir_str = fir_str.lower()\n",
    "    if (fir_str.find(sec_str) == -1):\n",
    "        return 0\n",
    "    elif (len(sec_str) == 0):\n",
    "        return len(fir_str)\n",
    "    else:\n",
    "        return len(fir_str.split(sec_str)) - 1\n",
    "\n",
    "fir_str = \"I am not old enough to watch restricted content this year 😿!\"\n",
    "sec_str = \"i\"\n",
    "\n",
    "print(f\"Count occurences of '{sec_str}': {count_occurences(fir_str, sec_str)}\")"
   ]
  },
  {
   "cell_type": "code",
   "execution_count": 61,
   "id": "2b618437",
   "metadata": {},
   "outputs": [
    {
     "name": "stdout",
     "output_type": "stream",
     "text": [
      "Count occurences of 'i': 3\n"
     ]
    }
   ],
   "source": [
    "# [TODO]\n",
    "def count_occurences(fir_str, sec_str):\n",
    "    fir_str = fir_str.lower()\n",
    "    sec_str = sec_str.lower()\n",
    "\n",
    "    if sec_str not in fir_str:\n",
    "        return 0\n",
    "    elif len(sec_str) == 0:\n",
    "        return len(fir_str)\n",
    "    else:\n",
    "        # split the first string using the second string\n",
    "        # this will remove all occurences of the second string \n",
    "        # from the first string\n",
    "        split_str = fir_str.split(sec_str)\n",
    "\n",
    "        # rejoin the split strings\n",
    "        join_str = \"\".join(split_str)\n",
    "\n",
    "        # the difference in length of the first string and the joined string\n",
    "        # divided by the length of the second string\n",
    "        # will be what we need\n",
    "        return int((len(fir_str) - len(join_str))/len(sec_str))\n",
    "\n",
    "fir_str = \"I am not old enough to watch restricted content this year 😿!\"\n",
    "sec_str = \"i\"\n",
    "\n",
    "print(f\"Count occurences of '{sec_str}': {count_occurences(fir_str, sec_str)}\")"
   ]
  },
  {
   "cell_type": "code",
   "execution_count": 62,
   "id": "ec4d34ee",
   "metadata": {},
   "outputs": [
    {
     "name": "stdout",
     "output_type": "stream",
     "text": [
      "Count occurences of 'i': 3\n"
     ]
    }
   ],
   "source": [
    "# [TODO]\n",
    "def count_occurences(fir_str, sec_str):\n",
    "    return fir_str.lower().count(sec_str.lower())\n",
    "\n",
    "fir_str = \"I am not old enough to watch restricted content this year 😿!\"\n",
    "sec_str = \"i\"\n",
    "\n",
    "print(f\"Count occurences of '{sec_str}': {count_occurences(fir_str, sec_str)}\")"
   ]
  },
  {
   "cell_type": "markdown",
   "id": "03b7eb2c",
   "metadata": {},
   "source": [
    "It's very common in **Natural Language Processing** to break a large sentence into component words. \n",
    "\n",
    "We'll do that using the `split()` method.\n",
    "\n",
    "Let's first use the `help()` function to view the documentation for the `split()` method.\n",
    "\n",
    "```python\n",
    "help(str.split)\n",
    "```"
   ]
  },
  {
   "cell_type": "code",
   "execution_count": 21,
   "id": "09ff924e",
   "metadata": {},
   "outputs": [
    {
     "name": "stdout",
     "output_type": "stream",
     "text": [
      "Help on method_descriptor:\n",
      "\n",
      "split(self, /, sep=None, maxsplit=-1)\n",
      "    Return a list of the words in the string, using sep as the delimiter string.\n",
      "    \n",
      "    sep\n",
      "      The delimiter according which to split the string.\n",
      "      None (the default value) means split according to any whitespace,\n",
      "      and discard empty strings from the result.\n",
      "    maxsplit\n",
      "      Maximum number of splits to do.\n",
      "      -1 (the default value) means no limit.\n",
      "\n"
     ]
    }
   ],
   "source": [
    "help(str.split)"
   ]
  },
  {
   "cell_type": "markdown",
   "id": "bde25403",
   "metadata": {},
   "source": [
    "From the above output, we can see that `split()` takes a single argument `sep` which is the character or string that we want to split the string on. The result of running the function is a list of smaller strings.\n",
    "\n",
    "We know that our `example_str` is a sentence having words separated by a space ` ` character. Let's split `example_str` based on the space character.\n",
    "\n",
    "```python\n",
    "example_str.split(\" \")\n",
    "```"
   ]
  },
  {
   "cell_type": "code",
   "execution_count": 23,
   "id": "11f1e828",
   "metadata": {},
   "outputs": [
    {
     "data": {
      "text/plain": [
       "['I', 'am', 'old', 'enough', 'to', 'drive', 'a', 'car!']"
      ]
     },
     "execution_count": 23,
     "metadata": {},
     "output_type": "execute_result"
    }
   ],
   "source": [
    "example_str = \"I am old enough to drive a car!\"\n",
    "\n",
    "example_str.split(\" \")"
   ]
  },
  {
   "cell_type": "markdown",
   "id": "dcb174b0",
   "metadata": {},
   "source": [
    "**Exercise**\n",
    "\n",
    "Without running the code below, can you tell me what the output of it is?\n",
    "\n",
    "```python\n",
    "print(len(\"2022-07-25\".split(\"-\")))\n",
    "```"
   ]
  },
  {
   "cell_type": "code",
   "execution_count": 24,
   "id": "72b4178f",
   "metadata": {},
   "outputs": [
    {
     "name": "stdout",
     "output_type": "stream",
     "text": [
      "3\n"
     ]
    }
   ],
   "source": [
    "# [TODO]\n",
    "print(len(\"2022-07-25\".split(\"-\")))"
   ]
  },
  {
   "cell_type": "markdown",
   "id": "d7823b4d",
   "metadata": {},
   "source": [
    "The opposite of `split()` is the `join()` method, which can be used to concatenate multiple strings together using a certain character or string as a separator.\n",
    "\n",
    "Let's look at the documentation for the `join()` method.\n",
    "\n",
    "```python\n",
    "help(str.join)\n",
    "```"
   ]
  },
  {
   "cell_type": "code",
   "execution_count": 27,
   "id": "b90d424f",
   "metadata": {},
   "outputs": [
    {
     "name": "stdout",
     "output_type": "stream",
     "text": [
      "Help on method_descriptor:\n",
      "\n",
      "join(self, iterable, /)\n",
      "    Concatenate any number of strings.\n",
      "    \n",
      "    The string whose method is called is inserted in between each given string.\n",
      "    The result is returned as a new string.\n",
      "    \n",
      "    Example: '.'.join(['ab', 'pq', 'rs']) -> 'ab.pq.rs'\n",
      "\n"
     ]
    }
   ],
   "source": [
    "help(str.join)"
   ]
  },
  {
   "cell_type": "markdown",
   "id": "6163e9da",
   "metadata": {},
   "source": [
    "From the above example `'.'.join([\"ab\", \"pq\", \"rs\"])` returns `\"ab.pq.rs\"`. The 3 strings are joined together using the `'.'` character."
   ]
  },
  {
   "cell_type": "markdown",
   "id": "a33bb307",
   "metadata": {},
   "source": [
    "**Exercise**\n",
    "\n",
    "Let's reassemble the following words into a sentence!\n",
    "\n",
    "```python\n",
    "words = [\"I\", \"love\", \"Python\", \". It's my\", \"favourite\", \"language\"]\n",
    "```"
   ]
  },
  {
   "cell_type": "code",
   "execution_count": 26,
   "id": "2a261857",
   "metadata": {},
   "outputs": [
    {
     "name": "stdout",
     "output_type": "stream",
     "text": [
      "I love Python. It's my favourite language\n"
     ]
    }
   ],
   "source": [
    "# [TODO]\n",
    "words = [\"I\", \"love\", \"Python.\", \"It's my\", \"favourite\", \"language.\"]\n",
    "print(\" \".join(words))"
   ]
  },
  {
   "cell_type": "markdown",
   "id": "6e340d8b",
   "metadata": {},
   "source": [
    "**Exercise**\n",
    "\n",
    "You know that strings can be concatenated using the `+`. What if we want to concatenate a `str` and an `int`?\n",
    "\n",
    "Will the following code run without error?\n",
    "\n",
    "```python\n",
    "age = 21\n",
    "print(\"I am \" + age)\n",
    "```"
   ]
  },
  {
   "cell_type": "code",
   "execution_count": 28,
   "id": "acacbdb1",
   "metadata": {},
   "outputs": [
    {
     "ename": "TypeError",
     "evalue": "can only concatenate str (not \"int\") to str",
     "output_type": "error",
     "traceback": [
      "\u001b[0;31m---------------------------------------------------------------------------\u001b[0m",
      "\u001b[0;31mTypeError\u001b[0m                                 Traceback (most recent call last)",
      "\u001b[1;32m/hdd/online_teaching/python_for_data_science/src/solutions/l05-strings_dictionaries_solution.ipynb Cell 24'\u001b[0m in \u001b[0;36m<cell line: 3>\u001b[0;34m()\u001b[0m\n\u001b[1;32m      <a href='vscode-notebook-cell:/hdd/online_teaching/python_for_data_science/src/solutions/l05-strings_dictionaries_solution.ipynb#ch0000023?line=0'>1</a>\u001b[0m \u001b[39m# [TODO]\u001b[39;00m\n\u001b[1;32m      <a href='vscode-notebook-cell:/hdd/online_teaching/python_for_data_science/src/solutions/l05-strings_dictionaries_solution.ipynb#ch0000023?line=1'>2</a>\u001b[0m age \u001b[39m=\u001b[39m \u001b[39m21\u001b[39m\n\u001b[0;32m----> <a href='vscode-notebook-cell:/hdd/online_teaching/python_for_data_science/src/solutions/l05-strings_dictionaries_solution.ipynb#ch0000023?line=2'>3</a>\u001b[0m \u001b[39mprint\u001b[39m(\u001b[39m\"\u001b[39;49m\u001b[39mI am \u001b[39;49m\u001b[39m\"\u001b[39;49m \u001b[39m+\u001b[39;49m age)\n",
      "\u001b[0;31mTypeError\u001b[0m: can only concatenate str (not \"int\") to str"
     ]
    }
   ],
   "source": [
    "# [TODO]\n",
    "age = 21\n",
    "print(\"I am \" + age)"
   ]
  },
  {
   "cell_type": "markdown",
   "id": "47602949",
   "metadata": {},
   "source": [
    "There are multiple ways to solve this problem. \n",
    "- We can convert the `int` to a `str` using the `str()` function.\n",
    "- We can also use the `format()` method.\n",
    "- OR we can use the `f-string` syntax as you have seen in countless occasions.\n",
    "\n",
    "I prefer using `f-string` syntax since it is **more readable** and **easy to understand**."
   ]
  },
  {
   "cell_type": "code",
   "execution_count": 31,
   "id": "8cacff5b",
   "metadata": {},
   "outputs": [
    {
     "name": "stdout",
     "output_type": "stream",
     "text": [
      "Method 1: We can convert the `int` to a `str` using the `str()` function.\n",
      "I am 21\n",
      "\n",
      "\n",
      "Method 2: We can also use the `format()` method.\n",
      "I am 21\n",
      "\n",
      "\n",
      "Method 3: We can also use the `f-string` syntax.\n",
      "I am 21\n",
      "\n",
      "\n"
     ]
    }
   ],
   "source": [
    "age = 21\n",
    "print(\"Method 1: We can convert the `int` to a `str` using the `str()` function.\") \n",
    "print(\"I am \" + str(age))\n",
    "print(\"\\n\")\n",
    "\n",
    "print(\"Method 2: We can also use the `format()` method.\")\n",
    "print(\"I am {}\".format(age))\n",
    "print(\"\\n\")\n",
    "\n",
    "print(\"Method 3: We can also use the `f-string` syntax.\")\n",
    "print(f\"I am {age}\")\n",
    "print(\"\\n\")"
   ]
  },
  {
   "cell_type": "markdown",
   "id": "0926ba66",
   "metadata": {},
   "source": [
    "Nonetheless, it's worth noting that `format()` method is still a useful tool for formatting strings.\n",
    "The `format()` method takes in an unlimited number of arguments, and you can use **index numbers** to specify which argument you want to use.\n",
    "\n",
    "```python\n",
    "age = 21\n",
    "characteristic = \"rich\"\n",
    "assets = \"BTCs and ETHs\"\n",
    "\n",
    "print(\"I am {1} years old. I am super {0} and I have lots of {2}\".format(characteristic, age, assets))\n",
    "```"
   ]
  },
  {
   "cell_type": "code",
   "execution_count": 32,
   "id": "b2e542ca",
   "metadata": {},
   "outputs": [
    {
     "name": "stdout",
     "output_type": "stream",
     "text": [
      "I am 21 years old. I am super rich and I have lots of BTCs and ETHs\n"
     ]
    }
   ],
   "source": [
    "age = 21\n",
    "characteristic = \"rich\"\n",
    "assets = \"BTCs and ETHs\"\n",
    "\n",
    "print(\"I am {1} years old. I am super {0} and I have lots of {2}\".format(characteristic, age, assets))"
   ]
  },
  {
   "cell_type": "markdown",
   "id": "7e286cca",
   "metadata": {
    "papermill": {
     "duration": 0.052657,
     "end_time": "2021-11-11T14:28:23.136274",
     "exception": false,
     "start_time": "2021-11-11T14:28:23.083617",
     "status": "completed"
    },
    "tags": []
   },
   "source": [
    "# Dictionary\n",
    "\n",
    "**Python dictionary** is an unordered collection of items. Each item is a `key-value` pair.\n",
    "- A dictionary is denoted by the curly braces `{}`. \n",
    "- Items inside a dictionary are separated by a comma `,`.\n",
    "- Keys and values are separated by a colon `:`.\n",
    "- While values can be of any data type, **keys must be of immutable** data type and must be **unique**.\n",
    "\n",
    "Let's look at a few examples of dictionaries.\n",
    "1. Empty dictionary:\n",
    "\n",
    "    ```python\n",
    "    empty_dictionary = {}\n",
    "    ```\n",
    "\n",
    "1. Dictionary with string keys and mixed type values:\n",
    "\n",
    "    ```python\n",
    "    employee_details = {\n",
    "        \"name\": \"Leo\",\n",
    "        \"age\": 21,\n",
    "        \"is_data_scientist\": True,\n",
    "        \"is_programmer\": False,\n",
    "    }\n",
    "    ```\n",
    "    \n",
    "1. Dictionary with mixed type keys:\n",
    "\n",
    "    ```python\n",
    "    random_dictionary = {\n",
    "        1: \"a\",\n",
    "        \"b\": 2,\n",
    "    }\n",
    "    ```"
   ]
  },
  {
   "cell_type": "markdown",
   "id": "eee52282",
   "metadata": {},
   "source": [
    "**Exercise**\n",
    "\n",
    "Define an empty dictionary and print it to the console! What is the output of your `print()`?\n",
    "\n",
    "```python\n",
    "empty_dictionary = {}\n",
    "print(empty_dictionary)\n",
    "```"
   ]
  },
  {
   "cell_type": "code",
   "execution_count": 6,
   "id": "c6eb8b2e",
   "metadata": {},
   "outputs": [
    {
     "name": "stdout",
     "output_type": "stream",
     "text": [
      "{}\n"
     ]
    }
   ],
   "source": [
    "# [TODO]\n",
    "empty_dictionary = {}\n",
    "print(empty_dictionary)"
   ]
  },
  {
   "cell_type": "markdown",
   "id": "ee28033d",
   "metadata": {},
   "source": [
    "Let's define a dictionary named `movie_info` and see how we can access its keys and values.\n",
    "\n",
    "```python\n",
    "movie_info = {\n",
    "    \"title\": \"Em Va Trinh\",\n",
    "    \"year\": 2021,\n",
    "    \"cast\": [\n",
    "        \"Avin Lu\",\n",
    "        \"Hong Ha\",\n",
    "        \"Lan Thy\",\n",
    "    ],\n",
    "    \"ost\": \"Ballad to the dead\",\n",
    "}\n",
    "```"
   ]
  },
  {
   "cell_type": "code",
   "execution_count": 58,
   "id": "e09ac58e",
   "metadata": {},
   "outputs": [],
   "source": [
    "movie_info = {\n",
    "    \"title\": \"Em Va Trinh\",\n",
    "    \"year\": 2021,\n",
    "    \"cast\": [\n",
    "        \"Avin Lu\",\n",
    "        \"Hong Ha\",\n",
    "        \"Lan Thy\",\n",
    "    ],\n",
    "    \"ost\": \"Ballad to the dead\",\n",
    "}"
   ]
  },
  {
   "cell_type": "markdown",
   "id": "5b2d6999",
   "metadata": {},
   "source": [
    "We can access **the value** of the dictionary by wrapping a pair of square brackets `[]` around the **corresponding key**.\n",
    "\n",
    "For example, if we want to retrieve the value of the `\"title\"` key, we can use the following code:\n",
    "\n",
    "```python\n",
    "print(movie_info[\"title\"])\n",
    "```"
   ]
  },
  {
   "cell_type": "code",
   "execution_count": 59,
   "id": "a2c9888b",
   "metadata": {},
   "outputs": [
    {
     "name": "stdout",
     "output_type": "stream",
     "text": [
      "Em Va Trinh\n"
     ]
    }
   ],
   "source": [
    "print(movie_info[\"title\"])"
   ]
  },
  {
   "cell_type": "markdown",
   "id": "3aa32432",
   "metadata": {},
   "source": [
    "**Exercise**\n",
    "\n",
    "Who are the casts of the movie `Em Va Trinh`? Can you print each cast member on a separate line in the console?\n",
    "\n",
    "**Hint**: What's the data type of `movie_info[\"cast\"]`?"
   ]
  },
  {
   "cell_type": "code",
   "execution_count": 60,
   "id": "72f7c4fa",
   "metadata": {},
   "outputs": [
    {
     "name": "stdout",
     "output_type": "stream",
     "text": [
      "<class 'list'>\n",
      "Avin Lu\n",
      "Hong Ha\n",
      "Lan Thy\n"
     ]
    }
   ],
   "source": [
    "# [TODO]\n",
    "print(type(movie_info[\"cast\"]))\n",
    "\n",
    "# since movie_info[\"cast\"] is a list, we can easily loop through it\n",
    "for actor in movie_info[\"cast\"]:\n",
    "    print(actor)"
   ]
  },
  {
   "cell_type": "markdown",
   "id": "58b8f34b",
   "metadata": {},
   "source": [
    "**Exercise**\n",
    "\n",
    "We know that `Tran Luc` plays the older version of `Trinh Cong Son`. How do we add `Tran Luc` to the `cast` list?\n",
    "\n",
    "**Hint**: How do you add an element to a list?"
   ]
  },
  {
   "cell_type": "code",
   "execution_count": 61,
   "id": "d088ba10",
   "metadata": {},
   "outputs": [
    {
     "name": "stdout",
     "output_type": "stream",
     "text": [
      "Before: ['Avin Lu', 'Hong Ha', 'Lan Thy']\n",
      "After: ['Avin Lu', 'Hong Ha', 'Lan Thy', 'Tran Luc']\n"
     ]
    }
   ],
   "source": [
    "# [TODO]\n",
    "print(f\"Before: {movie_info['cast']}\")\n",
    "movie_info[\"cast\"].append(\"Tran Luc\")\n",
    "print(f\"After: {movie_info['cast']}\")"
   ]
  },
  {
   "cell_type": "markdown",
   "id": "d421f4e5",
   "metadata": {},
   "source": [
    "What if we want to add a new `key-value` pair to our existing dictionary?\n",
    "\n",
    "Let's see how to add `director: \"Phan Gia Nhat Linh\"` to the `movie_info` dictionary.\n",
    "\n",
    "```python\n",
    "movie_info[\"director\"] = \"Phan Gia Nhat Linh\"\n",
    "```"
   ]
  },
  {
   "cell_type": "code",
   "execution_count": 62,
   "id": "2bcc1133",
   "metadata": {},
   "outputs": [
    {
     "name": "stdout",
     "output_type": "stream",
     "text": [
      "Before: \n",
      "{'title': 'Em Va Trinh', 'year': 2021, 'cast': ['Avin Lu', 'Hong Ha', 'Lan Thy', 'Tran Luc'], 'ost': 'Ballad to the dead'}\n",
      "-------------------------------------------------------------\n",
      "After: \n",
      "{'title': 'Em Va Trinh', 'year': 2021, 'cast': ['Avin Lu', 'Hong Ha', 'Lan Thy', 'Tran Luc'], 'ost': 'Ballad to the dead', 'director': 'Phan Gia Nhat Linh'}\n"
     ]
    }
   ],
   "source": [
    "print(\"Before: \")\n",
    "print(movie_info)\n",
    "\n",
    "movie_info[\"director\"] = \"Phan Gia Nhat Linh\"\n",
    "\n",
    "print(\"-------------------------------------------------------------\")\n",
    "\n",
    "print(\"After: \")\n",
    "print(movie_info)"
   ]
  },
  {
   "cell_type": "markdown",
   "id": "6b76670f",
   "metadata": {},
   "source": [
    "Another way to add a new `key-value` pair to an existing dictionary is to use the `update()` method.\n",
    "\n",
    "```python\n",
    "movie_info.update({\n",
    "    \"director\": \"Phan Gia Nhat Linh\"\n",
    "})\n",
    "```"
   ]
  },
  {
   "cell_type": "markdown",
   "id": "dc995c37",
   "metadata": {},
   "source": [
    "**Exercise**\n",
    "\n",
    "We know that the movie `Em Va Trinh` was released in `2022`. Nonetheless, the value of key `year` is `2021`. How do we update the value of key `year` to the correct value of `2022`?\n",
    "- Access the value of the key `year` and print it to the screen.\n",
    "- Assign the value of `2022` to the key `year`.\n",
    "- Print the new value of the key `year` to the screen."
   ]
  },
  {
   "cell_type": "code",
   "execution_count": 63,
   "id": "f0756277",
   "metadata": {},
   "outputs": [
    {
     "name": "stdout",
     "output_type": "stream",
     "text": [
      "Before: 2021\n",
      "After: 2022\n"
     ]
    }
   ],
   "source": [
    "# [TODO]\n",
    "print(f\"Before: {movie_info['year']}\")\n",
    "movie_info[\"year\"] = 2022\n",
    "print(f\"After: {movie_info['year']}\")"
   ]
  },
  {
   "cell_type": "markdown",
   "id": "0293a100",
   "metadata": {},
   "source": [
    "The `.update()` method can also be used to update the value of a key.\n",
    "\n",
    "```python\n",
    "movie_info.update({\"year\": 2022})\n",
    "```"
   ]
  },
  {
   "cell_type": "markdown",
   "id": "cc12e49e",
   "metadata": {},
   "source": [
    "If we want to remove a `key-value` pair from a dictionary, we can use the following methods:\n",
    "- `pop()` method: prodive a `key` and the `value` of that `key` will be removed from the dictionary.\n",
    "- `del` keyword: `del movie_info[\"year\"]` will remove the `year` `key-value` pair from the dictionary."
   ]
  },
  {
   "cell_type": "markdown",
   "id": "0057129b",
   "metadata": {},
   "source": [
    "**Exercise**\n",
    "\n",
    "Remove the `ost` `key-value` pair from the `movie_info` dictionary."
   ]
  },
  {
   "cell_type": "code",
   "execution_count": 64,
   "id": "40c8a3cd",
   "metadata": {},
   "outputs": [
    {
     "name": "stdout",
     "output_type": "stream",
     "text": [
      "Before: \n",
      "{'title': 'Em Va Trinh', 'year': 2022, 'cast': ['Avin Lu', 'Hong Ha', 'Lan Thy', 'Tran Luc'], 'ost': 'Ballad to the dead', 'director': 'Phan Gia Nhat Linh'}\n",
      "-------------------------------------------------------------\n",
      "After: \n",
      "{'title': 'Em Va Trinh', 'year': 2022, 'cast': ['Avin Lu', 'Hong Ha', 'Lan Thy', 'Tran Luc'], 'director': 'Phan Gia Nhat Linh'}\n"
     ]
    }
   ],
   "source": [
    "# [TODO]\n",
    "print(\"Before: \")\n",
    "print(movie_info)\n",
    "\n",
    "movie_info.pop(\"ost\")\n",
    "print(\"-------------------------------------------------------------\")\n",
    "\n",
    "print(\"After: \")\n",
    "print(movie_info)"
   ]
  },
  {
   "cell_type": "markdown",
   "id": "3ba66f19",
   "metadata": {},
   "source": [
    "What if we want to access a non-existent key in the dictionary?\n",
    "\n",
    "```python\n",
    "movie_info[\"producer\"]\n",
    "```"
   ]
  },
  {
   "cell_type": "code",
   "execution_count": 29,
   "id": "45fc22f2",
   "metadata": {},
   "outputs": [
    {
     "ename": "KeyError",
     "evalue": "'producer'",
     "output_type": "error",
     "traceback": [
      "\u001b[0;31m---------------------------------------------------------------------------\u001b[0m",
      "\u001b[0;31mKeyError\u001b[0m                                  Traceback (most recent call last)",
      "\u001b[1;32m/hdd/online_teaching/python_for_data_science/src/solutions/l05-string_dictionary_solution.ipynb Cell 82'\u001b[0m in \u001b[0;36m<cell line: 1>\u001b[0;34m()\u001b[0m\n\u001b[0;32m----> <a href='vscode-notebook-cell:/hdd/online_teaching/python_for_data_science/src/solutions/l05-string_dictionary_solution.ipynb#ch0000063?line=0'>1</a>\u001b[0m movie_info[\u001b[39m\"\u001b[39;49m\u001b[39mproducer\u001b[39;49m\u001b[39m\"\u001b[39;49m]\n",
      "\u001b[0;31mKeyError\u001b[0m: 'producer'"
     ]
    }
   ],
   "source": [
    "movie_info[\"producer\"]"
   ]
  },
  {
   "cell_type": "markdown",
   "id": "4de9eba8",
   "metadata": {},
   "source": [
    "In order to access all the keys in the dictionary, we can use the `keys()` method.\n",
    "\n",
    "```python\n",
    "movie_info.keys()\n",
    "```"
   ]
  },
  {
   "cell_type": "code",
   "execution_count": 32,
   "id": "61a2e905",
   "metadata": {},
   "outputs": [
    {
     "data": {
      "text/plain": [
       "dict_keys(['title', 'year', 'cast', 'director'])"
      ]
     },
     "execution_count": 32,
     "metadata": {},
     "output_type": "execute_result"
    }
   ],
   "source": [
    "movie_info.keys()"
   ]
  },
  {
   "cell_type": "markdown",
   "id": "45008c43",
   "metadata": {},
   "source": [
    "In order to not get the `KeyError`, it's recommended to check if the `key` exists before accessing it. \n",
    "\n",
    "Similar to checking if an element exists in a list, you can do this by using the `in` keyword.\n",
    "\n",
    "```python\n",
    "print(\"producer\" in movie_info.keys())\n",
    "```"
   ]
  },
  {
   "cell_type": "code",
   "execution_count": 50,
   "id": "39884138",
   "metadata": {},
   "outputs": [
    {
     "name": "stdout",
     "output_type": "stream",
     "text": [
      "Is 'producer' a key of movie_info? False\n",
      "-------------------------------------------------------------\n",
      "Is 'director' a key of movie_info? True\n"
     ]
    }
   ],
   "source": [
    "print(f\"Is 'producer' a key of movie_info? {'producer' in movie_info.keys()}\")\n",
    "print(\"-------------------------------------------------------------\")\n",
    "print(f\"Is 'director' a key of movie_info? {'director' in movie_info.keys()}\")"
   ]
  },
  {
   "cell_type": "markdown",
   "id": "c2194fe2",
   "metadata": {},
   "source": [
    "Another way to check if a `key` exists in a dictionary is to use the `get()` method.\n",
    "\n",
    "```python\n",
    "movie_info.get(\"producer\")\n",
    "```\n",
    "\n",
    "If there's no value associated with the `key`, the `get()` method returns `None`. Otherwise, `get()` method returns the corresponding `value` of the `key`."
   ]
  },
  {
   "cell_type": "code",
   "execution_count": 54,
   "id": "63d71ca6",
   "metadata": {},
   "outputs": [
    {
     "name": "stdout",
     "output_type": "stream",
     "text": [
      "Phan Gia Nhat Linh\n",
      "None\n"
     ]
    }
   ],
   "source": [
    "print(movie_info.get(\"director\"))\n",
    "print(movie_info.get(\"producer\"))"
   ]
  },
  {
   "cell_type": "markdown",
   "id": "01f10a89",
   "metadata": {},
   "source": [
    "In order to access all the values in the dictionary, we can use the `values()` method.\n",
    "\n",
    "```python\n",
    "movie_info.values()\n",
    "```"
   ]
  },
  {
   "cell_type": "code",
   "execution_count": 56,
   "id": "147403f4",
   "metadata": {},
   "outputs": [
    {
     "data": {
      "text/plain": [
       "dict_values(['Em Va Trinh', 2000, ['Avin Lu', 'Hong Ha', 'Lan Thy', 'Tran Luc'], 'Phan Gia Nhat Linh'])"
      ]
     },
     "execution_count": 56,
     "metadata": {},
     "output_type": "execute_result"
    }
   ],
   "source": [
    "movie_info.values()"
   ]
  },
  {
   "cell_type": "markdown",
   "id": "23782c2f",
   "metadata": {},
   "source": [
    "**Exercise**\n",
    "\n",
    "Given the following dictionary, find the key with the largest value. If there are multiple keys with the same largest value, print all of them.\n",
    "\n",
    "```python\n",
    "final_scores = {\n",
    "    \"Alice\": 90,\n",
    "    \"Bob\": 80,\n",
    "    \"Homelander\": 50,\n",
    "    \"Jayden\": 20,\n",
    "    \"Leo\": 10,\n",
    "    \"Starlight\": 50,\n",
    "    \"Tony\": 90,\n",
    "}\n",
    "```\n",
    "\n",
    "**Hint**: `max()` function can be used to find the largest value in a list."
   ]
  },
  {
   "cell_type": "code",
   "execution_count": 65,
   "id": "d2a81ad3",
   "metadata": {},
   "outputs": [
    {
     "name": "stdout",
     "output_type": "stream",
     "text": [
      "Alice\n",
      "Tony\n"
     ]
    }
   ],
   "source": [
    "# [TODO]\n",
    "final_scores = {\n",
    "    \"Alice\": 90,\n",
    "    \"Bob\": 80,\n",
    "    \"Homelander\": 50,\n",
    "    \"Jayden\": 20,\n",
    "    \"Leo\": 10,\n",
    "    \"Starlight\": 50,\n",
    "    \"Tony\": 90,\n",
    "}\n",
    "\n",
    "max_score = max(final_scores.values())\n",
    "for name in final_scores.keys():\n",
    "    if final_scores[name] == max_score:\n",
    "        print(name)"
   ]
  },
  {
   "cell_type": "markdown",
   "id": "09971206",
   "metadata": {},
   "source": [
    "**Exercise**\n",
    "\n",
    "Can you solve the above exercise using list comprehension?"
   ]
  },
  {
   "cell_type": "code",
   "execution_count": 67,
   "id": "c6aa45ee",
   "metadata": {},
   "outputs": [
    {
     "data": {
      "text/plain": [
       "['Alice', 'Tony']"
      ]
     },
     "execution_count": 67,
     "metadata": {},
     "output_type": "execute_result"
    }
   ],
   "source": [
    "# [TODO]\n",
    "[name for name in final_scores.keys() if final_scores[name] == max(final_scores.values())]"
   ]
  },
  {
   "cell_type": "markdown",
   "id": "3bb31057",
   "metadata": {},
   "source": [
    "In order to access all the items in the dictionary, we can use the `items()` method.\n",
    "\n",
    "```python\n",
    "movie_info.items()\n",
    "```"
   ]
  },
  {
   "cell_type": "code",
   "execution_count": 57,
   "id": "9f89f241",
   "metadata": {},
   "outputs": [
    {
     "data": {
      "text/plain": [
       "dict_items([('title', 'Em Va Trinh'), ('year', 2000), ('cast', ['Avin Lu', 'Hong Ha', 'Lan Thy', 'Tran Luc']), ('director', 'Phan Gia Nhat Linh')])"
      ]
     },
     "execution_count": 57,
     "metadata": {},
     "output_type": "execute_result"
    }
   ],
   "source": [
    "movie_info.items()"
   ]
  },
  {
   "cell_type": "markdown",
   "id": "acd5b68f",
   "metadata": {},
   "source": [
    "As you can see, the `items()` method returns a list of tuples. Each tuple contains a key-value pair.\n",
    "\n",
    "We won't be learning about the `tuples` type in this course, but you can just remember that tuples are **immutable** and are wrapped in parentheses `()`."
   ]
  },
  {
   "cell_type": "markdown",
   "id": "1730888c",
   "metadata": {},
   "source": [
    "**Exercise**\n",
    "\n",
    "Write a function that takes in a dictionary and returns a list of all the keys in the dictionary."
   ]
  },
  {
   "cell_type": "code",
   "execution_count": 35,
   "id": "4a9aa0cc",
   "metadata": {},
   "outputs": [
    {
     "data": {
      "text/plain": [
       "['title', 'year', 'cast', 'director']"
      ]
     },
     "execution_count": 35,
     "metadata": {},
     "output_type": "execute_result"
    }
   ],
   "source": [
    "# [TODO]\n",
    "def print_keys_from_dict(dictionary):\n",
    "    return [key for key in dictionary.keys()]\n",
    "\n",
    "print_keys_from_dict(movie_info)"
   ]
  },
  {
   "cell_type": "markdown",
   "id": "52bfaa28",
   "metadata": {},
   "source": [
    "Let's loop over the `items` in the dictionary and print each `key-value` pair on a separate line to the screen.\n",
    "\n",
    "```python\n",
    "for k, v in movie_info.items():\n",
    "    print(k, v)\n",
    "```"
   ]
  },
  {
   "cell_type": "code",
   "execution_count": 37,
   "id": "3d816b2f",
   "metadata": {},
   "outputs": [
    {
     "name": "stdout",
     "output_type": "stream",
     "text": [
      "title: Em Va Trinh\n",
      "year: 2022\n",
      "cast: ['Avin Lu', 'Hong Ha', 'Lan Thy', 'Tran Luc']\n",
      "director: Phan Gia Nhat Linh\n"
     ]
    }
   ],
   "source": [
    "for k, v in movie_info.items():\n",
    "    print(f\"{k}: {v}\")"
   ]
  },
  {
   "cell_type": "markdown",
   "id": "b69bc2ec",
   "metadata": {},
   "source": [
    "In addition to **list comprehension**, Python also has **dictionary comprehension**.\n",
    "\n",
    "Let's use **dictionary comprehension** to create a dictionary named `initials` having:\n",
    "- keys as the casts of the movie `Em Va Trinh`\n",
    "- values as the first letter of each cast member.\n",
    "\n",
    "```python\n",
    "initials = {\n",
    "    k: k[0] for k in movie_info[\"cast\"] if len(k) > 0\n",
    "}\n",
    "\n",
    "print(initials)\n",
    "```"
   ]
  },
  {
   "cell_type": "code",
   "execution_count": 44,
   "id": "0e0f3ea1",
   "metadata": {},
   "outputs": [
    {
     "name": "stdout",
     "output_type": "stream",
     "text": [
      "{'Avin Lu': 'A', 'Hong Ha': 'H', 'Lan Thy': 'L', 'Tran Luc': 'T'}\n"
     ]
    }
   ],
   "source": [
    "initials = {\n",
    "    k: k[0] for k in movie_info[\"cast\"]\n",
    "}\n",
    "\n",
    "print(initials)"
   ]
  },
  {
   "cell_type": "markdown",
   "id": "dcb09ca2",
   "metadata": {},
   "source": [
    "**Exercise**\n",
    "\n",
    "Use **dictionary comprehension** to create the following dictionary:\n",
    "\n",
    "```bash\n",
    "cubes = {1: 1, 2: 8, 3: 27, 4: 64, 5: 125}\n",
    "```\n",
    "\n",
    "**Hint**: `value` = `key`**3"
   ]
  },
  {
   "cell_type": "code",
   "execution_count": 40,
   "id": "7a18e987",
   "metadata": {},
   "outputs": [
    {
     "name": "stdout",
     "output_type": "stream",
     "text": [
      "{1: 1, 2: 8, 3: 27, 4: 64, 5: 125}\n"
     ]
    }
   ],
   "source": [
    "# [TODO]\n",
    "cubes = {k: k**3 for k in range(1, 6)}\n",
    "print(cubes)"
   ]
  },
  {
   "cell_type": "markdown",
   "id": "5d4526ea",
   "metadata": {},
   "source": [
    "**Exercise**\n",
    "\n",
    "Given the list `numbers` below:\n",
    "\n",
    "```python\n",
    "numbers = list(range(1, 10))\n",
    "```\n",
    "\n",
    "Create a dictionary named `even_numbers_doubled` that has:\n",
    "- keys as the even numbers in `numbers`\n",
    "- values as the doubled value of the even numbers.\n",
    "\n",
    "```python\n",
    "even_numbers_doubled == {2: 4, 4: 8, 6: 12, 8: 16}\n",
    "```"
   ]
  },
  {
   "cell_type": "code",
   "execution_count": 46,
   "id": "cee7bb9a",
   "metadata": {},
   "outputs": [
    {
     "name": "stdout",
     "output_type": "stream",
     "text": [
      "{2: 4, 4: 8, 6: 12, 8: 16}\n"
     ]
    }
   ],
   "source": [
    "# [TODO]\n",
    "numbers = list(range(1, 10))\n",
    "even_numbers_doubled = {\n",
    "    k: k*2 for k in numbers if k % 2 == 0\n",
    "}\n",
    "print(even_numbers_doubled)"
   ]
  }
 ],
 "metadata": {
  "anaconda-cloud": {},
  "kernelspec": {
   "display_name": "Python 3.9.12 ('base')",
   "language": "python",
   "name": "python3"
  },
  "language_info": {
   "codemirror_mode": {
    "name": "ipython",
    "version": 3
   },
   "file_extension": ".py",
   "mimetype": "text/x-python",
   "name": "python",
   "nbconvert_exporter": "python",
   "pygments_lexer": "ipython3",
   "version": "3.9.12"
  },
  "learntools_metadata": {
   "lesson_index": 5,
   "type": "tutorial"
  },
  "papermill": {
   "default_parameters": {},
   "duration": 17.718189,
   "end_time": "2021-11-11T14:28:26.357709",
   "environment_variables": {},
   "exception": null,
   "input_path": "__notebook__.ipynb",
   "output_path": "__notebook__.ipynb",
   "parameters": {},
   "start_time": "2021-11-11T14:28:08.639520",
   "version": "2.3.3"
  },
  "vscode": {
   "interpreter": {
    "hash": "e720081de2fd57dd700935953acd9dd6610ea2e1d5e7379bea03675c6c751eb5"
   }
  }
 },
 "nbformat": 4,
 "nbformat_minor": 5
}
