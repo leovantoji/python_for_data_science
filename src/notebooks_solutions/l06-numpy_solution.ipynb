{
 "cells": [
  {
   "cell_type": "markdown",
   "metadata": {},
   "source": [
    "# NumPy Introduction\n",
    "\n",
    "![image](../../images/numpy_logo.png)\n",
    "\n",
    "[**NumPy**](https://numpy.org/) is a Python package for large-scale data processing. It provides a high-performance multidimensional array object, called `ndarray`, and tools for working with these arrays.\n",
    "\n",
    "**Arrays** are very frequently used in **Machine Learning** and **Data Science**. **Lists** in `Python` serve the role of arrays and are great to represent a single row of data, but they don't scale well. Thus, in order to work with large datasets, we need something much better.\n",
    "\n",
    "The main reason why **NumPy** is so much faster than **lists** is because **NumPy** arrays are stored in memory in a contiguous block of memory, which makes them faster to access.\n",
    "\n",
    "**Fun fact**: **NumPy** is partially written in `Python`, but most of the parts are implemented in `C`/`C++`."
   ]
  },
  {
   "cell_type": "markdown",
   "metadata": {},
   "source": [
    "# Install and Use NumPy for the first time\n",
    "\n",
    "`numpy` should be automatically installed as part of `anaconda`. Nonetheless, if for some reasons it is missing, you can enter the following command in a `anaconda prompt` or a `terminal` to install `numpy`:\n",
    "\n",
    "```bash\n",
    "pip install numpy\n",
    "```\n",
    "\n",
    "You can verify that it is installed by entering the following codes in a cell in a notebook:\n",
    "\n",
    "```python\n",
    "try:\n",
    "    import numpy as np\n",
    "    print(f\"The version of numpy is: {np.__version__}\")\n",
    "except ImportError:\n",
    "    print(\"numpy is not installed!\")\n",
    "```"
   ]
  },
  {
   "cell_type": "code",
   "execution_count": 1,
   "metadata": {},
   "outputs": [
    {
     "name": "stdout",
     "output_type": "stream",
     "text": [
      "The version of numpy is: 1.21.5\n"
     ]
    }
   ],
   "source": [
    "try:\n",
    "    import numpy as np\n",
    "    print(f\"The version of numpy is: {np.__version__}\")\n",
    "except ImportError:\n",
    "    print(\"numpy is not installed!\")"
   ]
  },
  {
   "cell_type": "markdown",
   "metadata": {},
   "source": [
    "It is extremely common to use `np` as the alias for `numpy` in `Python`.\n",
    "\n",
    "```python\n",
    "import numpy as np\n",
    "```\n",
    "\n",
    "`as` is used to assign an alias to a module. The alias is used to refer to the module in the rest of the code."
   ]
  },
  {
   "cell_type": "markdown",
   "metadata": {},
   "source": [
    "First, let's go through an example to see the power of `numpy`. We'll start with 2 lists having `1,000,000` random numbers each.\n",
    "\n",
    "```python\n",
    "from random import randrange\n",
    "\n",
    "list1 = [randrange(1,1000000) for i in range(1000000)]\n",
    "list2 = [randrange(1,1000000) for i in range(1000000)]\n",
    "\n",
    "print(f\"list1 contains {len(list1):,} elements\")\n",
    "print(f\"list2 contains {len(list2):,} elements\")\n",
    "```"
   ]
  },
  {
   "cell_type": "code",
   "execution_count": 9,
   "metadata": {},
   "outputs": [
    {
     "name": "stdout",
     "output_type": "stream",
     "text": [
      "list1 contains 1,000,000 elements\n",
      "list2 contains 1,000,000 elements\n"
     ]
    }
   ],
   "source": [
    "from random import randrange\n",
    "\n",
    "list1 = [randrange(1,1000000) for i in range(1000000)]\n",
    "list2 = [randrange(1,1000000) for i in range(1000000)]\n",
    "\n",
    "print(f\"list1 contains {len(list1):,} elements\")\n",
    "print(f\"list2 contains {len(list2):,} elements\")"
   ]
  },
  {
   "cell_type": "markdown",
   "metadata": {},
   "source": [
    "**Exercise**\n",
    "\n",
    "1. Let's calculate the product of each pair of elements from the two lists `list1` and `list2`. In other words, given an index `i`, we want to calculate the product of `list1[i]` and `list2[i]`.\n",
    "2. Save the list of products in a new list called `product_list`.\n",
    "\n",
    "**Hint**: \n",
    "- Use `for` loop to iterate through the lists. \n",
    "- You can use `zip()` to iterate through the lists at the same time.\n",
    "- List comprehension."
   ]
  },
  {
   "cell_type": "code",
   "execution_count": 10,
   "metadata": {},
   "outputs": [
    {
     "name": "stdout",
     "output_type": "stream",
     "text": [
      "141 ms ± 1.03 ms per loop (mean ± std. dev. of 7 runs, 10 loops each)\n"
     ]
    }
   ],
   "source": [
    "%%timeit\n",
    "# [TODO]\n",
    "# for loop ONLY approach\n",
    "product_list = []\n",
    "for i in range(len(list1)):\n",
    "    product_list.append(list1[i] * list2[i])"
   ]
  },
  {
   "cell_type": "code",
   "execution_count": 11,
   "metadata": {},
   "outputs": [
    {
     "data": {
      "text/plain": [
       "[219127982892, 466516376282, 230684349545, 882922940445, 35793135560]"
      ]
     },
     "execution_count": 11,
     "metadata": {},
     "output_type": "execute_result"
    }
   ],
   "source": [
    "# show first 5 elements of product_list\n",
    "product_list = []\n",
    "for i in range(len(list1)):\n",
    "    product_list.append(list1[i] * list2[i])\n",
    "product_list[:5]"
   ]
  },
  {
   "cell_type": "code",
   "execution_count": 12,
   "metadata": {},
   "outputs": [
    {
     "name": "stdout",
     "output_type": "stream",
     "text": [
      "72.4 ms ± 244 µs per loop (mean ± std. dev. of 7 runs, 10 loops each)\n"
     ]
    }
   ],
   "source": [
    "%%timeit\n",
    "# [TODO]\n",
    "# list comprehension + zip approach\n",
    "product_list = [a * b for a, b in zip(list1, list2)]"
   ]
  },
  {
   "cell_type": "code",
   "execution_count": 13,
   "metadata": {},
   "outputs": [
    {
     "data": {
      "text/plain": [
       "[219127982892, 466516376282, 230684349545, 882922940445, 35793135560]"
      ]
     },
     "execution_count": 13,
     "metadata": {},
     "output_type": "execute_result"
    }
   ],
   "source": [
    "# show first 5 elements of product_list\n",
    "product_list = [a * b for a, b in zip(list1, list2)]\n",
    "product_list[:5]"
   ]
  },
  {
   "cell_type": "markdown",
   "metadata": {},
   "source": [
    "`%%timeit` is a magic command that runs the code in the cell and measures the time it takes to run.\n",
    "\n",
    "As you can see, we use `zip()` and **list comprehension** to work out an elegant way of calculating the pair-wise product of the two lists.\n",
    "Nonetheless, we **won't be able to multiply the two lists together directly**. We'll need to use `numpy` to do that.\n",
    "\n",
    "```python\n",
    "list1 * list2 # will throw an error\n",
    "```"
   ]
  },
  {
   "cell_type": "code",
   "execution_count": 14,
   "metadata": {},
   "outputs": [
    {
     "ename": "TypeError",
     "evalue": "can't multiply sequence by non-int of type 'list'",
     "output_type": "error",
     "traceback": [
      "\u001b[0;31m---------------------------------------------------------------------------\u001b[0m",
      "\u001b[0;31mTypeError\u001b[0m                                 Traceback (most recent call last)",
      "\u001b[1;32m/hdd/online_teaching/python_for_data_science/src/solutions/l06-numpy_solution.ipynb Cell 13\u001b[0m in \u001b[0;36m<cell line: 1>\u001b[0;34m()\u001b[0m\n\u001b[0;32m----> <a href='vscode-notebook-cell:/hdd/online_teaching/python_for_data_science/src/solutions/l06-numpy_solution.ipynb#ch0000012?line=0'>1</a>\u001b[0m list1 \u001b[39m*\u001b[39;49m list2\n",
      "\u001b[0;31mTypeError\u001b[0m: can't multiply sequence by non-int of type 'list'"
     ]
    }
   ],
   "source": [
    "list1 * list2"
   ]
  },
  {
   "cell_type": "markdown",
   "metadata": {},
   "source": [
    "With `numpy`, we can easily multiply the 2 `numpy` arrays together. Let's import `numpy` and convert the 2 lists into `numpy.ndarray`.\n",
    "\n",
    "```python\n",
    "import numpy as np\n",
    "\n",
    "np_list1 = np.array(list1)\n",
    "np_list2 = np.array(list2)\n",
    "\n",
    "print(type(np_list1), type(np_list2))\n",
    "```"
   ]
  },
  {
   "cell_type": "code",
   "execution_count": 15,
   "metadata": {},
   "outputs": [
    {
     "name": "stdout",
     "output_type": "stream",
     "text": [
      "<class 'numpy.ndarray'> <class 'numpy.ndarray'>\n"
     ]
    }
   ],
   "source": [
    "import numpy as np\n",
    "\n",
    "np_list1 = np.array(list1)\n",
    "np_list2 = np.array(list2)\n",
    "\n",
    "print(type(np_list1), type(np_list2))"
   ]
  },
  {
   "cell_type": "code",
   "execution_count": 16,
   "metadata": {},
   "outputs": [
    {
     "name": "stdout",
     "output_type": "stream",
     "text": [
      "1.81 ms ± 35.6 µs per loop (mean ± std. dev. of 7 runs, 1,000 loops each)\n"
     ]
    }
   ],
   "source": [
    "%%timeit\n",
    "np_product_list = np_list1 * np_list2"
   ]
  },
  {
   "cell_type": "code",
   "execution_count": 17,
   "metadata": {},
   "outputs": [
    {
     "data": {
      "text/plain": [
       "array([219127982892, 466516376282, 230684349545, 882922940445,\n",
       "        35793135560])"
      ]
     },
     "execution_count": 17,
     "metadata": {},
     "output_type": "execute_result"
    }
   ],
   "source": [
    "# show first 5 elements of np_product_list\n",
    "np_product_list = np_list1 * np_list2\n",
    "np_product_list[:5]"
   ]
  },
  {
   "cell_type": "markdown",
   "metadata": {},
   "source": [
    "**Exercise**\n",
    "\n",
    "Let's build a summary table that looks like the one below based on the speed test we did earlier.\n",
    "\n",
    "![image](../../images/np_speedtest_table.png)"
   ]
  },
  {
   "cell_type": "markdown",
   "metadata": {},
   "source": [
    "<font size=\"5\">[TODO] 📖</font>\n",
    "\n",
    "|Method|Time taken|\n",
    "|:-:|:-:|\n",
    "|`for` loop|`148 ms ± 2.61 ms per loop (mean ± std. dev. of 7 runs, 10 loops each)`|\n",
    "|list comprehension|`76.2 ms ± 1.72 ms per loop (mean ± std. dev. of 7 runs, 10 loops each)`|\n",
    "|`numpy`|`1.99 ms ± 62.6 µs per loop (mean ± std. dev. of 7 runs, 100 loops each)`|\n",
    "\n",
    "Based on our simple experiment, we can see that `numpy` is the fastest method. In addition, using `numpy` allows us to write more efficient code while dealing with data."
   ]
  },
  {
   "cell_type": "markdown",
   "metadata": {},
   "source": [
    "**Exercise**\n",
    "\n",
    "Why do we need `list` when we already have `numpy`?\n",
    "\n",
    "**Hint**: Can `numpy` array contains elements of different types?"
   ]
  },
  {
   "cell_type": "markdown",
   "metadata": {},
   "source": [
    "<font size=\"5\">[TODO] 📖</font>\n",
    "\n",
    "While `list` can contain elements of different types, `numpy` array can't. \n",
    "If you try to create this `numpy` array, you'll see that `numpy` automatically converts the elements of the list to the same type.\n",
    "\n",
    "```python\n",
    "np_example = np.array([1, \"python\", True])\n",
    "```"
   ]
  },
  {
   "cell_type": "code",
   "execution_count": 18,
   "metadata": {},
   "outputs": [
    {
     "name": "stdout",
     "output_type": "stream",
     "text": [
      "['1' 'python' 'True']\n",
      "<U21\n"
     ]
    }
   ],
   "source": [
    "# [TODO]\n",
    "np_example = np.array([1, \"python\", True])\n",
    "print(np_example)\n",
    "print(np_example.dtype)"
   ]
  },
  {
   "cell_type": "markdown",
   "metadata": {},
   "source": [
    "`<U21` means `unicode string`. [More info available here](https://numpy.org/doc/stable/reference/arrays.dtypes.html)\n",
    "\n",
    "`np_list1` and `np_list2` both contains only `int64` data type.\n",
    "\n",
    "```python\n",
    "np_list1.dtype, np_list2.dtype\n",
    "```"
   ]
  },
  {
   "cell_type": "code",
   "execution_count": 19,
   "metadata": {},
   "outputs": [
    {
     "data": {
      "text/plain": [
       "(dtype('int64'), dtype('int64'))"
      ]
     },
     "execution_count": 19,
     "metadata": {},
     "output_type": "execute_result"
    }
   ],
   "source": [
    "np_list1.dtype, np_list2.dtype"
   ]
  },
  {
   "cell_type": "markdown",
   "metadata": {},
   "source": [
    "# Dimensions in Arrays\n",
    "\n",
    "[**Dimensions**](https://www.splashlearn.com/math-vocabulary/geometry/dimensions) in mathematics are the measure of the size or distance of an object or region or space in one direction. In simpler terms, it is the measurement of the length, width, and height of anything. \n",
    "\n",
    "We have probably all come across **Catersian** coordianate system. Below is an illustration of 2-D coordinate system.\n",
    "\n",
    "![image](../../images/1920px-Cartesian-coordinate-system.svg.png)\n",
    "\n",
    "Types of figures based on dimensions:\n",
    "- A point is a 0-dimensional object.\n",
    "- A line is a 1-dimensional object.\n",
    "- A plane is a 2-dimensional object.\n",
    "- A volume is a 3-dimensional object.\n",
    "\n",
    "![image](../../images/Dimensions-2.webp)\n",
    "\n",
    "Similarly, arrays can have multiple dimensions."
   ]
  },
  {
   "cell_type": "markdown",
   "metadata": {},
   "source": [
    "**0-D Arrays**, or scalars, are the simplest arrays. For example, `np.array(1)` is a 0-D array.\n",
    "\n",
    "```python\n",
    "zero_d_array = np.array(1)\n",
    "\n",
    "print(zero_d_array)\n",
    "```"
   ]
  },
  {
   "cell_type": "code",
   "execution_count": null,
   "metadata": {},
   "outputs": [
    {
     "name": "stdout",
     "output_type": "stream",
     "text": [
      "1\n",
      "Shape of zero_d_array: ()\n"
     ]
    }
   ],
   "source": [
    "zero_d_array = np.array(1)\n",
    "\n",
    "print(zero_d_array)\n",
    "print(f\"Shape of zero_d_array: {zero_d_array.shape}\")"
   ]
  },
  {
   "cell_type": "markdown",
   "metadata": {},
   "source": [
    "As shown in the above example, `shape` is an attribute of `np.ndarray` object that returns the shape of the array. The **shape of an array** is the number of elements in each dimension. This is a very important method that you'll be using a lot when analysing data.\n",
    "\n",
    "**1-D Arrays**, or vectors, are 1-dimensional arrays. For example, `np_product_list`, that we saw above, is a 1-D array.\n",
    "\n",
    "```python\n",
    "print(f\"Shape of np_product_list: {np_product_list.shape}\")\n",
    "```"
   ]
  },
  {
   "cell_type": "code",
   "execution_count": 20,
   "metadata": {},
   "outputs": [
    {
     "name": "stdout",
     "output_type": "stream",
     "text": [
      "Shape of np_product_list: (1000000,)\n"
     ]
    }
   ],
   "source": [
    "print(f\"Shape of np_product_list: {np_product_list.shape}\")"
   ]
  },
  {
   "cell_type": "markdown",
   "metadata": {},
   "source": [
    "We can see that `np_product_list` has 1 dimension containing `1000000` elements.\n",
    "\n",
    "Below is another example:\n",
    "\n",
    "![image](../../images/nparray_creation.png)"
   ]
  },
  {
   "cell_type": "code",
   "execution_count": 46,
   "metadata": {},
   "outputs": [
    {
     "name": "stdout",
     "output_type": "stream",
     "text": [
      "[1 2]\n",
      "Shape of one_d_array: (2,)\n"
     ]
    }
   ],
   "source": [
    "one_d_array = np.array([1, 2])\n",
    "\n",
    "print(one_d_array)\n",
    "print(f\"Shape of one_d_array: {one_d_array.shape}\")"
   ]
  },
  {
   "cell_type": "markdown",
   "metadata": {},
   "source": [
    "**2-D Arrays**, or matrices, are 2-dimensional arrays. For example, `np.array([1, 2, 3], [4, 5, 6])` is a 2-D array.\n",
    "\n",
    "```python\n",
    "matrix = np.array([1, 2, 3], [4, 5, 6])\n",
    "\n",
    "print(matrix)\n",
    "print(f\"Shape of matrix: {matrix.shape}\")\n",
    "print(f\"Number of dimensions of matrix: {matrix.ndim}\")\n",
    "```"
   ]
  },
  {
   "cell_type": "code",
   "execution_count": 31,
   "metadata": {},
   "outputs": [
    {
     "name": "stdout",
     "output_type": "stream",
     "text": [
      "[[1 2 3]\n",
      " [4 5 6]]\n",
      "Shape of matrix: (2, 3)\n",
      "Number of dimensions of matrix: 2\n"
     ]
    }
   ],
   "source": [
    "matrix = np.array([\n",
    "    [1, 2, 3], \n",
    "    [4, 5, 6]\n",
    "])\n",
    "\n",
    "print(matrix)\n",
    "print(f\"Shape of matrix: {matrix.shape}\")\n",
    "print(f\"Number of dimensions of matrix: {matrix.ndim}\")"
   ]
  },
  {
   "cell_type": "markdown",
   "metadata": {},
   "source": [
    "`matrix.shape` returns a tuple showing that the first dimension has 2 elements while the second dimension has 3 elements.\n",
    "\n",
    "`matrix.ndim` returns the number of dimensions of the array."
   ]
  },
  {
   "cell_type": "markdown",
   "metadata": {},
   "source": [
    "**3-D Arrays** are arrays having matrices as its elements. For example, `np.array([[1, 2, 3], [4, 5, 6]])` is a 3-D array.\n",
    "\n",
    "```python\n",
    "three_d_array = np.array([[1, 2, 3], [4, 5, 6]])\n",
    "\n",
    "print(three_d_array)\n",
    "print(f\"Shape of three_d_array: {three_d_array.shape}\")\n",
    "print(f\"Number of dimensions of three_d_array: {three_d_array.ndim}\")\n",
    "```"
   ]
  },
  {
   "cell_type": "code",
   "execution_count": 30,
   "metadata": {},
   "outputs": [
    {
     "name": "stdout",
     "output_type": "stream",
     "text": [
      "[[[1 2 3]\n",
      "  [4 5 6]]]\n",
      "Shape of three_d_array: (1, 2, 3)\n",
      "Number of dimensions of three_d_array: 3\n"
     ]
    }
   ],
   "source": [
    "three_d_array = np.array([\n",
    "    [\n",
    "        [1, 2, 3], \n",
    "        [4, 5, 6]\n",
    "    ]\n",
    "])\n",
    "\n",
    "print(three_d_array)\n",
    "print(f\"Shape of three_d_array: {three_d_array.shape}\")\n",
    "print(f\"Number of dimensions of three_d_array: {three_d_array.ndim}\")"
   ]
  },
  {
   "cell_type": "markdown",
   "metadata": {},
   "source": [
    "**Exercise**\n",
    "\n",
    "Without using `ndim` method, can you figure out the number of dimensions of the following arrays?\n",
    "\n",
    "```python\n",
    "a = np.array([[[1, 2, 3], [4, 5, 6]], [[7, 8, 9], [10, 11, 12]]])\n",
    "b = np.array([[1]])\n",
    "c = np.array([[[1], [2], [3]], [[4], [5], [6]]])\n",
    "d = np.array([[[[1], [2], [3]], [[4], [5], [6]]]])\n",
    "\n",
    "print(a.ndim)\n",
    "print(b.ndim)\n",
    "print(c.ndim)\n",
    "print(d.ndim)\n",
    "```"
   ]
  },
  {
   "cell_type": "code",
   "execution_count": 41,
   "metadata": {},
   "outputs": [
    {
     "name": "stdout",
     "output_type": "stream",
     "text": [
      "array `a` has 0 dimension(s)\n",
      "array `b` has 3 dimension(s)\n",
      "array `c` has 2 dimension(s)\n",
      "array `d` has 4 dimension(s)\n"
     ]
    }
   ],
   "source": [
    "# [TODO]\n",
    "a = np.array(0)\n",
    "b = np.array([[[1, 2, 3], [4, 5, 6]], [[7, 8, 9], [10, 11, 12]]])\n",
    "c = np.array([[1]])\n",
    "d = np.array([[[[1], [2], [3]], [[4], [5], [6]]]])\n",
    "\n",
    "print(f\"array `a` has {a.ndim} dimension(s)\")\n",
    "print(f\"array `b` has {b.ndim} dimension(s)\")\n",
    "print(f\"array `c` has {c.ndim} dimension(s)\")\n",
    "print(f\"array `d` has {d.ndim} dimension(s)\")"
   ]
  },
  {
   "cell_type": "markdown",
   "metadata": {},
   "source": [
    "**Exercise**\n",
    "\n",
    "Without using `ndim` method, write a function that returns the number of dimensions of the array.\n",
    "\n",
    "**Hint**: Similar to **list**, length of a **tuple** can be accessed using `len()` function. "
   ]
  },
  {
   "cell_type": "code",
   "execution_count": 35,
   "metadata": {},
   "outputs": [],
   "source": [
    "# [TODO]\n",
    "def get_dimension(array):\n",
    "    return len(array.shape)"
   ]
  },
  {
   "cell_type": "markdown",
   "metadata": {},
   "source": [
    "# Access elements in an Array\n",
    "\n",
    "Similar to **list**, we can access elements in an array using indexing or slicing.\n",
    "\n",
    "![image](../../images/nparray_slicing.png)\n",
    "\n",
    "```python\n",
    "arr = np.array([1, 2])\n",
    "\n",
    "print(f\"Element at index 0: {arr[0]}\")\n",
    "print(f\"Elements from index 0 to 2 (not inclusive): {arr[0:2]}\")\n",
    "```"
   ]
  },
  {
   "cell_type": "code",
   "execution_count": 53,
   "metadata": {},
   "outputs": [
    {
     "name": "stdout",
     "output_type": "stream",
     "text": [
      "Element at index 0: 1\n",
      "Elements from index 0 to 2 (not inclusive): [1 2]\n"
     ]
    }
   ],
   "source": [
    "arr = np.array([1, 2])\n",
    "\n",
    "print(f\"Element at index 0: {arr[0]}\")\n",
    "print(f\"Elements from index 0 to 2 (not inclusive): {arr[0:2]}\")"
   ]
  },
  {
   "cell_type": "markdown",
   "metadata": {},
   "source": [
    "Similarly, by providing the indices of the element, we can easily access elements in a 2-D array.\n",
    "\n",
    "![image](../../images/nparray_2d.png)\n",
    "\n",
    "```python\n",
    "two_d_array = np.array([[1, 2, 3], [4, 5, 6]])\n",
    "\n",
    "print(f\"Element at index (0, 2): {two_d_array[0, 2]}\")\n",
    "```"
   ]
  },
  {
   "cell_type": "code",
   "execution_count": 45,
   "metadata": {},
   "outputs": [
    {
     "name": "stdout",
     "output_type": "stream",
     "text": [
      "Element at index (0, 2): 3\n"
     ]
    }
   ],
   "source": [
    "two_d_array = np.array([\n",
    "    [1, 2, 3], \n",
    "    [4, 5, 6]\n",
    "])\n",
    "\n",
    "print(f\"Element at index (0, 2): {two_d_array[0, 2]}\")"
   ]
  },
  {
   "cell_type": "markdown",
   "metadata": {},
   "source": [
    "# Modify Arrays"
   ]
  },
  {
   "cell_type": "markdown",
   "metadata": {},
   "source": [
    "Similar to **list**, we can also modify the arrays by assigning new values to the elements.\n",
    "\n",
    "```python\n",
    "two_d_array = np.array([[1, 2, 3], [4, 5, 6]])\n",
    "\n",
    "print(\"Before: \")\n",
    "print(two_d_array)\n",
    "\n",
    "two_d_array[0, 2] = 10\n",
    "print(\"----------------------\")\n",
    "print(\"After: \")\n",
    "print(two_d_array)\n",
    "```"
   ]
  },
  {
   "cell_type": "code",
   "execution_count": 8,
   "metadata": {},
   "outputs": [
    {
     "name": "stdout",
     "output_type": "stream",
     "text": [
      "Before: \n",
      "[[1 2 3]\n",
      " [4 5 6]]\n",
      "----------------------\n",
      "After: \n",
      "[[ 1  2 10]\n",
      " [ 4  5  6]]\n"
     ]
    }
   ],
   "source": [
    "two_d_array = np.array([[1, 2, 3], [4, 5, 6]])\n",
    "\n",
    "print(\"Before: \")\n",
    "print(two_d_array)\n",
    "\n",
    "two_d_array[0, 2] = 10\n",
    "print(\"----------------------\")\n",
    "print(\"After: \")\n",
    "print(two_d_array)"
   ]
  },
  {
   "cell_type": "markdown",
   "metadata": {},
   "source": [
    "# Sort Arrays\n",
    "\n",
    "There are many times when we need to sort the elements of an array. Luckily, there is a method called `np.sort()` for that purpose.\n",
    "\n",
    "```python\n",
    "arr = np.array([3, 1, 2, 3, 4, 8, 1, 4, 7, 0])\n",
    "\n",
    "print(\"Before: \")\n",
    "print(arr)\n",
    "print(\"----------------------\")\n",
    "print(\"After: \")\n",
    "print(arr.sort())\n",
    "```"
   ]
  },
  {
   "cell_type": "code",
   "execution_count": 10,
   "metadata": {},
   "outputs": [
    {
     "name": "stdout",
     "output_type": "stream",
     "text": [
      "Before: \n",
      "[3 1 2 3 4 8 1 4 7 0]\n",
      "----------------------\n",
      "After: \n",
      "[0 1 1 2 3 3 4 4 7 8]\n"
     ]
    }
   ],
   "source": [
    "arr = np.array([3, 1, 2, 3, 4, 8, 1, 4, 7, 0])\n",
    "\n",
    "print(\"Before: \")\n",
    "print(arr)\n",
    "print(\"----------------------\")\n",
    "print(\"After: \")\n",
    "print(np.sort(arr))"
   ]
  },
  {
   "cell_type": "markdown",
   "metadata": {},
   "source": [
    "Can `np.sort()` be used for 2-D arrays?\n",
    "\n",
    "```python\n",
    "two_d_array = np.array([[2, 1, 7], [6, 5, 4]])\n",
    "\n",
    "print(\"Before: \")\n",
    "print(two_d_array)\n",
    "\n",
    "print(\"----------------------\")\n",
    "print(\"After: \")\n",
    "print(np.sort(two_d_array))\n",
    "```"
   ]
  },
  {
   "cell_type": "code",
   "execution_count": 12,
   "metadata": {},
   "outputs": [
    {
     "name": "stdout",
     "output_type": "stream",
     "text": [
      "Before: \n",
      "[[2 1 7]\n",
      " [6 5 4]]\n",
      "----------------------\n",
      "After: \n",
      "[[1 2 7]\n",
      " [4 5 6]]\n"
     ]
    }
   ],
   "source": [
    "two_d_array = np.array([[2, 1, 7], [6, 5, 4]])\n",
    "\n",
    "print(\"Before: \")\n",
    "print(two_d_array)\n",
    "\n",
    "print(\"----------------------\")\n",
    "print(\"After: \")\n",
    "print(np.sort(two_d_array))"
   ]
  },
  {
   "cell_type": "markdown",
   "metadata": {},
   "source": [
    "We can see that the `np.sort()` function sorts the array dimension by dimension in ascending order by default.\n",
    "\n",
    "`np.sort()` function is actually a lot more than that. Nonetheless, we shouldn't worry about it here. You can read more about `np.sort()` [here](https://numpy.org/doc/stable/reference/generated/numpy.sort.html)."
   ]
  },
  {
   "cell_type": "markdown",
   "metadata": {},
   "source": [
    "# Searching Arrays\n",
    "\n",
    "It is also very common to search for elements in an array. We will learn how to do that using `np.where()` method.\n",
    "\n",
    "**NOTE**: `np.where()` is a very common method for data professionals.\n",
    "\n",
    "In the following example, let's say we have an array `heights` containing the heights (in cm) of applicants for a flight attendant position. As this is a job having a strict height requirement (≥ 1.70 cm), we need to find out which applicants are qualified based on their heights. We will be using `np.where()` to filter out the index within the `heights` array of the qualified applicants.\n",
    "\n",
    "```python\n",
    "heights = np.array([1.63, 1.68, 1.71, 1.89, 1.79, 1.56, 1.7])\n",
    "\n",
    "print(np.where(heights >= 1.7))\n",
    "```"
   ]
  },
  {
   "cell_type": "code",
   "execution_count": 86,
   "metadata": {},
   "outputs": [
    {
     "name": "stdout",
     "output_type": "stream",
     "text": [
      "(array([2, 3, 4, 6]),)\n"
     ]
    }
   ],
   "source": [
    "heights = np.array([1.63, 1.68, 1.71, 1.89, 1.79, 1.56, 1.7])\n",
    "\n",
    "print(np.where(heights >= 1.7))"
   ]
  },
  {
   "cell_type": "markdown",
   "metadata": {},
   "source": [
    "As you can see, `np.where()` returns all the indices of the elements that satisfy the condition."
   ]
  },
  {
   "cell_type": "markdown",
   "metadata": {},
   "source": [
    "**Exercise**\n",
    "\n",
    "Let's find out the indices of the odd elements in the following array.\n",
    "\n",
    "```python\n",
    "numbers = np.array([10, 20, 11, 40, 1, 54, 3])\n",
    "```"
   ]
  },
  {
   "cell_type": "code",
   "execution_count": 24,
   "metadata": {},
   "outputs": [
    {
     "name": "stdout",
     "output_type": "stream",
     "text": [
      "(array([2, 4, 6]),)\n"
     ]
    }
   ],
   "source": [
    "# [TODO]\n",
    "numbers = np.array([10, 20, 11, 40, 1, 54, 3])\n",
    "\n",
    "print(np.where(numbers % 2 == 1))"
   ]
  },
  {
   "cell_type": "markdown",
   "metadata": {},
   "source": [
    "**Exercise**\n",
    "\n",
    "What else can `np.where()` do? Can we print the **docstring** of `np.where()`? "
   ]
  },
  {
   "cell_type": "code",
   "execution_count": 30,
   "metadata": {},
   "outputs": [
    {
     "name": "stdout",
     "output_type": "stream",
     "text": [
      "Help on function where in module numpy:\n",
      "\n",
      "where(...)\n",
      "    where(condition, [x, y])\n",
      "    \n",
      "    Return elements chosen from `x` or `y` depending on `condition`.\n",
      "    \n",
      "    .. note::\n",
      "        When only `condition` is provided, this function is a shorthand for\n",
      "        ``np.asarray(condition).nonzero()``. Using `nonzero` directly should be\n",
      "        preferred, as it behaves correctly for subclasses. The rest of this\n",
      "        documentation covers only the case where all three arguments are\n",
      "        provided.\n",
      "    \n",
      "    Parameters\n",
      "    ----------\n",
      "    condition : array_like, bool\n",
      "        Where True, yield `x`, otherwise yield `y`.\n",
      "    x, y : array_like\n",
      "        Values from which to choose. `x`, `y` and `condition` need to be\n",
      "        broadcastable to some shape.\n",
      "    \n",
      "    Returns\n",
      "    -------\n",
      "    out : ndarray\n",
      "        An array with elements from `x` where `condition` is True, and elements\n",
      "        from `y` elsewhere.\n",
      "    \n",
      "    See Also\n",
      "    --------\n",
      "    choose\n",
      "    nonzero : The function that is called when x and y are omitted\n",
      "    \n",
      "    Notes\n",
      "    -----\n",
      "    If all the arrays are 1-D, `where` is equivalent to::\n",
      "    \n",
      "        [xv if c else yv\n",
      "         for c, xv, yv in zip(condition, x, y)]\n",
      "    \n",
      "    Examples\n",
      "    --------\n",
      "    >>> a = np.arange(10)\n",
      "    >>> a\n",
      "    array([0, 1, 2, 3, 4, 5, 6, 7, 8, 9])\n",
      "    >>> np.where(a < 5, a, 10*a)\n",
      "    array([ 0,  1,  2,  3,  4, 50, 60, 70, 80, 90])\n",
      "    \n",
      "    This can be used on multidimensional arrays too:\n",
      "    \n",
      "    >>> np.where([[True, False], [True, True]],\n",
      "    ...          [[1, 2], [3, 4]],\n",
      "    ...          [[9, 8], [7, 6]])\n",
      "    array([[1, 8],\n",
      "           [3, 4]])\n",
      "    \n",
      "    The shapes of x, y, and the condition are broadcast together:\n",
      "    \n",
      "    >>> x, y = np.ogrid[:3, :4]\n",
      "    >>> np.where(x < y, x, 10 + y)  # both x and 10+y are broadcast\n",
      "    array([[10,  0,  0,  0],\n",
      "           [10, 11,  1,  1],\n",
      "           [10, 11, 12,  2]])\n",
      "    \n",
      "    >>> a = np.array([[0, 1, 2],\n",
      "    ...               [0, 2, 4],\n",
      "    ...               [0, 3, 6]])\n",
      "    >>> np.where(a < 4, a, -1)  # -1 is broadcast\n",
      "    array([[ 0,  1,  2],\n",
      "           [ 0,  2, -1],\n",
      "           [ 0,  3, -1]])\n",
      "\n"
     ]
    }
   ],
   "source": [
    "# [TODO]\n",
    "help(np.where)"
   ]
  },
  {
   "cell_type": "markdown",
   "metadata": {},
   "source": [
    "As you can see, `np.where()` takes a condition as an argument and can also return `x` or `y` depending on the condition.\n",
    "\n",
    "Thus, going back to the example about flight attendant applications above, we can use `np.where()` to generate a new array containing the result of each applicant's application based on their height.\n",
    "\n",
    "```python\n",
    "np.where(heights >= 1.7, \"Accepted\", \"Rejected\")\n",
    "\n",
    "# array(['Rejected', 'Rejected', 'Accepted', 'Accepted', 'Accepted', 'Rejected', 'Accepted'], dtype='<U8')\n",
    "```"
   ]
  },
  {
   "cell_type": "code",
   "execution_count": 32,
   "metadata": {},
   "outputs": [
    {
     "data": {
      "text/plain": [
       "array(['Rejected', 'Rejected', 'Accepted', 'Accepted', 'Accepted',\n",
       "       'Rejected', 'Accepted'], dtype='<U8')"
      ]
     },
     "execution_count": 32,
     "metadata": {},
     "output_type": "execute_result"
    }
   ],
   "source": [
    "np.where(heights >= 1.7, \"Accepted\", \"Rejected\")"
   ]
  },
  {
   "cell_type": "markdown",
   "metadata": {},
   "source": [
    "You can read more about `np.where()` [here](https://numpy.org/doc/stable/reference/generated/numpy.where.html)."
   ]
  },
  {
   "cell_type": "markdown",
   "metadata": {},
   "source": [
    "What if we don't just want the indices of the elements that satisfy the condition, but the actual elements themselves?\n",
    "\n",
    "Filtering in an array is very simple. You can combine the result returned by `np.where()` with the original array to get the elements that satisfy the condition.\n",
    "\n",
    "Let's say we want to return all heights (in cm) of the applicants that are qualified.\n",
    "\n",
    "```python\n",
    "heights[np.where(heights >= 1.7)]\n",
    "```"
   ]
  },
  {
   "cell_type": "code",
   "execution_count": 88,
   "metadata": {},
   "outputs": [
    {
     "data": {
      "text/plain": [
       "array([1.71, 1.89, 1.79, 1.7 ])"
      ]
     },
     "execution_count": 88,
     "metadata": {},
     "output_type": "execute_result"
    }
   ],
   "source": [
    "heights[np.where(heights >= 1.7)]"
   ]
  },
  {
   "cell_type": "markdown",
   "metadata": {},
   "source": [
    "There is an even simpler way to do the exact same thing. We can drop `np.where()` completely and write the condition inside the square brackets.\n",
    "\n",
    "```python\n",
    "heights[heights >= 1.7]\n",
    "```"
   ]
  },
  {
   "cell_type": "code",
   "execution_count": 89,
   "metadata": {},
   "outputs": [
    {
     "data": {
      "text/plain": [
       "array([1.71, 1.89, 1.79, 1.7 ])"
      ]
     },
     "execution_count": 89,
     "metadata": {},
     "output_type": "execute_result"
    }
   ],
   "source": [
    "heights[heights >= 1.7]"
   ]
  },
  {
   "cell_type": "markdown",
   "metadata": {},
   "source": [
    "**Exercise**\n",
    "\n",
    "How many applicants are qualified for the flight attendant position?"
   ]
  },
  {
   "cell_type": "code",
   "execution_count": 90,
   "metadata": {},
   "outputs": [
    {
     "name": "stdout",
     "output_type": "stream",
     "text": [
      "There are 4 people who are qualified for the flight attendant position.\n"
     ]
    }
   ],
   "source": [
    "# [TODO]\n",
    "print(f\"There are {len(heights[heights >= 1.7]):,} people who are qualified for the flight attendant position.\")"
   ]
  },
  {
   "cell_type": "markdown",
   "metadata": {},
   "source": [
    "# Array Arithmetic\n",
    "\n",
    "We'll use the following 2 arrays to demonstrate some of the basic arithmetic operations that we can perform on arrays.\n",
    "\n",
    "```python\n",
    "arr1 = np.array([1, 2, 3])\n",
    "arr2 = np.array([0, 5, 6])\n",
    "```"
   ]
  },
  {
   "cell_type": "code",
   "execution_count": 34,
   "metadata": {},
   "outputs": [],
   "source": [
    "arr1 = np.array([1, 2, 3])\n",
    "arr2 = np.array([0, 5, 6])"
   ]
  },
  {
   "cell_type": "markdown",
   "metadata": {},
   "source": [
    "**Array addition** is performed element-wise. We can also add two arrays together using `np.add()` function.\n",
    "\n",
    "![image](../../images/nparray_addition.png)\n",
    "\n",
    "```python\n",
    "arr1 + arr2\n",
    "\n",
    "np.add(arr1, arr2)\n",
    "```"
   ]
  },
  {
   "cell_type": "code",
   "execution_count": 36,
   "metadata": {},
   "outputs": [
    {
     "data": {
      "text/plain": [
       "array([1, 7, 9])"
      ]
     },
     "execution_count": 36,
     "metadata": {},
     "output_type": "execute_result"
    }
   ],
   "source": [
    "arr1 + arr2"
   ]
  },
  {
   "cell_type": "code",
   "execution_count": 37,
   "metadata": {},
   "outputs": [
    {
     "data": {
      "text/plain": [
       "array([1, 7, 9])"
      ]
     },
     "execution_count": 37,
     "metadata": {},
     "output_type": "execute_result"
    }
   ],
   "source": [
    "np.add(arr1, arr2)"
   ]
  },
  {
   "cell_type": "markdown",
   "metadata": {},
   "source": [
    "**Array subtraction** is performed element-wise. We can also subtract two arrays together using `np.subtract()` function.\n",
    "\n",
    "![image](../../images/nparray_subtraction.png)\n",
    "\n",
    "```python\n",
    "arr1 - arr2\n",
    "\n",
    "np.subtract(arr1, arr2)\n",
    "```"
   ]
  },
  {
   "cell_type": "code",
   "execution_count": 54,
   "metadata": {},
   "outputs": [
    {
     "data": {
      "text/plain": [
       "array([ 1, -3, -3])"
      ]
     },
     "execution_count": 54,
     "metadata": {},
     "output_type": "execute_result"
    }
   ],
   "source": [
    "arr1 - arr2"
   ]
  },
  {
   "cell_type": "code",
   "execution_count": 55,
   "metadata": {},
   "outputs": [
    {
     "data": {
      "text/plain": [
       "array([ 1, -3, -3])"
      ]
     },
     "execution_count": 55,
     "metadata": {},
     "output_type": "execute_result"
    }
   ],
   "source": [
    "np.subtract(arr1, arr2)"
   ]
  },
  {
   "cell_type": "markdown",
   "metadata": {},
   "source": [
    "**Exercise**\n",
    "\n",
    "What will be the result if we multiply `arr1` and `arr2` together?"
   ]
  },
  {
   "cell_type": "code",
   "execution_count": 56,
   "metadata": {},
   "outputs": [
    {
     "data": {
      "text/plain": [
       "array([ 0, 10, 18])"
      ]
     },
     "execution_count": 56,
     "metadata": {},
     "output_type": "execute_result"
    }
   ],
   "source": [
    "# [TODO]\n",
    "arr1 * arr2"
   ]
  },
  {
   "cell_type": "code",
   "execution_count": 57,
   "metadata": {},
   "outputs": [
    {
     "data": {
      "text/plain": [
       "array([ 0, 10, 18])"
      ]
     },
     "execution_count": 57,
     "metadata": {},
     "output_type": "execute_result"
    }
   ],
   "source": [
    "# [TODO]\n",
    "np.multiply(arr1, arr2)"
   ]
  },
  {
   "cell_type": "markdown",
   "metadata": {},
   "source": [
    "**Array multiplication** is also performed element-wise. We can also multiply two arrays together using `np.multiply()` function."
   ]
  },
  {
   "cell_type": "markdown",
   "metadata": {},
   "source": [
    "**Exercise**\n",
    "\n",
    "What will be the result if we divide `arr1` by `arr2`?"
   ]
  },
  {
   "cell_type": "code",
   "execution_count": 59,
   "metadata": {},
   "outputs": [
    {
     "name": "stderr",
     "output_type": "stream",
     "text": [
      "/tmp/ipykernel_12463/1771818627.py:1: RuntimeWarning: divide by zero encountered in true_divide\n",
      "  arr1 / arr2\n"
     ]
    },
    {
     "data": {
      "text/plain": [
       "array([inf, 0.4, 0.5])"
      ]
     },
     "execution_count": 59,
     "metadata": {},
     "output_type": "execute_result"
    }
   ],
   "source": [
    "# [TODO]\n",
    "arr1 / arr2"
   ]
  },
  {
   "cell_type": "code",
   "execution_count": 58,
   "metadata": {},
   "outputs": [
    {
     "name": "stderr",
     "output_type": "stream",
     "text": [
      "/tmp/ipykernel_12463/3865805035.py:1: RuntimeWarning: divide by zero encountered in true_divide\n",
      "  np.divide(arr1, arr2)\n"
     ]
    },
    {
     "data": {
      "text/plain": [
       "array([inf, 0.4, 0.5])"
      ]
     },
     "execution_count": 58,
     "metadata": {},
     "output_type": "execute_result"
    }
   ],
   "source": [
    "# [TODO]\n",
    "np.divide(arr1, arr2)"
   ]
  },
  {
   "cell_type": "markdown",
   "metadata": {},
   "source": [
    "Unsurprisingly, **array division** is also performed element-wise, and we can use `np.divide()` function to perform the division."
   ]
  },
  {
   "cell_type": "markdown",
   "metadata": {},
   "source": [
    "# Other useful functions\n",
    "\n",
    "There are a number of functions that we can use to aggregate the elements of an array. They are very commonly used in data science. \n",
    "- `np.sum()`\n",
    "- `np.mean()`\n",
    "- `np.min()`\n",
    "- `np.max()`\n",
    "- `np.median()`\n",
    "- `np.std()`\n",
    "\n",
    "All of these functions can be applied to arrays of different dimensions. In my experience, the most common use case is to aggregate the elements of a 1-D array."
   ]
  },
  {
   "cell_type": "code",
   "execution_count": 73,
   "metadata": {},
   "outputs": [
    {
     "name": "stdout",
     "output_type": "stream",
     "text": [
      "Sum of all elements: 15\n",
      "Average of all elements: 3.0\n",
      "The smallest element: 1\n",
      "The largest element: 5\n",
      "The median of the array: 3.0\n",
      "The standard deviation of the array: 1.4142135623730951\n"
     ]
    }
   ],
   "source": [
    "arr = np.array([1, 2, 3, 4, 5])\n",
    "\n",
    "print(f\"Sum of all elements: {np.sum(arr)}\")\n",
    "print(f\"Average of all elements: {np.mean(arr)}\")\n",
    "print(f\"The smallest element: {np.min(arr)}\")\n",
    "print(f\"The largest element: {np.max(arr)}\")\n",
    "print(f\"The median of the array: {np.median(arr)}\")\n",
    "print(f\"The standard deviation of the array: {np.std(arr)}\")"
   ]
  },
  {
   "cell_type": "markdown",
   "metadata": {},
   "source": [
    "# Transposing and Reshaping Arrays\n",
    "\n",
    "**Transposing** is a simple operation that rotates the elements of an array. In order to transpose a matrix, we can either use `.T` or `np.transpose()` function. It's very common to use `.T`.\n",
    "\n",
    "![image](../../images/nparray_transpose.png)\n",
    "\n",
    "Let's look at an example:\n",
    "\n",
    "```python\n",
    "arr = np.array([[1, 4], [2, 5], [3, 6]])\n",
    "\n",
    "print(\"Before transposing:\")\n",
    "print(arr)\n",
    "print(f\"Original array has {arr.shape} shape.\")\n",
    "print(\"\\n\")\n",
    "print(\"After transposing:\")\n",
    "print(arr.T)\n",
    "print(f\"Transposed array has {arr.T.shape} shape.\")\n",
    "```"
   ]
  },
  {
   "cell_type": "code",
   "execution_count": 79,
   "metadata": {},
   "outputs": [
    {
     "name": "stdout",
     "output_type": "stream",
     "text": [
      "Before transposing:\n",
      "[[1 4]\n",
      " [2 5]\n",
      " [3 6]]\n",
      "Original array has (3, 2) shape.\n",
      "\n",
      "\n",
      "After transposing:\n",
      "[[1 2 3]\n",
      " [4 5 6]]\n",
      "Transposed array has (2, 3) shape.\n"
     ]
    }
   ],
   "source": [
    "arr = np.array([[1, 4], [2, 5], [3, 6]])\n",
    "\n",
    "print(\"Before transposing:\")\n",
    "print(arr)\n",
    "print(f\"Original array has {arr.shape} shape.\")\n",
    "print(\"\\n\")\n",
    "print(\"After transposing:\")\n",
    "print(arr.T)\n",
    "print(f\"Transposed array has {arr.T.shape} shape.\")"
   ]
  },
  {
   "cell_type": "markdown",
   "metadata": {},
   "source": [
    "**Reshaping** is a more complicated operation. We can use `.reshape()` or `np.reshape()` function to reshape an array.\n",
    "\n",
    "Let's say we want to reshape a 1-D array into a 2-D array.\n",
    "\n",
    "![image](../../images/nparray_reshape.png)\n",
    "\n",
    "```python\n",
    "arr = np.array([1, 2, 3, 4, 5, 6])\n",
    "\n",
    "print(\"Before reshaping:\")\n",
    "print(arr)\n",
    "print(f\"Original array has {arr.shape} shape.\")\n",
    "print(\"\\n\")\n",
    "print(\"After reshaping:\")\n",
    "print(arr.reshape(2, 3))\n",
    "print(f\"Reshaped (2, 3) array has {arr.reshape(2, 3).shape} shape.\")\n",
    "print(\"\\n\")\n",
    "print(arr.reshape(3, 2))\n",
    "print(f\"Reshaped (3, 2) array has {arr.reshape(3, 2).shape} shape.\")\n",
    "```"
   ]
  },
  {
   "cell_type": "code",
   "execution_count": 85,
   "metadata": {},
   "outputs": [
    {
     "name": "stdout",
     "output_type": "stream",
     "text": [
      "Before reshaping:\n",
      "[1 2 3 4 5 6]\n",
      "Original array has (6,) shape.\n",
      "\n",
      "\n",
      "After reshaping:\n",
      "[[1 2 3]\n",
      " [4 5 6]]\n",
      "Reshaped (2, 3) array has (2, 3) shape.\n",
      "\n",
      "\n",
      "[[1 2]\n",
      " [3 4]\n",
      " [5 6]]\n",
      "Reshaped (3, 2) array has (3, 2) shape.\n"
     ]
    }
   ],
   "source": [
    "arr = np.array([1, 2, 3, 4, 5, 6])\n",
    "\n",
    "print(\"Before reshaping:\")\n",
    "print(arr)\n",
    "print(f\"Original array has {arr.shape} shape.\")\n",
    "print(\"\\n\")\n",
    "print(\"After reshaping:\")\n",
    "print(arr.reshape(2, 3))\n",
    "print(f\"Reshaped (2, 3) array has {arr.reshape(2, 3).shape} shape.\")\n",
    "print(\"\\n\")\n",
    "print(arr.reshape(3, 2))\n",
    "print(f\"Reshaped (3, 2) array has {arr.reshape(3, 2).shape} shape.\")"
   ]
  },
  {
   "cell_type": "markdown",
   "metadata": {},
   "source": [
    "# Broadcasting\n",
    "\n",
    "**Broadcasting** describes how **NumPy** handles the case when two arrays have different shapes during arithmetic operations. Subject to certain constraints, the smaller array is “broadcast” across the larger array so that they have compatible shapes. \n",
    "\n",
    "Thus, with the help of broadcasting, we can perform arithmetic operations on array and scalar values since scalar values are considered 0-dimensional arrays.\n",
    "\n",
    "![image](../../images/nparray_addition_scalar.png)\n",
    "\n",
    "```python\n",
    "arr1 + 1\n",
    "```"
   ]
  },
  {
   "cell_type": "code",
   "execution_count": 53,
   "metadata": {},
   "outputs": [
    {
     "data": {
      "text/plain": [
       "array([2, 3, 4])"
      ]
     },
     "execution_count": 53,
     "metadata": {},
     "output_type": "execute_result"
    }
   ],
   "source": [
    "arr1 + 1"
   ]
  },
  {
   "cell_type": "markdown",
   "metadata": {},
   "source": [
    "In this case, `1` is broadcasted into an array of shape `(3,)` having all element as the value of the scalar `1`."
   ]
  },
  {
   "cell_type": "markdown",
   "metadata": {},
   "source": [
    "Can the following operation be performed? Remember that: `arr1 = np.array([1, 2, 3])`\n",
    "\n",
    "```python\n",
    "arr1 + np.array([2, 3])\n",
    "```"
   ]
  },
  {
   "cell_type": "code",
   "execution_count": 42,
   "metadata": {},
   "outputs": [
    {
     "ename": "ValueError",
     "evalue": "operands could not be broadcast together with shapes (3,) (2,) ",
     "output_type": "error",
     "traceback": [
      "\u001b[0;31m---------------------------------------------------------------------------\u001b[0m",
      "\u001b[0;31mValueError\u001b[0m                                Traceback (most recent call last)",
      "\u001b[1;32m/hdd/online_teaching/python_for_data_science/src/solutions/l06-numpy_solution.ipynb Cell 73\u001b[0m in \u001b[0;36m<cell line: 2>\u001b[0;34m()\u001b[0m\n\u001b[1;32m      <a href='vscode-notebook-cell:/hdd/online_teaching/python_for_data_science/src/solutions/l06-numpy_solution.ipynb#ch0000105?line=0'>1</a>\u001b[0m \u001b[39m# [TODO]\u001b[39;00m\n\u001b[0;32m----> <a href='vscode-notebook-cell:/hdd/online_teaching/python_for_data_science/src/solutions/l06-numpy_solution.ipynb#ch0000105?line=1'>2</a>\u001b[0m arr1 \u001b[39m+\u001b[39;49m np\u001b[39m.\u001b[39;49marray([\u001b[39m2\u001b[39;49m, \u001b[39m3\u001b[39;49m])\n",
      "\u001b[0;31mValueError\u001b[0m: operands could not be broadcast together with shapes (3,) (2,) "
     ]
    }
   ],
   "source": [
    "# [TODO]\n",
    "arr1 + np.array([2, 3])"
   ]
  },
  {
   "cell_type": "markdown",
   "metadata": {},
   "source": [
    "Unfortunately, this is not possible. The two arrays are not **broadcastable**.\n",
    "\n",
    "How do we determine if arrays are **broadcastable**?\n",
    "- The arrays all have exactly the same shape.\n",
    "- The arrays all have the same number of dimensions and the length of each dimensions is either a common length or 1.\n",
    "- Arrays that have too few dimensions can have their shapes prepended with a dimension of length 1 to satisfy property 2.\n",
    "\n",
    "It's **quite difficult to understand**, isn't it? 😂\n",
    "\n",
    "I personally use `np.broadcast_to()` function to broadcast the array to the same shape as the other array. If it returns in an error, it means that the two arrays are not **broadcastable**. "
   ]
  },
  {
   "cell_type": "code",
   "execution_count": 50,
   "metadata": {},
   "outputs": [
    {
     "ename": "ValueError",
     "evalue": "operands could not be broadcast together with remapped shapes [original->remapped]: (2,)  and requested shape (3,)",
     "output_type": "error",
     "traceback": [
      "\u001b[0;31m---------------------------------------------------------------------------\u001b[0m",
      "\u001b[0;31mValueError\u001b[0m                                Traceback (most recent call last)",
      "\u001b[1;32m/hdd/online_teaching/python_for_data_science/src/solutions/l06-numpy_solution.ipynb Cell 75\u001b[0m in \u001b[0;36m<cell line: 1>\u001b[0;34m()\u001b[0m\n\u001b[0;32m----> <a href='vscode-notebook-cell:/hdd/online_teaching/python_for_data_science/src/solutions/l06-numpy_solution.ipynb#ch0000114?line=0'>1</a>\u001b[0m np\u001b[39m.\u001b[39;49mbroadcast_to(np\u001b[39m.\u001b[39;49marray([\u001b[39m2\u001b[39;49m, \u001b[39m3\u001b[39;49m]), arr1\u001b[39m.\u001b[39;49mshape)\n",
      "File \u001b[0;32m<__array_function__ internals>:5\u001b[0m, in \u001b[0;36mbroadcast_to\u001b[0;34m(*args, **kwargs)\u001b[0m\n",
      "File \u001b[0;32m~/anaconda3/lib/python3.9/site-packages/numpy/lib/stride_tricks.py:411\u001b[0m, in \u001b[0;36mbroadcast_to\u001b[0;34m(array, shape, subok)\u001b[0m\n\u001b[1;32m    366\u001b[0m \u001b[39m@array_function_dispatch\u001b[39m(_broadcast_to_dispatcher, module\u001b[39m=\u001b[39m\u001b[39m'\u001b[39m\u001b[39mnumpy\u001b[39m\u001b[39m'\u001b[39m)\n\u001b[1;32m    367\u001b[0m \u001b[39mdef\u001b[39;00m \u001b[39mbroadcast_to\u001b[39m(array, shape, subok\u001b[39m=\u001b[39m\u001b[39mFalse\u001b[39;00m):\n\u001b[1;32m    368\u001b[0m     \u001b[39m\"\"\"Broadcast an array to a new shape.\u001b[39;00m\n\u001b[1;32m    369\u001b[0m \n\u001b[1;32m    370\u001b[0m \u001b[39m    Parameters\u001b[39;00m\n\u001b[0;32m   (...)\u001b[0m\n\u001b[1;32m    409\u001b[0m \u001b[39m           [1, 2, 3]])\u001b[39;00m\n\u001b[1;32m    410\u001b[0m \u001b[39m    \"\"\"\u001b[39;00m\n\u001b[0;32m--> 411\u001b[0m     \u001b[39mreturn\u001b[39;00m _broadcast_to(array, shape, subok\u001b[39m=\u001b[39;49msubok, readonly\u001b[39m=\u001b[39;49m\u001b[39mTrue\u001b[39;49;00m)\n",
      "File \u001b[0;32m~/anaconda3/lib/python3.9/site-packages/numpy/lib/stride_tricks.py:348\u001b[0m, in \u001b[0;36m_broadcast_to\u001b[0;34m(array, shape, subok, readonly)\u001b[0m\n\u001b[1;32m    345\u001b[0m     \u001b[39mraise\u001b[39;00m \u001b[39mValueError\u001b[39;00m(\u001b[39m'\u001b[39m\u001b[39mall elements of broadcast shape must be non-\u001b[39m\u001b[39m'\u001b[39m\n\u001b[1;32m    346\u001b[0m                      \u001b[39m'\u001b[39m\u001b[39mnegative\u001b[39m\u001b[39m'\u001b[39m)\n\u001b[1;32m    347\u001b[0m extras \u001b[39m=\u001b[39m []\n\u001b[0;32m--> 348\u001b[0m it \u001b[39m=\u001b[39m np\u001b[39m.\u001b[39;49mnditer(\n\u001b[1;32m    349\u001b[0m     (array,), flags\u001b[39m=\u001b[39;49m[\u001b[39m'\u001b[39;49m\u001b[39mmulti_index\u001b[39;49m\u001b[39m'\u001b[39;49m, \u001b[39m'\u001b[39;49m\u001b[39mrefs_ok\u001b[39;49m\u001b[39m'\u001b[39;49m, \u001b[39m'\u001b[39;49m\u001b[39mzerosize_ok\u001b[39;49m\u001b[39m'\u001b[39;49m] \u001b[39m+\u001b[39;49m extras,\n\u001b[1;32m    350\u001b[0m     op_flags\u001b[39m=\u001b[39;49m[\u001b[39m'\u001b[39;49m\u001b[39mreadonly\u001b[39;49m\u001b[39m'\u001b[39;49m], itershape\u001b[39m=\u001b[39;49mshape, order\u001b[39m=\u001b[39;49m\u001b[39m'\u001b[39;49m\u001b[39mC\u001b[39;49m\u001b[39m'\u001b[39;49m)\n\u001b[1;32m    351\u001b[0m \u001b[39mwith\u001b[39;00m it:\n\u001b[1;32m    352\u001b[0m     \u001b[39m# never really has writebackifcopy semantics\u001b[39;00m\n\u001b[1;32m    353\u001b[0m     broadcast \u001b[39m=\u001b[39m it\u001b[39m.\u001b[39mitviews[\u001b[39m0\u001b[39m]\n",
      "\u001b[0;31mValueError\u001b[0m: operands could not be broadcast together with remapped shapes [original->remapped]: (2,)  and requested shape (3,)"
     ]
    }
   ],
   "source": [
    "np.broadcast_to(np.array([2, 3]), arr1.shape)"
   ]
  },
  {
   "cell_type": "code",
   "execution_count": 51,
   "metadata": {},
   "outputs": [
    {
     "data": {
      "text/plain": [
       "array([1, 1, 1])"
      ]
     },
     "execution_count": 51,
     "metadata": {},
     "output_type": "execute_result"
    }
   ],
   "source": [
    "np.broadcast_to(1, arr1.shape)"
   ]
  }
 ],
 "metadata": {
  "kernelspec": {
   "display_name": "Python 3 (ipykernel)",
   "language": "python",
   "name": "python3"
  },
  "language_info": {
   "codemirror_mode": {
    "name": "ipython",
    "version": 3
   },
   "file_extension": ".py",
   "mimetype": "text/x-python",
   "name": "python",
   "nbconvert_exporter": "python",
   "pygments_lexer": "ipython3",
   "version": "3.9.12"
  },
  "vscode": {
   "interpreter": {
    "hash": "e720081de2fd57dd700935953acd9dd6610ea2e1d5e7379bea03675c6c751eb5"
   }
  }
 },
 "nbformat": 4,
 "nbformat_minor": 2
}
