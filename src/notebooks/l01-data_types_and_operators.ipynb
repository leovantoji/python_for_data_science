{
 "cells": [
  {
   "cell_type": "markdown",
   "metadata": {},
   "source": [
    "# Printing\n",
    "Use `print()` method to print to the screen.\n",
    "- print `\"Hello, world\"`."
   ]
  },
  {
   "cell_type": "code",
   "execution_count": null,
   "metadata": {},
   "outputs": [],
   "source": [
    "print(\"Hello, world\")"
   ]
  },
  {
   "cell_type": "markdown",
   "metadata": {},
   "source": [
    "**Exercise**\n",
    "\n",
    "Use `print()` to print the following messages to the screen: \n",
    "- `\"Tôi đang học khóa học Python for Data Science\"`.\n",
    "- `\"Tôi rất mê CodingMentor\"`"
   ]
  },
  {
   "cell_type": "code",
   "execution_count": null,
   "metadata": {},
   "outputs": [],
   "source": [
    "# [TODO]"
   ]
  },
  {
   "cell_type": "markdown",
   "metadata": {},
   "source": [
    "# Arithmetic\n",
    "\n",
    "Basic arithmetic operations in Python:\n",
    "|Operation|Symbol|Example|\n",
    "|:-|:-:|:-:|\n",
    "|Addition|`+`|`1 + 1`|\n",
    "|Subtraction|`-`|`1 - 1`|\n",
    "|Multiplication|`*`|`2 * 2`|\n",
    "|Division|`/`|`5 / 2`|\n",
    "|Division without remainder|`//`|`5 // 2`|\n",
    "|Modulo|`%`|`5 % 2`|\n",
    "|Exponent|`**`|`2 ** 3`|"
   ]
  },
  {
   "cell_type": "markdown",
   "metadata": {},
   "source": [
    "Use parentheses to control the order of the operations\n",
    "`((1 + 2) * 3) // 4`"
   ]
  },
  {
   "cell_type": "code",
   "execution_count": null,
   "metadata": {},
   "outputs": [],
   "source": [
    "((1 + 2) * 3) // 4"
   ]
  },
  {
   "cell_type": "markdown",
   "metadata": {},
   "source": [
    "**Exercise**\n",
    "\n",
    "Find the area of a rectangle with width `17 cm` and height `33 cm`. The formula is `Area = Width * Height`. In this exercise, there are concepts such as `f-string` and `if conditional statement`. These concepts will be covered in more details later in the course."
   ]
  },
  {
   "cell_type": "code",
   "execution_count": null,
   "metadata": {},
   "outputs": [],
   "source": [
    "# [TODO]"
   ]
  },
  {
   "cell_type": "code",
   "execution_count": null,
   "metadata": {},
   "outputs": [],
   "source": [
    "# Uncomment the following line to check if you have done it correctly\n",
    "# if (rectangle_area != (17 * 33)):\n",
    "#     print(f\"Diện tích hình chữ nhật là {17 * 33} cm2. Bạn đã tính sai.\")"
   ]
  },
  {
   "cell_type": "markdown",
   "metadata": {},
   "source": [
    "**Exercise**\n",
    "\n",
    "Find the remainder of the division of `1000` by `7` and assign the result to a variable called `remainder`."
   ]
  },
  {
   "cell_type": "code",
   "execution_count": null,
   "metadata": {},
   "outputs": [],
   "source": [
    "# [TODO]"
   ]
  },
  {
   "cell_type": "code",
   "execution_count": null,
   "metadata": {},
   "outputs": [],
   "source": [
    "# Uncomment the following line to check if you have done it correctly\n",
    "# if (remainder != (1000 % 7)):\n",
    "#     print(f\"Sô dư của phép chia 1000 cho 7 là {1000 % 7}. Bạn đã tính sai.\")"
   ]
  },
  {
   "cell_type": "markdown",
   "metadata": {},
   "source": [
    "# Variables\n",
    "\n",
    "Previously, you have seen how to create a `variable` and assign a value to it. In general, you can create a `variable` by choosing a name for the `variable`. The name of the `variable` has to satisfy the following rules:\n",
    "- It should be short and descriptive.\n",
    "- It can only contain letters, numbers, and underscores (e.g., `my name` is not allowed. `my_name` is allowed).\n",
    "- It **CANNOT** start with a number (e.g., `1name` is not allowed. `name1` is allowed)."
   ]
  },
  {
   "cell_type": "code",
   "execution_count": null,
   "metadata": {},
   "outputs": [],
   "source": [
    "this_is_a_super_duper_long_variable_name_and_it_is_not_a_good_idea = 5"
   ]
  },
  {
   "cell_type": "code",
   "execution_count": null,
   "metadata": {},
   "outputs": [],
   "source": [
    "my name = \"Leo\""
   ]
  },
  {
   "cell_type": "code",
   "execution_count": null,
   "metadata": {},
   "outputs": [],
   "source": [
    "1name = \"Leo\""
   ]
  },
  {
   "cell_type": "markdown",
   "metadata": {},
   "source": [
    "**Exercise**\n",
    "\n",
    "Create a variable `my_name` and assign it the value of **your name**. For example, `my_name = \"Leo\"`.\n",
    "- `=` is the assignment operator. This is how you assign a value to a variable.\n",
    "\n",
    "Use `print()` to print `my_name` to the screen."
   ]
  },
  {
   "cell_type": "code",
   "execution_count": null,
   "metadata": {},
   "outputs": [],
   "source": [
    "# [TODO]"
   ]
  },
  {
   "cell_type": "code",
   "execution_count": null,
   "metadata": {},
   "outputs": [],
   "source": [
    "# Uncomment the following line to check if you have done it correctly\n",
    "# if isinstance(my_name, str):\n",
    "#     print(f\"Tôi tên là {my_name}.\")\n",
    "# else:\n",
    "#     print(\"Hãy điền tên của bạn.\")"
   ]
  },
  {
   "cell_type": "markdown",
   "metadata": {},
   "source": [
    "## Manipulating variables\n",
    "\n",
    "![manipulate_variable](../../images/manipulate_variable.png)"
   ]
  },
  {
   "cell_type": "code",
   "execution_count": null,
   "metadata": {},
   "outputs": [],
   "source": [
    "# set the value of the variable to \"đẹp trai\"\n",
    "characteristic = \"đẹp trai\"\n",
    "\n",
    "# print the value of the variable\n",
    "print(f\"Tôi rất {characteristic}.\")"
   ]
  },
  {
   "cell_type": "code",
   "execution_count": null,
   "metadata": {},
   "outputs": [],
   "source": [
    "# let's change the value of the variable to \"xinh gái\"\n",
    "characteristic = \"xinh gái\"\n",
    "\n",
    "# print the new value of the variable\n",
    "print(f\"Tôi rất {characteristic}.\")"
   ]
  },
  {
   "cell_type": "markdown",
   "metadata": {},
   "source": [
    "**Exercise**\n",
    "\n",
    "- Create a variable `my_height` and assign it the value of **your height** in centimeters.\n",
    "- Print the value of `my_height` to the screen.\n",
    "- Increase the value of `my_height` by 10 centimeters.\n",
    "- Print the new value of `my_height` to the screen."
   ]
  },
  {
   "cell_type": "code",
   "execution_count": null,
   "metadata": {},
   "outputs": [],
   "source": [
    "# [TODO] Create a variable `my_height` and assign it the value of your height in centimeters\n",
    "\n",
    "\n",
    "# [TODO] Print the value of `my_height` to the screen\n",
    "\n",
    "\n",
    "# [TODO] Increase the value of `my_height` by 10 centimeters\n",
    "\n",
    "\n",
    "# [TODO] Print the new value of `my_height` to the screen\n"
   ]
  },
  {
   "cell_type": "markdown",
   "metadata": {},
   "source": [
    "## Using multiple variables\n",
    "\n",
    "Calculate your height in inches."
   ]
  },
  {
   "cell_type": "code",
   "execution_count": null,
   "metadata": {},
   "outputs": [],
   "source": [
    "# [TODO] Create a variable `my_height` and assign it the value of your height in centimetres\n",
    "\n",
    "\n",
    "# [TODO] Print your height in centimetres to the screen\n",
    "\n",
    "\n",
    "# [TODO] cm to inch\n",
    "\n",
    "\n",
    "# [TODO] Print your height in inches to the screen\n"
   ]
  },
  {
   "cell_type": "markdown",
   "metadata": {},
   "source": [
    "**Exercise**\n",
    "\n",
    "Calculate your height in feet.\n",
    "- `1 ft = 12 in`"
   ]
  },
  {
   "cell_type": "code",
   "execution_count": null,
   "metadata": {},
   "outputs": [],
   "source": [
    "my_height = 180\n",
    "cm_to_inch = 2.54\n",
    "ft_to_inch = 12\n",
    "\n",
    "# [TODO] Print your height in feet to the screen\n"
   ]
  },
  {
   "cell_type": "markdown",
   "metadata": {},
   "source": [
    "# Basic data types\n",
    "- `int`: integer\n",
    "- `float`: floating point number\n",
    "- `bool`: boolean\n",
    "- `str`: string"
   ]
  },
  {
   "cell_type": "markdown",
   "metadata": {},
   "source": [
    "## Integer\n",
    "\n",
    "An integer is a number that can be written without a fractional component. E.g. `1`, `2`, `-3`, etc."
   ]
  },
  {
   "cell_type": "code",
   "execution_count": null,
   "metadata": {},
   "outputs": [],
   "source": [
    "var_int = 100\n",
    "print(var_int)\n",
    "print(type(var_int))"
   ]
  },
  {
   "cell_type": "markdown",
   "metadata": {},
   "source": [
    "## Float\n",
    "\n",
    "A float is a number with fractional parts. E.g. `1.0`, `2.0123`, `-3.0234`, etc."
   ]
  },
  {
   "cell_type": "code",
   "execution_count": null,
   "metadata": {},
   "outputs": [],
   "source": [
    "var_float = 3.141592653589793\n",
    "print(var_float)\n",
    "print(type(var_float))"
   ]
  },
  {
   "cell_type": "code",
   "execution_count": null,
   "metadata": {},
   "outputs": [],
   "source": [
    "var_float = 5/2\n",
    "print(var_float)\n",
    "print(type(var_float))"
   ]
  },
  {
   "cell_type": "markdown",
   "metadata": {},
   "source": [
    "## Boolean\n",
    "\n",
    "A boolean represents a value that can be either `True` or `False`."
   ]
  },
  {
   "cell_type": "code",
   "execution_count": null,
   "metadata": {},
   "outputs": [],
   "source": [
    "var_bool = True\n",
    "print(var_bool)\n",
    "print(type(var_bool))"
   ]
  },
  {
   "cell_type": "markdown",
   "metadata": {},
   "source": [
    "Booleans are used to represent the truth value of an expression. Since `1 > 2` is a false statement, `var_bool2` is `False`."
   ]
  },
  {
   "cell_type": "code",
   "execution_count": null,
   "metadata": {},
   "outputs": [],
   "source": [
    "var_bool = 1 > 2\n",
    "print(var_bool)\n",
    "print(type(var_bool))"
   ]
  },
  {
   "cell_type": "markdown",
   "metadata": {},
   "source": [
    "Switch value of `var_bool2` to `True` by using `not` operator."
   ]
  },
  {
   "cell_type": "code",
   "execution_count": null,
   "metadata": {},
   "outputs": [],
   "source": [
    "var_bool2 = not(var_bool)\n",
    "print(var_bool2)\n",
    "print(type(var_bool2))"
   ]
  },
  {
   "cell_type": "markdown",
   "metadata": {},
   "source": [
    "## String\n",
    "\n",
    "A string is a collection of characters that are enclosed in single or double quotes."
   ]
  },
  {
   "cell_type": "code",
   "execution_count": null,
   "metadata": {},
   "outputs": [],
   "source": [
    "var_str = \"Tôi đang học khóa học Python for Data Science\"\n",
    "print(var_str)\n",
    "print(type(var_str))"
   ]
  },
  {
   "cell_type": "markdown",
   "metadata": {},
   "source": [
    "Find the length of a string by using the `len()` function."
   ]
  },
  {
   "cell_type": "code",
   "execution_count": null,
   "metadata": {},
   "outputs": [],
   "source": [
    "print(len(var_str))"
   ]
  },
  {
   "cell_type": "markdown",
   "metadata": {},
   "source": [
    "**Exercise**\n",
    "\n",
    "Find the length of the following string: `\"Tôi rất mê CodingMentor\"`"
   ]
  },
  {
   "cell_type": "code",
   "execution_count": null,
   "metadata": {},
   "outputs": [],
   "source": [
    "# [TODO]\n"
   ]
  },
  {
   "cell_type": "markdown",
   "metadata": {},
   "source": [
    "**Exercise**\n",
    "\n",
    "What's the datatype of the following variable?\n",
    "- `my_number = \"2022\"`"
   ]
  },
  {
   "cell_type": "code",
   "execution_count": null,
   "metadata": {},
   "outputs": [],
   "source": [
    "# [TODO]\n"
   ]
  },
  {
   "cell_type": "markdown",
   "metadata": {},
   "source": [
    "Convert a number string to an integer by using the `int()` function."
   ]
  },
  {
   "cell_type": "code",
   "execution_count": null,
   "metadata": {},
   "outputs": [],
   "source": [
    "my_number_str = \"2022\"\n",
    "my_number_int = int(my_number_str)\n",
    "print(type(my_number_int))"
   ]
  },
  {
   "cell_type": "markdown",
   "metadata": {},
   "source": [
    "Conversion doesn't work if you pass a non-numeric string to the `int()` function."
   ]
  },
  {
   "cell_type": "code",
   "execution_count": null,
   "metadata": {},
   "outputs": [],
   "source": [
    "var_str = \"This is not a number\"\n",
    "var_int = int(var_str)"
   ]
  },
  {
   "cell_type": "markdown",
   "metadata": {},
   "source": [
    "Combine 2 strings together by using the `+` operator."
   ]
  },
  {
   "cell_type": "code",
   "execution_count": null,
   "metadata": {},
   "outputs": [],
   "source": [
    "message = \"Tôi\"\n",
    "verb = \"đang học\"\n",
    "course = \"khóa học Python for Data Science\"\n",
    "message = message + \" \" + verb + \" \" + course\n",
    "print(message)"
   ]
  },
  {
   "cell_type": "markdown",
   "metadata": {},
   "source": [
    "Multiply a string with an `int` will result in the original string repeated that many times."
   ]
  },
  {
   "cell_type": "code",
   "execution_count": null,
   "metadata": {},
   "outputs": [],
   "source": [
    "var_str = \"Fun\"\n",
    "print(\"Bef: \" + var_str)\n",
    "\n",
    "var_str = var_str * 3\n",
    "print(\"Aft: \" + var_str)"
   ]
  },
  {
   "cell_type": "markdown",
   "metadata": {},
   "source": [
    "What if you want to multiple a string with a `float`?"
   ]
  },
  {
   "cell_type": "code",
   "execution_count": null,
   "metadata": {},
   "outputs": [],
   "source": [
    "var_str = \"Fun\"\n",
    "var_str = var_str * 3.\n",
    "print(var_str)"
   ]
  }
 ],
 "metadata": {
  "interpreter": {
   "hash": "358e9616752268581ae8042f297ac07aa0f075cc4b1c7c99fe72d1bc7b9b6a95"
  },
  "kernelspec": {
   "display_name": "Python 3.10.4 ('pyds')",
   "language": "python",
   "name": "python3"
  },
  "language_info": {
   "codemirror_mode": {
    "name": "ipython",
    "version": 3
   },
   "file_extension": ".py",
   "mimetype": "text/x-python",
   "name": "python",
   "nbconvert_exporter": "python",
   "pygments_lexer": "ipython3",
   "version": "3.10.4"
  },
  "orig_nbformat": 4
 },
 "nbformat": 4,
 "nbformat_minor": 2
}
