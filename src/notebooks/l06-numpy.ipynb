{
 "cells": [
  {
   "cell_type": "markdown",
   "metadata": {},
   "source": [
    "# NumPy Introduction\n",
    "\n",
    "![image](../../images/numpy_logo.png)\n",
    "\n",
    "[**NumPy**](https://numpy.org/) is a Python package for large-scale data processing. It provides a high-performance multidimensional array object, called `ndarray`, and tools for working with these arrays.\n",
    "\n",
    "**Arrays** are very frequently used in **Machine Learning** and **Data Science**. **Lists** in `Python` serve the role of arrays and are great to represent a single row of data, but they don't scale well. Thus, in order to work with large datasets, we need something much better.\n",
    "\n",
    "The main reason why **NumPy** is so much faster than **lists** is because **NumPy** arrays are stored in memory in a contiguous block of memory, which makes them faster to access.\n",
    "\n",
    "**Fun fact**: **NumPy** is partially written in `Python`, but most of the parts are implemented in `C`/`C++`."
   ]
  },
  {
   "cell_type": "markdown",
   "metadata": {},
   "source": [
    "# Install and Use NumPy for the first time\n",
    "\n",
    "`numpy` should be automatically installed as part of `anaconda`. Nonetheless, if for some reasons it is missing, you can enter the following command in a `anaconda prompt` or a `terminal` to install `numpy`:\n",
    "\n",
    "```bash\n",
    "pip install numpy\n",
    "```\n",
    "\n",
    "You can verify that it is installed by entering the following codes in a cell in a notebook:\n",
    "\n",
    "```python\n",
    "try:\n",
    "    import numpy as np\n",
    "    print(f\"The version of numpy is: {np.__version__}\")\n",
    "except ImportError:\n",
    "    print(\"numpy is not installed!\")\n",
    "```"
   ]
  },
  {
   "cell_type": "code",
   "execution_count": null,
   "metadata": {},
   "outputs": [],
   "source": []
  },
  {
   "cell_type": "markdown",
   "metadata": {},
   "source": [
    "It is extremely common to use `np` as the alias for `numpy` in `Python`.\n",
    "\n",
    "```python\n",
    "import numpy as np\n",
    "```\n",
    "\n",
    "`as` is used to assign an alias to a module. The alias is used to refer to the module in the rest of the code."
   ]
  },
  {
   "cell_type": "markdown",
   "metadata": {},
   "source": [
    "First, let's go through an example to see the power of `numpy`. We'll start with 2 lists having `1,000,000` random numbers each.\n",
    "\n",
    "```python\n",
    "from random import randrange\n",
    "\n",
    "list1 = [randrange(1,1000000) for i in range(1000000)]\n",
    "list2 = [randrange(1,1000000) for i in range(1000000)]\n",
    "\n",
    "print(f\"list1 contains {len(list1):,} elements\")\n",
    "print(f\"list2 contains {len(list2):,} elements\")\n",
    "```"
   ]
  },
  {
   "cell_type": "code",
   "execution_count": null,
   "metadata": {},
   "outputs": [],
   "source": []
  },
  {
   "cell_type": "markdown",
   "metadata": {},
   "source": [
    "**Exercise**\n",
    "\n",
    "1. Let's calculate the product of each pair of elements from the two lists `list1` and `list2`. In other words, given an index `i`, we want to calculate the product of `list1[i]` and `list2[i]`.\n",
    "2. Save the list of products in a new list called `product_list`.\n",
    "\n",
    "**Hint**: \n",
    "- Use `for` loop to iterate through the lists. \n",
    "- You can use `zip()` to iterate through the lists at the same time.\n",
    "- List comprehension."
   ]
  },
  {
   "cell_type": "code",
   "execution_count": null,
   "metadata": {},
   "outputs": [],
   "source": [
    "%%timeit\n",
    "# [TODO]\n",
    "# for loop ONLY approach\n"
   ]
  },
  {
   "cell_type": "code",
   "execution_count": null,
   "metadata": {},
   "outputs": [],
   "source": [
    "# show first 5 elements of product_list\n"
   ]
  },
  {
   "cell_type": "code",
   "execution_count": null,
   "metadata": {},
   "outputs": [],
   "source": [
    "%%timeit\n",
    "# [TODO]\n",
    "# list comprehension + zip approach\n"
   ]
  },
  {
   "cell_type": "code",
   "execution_count": null,
   "metadata": {},
   "outputs": [],
   "source": [
    "# show first 5 elements of product_list\n"
   ]
  },
  {
   "cell_type": "markdown",
   "metadata": {},
   "source": [
    "`%%timeit` is a magic command that runs the code in the cell and measures the time it takes to run.\n",
    "\n",
    "As you can see, we use `zip()` and **list comprehension** to work out an elegant way of calculating the pair-wise product of the two lists.\n",
    "Nonetheless, we **won't be able to multiply the two lists together directly**. We'll need to use `numpy` to do that.\n",
    "\n",
    "```python\n",
    "list1 * list2 # will throw an error\n",
    "```"
   ]
  },
  {
   "cell_type": "code",
   "execution_count": null,
   "metadata": {},
   "outputs": [],
   "source": []
  },
  {
   "cell_type": "markdown",
   "metadata": {},
   "source": [
    "With `numpy`, we can easily multiply the 2 `numpy` arrays together. Let's import `numpy` and convert the 2 lists into `numpy.ndarray`.\n",
    "\n",
    "```python\n",
    "import numpy as np\n",
    "\n",
    "np_list1 = np.array(list1)\n",
    "np_list2 = np.array(list2)\n",
    "\n",
    "print(type(np_list1), type(np_list2))\n",
    "```"
   ]
  },
  {
   "cell_type": "code",
   "execution_count": null,
   "metadata": {},
   "outputs": [],
   "source": []
  },
  {
   "cell_type": "code",
   "execution_count": null,
   "metadata": {},
   "outputs": [],
   "source": [
    "%%timeit\n"
   ]
  },
  {
   "cell_type": "code",
   "execution_count": null,
   "metadata": {},
   "outputs": [],
   "source": [
    "# show first 5 elements of np_product_list\n"
   ]
  },
  {
   "cell_type": "markdown",
   "metadata": {},
   "source": [
    "**Exercise**\n",
    "\n",
    "Let's build a summary table that looks like the one below based on the speed test we did earlier.\n",
    "\n",
    "![image](../../images/np_speedtest_table.png)"
   ]
  },
  {
   "cell_type": "markdown",
   "metadata": {},
   "source": [
    "<font size=\"5\">[TODO] 📖</font>\n"
   ]
  },
  {
   "cell_type": "code",
   "execution_count": null,
   "metadata": {},
   "outputs": [],
   "source": []
  },
  {
   "cell_type": "markdown",
   "metadata": {},
   "source": [
    "**Exercise**\n",
    "\n",
    "Why do we need `list` when we already have `numpy`?\n",
    "\n",
    "**Hint**: Can `numpy` array contains elements of different types?"
   ]
  },
  {
   "cell_type": "markdown",
   "metadata": {},
   "source": [
    "<font size=\"5\">[TODO] 📖</font>\n"
   ]
  },
  {
   "cell_type": "code",
   "execution_count": null,
   "metadata": {},
   "outputs": [],
   "source": []
  },
  {
   "cell_type": "markdown",
   "metadata": {},
   "source": []
  },
  {
   "cell_type": "code",
   "execution_count": null,
   "metadata": {},
   "outputs": [],
   "source": []
  },
  {
   "cell_type": "markdown",
   "metadata": {},
   "source": [
    "# Dimensions in Arrays\n",
    "\n",
    "[**Dimensions**](https://www.splashlearn.com/math-vocabulary/geometry/dimensions) in mathematics are the measure of the size or distance of an object or region or space in one direction. In simpler terms, it is the measurement of the length, width, and height of anything. \n",
    "\n",
    "We have probably all come across **Catersian** coordianate system. Below is an illustration of 2-D coordinate system.\n",
    "\n",
    "![image](../../images/1920px-Cartesian-coordinate-system.svg.png)\n",
    "\n",
    "Types of figures based on dimensions:\n",
    "- A point is a 0-dimensional object.\n",
    "- A line is a 1-dimensional object.\n",
    "- A plane is a 2-dimensional object.\n",
    "- A volume is a 3-dimensional object.\n",
    "\n",
    "![image](../../images/Dimensions-2.webp)\n",
    "\n",
    "Similarly, arrays can have multiple dimensions."
   ]
  },
  {
   "cell_type": "markdown",
   "metadata": {},
   "source": [
    "**0-D Arrays**, or scalars, are the simplest arrays. For example, `np.array(1)` is a 0-D array.\n",
    "\n",
    "```python\n",
    "zero_d_array = np.array(1)\n",
    "\n",
    "print(zero_d_array)\n",
    "```"
   ]
  },
  {
   "cell_type": "code",
   "execution_count": null,
   "metadata": {},
   "outputs": [],
   "source": []
  },
  {
   "cell_type": "markdown",
   "metadata": {},
   "source": [
    "As shown in the above example, `shape` is an attribute of `np.ndarray` object that returns the shape of the array. The **shape of an array** is the number of elements in each dimension. This is a very important method that you'll be using a lot when analysing data.\n",
    "\n",
    "**1-D Arrays**, or vectors, are 1-dimensional arrays. For example, `np_product_list`, that we saw above, is a 1-D array.\n",
    "\n",
    "```python\n",
    "print(f\"Shape of np_product_list: {np_product_list.shape}\")\n",
    "```"
   ]
  },
  {
   "cell_type": "code",
   "execution_count": null,
   "metadata": {},
   "outputs": [],
   "source": []
  },
  {
   "cell_type": "markdown",
   "metadata": {},
   "source": [
    "We can see that `np_product_list` has 1 dimension containing `1000000` elements.\n",
    "\n",
    "Below is another example:\n",
    "\n",
    "![image](../../images/nparray_creation.png)"
   ]
  },
  {
   "cell_type": "code",
   "execution_count": null,
   "metadata": {},
   "outputs": [],
   "source": []
  },
  {
   "cell_type": "markdown",
   "metadata": {},
   "source": [
    "**2-D Arrays**, or matrices, are 2-dimensional arrays. For example, `np.array([1, 2, 3], [4, 5, 6])` is a 2-D array.\n",
    "\n",
    "```python\n",
    "matrix = np.array([1, 2, 3], [4, 5, 6])\n",
    "\n",
    "print(matrix)\n",
    "print(f\"Shape of matrix: {matrix.shape}\")\n",
    "print(f\"Number of dimensions of matrix: {matrix.ndim}\")\n",
    "```"
   ]
  },
  {
   "cell_type": "code",
   "execution_count": null,
   "metadata": {},
   "outputs": [],
   "source": []
  },
  {
   "cell_type": "markdown",
   "metadata": {},
   "source": [
    "`matrix.shape` returns a tuple showing that the first dimension has 2 elements while the second dimension has 3 elements.\n",
    "\n",
    "`matrix.ndim` returns the number of dimensions of the array."
   ]
  },
  {
   "cell_type": "markdown",
   "metadata": {},
   "source": [
    "**3-D Arrays** are arrays having matrices as its elements. For example, `np.array([[1, 2, 3], [4, 5, 6]])` is a 3-D array.\n",
    "\n",
    "```python\n",
    "three_d_array = np.array([[1, 2, 3], [4, 5, 6]])\n",
    "\n",
    "print(three_d_array)\n",
    "print(f\"Shape of three_d_array: {three_d_array.shape}\")\n",
    "print(f\"Number of dimensions of three_d_array: {three_d_array.ndim}\")\n",
    "```"
   ]
  },
  {
   "cell_type": "code",
   "execution_count": null,
   "metadata": {},
   "outputs": [],
   "source": []
  },
  {
   "cell_type": "markdown",
   "metadata": {},
   "source": [
    "**Exercise**\n",
    "\n",
    "Without using `ndim` method, can you figure out the number of dimensions of the following arrays?\n",
    "\n",
    "```python\n",
    "a = np.array([[[1, 2, 3], [4, 5, 6]], [[7, 8, 9], [10, 11, 12]]])\n",
    "b = np.array([[1]])\n",
    "c = np.array([[[1], [2], [3]], [[4], [5], [6]]])\n",
    "d = np.array([[[[1], [2], [3]], [[4], [5], [6]]]])\n",
    "\n",
    "print(a.ndim)\n",
    "print(b.ndim)\n",
    "print(c.ndim)\n",
    "print(d.ndim)\n",
    "```"
   ]
  },
  {
   "cell_type": "code",
   "execution_count": null,
   "metadata": {},
   "outputs": [],
   "source": [
    "# [TODO]\n"
   ]
  },
  {
   "cell_type": "markdown",
   "metadata": {},
   "source": [
    "**Exercise**\n",
    "\n",
    "Without using `ndim` method, write a function that returns the number of dimensions of the array.\n",
    "\n",
    "**Hint**: Similar to **list**, length of a **tuple** can be accessed using `len()` function. "
   ]
  },
  {
   "cell_type": "code",
   "execution_count": null,
   "metadata": {},
   "outputs": [],
   "source": [
    "# [TODO]\n"
   ]
  },
  {
   "cell_type": "markdown",
   "metadata": {},
   "source": [
    "# Access elements in an Array\n",
    "\n",
    "Similar to **list**, we can access elements in an array using indexing or slicing.\n",
    "\n",
    "![image](../../images/nparray_slicing.png)\n",
    "\n",
    "```python\n",
    "arr = np.array([1, 2])\n",
    "\n",
    "print(f\"Element at index 0: {arr[0]}\")\n",
    "print(f\"Elements from index 0 to 2 (not inclusive): {arr[0:2]}\")\n",
    "```"
   ]
  },
  {
   "cell_type": "code",
   "execution_count": null,
   "metadata": {},
   "outputs": [],
   "source": []
  },
  {
   "cell_type": "markdown",
   "metadata": {},
   "source": [
    "Similarly, by providing the indices of the element, we can easily access elements in a 2-D array.\n",
    "\n",
    "![image](../../images/nparray_2d.png)\n",
    "\n",
    "```python\n",
    "two_d_array = np.array([[1, 2, 3], [4, 5, 6]])\n",
    "\n",
    "print(f\"Element at index (0, 2): {two_d_array[0, 2]}\")\n",
    "```"
   ]
  },
  {
   "cell_type": "code",
   "execution_count": null,
   "metadata": {},
   "outputs": [],
   "source": []
  },
  {
   "cell_type": "markdown",
   "metadata": {},
   "source": [
    "# Modify Arrays"
   ]
  },
  {
   "cell_type": "markdown",
   "metadata": {},
   "source": [
    "Similar to **list**, we can also modify the arrays by assigning new values to the elements.\n",
    "\n",
    "```python\n",
    "two_d_array = np.array([[1, 2, 3], [4, 5, 6]])\n",
    "\n",
    "print(\"Before: \")\n",
    "print(two_d_array)\n",
    "\n",
    "two_d_array[0, 2] = 10\n",
    "print(\"----------------------\")\n",
    "print(\"After: \")\n",
    "print(two_d_array)\n",
    "```"
   ]
  },
  {
   "cell_type": "code",
   "execution_count": null,
   "metadata": {},
   "outputs": [],
   "source": []
  },
  {
   "cell_type": "markdown",
   "metadata": {},
   "source": [
    "# Sort Arrays\n",
    "\n",
    "There are many times when we need to sort the elements of an array. Luckily, there is a method called `np.sort()` for that purpose.\n",
    "\n",
    "```python\n",
    "arr = np.array([3, 1, 2, 3, 4, 8, 1, 4, 7, 0])\n",
    "\n",
    "print(\"Before: \")\n",
    "print(arr)\n",
    "print(\"----------------------\")\n",
    "print(\"After: \")\n",
    "print(arr.sort())\n",
    "```"
   ]
  },
  {
   "cell_type": "code",
   "execution_count": null,
   "metadata": {},
   "outputs": [],
   "source": []
  },
  {
   "cell_type": "markdown",
   "metadata": {},
   "source": [
    "Can `np.sort()` be used for 2-D arrays?\n",
    "\n",
    "```python\n",
    "two_d_array = np.array([[2, 1, 7], [6, 5, 4]])\n",
    "\n",
    "print(\"Before: \")\n",
    "print(two_d_array)\n",
    "\n",
    "print(\"----------------------\")\n",
    "print(\"After: \")\n",
    "print(np.sort(two_d_array))\n",
    "```"
   ]
  },
  {
   "cell_type": "code",
   "execution_count": null,
   "metadata": {},
   "outputs": [],
   "source": []
  },
  {
   "cell_type": "markdown",
   "metadata": {},
   "source": [
    "We can see that the `np.sort()` function sorts the array dimension by dimension in ascending order by default.\n",
    "\n",
    "`np.sort()` function is actually a lot more than that. Nonetheless, we shouldn't worry about it here. You can read more about `np.sort()` [here](https://numpy.org/doc/stable/reference/generated/numpy.sort.html)."
   ]
  },
  {
   "cell_type": "markdown",
   "metadata": {},
   "source": [
    "# Searching Arrays\n",
    "\n",
    "It is also very common to search for elements in an array. We will learn how to do that using `np.where()` method.\n",
    "\n",
    "**NOTE**: `np.where()` is a very common method for data professionals.\n",
    "\n",
    "In the following example, let's say we have an array `heights` containing the heights (in cm) of applicants for a flight attendant position. As this is a job having a strict height requirement (≥ 1.70 cm), we need to find out which applicants are qualified based on their heights. We will be using `np.where()` to filter out the index within the `heights` array of the qualified applicants.\n",
    "\n",
    "```python\n",
    "heights = np.array([1.63, 1.68, 1.71, 1.89, 1.79, 1.56, 1.7])\n",
    "\n",
    "print(np.where(heights >= 1.7))\n",
    "```"
   ]
  },
  {
   "cell_type": "code",
   "execution_count": null,
   "metadata": {},
   "outputs": [],
   "source": []
  },
  {
   "cell_type": "markdown",
   "metadata": {},
   "source": [
    "As you can see, `np.where()` returns all the indices of the elements that satisfy the condition."
   ]
  },
  {
   "cell_type": "markdown",
   "metadata": {},
   "source": [
    "**Exercise**\n",
    "\n",
    "Let's find out the indices of the odd elements in the following array.\n",
    "\n",
    "```python\n",
    "numbers = np.array([10, 20, 11, 40, 1, 54, 3])\n",
    "```"
   ]
  },
  {
   "cell_type": "code",
   "execution_count": null,
   "metadata": {},
   "outputs": [],
   "source": [
    "# [TODO]\n"
   ]
  },
  {
   "cell_type": "markdown",
   "metadata": {},
   "source": [
    "**Exercise**\n",
    "\n",
    "What else can `np.where()` do? Can we print the **docstring** of `np.where()`? "
   ]
  },
  {
   "cell_type": "code",
   "execution_count": null,
   "metadata": {},
   "outputs": [],
   "source": [
    "# [TODO]\n"
   ]
  },
  {
   "cell_type": "markdown",
   "metadata": {},
   "source": [
    "As you can see, `np.where()` takes a condition as an argument and can also return `x` or `y` depending on the condition.\n",
    "\n",
    "Thus, going back to the example about flight attendant applications above, we can use `np.where()` to generate a new array containing the result of each applicant's application based on their height.\n",
    "\n",
    "```python\n",
    "np.where(heights >= 1.7, \"Accepted\", \"Rejected\")\n",
    "\n",
    "# array(['Rejected', 'Rejected', 'Accepted', 'Accepted', 'Accepted', 'Rejected', 'Accepted'], dtype='<U8')\n",
    "```"
   ]
  },
  {
   "cell_type": "code",
   "execution_count": null,
   "metadata": {},
   "outputs": [],
   "source": []
  },
  {
   "cell_type": "markdown",
   "metadata": {},
   "source": [
    "You can read more about `np.where()` [here](https://numpy.org/doc/stable/reference/generated/numpy.where.html)."
   ]
  },
  {
   "cell_type": "markdown",
   "metadata": {},
   "source": [
    "What if we don't just want the indices of the elements that satisfy the condition, but the actual elements themselves?\n",
    "\n",
    "Filtering in an array is very simple. You can combine the result returned by `np.where()` with the original array to get the elements that satisfy the condition.\n",
    "\n",
    "Let's say we want to return all heights (in cm) of the applicants that are qualified.\n",
    "\n",
    "```python\n",
    "heights[np.where(heights >= 1.7)]\n",
    "```"
   ]
  },
  {
   "cell_type": "code",
   "execution_count": null,
   "metadata": {},
   "outputs": [],
   "source": []
  },
  {
   "cell_type": "markdown",
   "metadata": {},
   "source": [
    "There is an even simpler way to do the exact same thing. We can drop `np.where()` completely and write the condition inside the square brackets.\n",
    "\n",
    "```python\n",
    "heights[heights >= 1.7]\n",
    "```"
   ]
  },
  {
   "cell_type": "code",
   "execution_count": null,
   "metadata": {},
   "outputs": [],
   "source": []
  },
  {
   "cell_type": "markdown",
   "metadata": {},
   "source": [
    "**Exercise**\n",
    "\n",
    "How many applicants are qualified for the flight attendant position?"
   ]
  },
  {
   "cell_type": "code",
   "execution_count": null,
   "metadata": {},
   "outputs": [],
   "source": [
    "# [TODO]\n"
   ]
  },
  {
   "cell_type": "markdown",
   "metadata": {},
   "source": [
    "# Array Arithmetic\n",
    "\n",
    "We'll use the following 2 arrays to demonstrate some of the basic arithmetic operations that we can perform on arrays.\n",
    "\n",
    "```python\n",
    "arr1 = np.array([1, 2, 3])\n",
    "arr2 = np.array([0, 5, 6])\n",
    "```"
   ]
  },
  {
   "cell_type": "code",
   "execution_count": null,
   "metadata": {},
   "outputs": [],
   "source": []
  },
  {
   "cell_type": "markdown",
   "metadata": {},
   "source": [
    "**Array addition** is performed element-wise. We can also add two arrays together using `np.add()` function.\n",
    "\n",
    "![image](../../images/nparray_addition.png)\n",
    "\n",
    "```python\n",
    "arr1 + arr2\n",
    "\n",
    "np.add(arr1, arr2)\n",
    "```"
   ]
  },
  {
   "cell_type": "code",
   "execution_count": null,
   "metadata": {},
   "outputs": [],
   "source": []
  },
  {
   "cell_type": "code",
   "execution_count": null,
   "metadata": {},
   "outputs": [],
   "source": []
  },
  {
   "cell_type": "markdown",
   "metadata": {},
   "source": [
    "**Array subtraction** is performed element-wise. We can also subtract two arrays together using `np.subtract()` function.\n",
    "\n",
    "![image](../../images/nparray_subtraction.png)\n",
    "\n",
    "```python\n",
    "arr1 - arr2\n",
    "\n",
    "np.subtract(arr1, arr2)\n",
    "```"
   ]
  },
  {
   "cell_type": "code",
   "execution_count": null,
   "metadata": {},
   "outputs": [],
   "source": []
  },
  {
   "cell_type": "code",
   "execution_count": null,
   "metadata": {},
   "outputs": [],
   "source": []
  },
  {
   "cell_type": "markdown",
   "metadata": {},
   "source": [
    "**Exercise**\n",
    "\n",
    "What will be the result if we multiply `arr1` and `arr2` together?"
   ]
  },
  {
   "cell_type": "code",
   "execution_count": null,
   "metadata": {},
   "outputs": [],
   "source": [
    "# [TODO]\n"
   ]
  },
  {
   "cell_type": "code",
   "execution_count": null,
   "metadata": {},
   "outputs": [],
   "source": [
    "# [TODO]\n"
   ]
  },
  {
   "cell_type": "markdown",
   "metadata": {},
   "source": [
    "**Array multiplication** is also performed element-wise. We can also multiply two arrays together using `np.multiply()` function."
   ]
  },
  {
   "cell_type": "markdown",
   "metadata": {},
   "source": [
    "**Exercise**\n",
    "\n",
    "What will be the result if we divide `arr1` by `arr2`?"
   ]
  },
  {
   "cell_type": "code",
   "execution_count": null,
   "metadata": {},
   "outputs": [],
   "source": [
    "# [TODO]\n"
   ]
  },
  {
   "cell_type": "code",
   "execution_count": null,
   "metadata": {},
   "outputs": [],
   "source": [
    "# [TODO]\n"
   ]
  },
  {
   "cell_type": "markdown",
   "metadata": {},
   "source": [
    "Unsurprisingly, **array division** is also performed element-wise, and we can use `np.divide()` function to perform the division."
   ]
  },
  {
   "cell_type": "markdown",
   "metadata": {},
   "source": [
    "# Other useful functions\n",
    "\n",
    "There are a number of functions that we can use to aggregate the elements of an array. They are very commonly used in data science. \n",
    "- `np.sum()`\n",
    "- `np.mean()`\n",
    "- `np.min()`\n",
    "- `np.max()`\n",
    "- `np.median()`\n",
    "- `np.std()`\n",
    "\n",
    "All of these functions can be applied to arrays of different dimensions. In my experience, the most common use case is to aggregate the elements of a 1-D array."
   ]
  },
  {
   "cell_type": "code",
   "execution_count": null,
   "metadata": {},
   "outputs": [],
   "source": [
    "arr = ...\n",
    "\n",
    "print(f\"Sum of all elements: {}\")\n",
    "print(f\"Average of all elements: {}\")\n",
    "print(f\"The smallest element: {}\")\n",
    "print(f\"The largest element: {}\")\n",
    "print(f\"The median of the array: {}\")\n",
    "print(f\"The standard deviation of the array: {}\")"
   ]
  },
  {
   "cell_type": "markdown",
   "metadata": {},
   "source": [
    "# Transposing and Reshaping Arrays\n",
    "\n",
    "**Transposing** is a simple operation that rotates the elements of an array. In order to transpose a matrix, we can either use `.T` or `np.transpose()` function. It's very common to use `.T`.\n",
    "\n",
    "![image](../../images/nparray_transpose.png)\n",
    "\n",
    "Let's look at an example:\n",
    "\n",
    "```python\n",
    "arr = np.array([[1, 4], [2, 5], [3, 6]])\n",
    "\n",
    "print(\"Before transposing:\")\n",
    "print(arr)\n",
    "print(f\"Original array has {arr.shape} shape.\")\n",
    "print(\"\\n\")\n",
    "print(\"After transposing:\")\n",
    "print(arr.T)\n",
    "print(f\"Transposed array has {arr.T.shape} shape.\")\n",
    "```"
   ]
  },
  {
   "cell_type": "code",
   "execution_count": null,
   "metadata": {},
   "outputs": [],
   "source": []
  },
  {
   "cell_type": "markdown",
   "metadata": {},
   "source": [
    "**Reshaping** is a more complicated operation. We can use `.reshape()` or `np.reshape()` function to reshape an array.\n",
    "\n",
    "Let's say we want to reshape a 1-D array into a 2-D array.\n",
    "\n",
    "![image](../../images/nparray_reshape.png)\n",
    "\n",
    "```python\n",
    "arr = np.array([1, 2, 3, 4, 5, 6])\n",
    "\n",
    "print(\"Before reshaping:\")\n",
    "print(arr)\n",
    "print(f\"Original array has {arr.shape} shape.\")\n",
    "print(\"\\n\")\n",
    "print(\"After reshaping:\")\n",
    "print(arr.reshape(2, 3))\n",
    "print(f\"Reshaped (2, 3) array has {arr.reshape(2, 3).shape} shape.\")\n",
    "print(\"\\n\")\n",
    "print(arr.reshape(3, 2))\n",
    "print(f\"Reshaped (3, 2) array has {arr.reshape(3, 2).shape} shape.\")\n",
    "```"
   ]
  },
  {
   "cell_type": "code",
   "execution_count": null,
   "metadata": {},
   "outputs": [],
   "source": []
  },
  {
   "cell_type": "markdown",
   "metadata": {},
   "source": [
    "# Broadcasting\n",
    "\n",
    "**Broadcasting** describes how **NumPy** handles the case when two arrays have different shapes during arithmetic operations. Subject to certain constraints, the smaller array is “broadcast” across the larger array so that they have compatible shapes. \n",
    "\n",
    "Thus, with the help of broadcasting, we can perform arithmetic operations on array and scalar values since scalar values are considered 0-dimensional arrays.\n",
    "\n",
    "![image](../../images/nparray_addition_scalar.png)\n",
    "\n",
    "```python\n",
    "arr1 + 1\n",
    "```"
   ]
  },
  {
   "cell_type": "code",
   "execution_count": null,
   "metadata": {},
   "outputs": [],
   "source": []
  },
  {
   "cell_type": "markdown",
   "metadata": {},
   "source": [
    "In this case, `1` is broadcasted into an array of shape `(3,)` having all element as the value of the scalar `1`."
   ]
  },
  {
   "cell_type": "markdown",
   "metadata": {},
   "source": [
    "Can the following operation be performed? Remember that: `arr1 = np.array([1, 2, 3])`\n",
    "\n",
    "```python\n",
    "arr1 + np.array([2, 3])\n",
    "```"
   ]
  },
  {
   "cell_type": "code",
   "execution_count": null,
   "metadata": {},
   "outputs": [],
   "source": [
    "# [TODO]\n"
   ]
  },
  {
   "cell_type": "markdown",
   "metadata": {},
   "source": [
    "Unfortunately, this is not possible. The two arrays are not **broadcastable**.\n",
    "\n",
    "How do we determine if arrays are **broadcastable**?\n",
    "- The arrays all have exactly the same shape.\n",
    "- The arrays all have the same number of dimensions and the length of each dimensions is either a common length or 1.\n",
    "- Arrays that have too few dimensions can have their shapes prepended with a dimension of length 1 to satisfy property 2.\n",
    "\n",
    "It's **quite difficult to understand**, isn't it? 😂\n",
    "\n",
    "I personally use `np.broadcast_to()` function to broadcast the array to the same shape as the other array. If it returns in an error, it means that the two arrays are not **broadcastable**. "
   ]
  },
  {
   "cell_type": "code",
   "execution_count": null,
   "metadata": {},
   "outputs": [],
   "source": []
  },
  {
   "cell_type": "code",
   "execution_count": null,
   "metadata": {},
   "outputs": [],
   "source": []
  }
 ],
 "metadata": {
  "kernelspec": {
   "display_name": "Python 3.9.12 ('base')",
   "language": "python",
   "name": "python3"
  },
  "language_info": {
   "codemirror_mode": {
    "name": "ipython",
    "version": 3
   },
   "file_extension": ".py",
   "mimetype": "text/x-python",
   "name": "python",
   "nbconvert_exporter": "python",
   "pygments_lexer": "ipython3",
   "version": "3.9.12"
  },
  "orig_nbformat": 4,
  "vscode": {
   "interpreter": {
    "hash": "e720081de2fd57dd700935953acd9dd6610ea2e1d5e7379bea03675c6c751eb5"
   }
  }
 },
 "nbformat": 4,
 "nbformat_minor": 2
}
