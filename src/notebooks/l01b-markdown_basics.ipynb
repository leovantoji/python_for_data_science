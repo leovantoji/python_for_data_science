{
 "cells": [
  {
   "cell_type": "markdown",
   "metadata": {},
   "source": [
    "# Markdown\n",
    "\n",
    "Read [Why is Markdown so popular?](https://www.makeuseof.com/why-is-markdown-popular-reasons-you-should-use-it/) to understand the benefits of using Markdown.\n",
    "\n",
    "# Main Heading: Level 1\n",
    "\n",
    "**Markdown** is a lightweight markup language that is used to format text. It is a subset of HTML.\n",
    "\n",
    "`#` denotes a heading. Add more `#` to increase the heading level.\n",
    "\n",
    "## Sub Heading: Level 2\n",
    "\n",
    "### Sub Sub Heading: Level 3"
   ]
  },
  {
   "cell_type": "markdown",
   "metadata": {},
   "source": [
    "# Paragraphs"
   ]
  },
  {
   "cell_type": "markdown",
   "metadata": {},
   "source": [
    "This is a paragraph.\n",
    "\n",
    "Paragraphs must be separated by an empty line.\n",
    "\n",
    "To bold text, wrap `**` around the text: **bold**.\n",
    "\n",
    "To italicise text, wrap `*` around the text: *italic*.\n",
    "\n",
    "To strike through text, wrap `~~` around the text: ~~strikethrough~~."
   ]
  },
  {
   "cell_type": "markdown",
   "metadata": {},
   "source": [
    "**Exercise**\n",
    "\n",
    "Let's try to apply what you learn to recreate this paragraph!\n",
    "\n",
    "![image](../../images/md_exercise1.png)\n",
    "\n",
    "<font size=\"5\">[TODO] 📖</font>\n",
    "\n",
    "Python đã được Guido van Rossum thai nghén vào những năm 1980 tại Trung tâm Toán học – Tin học (Centrum Wiskunde & Informatica, CWI) ở Hà Lan như là một ngôn ngữ kế tục ngôn ngữ ABC – một ngôn ngữ được lấy cảm hứng từ SETL, có khả năng xử lí ngoại lệ và giao tiếp với hệ điều hành Window Amoeba."
   ]
  },
  {
   "cell_type": "markdown",
   "metadata": {},
   "source": [
    "# Lists\n",
    "\n",
    "## Bullet points (\\*)\n",
    "* Item 1\n",
    "* Item 2\n",
    "* Item 3\n",
    "\n",
    "## Bullet points (\\-)\n",
    "- Item 1\n",
    "- Item 2\n",
    "- Item 3\n",
    "\n",
    "## Numbered points\n",
    "1. Item 1\n",
    "1. Item 2\n",
    "1. Item 3"
   ]
  },
  {
   "cell_type": "markdown",
   "metadata": {},
   "source": [
    "**Exercise**\n",
    "\n",
    "Let's try to recreate this list!\n",
    "\n",
    "![image](../../images/md_exercise2.png)\n",
    "\n",
    "<font size=\"5\">[TODO] 📖</font>"
   ]
  },
  {
   "cell_type": "markdown",
   "metadata": {},
   "source": [
    "**Exercise**\n",
    "\n",
    "Let's improve the list above by making it a numbered list!\n",
    "\n",
    "![image](../../images/md_exercise3.png)\n",
    "\n",
    "<font size=\"5\">[TODO] 📖</font>"
   ]
  },
  {
   "cell_type": "markdown",
   "metadata": {},
   "source": [
    "# Lines\n",
    "\n",
    "To add a line, type `***` into the cell.\n",
    "\n",
    "***"
   ]
  },
  {
   "cell_type": "markdown",
   "metadata": {},
   "source": [
    "# Showing Code in Markdown\n",
    "\n",
    "- Wrap \\` around a line of code to make it appear as an inline code `print(\"Hello, World\")`.\n",
    "\n",
    "\n",
    "- Wrap \\``` around a block of code to make it appear as code. \n",
    "\n",
    "```\n",
    "def foo():\n",
    "    pass\n",
    "```\n",
    "\n",
    "- Wrap \\``` around a block of code to make it appear as code. To make the code colourful, add the language name after the first ```.\n",
    "```python\n",
    "def foo():\n",
    "    pass\n",
    "```"
   ]
  },
  {
   "cell_type": "markdown",
   "metadata": {},
   "source": [
    "**Exercise**\n",
    "\n",
    "Wrap the following code in a block of code to make it appear as code.\n",
    "\n",
    "![image](../../images/md_exercise4.png)\n",
    "\n",
    "<font size=\"5\">[TODO] 📖</font>"
   ]
  },
  {
   "cell_type": "markdown",
   "metadata": {},
   "source": [
    "# Hyperlinks\n",
    "\n",
    "```\n",
    "[Link_to_Coding_Mentor](https://codingmentor.com.au/)\n",
    "```\n",
    "\n",
    "[Coding Mentor tay ngang học code](https://codingmentor.com.au/)"
   ]
  },
  {
   "cell_type": "markdown",
   "metadata": {},
   "source": [
    "**Exercise**\n",
    "\n",
    "Let's use the information below to create a hyperlink to `Python for Data Science` on Coding Mentor.\n",
    "- Link: `https://codingmentor.com.au/course/24`\n",
    "- Text: `Python for Data Science`\n",
    "\n",
    "<font size=\"5\">[TODO] 📖</font>"
   ]
  },
  {
   "cell_type": "markdown",
   "metadata": {},
   "source": [
    "# Add image\n",
    "\n",
    "```\n",
    "![alt text](link/to/image.jpg)\n",
    "```\n",
    "\n",
    "![jupyter_nb](../../images/jupyter_notebook.jpeg)"
   ]
  },
  {
   "cell_type": "markdown",
   "metadata": {},
   "source": [
    "# Math symbols\n",
    "\n",
    "1. $x = y $\n",
    "1. $x < y $\n",
    "1. $x > y $\n",
    "1. $x \\le y $\n",
    "1. $x \\ge y $\n",
    "1. $x^{n}$\n",
    "1. $x_{n}$"
   ]
  },
  {
   "cell_type": "markdown",
   "metadata": {},
   "source": [
    "**Exercise**\n",
    "\n",
    "Use the information from [this website](https://rpruim.github.io/s341/S19/from-class/MathinRmd.html) to write the [Cauchy–Bunyakovsky–Schwarz](https://en.wikipedia.org/wiki/Cauchy%E2%80%93Schwarz_inequality) inequality in Markdown: \n",
    "\n",
    "![image](../../images/md_exercise5.png)\n",
    "\n",
    "<font size=\"5\">[TODO] 📖</font>"
   ]
  },
  {
   "cell_type": "markdown",
   "metadata": {},
   "source": [
    "# Table\n",
    "\n",
    "**Normal** table:\n",
    "\n",
    "|Column 1|Column 2|Column 3|\n",
    "|-|-|-|\n",
    "|Text|Text|Text|\n",
    "|Text|Text|Text|\n",
    "\n",
    "**Centered** table:\n",
    "\n",
    "|Column 1|Column 2|Column 3|\n",
    "|:-:|:-:|:-:|\n",
    "|Text|Text|Text|\n",
    "|Text|Text|Text|\n",
    "\n",
    "Bullet points in table:\n",
    "\n",
    "|Column 1|Column 2|Column 3|\n",
    "|:-:|:-:|:-| \n",
    "|Text|Something|<ul><li>A</li><li>B</li></ul>|"
   ]
  },
  {
   "cell_type": "markdown",
   "metadata": {},
   "source": [
    "**Exercise**\n",
    "\n",
    "Let's recreate the following table in Markdown:\n",
    "\n",
    "![image](../../images/md_exercise6.png)"
   ]
  },
  {
   "cell_type": "markdown",
   "metadata": {},
   "source": [
    "<font size=\"5\">[TODO] 📖</font>\n"
   ]
  }
 ],
 "metadata": {
  "interpreter": {
   "hash": "358e9616752268581ae8042f297ac07aa0f075cc4b1c7c99fe72d1bc7b9b6a95"
  },
  "kernelspec": {
   "display_name": "Python 3.10.4 ('pyds')",
   "language": "python",
   "name": "python3"
  },
  "language_info": {
   "codemirror_mode": {
    "name": "ipython",
    "version": 3
   },
   "file_extension": ".py",
   "mimetype": "text/x-python",
   "name": "python",
   "nbconvert_exporter": "python",
   "pygments_lexer": "ipython3",
   "version": "3.10.4"
  },
  "orig_nbformat": 4
 },
 "nbformat": 4,
 "nbformat_minor": 2
}
