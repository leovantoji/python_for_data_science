{
 "cells": [
  {
   "cell_type": "markdown",
   "metadata": {},
   "source": [
    "# Conditionals\n",
    "\n",
    "Last week, we learned about **Booleans**, which are values that can be either `True` or `False`. We have also covered **logical and comparison operators**. Conditional statements, often known as `if-else` statements, are used to perform different actions based on values of some Boolean conditions."
   ]
  },
  {
   "cell_type": "markdown",
   "metadata": {},
   "source": [
    "`if` statement syntax:\n",
    "\n",
    "```python\n",
    "if condition:\n",
    "    statements\n",
    "```\n",
    "\n",
    "![image](../../images/if-statement.png)"
   ]
  },
  {
   "cell_type": "markdown",
   "metadata": {},
   "source": [
    "`if-else` statement syntax:\n",
    "\n",
    "```python\n",
    "if condition:\n",
    "    statements\n",
    "else:\n",
    "    statements\n",
    "```\n",
    "\n",
    "![image](../../images/if-else-statement.png)"
   ]
  },
  {
   "cell_type": "markdown",
   "metadata": {},
   "source": [
    "`if-elif-else` statement syntax:\n",
    "```python\n",
    "if condition_1:\n",
    "    statements\n",
    "elif condition_2:\n",
    "    statements\n",
    "else:\n",
    "    statements\n",
    "```\n",
    "\n",
    "![image](../../images/if-elif-else-statement.png)"
   ]
  },
  {
   "cell_type": "markdown",
   "metadata": {},
   "source": [
    "Let's work on a simple example.\n",
    "1. Choose a number by running the cell below and typing in a number.\n",
    "    - `input()` is used to prompt the user for input.\n",
    "1. Observe the usage of the `if-else` statement and see how it works."
   ]
  },
  {
   "cell_type": "code",
   "execution_count": null,
   "metadata": {},
   "outputs": [],
   "source": []
  },
  {
   "cell_type": "code",
   "execution_count": null,
   "metadata": {},
   "outputs": [],
   "source": []
  },
  {
   "cell_type": "markdown",
   "metadata": {},
   "source": [
    "Let's write another `if-else` block to check if the number is even or odd."
   ]
  },
  {
   "cell_type": "code",
   "execution_count": null,
   "metadata": {},
   "outputs": [],
   "source": []
  },
  {
   "cell_type": "markdown",
   "metadata": {},
   "source": [
    "**Exercise**\n",
    "\n",
    "1. Use the above examples, prompt the user to key in his/her age and assign the input to a variable `age`.\n",
    "2. Use the `if-else` statement to check if the user is of legal age (18 or older).\n",
    "    - If the user is of legal age, print out a message that says: \n",
    "    - Otherwise, print out a message that says *Restricted content*.\n",
    "\n",
    "![image](../../images/18+.jpg)"
   ]
  },
  {
   "cell_type": "code",
   "execution_count": null,
   "metadata": {},
   "outputs": [],
   "source": [
    "# [TODO]"
   ]
  },
  {
   "cell_type": "markdown",
   "metadata": {},
   "source": [
    "**Exercise**\n",
    "\n",
    "1. Use the above examples, prompt the user for an input and assign the input to a variable called `day_of_week`.\n",
    "1. Use the `if-else` statement to print out the following:\n",
    "    - If the input is `Monday`, print out `It's Monday!`\n",
    "    - If the input is `Tuesday`, print out `It's Tuesday!`\n",
    "    - If the input is `Wednesday`, print out `It's Wednesday!`\n",
    "    - If the input is `Thursday`, print out `It's Thursday!`\n",
    "    - If the input is `Friday`, print out `It's Friday!`\n",
    "    - If the input is `Saturday`, print out `It's Saturday!`\n",
    "    - If the input is `Sunday`, print out `It's Sunday!`\n",
    "    - If the input is anything else, print out `That's not a day of the week!!`"
   ]
  },
  {
   "cell_type": "code",
   "execution_count": null,
   "metadata": {},
   "outputs": [],
   "source": [
    "# [TODO]\n"
   ]
  },
  {
   "cell_type": "markdown",
   "metadata": {},
   "source": [
    "**Exercise**\n",
    "\n",
    "Continuing from the previous exercise, let's use `if-else` statement to check if `day_of_week` is a weekday or a weekend day.\n",
    "- **BONUS**: You should also check if the input is a valid day of the week."
   ]
  },
  {
   "cell_type": "code",
   "execution_count": null,
   "metadata": {},
   "outputs": [],
   "source": [
    "# [TODO]\n"
   ]
  },
  {
   "cell_type": "markdown",
   "metadata": {},
   "source": [
    "# Lists\n",
    "\n",
    "**Lists** are a data structure that can store multiple values of different types in a single variable. Lists are created using square brackets.\n",
    "\n",
    "Examples:\n",
    "1. List of prime numbers: \n",
    "    ```python\n",
    "    prime_numbers = [2, 3, 5, 7, 11, 13, 17, 19, 23, 29]\n",
    "    ```\n",
    "1. List of names:\n",
    "    ```python\n",
    "    names = [\"John\", \"Jane\", \"Mary\", \"Bob\"]\n",
    "    ```\n",
    "1. List of booleans:\n",
    "    ```python\n",
    "    booleans = [True, False, True, False]\n",
    "    ```\n",
    "1. Random list:\n",
    "    ```python\n",
    "    random_list = [1, \"two\", 3.0, \"four\"]\n",
    "    ```\n"
   ]
  },
  {
   "cell_type": "markdown",
   "metadata": {},
   "source": [
    "Let's create a list of drinks.\n",
    "\n",
    "```python\n",
    "drinks = [\"coffee\", \"tea\", \"beer\", \"wine\", \"juice\"]\n",
    "```"
   ]
  },
  {
   "cell_type": "code",
   "execution_count": null,
   "metadata": {},
   "outputs": [],
   "source": [
    "# create a list of drinks\n",
    "\n",
    "\n",
    "# print the list to the screen\n",
    "\n",
    "\n",
    "# print the type of the list\n"
   ]
  },
  {
   "cell_type": "markdown",
   "metadata": {},
   "source": [
    "Another way to create the list of drinks is to use the `list()` constructor\n",
    "\n",
    "```python\n",
    "drinks = list((\"coffee\", \"tea\", \"beer\", \"wine\", \"juice\"))\n",
    "```"
   ]
  },
  {
   "cell_type": "code",
   "execution_count": null,
   "metadata": {},
   "outputs": [],
   "source": []
  },
  {
   "cell_type": "markdown",
   "metadata": {},
   "source": [
    "**List items**:\n",
    "\n",
    "1. **Ordered**: Items in a list are ordered by their position in the list. The first item in the list is at position `0`, the second item is at position `1`, and so on.\n",
    "1. **Changeable**: We can change, add, and remove items in a list after the list has been created.\n",
    "1. **Allow duplicates**: List can have items with the same value.\n",
    "\n",
    "![image](../../images/list_index.png)"
   ]
  },
  {
   "cell_type": "markdown",
   "metadata": {},
   "source": [
    "To **access an item in a list**, we just need to use the `index` of the item.\n",
    "\n",
    "![image](../../images/list_access_item.png)\n",
    "\n",
    "Let's print the 3rd item in the `drinks` list. Remember that the 3rd item is at index `2` in the list.\n",
    "\n",
    "```python\n",
    "print(drinks[2])\n",
    "```"
   ]
  },
  {
   "cell_type": "code",
   "execution_count": null,
   "metadata": {},
   "outputs": [],
   "source": [
    "# print the 3rd item on the list\n"
   ]
  },
  {
   "cell_type": "markdown",
   "metadata": {},
   "source": [
    "To **access multiple items in a list**, we can slice through the list by giving the start and end index.\n",
    "\n",
    "Let's print the first 3 items in the `drinks` list. \n",
    "\n",
    "We'll pass the start index as `0` and the end index as `3`. By doing so, we ask Python to print items from index `0` to `3` but not including item at index `3`.\n",
    "\n",
    "```python\n",
    "drinks[0:3]\n",
    "```\n",
    "\n",
    "NOTE:\n",
    "- The start and end indices are both optional.\n",
    "- If we don't give a start index, the start index is `0`. Thus, we can just write `drinks[:3]` to get the same result."
   ]
  },
  {
   "cell_type": "code",
   "execution_count": null,
   "metadata": {},
   "outputs": [],
   "source": []
  },
  {
   "cell_type": "markdown",
   "metadata": {},
   "source": [
    "To **change an item in a list**, we just need to use the `index` of the item and assign a new value to it.\n",
    "\n",
    "![image](../../images/list_change_item.png)\n",
    "\n",
    "Let's change the 3rd item on the list to `whiskey`. Remember that, the 3rd item is at index `2`.\n",
    "\n",
    "```python\n",
    "drinks[2] = \"whiskey\"\n",
    "```"
   ]
  },
  {
   "cell_type": "code",
   "execution_count": null,
   "metadata": {},
   "outputs": [],
   "source": [
    "# change the 3rd item on the list to \"whiskey\"\n"
   ]
  },
  {
   "cell_type": "markdown",
   "metadata": {},
   "source": [
    "To **add an item to the end of a list**, we just need to use the `append` method.\n",
    "\n",
    "![image](../../images/list_append_item.png)\n",
    "\n",
    "Let's add `milk` to the end of `drinks` list.\n",
    "\n",
    "```python\n",
    "drinks.append(\"milk\")\n",
    "```"
   ]
  },
  {
   "cell_type": "code",
   "execution_count": null,
   "metadata": {},
   "outputs": [],
   "source": [
    "# add `beer` to the end of the list\n"
   ]
  },
  {
   "cell_type": "markdown",
   "metadata": {},
   "source": [
    "To **insert an item at a specific position in a list**, we just need to use the `insert` method.\n",
    "\n",
    "![image](../../images/list_insert_item.png)\n",
    "\n",
    "Let's insert `coke` at the 3rd position in `drinks` list.\n",
    "\n",
    "```python\n",
    "drinks.insert(2, \"coke\")\n",
    "```\n",
    "\n",
    "Let's insert `water` at the 10th position in `drinks` list. Notice that if the given `index` is greater than the length of the list, the item will be added to the end of the list.\n",
    "\n",
    "```python\n",
    "drinks.insert(10, \"water\")\n",
    "```"
   ]
  },
  {
   "cell_type": "code",
   "execution_count": null,
   "metadata": {},
   "outputs": [],
   "source": [
    "# insert `coke` at the 3rd position in the list\n",
    "\n",
    "\n",
    "# insert `water` at the 10th position in the list\n"
   ]
  },
  {
   "cell_type": "markdown",
   "metadata": {},
   "source": [
    "To **check if an item is in a list**, we just need to use the `in` keyword.\n",
    "\n",
    "Let's check if `C2` is in the `drinks` list.\n",
    "\n",
    "```python\n",
    "if \"C2\" in drinks:\n",
    "    print(\"Yes, 'C2' is in the list.\")\n",
    "else:\n",
    "    print(\"No, 'C2' is not in the list.\")\n",
    "```"
   ]
  },
  {
   "cell_type": "code",
   "execution_count": null,
   "metadata": {},
   "outputs": [],
   "source": []
  },
  {
   "cell_type": "markdown",
   "metadata": {},
   "source": [
    "To **find the index of an item in a list**, we just need to use the `index` method.\n",
    "\n",
    "Let's find the index of `coke` in the `drinks` list.\n",
    "\n",
    "```python\n",
    "print(drinks.index(\"coke\"))\n",
    "```"
   ]
  },
  {
   "cell_type": "code",
   "execution_count": null,
   "metadata": {},
   "outputs": [],
   "source": []
  },
  {
   "cell_type": "markdown",
   "metadata": {},
   "source": [
    "To **remove an item** from the list, we can use several methods:\n",
    "- `remove(item_value)`: Removes the first item from the list that has the value `item_value`.\n",
    "- `pop(index)`: Removes the item at the given `index` from the list. If `index` is not given, it removes the last item in the list.\n",
    "- `del list[index]`: Removes the item at the given `index` from the list.\n",
    "\n",
    "Let's remove `juice` from the list. We can do it using either one of the above mentioned methods.\n",
    "\n",
    "```python\n",
    "drinks.remove(\"juice\")\n",
    "drinks.pop(4) # index of juice is 4\n",
    "del drinks[4]\n",
    "```\n",
    "\n",
    "**BONUS**: You should first check if `juice` is in the list. If it is, remove it. If it's not, print out `'juice'` is not in the list.\n",
    "\n",
    "```python\n",
    "if \"juice\" in drinks:\n",
    "    drinks.remove(\"juice\")\n",
    "else:\n",
    "    print(\"juice is not in the list.\")\n",
    "```"
   ]
  },
  {
   "cell_type": "code",
   "execution_count": null,
   "metadata": {},
   "outputs": [],
   "source": [
    "# remove `juice` from the list\n"
   ]
  },
  {
   "cell_type": "code",
   "execution_count": null,
   "metadata": {},
   "outputs": [],
   "source": []
  },
  {
   "cell_type": "markdown",
   "metadata": {},
   "source": [
    "To **add items from one list to another**, we can use the `extend` method.\n",
    "\n",
    "Let's create a new list called `other_drinks` and add `cocktail`, `mocktail`, `magarita` and `mojito` to it.\n",
    "\n",
    "After that, we'll use the `extend` method to add `other_drinks` to `drinks`.\n",
    "\n",
    "```python\n",
    "other_drinks = [\"cocktail\", \"mocktail\", \"magarita\", \"mojito\"]\n",
    "\n",
    "drinks.extend(other_drinks)\n",
    "```"
   ]
  },
  {
   "cell_type": "code",
   "execution_count": null,
   "metadata": {},
   "outputs": [],
   "source": [
    "# create a new list of drinks called other_drinks\n",
    "\n",
    "\n",
    "# append other_drinks to drinks\n",
    "\n"
   ]
  },
  {
   "cell_type": "markdown",
   "metadata": {},
   "source": [
    "To **find the length of the list**, we can use the `len` function.\n",
    "\n",
    "```python\n",
    "print(len(drinks))\n",
    "```"
   ]
  },
  {
   "cell_type": "code",
   "execution_count": null,
   "metadata": {},
   "outputs": [],
   "source": []
  },
  {
   "cell_type": "markdown",
   "metadata": {},
   "source": [
    "**Exercise**\n",
    "\n",
    "- Create a list of numbers within the range of 10 to 19.\n",
    "- Print that list to the screen.\n",
    "- Print the type of the list to the screen."
   ]
  },
  {
   "cell_type": "code",
   "execution_count": null,
   "metadata": {},
   "outputs": [],
   "source": [
    "# [TODO]\n"
   ]
  },
  {
   "cell_type": "markdown",
   "metadata": {},
   "source": [
    "**Exercise**\n",
    "\n",
    "Print the second item in the list `numbers` that we created above."
   ]
  },
  {
   "cell_type": "code",
   "execution_count": null,
   "metadata": {},
   "outputs": [],
   "source": [
    "# [TODO]\n"
   ]
  },
  {
   "cell_type": "markdown",
   "metadata": {},
   "source": [
    "**Exercise**\n",
    "\n",
    "Check if the 8th item in the list `numbers` is an odd or even number."
   ]
  },
  {
   "cell_type": "code",
   "execution_count": null,
   "metadata": {},
   "outputs": [],
   "source": [
    "# [TODO]\n"
   ]
  },
  {
   "cell_type": "markdown",
   "metadata": {},
   "source": [
    "**Exercise**\n",
    "\n",
    "1. Print the existing list `numbers` to the screen.\n",
    "1. Print the type of the 5th item to the screen.\n",
    "1. Change the 5th item in the list `numbers` to `\"fourteen\"`.\n",
    "1. Print the new list `numbers` to the screen.\n",
    "1. Print the type of the 5th item to the screen."
   ]
  },
  {
   "cell_type": "code",
   "execution_count": null,
   "metadata": {},
   "outputs": [],
   "source": [
    "# [TODO]\n"
   ]
  },
  {
   "cell_type": "markdown",
   "metadata": {},
   "source": [
    "**Exercise**\n",
    "\n",
    "1. Print the existing list `numbers` to the screen.\n",
    "1. Change the value of multiple items in a range (`index` from `6` to `7`) in the list `numbers`. The value of the items should be `\"six\"` and `\"seven\"` respectively.\n",
    "1. Print the new list `numbers` to the screen."
   ]
  },
  {
   "cell_type": "code",
   "execution_count": null,
   "metadata": {},
   "outputs": [],
   "source": [
    "# [TODO]\n"
   ]
  },
  {
   "cell_type": "markdown",
   "metadata": {},
   "source": [
    "**Exercise**\n",
    "\n",
    "1. Print the existing list `numbers` to the screen.\n",
    "1. Add `20` to the end of `numbers`.\n",
    "1. Print the new list `numbers` to the screen."
   ]
  },
  {
   "cell_type": "code",
   "execution_count": null,
   "metadata": {},
   "outputs": [],
   "source": [
    "# [TODO]\n"
   ]
  },
  {
   "cell_type": "markdown",
   "metadata": {},
   "source": [
    "**Exercise**\n",
    "\n",
    "1. Print the existing list `numbers` to the screen.\n",
    "1. Insert `-1000.0` at the 3rd position in the list `numbers`.\n",
    "1. Print the new list `numbers` to the screen."
   ]
  },
  {
   "cell_type": "code",
   "execution_count": null,
   "metadata": {},
   "outputs": [],
   "source": [
    "# [TODO]\n"
   ]
  },
  {
   "cell_type": "markdown",
   "metadata": {},
   "source": [
    "**Exercise**\n",
    "\n",
    "Check if the list `numbers` contains the value `-1000.0`."
   ]
  },
  {
   "cell_type": "code",
   "execution_count": null,
   "metadata": {},
   "outputs": [],
   "source": [
    "# [TODO]"
   ]
  },
  {
   "cell_type": "markdown",
   "metadata": {},
   "source": [
    "**Exercise**\n",
    "\n",
    "1. Print the existing list `numbers` to the screen.\n",
    "1. Remove the 3rd item in the list `numbers`.\n",
    "1. Print the new list `numbers` to the screen."
   ]
  },
  {
   "cell_type": "code",
   "execution_count": null,
   "metadata": {},
   "outputs": [],
   "source": [
    "# [TODO]\n"
   ]
  },
  {
   "cell_type": "markdown",
   "metadata": {},
   "source": [
    "**Exercise**\n",
    "\n",
    "1. Create a new list of numbers `other_numbers = [\"21\", \"twenty two\", 23]`.\n",
    "1. Append elements from the list `other_numbers` to the list `numbers`."
   ]
  },
  {
   "cell_type": "code",
   "execution_count": null,
   "metadata": {},
   "outputs": [],
   "source": [
    "# [TODO]\n"
   ]
  },
  {
   "cell_type": "markdown",
   "metadata": {},
   "source": [
    "**Exercise**\n",
    "\n",
    "Find the length of the list `numbers`."
   ]
  },
  {
   "cell_type": "code",
   "execution_count": null,
   "metadata": {},
   "outputs": [],
   "source": [
    "# [TODO]\n"
   ]
  },
  {
   "cell_type": "markdown",
   "metadata": {},
   "source": [
    "# Loops\n",
    "\n",
    "**Loops** are used to repeat a block of code a certain number of times.\n",
    "\n",
    "Below is the flowchart of `for` loop.\n",
    "\n",
    "![image](../../images/for_loop.png)\n",
    "\n",
    "Syntax:\n",
    "\n",
    "```python\n",
    "for item in a_random_list:\n",
    "    # do something\n",
    "```"
   ]
  },
  {
   "cell_type": "markdown",
   "metadata": {},
   "source": [
    "Let's start with a simple `for` loop to print out the items in the list `drinks` one by one.\n",
    "\n",
    "```python\n",
    "for drink in drinks:\n",
    "    print(drink)\n",
    "```"
   ]
  },
  {
   "cell_type": "code",
   "execution_count": null,
   "metadata": {},
   "outputs": [],
   "source": [
    "# check if variable drinks is defined. If it's not, define drinks\n",
    "if \"drinks\" not in locals():\n",
    "    drinks = [\"coffee\", \"tea\", \"coke\", \"whiskey\", \"wine\", \"milk\", \"water\", \"cocktail\", \"mocktail\", \"margarita\", \"mojito\"]\n",
    "\n"
   ]
  },
  {
   "cell_type": "markdown",
   "metadata": {},
   "source": [
    "We can loop through `drinks` by referring to the index of each drink in the list.\n",
    "\n",
    "```python\n",
    "for i in range(len(drinks)):\n",
    "    print(drinks[i])\n",
    "```\n",
    "\n",
    "Notice the usage of `range()` and `len()` methods in the above block of code.\n",
    "- `len()` is to get the length of the list `drinks` to make sure that we are not trying to access an item that doesn't exist.\n",
    "- `range()` is to create a range of numbers.\n",
    "\n",
    "`range(10)` will generate numbers from 0 to 9 (10 numbers).\n",
    "We can also use `range(start, end)` to generate numbers from `start` to `end` (`end` is not included).\n",
    "\n",
    "```python\n",
    "range(1, 11) # same as range(10)\n",
    "```\n",
    "\n",
    "We can also define `step_size` to generate numbers from `start` to `end` with a step size of `step_size`. Default value of `step_size` is 1.\n",
    "\n",
    "```python\n",
    "range(1, 11, 1) # same as range(10)\n",
    "```"
   ]
  },
  {
   "cell_type": "code",
   "execution_count": null,
   "metadata": {},
   "outputs": [],
   "source": []
  },
  {
   "cell_type": "markdown",
   "metadata": {},
   "source": [
    "`for` loop can have an optional `else` block that will be executed if the loop is finished without encountering an `break` statement.\n",
    "\n",
    "```python\n",
    "for drink in drinks:\n",
    "    print(drink)\n",
    "else:\n",
    "    print(\"-----------------------------\")\n",
    "    print(\"All drinks have been printed.\")\n",
    "```"
   ]
  },
  {
   "cell_type": "code",
   "execution_count": null,
   "metadata": {},
   "outputs": [],
   "source": []
  },
  {
   "cell_type": "markdown",
   "metadata": {},
   "source": [
    "The `while` loop is used to repeat a block of code while a condition is true. Generally, when we don't know the number of times we want to repeat a block of code, we use `while` loop.\n",
    "\n",
    "Below is the flowchart of `while` loop.\n",
    "\n",
    "![image](../../images/while_loop.png)\n",
    "\n",
    "Syntax:\n",
    "\n",
    "```python\n",
    "while condition:\n",
    "    # do something\n",
    "```"
   ]
  },
  {
   "cell_type": "markdown",
   "metadata": {},
   "source": [
    "This time, we'll use a `while` loop to loop through all the items in `drinks` and print each item out on the screen.\n",
    "\n",
    "```python\n",
    "i = 0\n",
    "while i < len(drinks):\n",
    "    print(drinks[i])\n",
    "    i += 1\n",
    "```"
   ]
  },
  {
   "cell_type": "code",
   "execution_count": null,
   "metadata": {},
   "outputs": [],
   "source": []
  },
  {
   "cell_type": "markdown",
   "metadata": {},
   "source": [
    "Similar to the `for` loop, `while` loop also has an optional `else` block that will be executed if the condition in the while loop is `False`.\n",
    "\n",
    "```python\n",
    "i = 0\n",
    "while i < len(drinks):\n",
    "    print(drinks[i])\n",
    "    i += 1\n",
    "else:\n",
    "    print(\"-----------------------------\")\n",
    "    print(\"All drinks have been printed.\")\n",
    "```"
   ]
  },
  {
   "cell_type": "code",
   "execution_count": null,
   "metadata": {},
   "outputs": [],
   "source": []
  },
  {
   "cell_type": "markdown",
   "metadata": {},
   "source": [
    "**Exercise**\n",
    "\n",
    "Previously, you have created a list `numbers` containing numbers from 11 to 19.\n",
    "\n",
    "```python\n",
    "numbers = [11, 12, 13, 14, 15, 16, 17, 18, 19]\n",
    "```\n",
    "\n",
    "Let's use the `list()` constructor and the `range()` method to create the same list without having to specify all numbers from 11 to 19."
   ]
  },
  {
   "cell_type": "code",
   "execution_count": null,
   "metadata": {},
   "outputs": [],
   "source": [
    "# [TODO]\n"
   ]
  },
  {
   "cell_type": "markdown",
   "metadata": {},
   "source": [
    "**Exercise**\n",
    "\n",
    "Loop through the list of numbers and print each number to the screen."
   ]
  },
  {
   "cell_type": "code",
   "execution_count": null,
   "metadata": {},
   "outputs": [],
   "source": [
    "# [TODO]\n"
   ]
  },
  {
   "cell_type": "markdown",
   "metadata": {},
   "source": [
    "**Exercise**\n",
    "\n",
    "Calculate the sum of all the numbers in the list `numbers` by using a `for` or a `while` loop."
   ]
  },
  {
   "cell_type": "code",
   "execution_count": null,
   "metadata": {},
   "outputs": [],
   "source": [
    "# [TODO]\n"
   ]
  },
  {
   "cell_type": "markdown",
   "metadata": {},
   "source": [
    "`break` and `continue` statements can be used to alter the flow of a loop. \n",
    "\n",
    "If we want to stop the loop, we use `break` statement\n",
    "\n",
    "Flowchart of `break`:\n",
    "\n",
    "![image](../../images/break_flowchart.png)\n",
    "\n",
    "If we want to skip the current iteration, we use `continue` statement.\n",
    "\n",
    "Flowchart of `continue`:\n",
    "\n",
    "![image](../../images/continue_flowchart.png)"
   ]
  },
  {
   "cell_type": "markdown",
   "metadata": {},
   "source": [
    "Using `for` loop, let's loop through the items in `drinks`, print the items in `drinks` and stop the loop when we encounter `water`.\n",
    "\n",
    "```python\n",
    "for drink in drinks:\n",
    "    if drink != \"water\":\n",
    "        print(drink)\n",
    "    else:\n",
    "        break\n",
    "```"
   ]
  },
  {
   "cell_type": "code",
   "execution_count": null,
   "metadata": {},
   "outputs": [],
   "source": [
    "# regenerate drinks if drinks list has not been defined\n",
    "if \"drinks\" not in locals():\n",
    "    drinks = [\"coffee\", \"tea\", \"coke\", \"whiskey\", \"wine\", \"milk\", \"water\", \"cocktail\", \"mocktail\", \"margarita\", \"mojito\"]\n"
   ]
  },
  {
   "cell_type": "markdown",
   "metadata": {},
   "source": [
    "**Exercise**\n",
    "\n",
    "Using `while` loop, let's loop through the items in `drinks`, print the items in `drinks` and stop the loop when we encounter `water`."
   ]
  },
  {
   "cell_type": "code",
   "execution_count": null,
   "metadata": {},
   "outputs": [],
   "source": [
    "# [TODO]\n"
   ]
  },
  {
   "cell_type": "markdown",
   "metadata": {},
   "source": [
    "Let's find the total of all even numbers in the `numbers` list generated earlier."
   ]
  },
  {
   "cell_type": "code",
   "execution_count": null,
   "metadata": {},
   "outputs": [],
   "source": [
    "# regenerate numbers if numbers list has not been defined\n",
    "if \"numbers\" not in locals():\n",
    "    numbers = list(range(11, 20))\n",
    "\n"
   ]
  },
  {
   "cell_type": "markdown",
   "metadata": {},
   "source": [
    "**Exercise**\n",
    "\n",
    "Without running the code block below, can you tell me what will be printed to the screen?\n",
    "\n",
    "```python\n",
    "some_numbers = list(range(1, 7))\n",
    "\n",
    "for i in range(len(some_numbers)):\n",
    "    if some_numbers[i] % 3 == 0:\n",
    "        continue\n",
    "    \n",
    "    print(some_numbers[i])\n",
    "```"
   ]
  },
  {
   "cell_type": "code",
   "execution_count": null,
   "metadata": {},
   "outputs": [],
   "source": [
    "# [TODO]\n"
   ]
  },
  {
   "cell_type": "markdown",
   "metadata": {},
   "source": [
    "**Exercise**\n",
    "\n",
    "Find the total of all odd numbers in the `numbers` list generated earlier. Let's use a `while` loop instead of `for` loop."
   ]
  },
  {
   "cell_type": "code",
   "execution_count": null,
   "metadata": {},
   "outputs": [],
   "source": [
    "# [TODO]\n",
    "\n",
    "# regenerate numbers if numbers list has not been defined\n",
    "if \"numbers\" not in locals():\n",
    "    numbers = list(range(11, 20))\n",
    "\n"
   ]
  },
  {
   "cell_type": "markdown",
   "metadata": {},
   "source": [
    "# List comprehension\n",
    "\n",
    "**List comprehension** is a concise way to create a new list from an existing list.\n",
    "\n",
    "Syntax:\n",
    "\n",
    "```python\n",
    "new_list = [expression for item in iterable if condition == True] \n",
    "```"
   ]
  },
  {
   "cell_type": "markdown",
   "metadata": {},
   "source": [
    "For example, let's say we want to get all drinks that contains \"c\" in the name from the list `drinks`.\n",
    "\n",
    "This is how we can do that without using **list comprehension**.\n",
    "\n",
    "```python\n",
    "new_list = []\n",
    "\n",
    "for drink in drinks:\n",
    "    if \"c\" in drink:\n",
    "        new_list.append(drink)\n",
    "```\n",
    "\n",
    "`new_list` should be equal to `[\"coffee\", \"coke\", \"cocktail\", \"mocktail\"]`."
   ]
  },
  {
   "cell_type": "code",
   "execution_count": null,
   "metadata": {},
   "outputs": [],
   "source": [
    "if \"drinks\" not in locals():\n",
    "    drinks = [\"coffee\", \"tea\", \"coke\", \"whiskey\", \"wine\", \"milk\", \"water\", \"cocktail\", \"mocktail\", \"margarita\", \"mojito\"]\n",
    "\n"
   ]
  },
  {
   "cell_type": "markdown",
   "metadata": {},
   "source": [
    "Let's do the exact same thing using **list comprehension**.\n",
    "\n",
    "```python\n",
    "new_list = [drink for drink in drinks if \"c\" in drink]\n",
    "\n",
    "print(new_list)\n",
    "```"
   ]
  },
  {
   "cell_type": "code",
   "execution_count": null,
   "metadata": {},
   "outputs": [],
   "source": []
  },
  {
   "cell_type": "markdown",
   "metadata": {},
   "source": [
    "**Exercise**\n",
    "\n",
    "Let's find all even numbers in `numbers` using **list comprehension**."
   ]
  },
  {
   "cell_type": "code",
   "execution_count": null,
   "metadata": {},
   "outputs": [],
   "source": [
    "# [TODO]\n"
   ]
  }
 ],
 "metadata": {
  "kernelspec": {
   "display_name": "Python 3.9.12 ('base')",
   "language": "python",
   "name": "python3"
  },
  "language_info": {
   "codemirror_mode": {
    "name": "ipython",
    "version": 3
   },
   "file_extension": ".py",
   "mimetype": "text/x-python",
   "name": "python",
   "nbconvert_exporter": "python",
   "pygments_lexer": "ipython3",
   "version": "3.9.12"
  },
  "orig_nbformat": 4,
  "vscode": {
   "interpreter": {
    "hash": "e720081de2fd57dd700935953acd9dd6610ea2e1d5e7379bea03675c6c751eb5"
   }
  }
 },
 "nbformat": 4,
 "nbformat_minor": 2
}
