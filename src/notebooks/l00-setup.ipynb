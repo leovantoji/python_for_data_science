{
 "cells": [
  {
   "cell_type": "markdown",
   "metadata": {},
   "source": [
    "# Anaconda\n",
    "\n",
    "**Conda** is an open-source package and environment management system that runs on `Windows`, `macOS`, and `Linux`. Conda quickly installs, runs, and updates packages and their dependencies. It also easily creates, saves, loads, and switches between environments on your local computer. It was created for Python programs, but it can package and distribute software for any language."
   ]
  },
  {
   "cell_type": "markdown",
   "metadata": {},
   "source": [
    "# Install Anaconda\n",
    "- Download the installer from https://www.anaconda.com/products/distribution\n",
    "- Install the Anaconda Python distribution\n",
    "![anaconda](../../images/anaconda.png)"
   ]
  },
  {
   "cell_type": "markdown",
   "metadata": {},
   "source": [
    "# Check your conda installation\n",
    "- Open a `anaconda prompt` in Windows or a `terminal` in Linux/Mac \n",
    "- Type `conda --version`\n",
    "\n",
    "You should see something like below. This indicates that you have successfully installed Anaconda.\n",
    "\n",
    "![image](../../images/conda_version.png)"
   ]
  },
  {
   "cell_type": "markdown",
   "metadata": {},
   "source": [
    "# Let's use Python 🐍 for the first time! 😆\n",
    "\n",
    "- In the same `anaconda prompt` or `terminal`, type `python`. You'll be running a `python` shell. To exit the `python` shell, type `exit()` or `quit()`.\n",
    "\n",
    "![image](../../images/python_shell.png)\n",
    "\n",
    "- Let's use `python` for some simple calculations. \n",
    "    - Type `1 + 1` and press `Enter`. \n",
    "    - You should see `2` in the `python` shell.\n",
    "\n",
    "![image](../../images/python_shell_calculations.png)"
   ]
  },
  {
   "cell_type": "markdown",
   "metadata": {},
   "source": [
    "# 🔥 (OPTIONAL) Understand your terminal (Linux/Mac)\n",
    "\n",
    "Default **bash prompt**: `username@hostname:~$` or `(base) [username@localhost ~]$`\n",
    "- The first part of the prompt is the name of the current user.\n",
    "- The second part (`hostname` or `localhost`) identifies the hostname of the system (the name of the machine you're using).\n",
    "- The tilde sign `~` indicates the current working directory is the current user's home directory.\n",
    "- The dollar sign `$` indicates that you are a normal/standard user. If you are the system administrator (`root`), you'll see `#` instead of `$`."
   ]
  },
  {
   "cell_type": "markdown",
   "metadata": {},
   "source": [
    "## Linux: \n",
    "- Open a `terminal`\n",
    "- Go to your home directory: `cd ~`\n",
    "- Your `.bashrc` file should be in your home directory\n",
    "- Back up your `.bashrc` file. `cp .bashrc .bashrc-bk`\n",
    "- Use your favorite text editor to edit the original `.bashrc` file. In this case, we'll be using `vscode`. Type `code .~/bashrc`\n",
    "- Modify `.bashrc` file by adding lines to the end of the file.\n",
    "- In the terminal, type `source ~/.bashrc`\n",
    "\n",
    "## Mac\n",
    "- Follow the exact same steps as above, but use `.bash_profile` file instead of `.bashrc` file."
   ]
  },
  {
   "cell_type": "markdown",
   "metadata": {},
   "source": [
    "## Popular custom options:\n",
    "\n",
    "- Display username: `export PS1=\"\\u\"`\n",
    "    ```\n",
    "    username\n",
    "    ```\n",
    "\n",
    "- Add full hostname: `export PS1=\"\\u\\H\"`\n",
    "    ```\n",
    "    usernamedomain\n",
    "    ```\n",
    "\n",
    "- Add special characters to the prompt: `export PS1=\"\\u@\\H\"`:\n",
    "    ```\n",
    "    username@domain\n",
    "    ```\n",
    "\n",
    "- Display the full path to current working directory: `export PS1=\"\\u@\\H \\w\"`\n",
    "    ```\n",
    "    username@domain /path/to/working/directory\n",
    "    ```\n",
    "\n",
    "- Display the short path to current working directory: `export PS1=\"\\u@\\H \\W\"`\n",
    "    ```\n",
    "    username@domain /directory\n",
    "    ```"
   ]
  },
  {
   "cell_type": "markdown",
   "metadata": {},
   "source": [
    "## Other custom options:\n",
    "- `\\a` – A bell character\n",
    "- `\\d` – Date (day/month/date)\n",
    "- `\\D{format}` – Use this to call the system to respond with the current time\n",
    "- `\\e` – Escape character\n",
    "- `\\h` – Hostname (short)\n",
    "- `\\H` – Full hostname (domain name)\n",
    "- `\\j` – Number of jobs being managed by the shell\n",
    "- `\\l` – The basename of the shells terminal device\n",
    "- `\\n` – New line\n",
    "- `\\r` – Carriage return\n",
    "- `\\s` – The name of the shell\n",
    "- `\\t` – Time (hour:minute:second)\n",
    "- `\\@` – Time, 12-hour AM/PM\n",
    "- `\\A` – Time, 24-hour, without seconds\n",
    "- `\\u` – Current username\n",
    "- `\\v` – BASH version\n",
    "- `\\V` – Extra information about the BASH version\n",
    "- `\\w` – Current working directory ($HOME is represented by ~)\n",
    "- `\\W` – The basename of the working directory ($HOME is represented by ~)\n",
    "- `\\!` – Lists this command’s number in the history\n",
    "- `\\#` – This command’s command number\n",
    "- `\\$` – Specifies whether the user is root (#) or otherwise ($)\n",
    "- `\\\\`– Backslash\n",
    "- `\\[` – Start a sequence of non-displayed characters (useful if you want to add a command or instruction set to the prompt)\n",
    "- `\\]` – Close or end a sequence of non-displayed characters"
   ]
  },
  {
   "cell_type": "markdown",
   "metadata": {},
   "source": [
    "## My customised terminal:\n",
    "\n",
    "![customised_terminal](../../images/customised_terminal.png)\n",
    "\n",
    "- My customisation:\n",
    "    ```\n",
    "    orange=$(tput setaf 166);\n",
    "    green=$(tput setaf 71);\n",
    "    white=$(tput setaf 15);\n",
    "    bold=$(tput bold);\n",
    "    reset=$(tput sgr0);\n",
    "\n",
    "    parse_git_branch() {\n",
    "        git branch 2> /dev/null | sed -e '/^[^*]/d' -e 's/* \\(.*\\)/(\\1)/'\n",
    "    }\n",
    "\n",
    "    PS1=\"\\[${bold}\\]\";\n",
    "    PS1+=\"\\[${green}\\]\\u\"; # username\n",
    "    PS1+=\"\\[${white}\\] at \";\n",
    "    PS1+=\"\\[${orange}\\]\\W \"; # working directory\n",
    "    PS1+=\"\\[${green}\\]\\$(parse_git_branch)\"; # git branch\n",
    "    PS1+=\"\\[${white}\\]\\$ \\[${reset}\\]\"; # $ and reset\n",
    "\n",
    "    export PS1;\n",
    "    ```"
   ]
  }
 ],
 "metadata": {
  "kernelspec": {
   "display_name": "Python 3.9.12 ('base')",
   "language": "python",
   "name": "python3"
  },
  "language_info": {
   "codemirror_mode": {
    "name": "ipython",
    "version": 3
   },
   "file_extension": ".py",
   "mimetype": "text/x-python",
   "name": "python",
   "nbconvert_exporter": "python",
   "pygments_lexer": "ipython3",
   "version": "3.9.12"
  },
  "orig_nbformat": 4,
  "vscode": {
   "interpreter": {
    "hash": "e720081de2fd57dd700935953acd9dd6610ea2e1d5e7379bea03675c6c751eb5"
   }
  }
 },
 "nbformat": 4,
 "nbformat_minor": 2
}
