{
 "cells": [
  {
   "cell_type": "markdown",
   "metadata": {},
   "source": [
    "# Printing\n",
    "Use `print()` method to print to the screen.\n",
    "- print `\"Hello, world\"`."
   ]
  },
  {
   "cell_type": "code",
   "execution_count": null,
   "metadata": {},
   "outputs": [],
   "source": []
  },
  {
   "cell_type": "markdown",
   "metadata": {},
   "source": [
    "**Exercise**\n",
    "\n",
    "Use `print()` to print the following messages to the screen: \n",
    "- `\"Tôi đang học khóa học Python for Data Science\"`.\n",
    "- `\"Tôi rất mê CodingMentor\"`"
   ]
  },
  {
   "cell_type": "code",
   "execution_count": null,
   "metadata": {},
   "outputs": [],
   "source": [
    "# [TODO]"
   ]
  },
  {
   "cell_type": "markdown",
   "metadata": {},
   "source": [
    "# Arithmetic\n",
    "\n",
    "Basic arithmetic operations in Python:\n",
    "\n",
    "|Operation|Symbol|Example|\n",
    "|:-|:-:|:-:|\n",
    "|Addition|`+`|`1 + 1`|\n",
    "|Subtraction|`-`|`1 - 1`|\n",
    "|Multiplication|`*`|`2 * 2`|\n",
    "|Division|`/`|`5 / 2`|\n",
    "|Division without remainder|`//`|`5 // 2`|\n",
    "|Modulo|`%`|`5 % 2`|\n",
    "|Exponent|`**`|`2 ** 3`|"
   ]
  },
  {
   "cell_type": "markdown",
   "metadata": {},
   "source": [
    "Use parentheses to control the order of the operations\n",
    "`((1 + 2) * 3) // 4`"
   ]
  },
  {
   "cell_type": "code",
   "execution_count": null,
   "metadata": {},
   "outputs": [],
   "source": [
    "((1 + 2) * 3) // 4"
   ]
  },
  {
   "cell_type": "markdown",
   "metadata": {},
   "source": [
    "**Exercise**\n",
    "\n",
    "Find the area of a rectangle with width `17 cm` and height `33 cm`. The formula is `Area = Width * Height`. In this exercise, there are concepts such as `f-string` and `if conditional statement`. These concepts will be covered in more details later in the course."
   ]
  },
  {
   "cell_type": "code",
   "execution_count": null,
   "metadata": {},
   "outputs": [],
   "source": [
    "# [TODO]"
   ]
  },
  {
   "cell_type": "code",
   "execution_count": null,
   "metadata": {},
   "outputs": [],
   "source": [
    "# Uncomment the following line to check if you have done it correctly\n",
    "# if (rectangle_area != (17 * 33)):\n",
    "#     print(f\"Diện tích hình chữ nhật là {17 * 33} cm2. Bạn đã tính sai.\")"
   ]
  },
  {
   "cell_type": "markdown",
   "metadata": {},
   "source": [
    "**Exercise**\n",
    "\n",
    "Find the remainder of the division of `1000` by `7` and assign the result to a variable called `remainder`."
   ]
  },
  {
   "cell_type": "code",
   "execution_count": null,
   "metadata": {},
   "outputs": [],
   "source": [
    "# [TODO]"
   ]
  },
  {
   "cell_type": "code",
   "execution_count": null,
   "metadata": {},
   "outputs": [],
   "source": [
    "# Uncomment the following line to check if you have done it correctly\n",
    "# if (remainder != (1000 % 7)):\n",
    "#     print(f\"Sô dư của phép chia 1000 cho 7 là {1000 % 7}. Bạn đã tính sai.\")"
   ]
  },
  {
   "cell_type": "markdown",
   "metadata": {},
   "source": [
    "# Variables\n",
    "\n",
    "Previously, you have seen how to create a `variable` and assign a value to it. In general, you can create a `variable` by choosing a name for the `variable`. The name of the `variable` has to satisfy the following rules:\n",
    "- It should be short and descriptive.\n",
    "- It can only contain letters, numbers, and underscores (e.g., `my name` is not allowed. `my_name` is allowed).\n",
    "- It **CANNOT** start with a number (e.g., `1name` is not allowed. `name1` is allowed)."
   ]
  },
  {
   "cell_type": "code",
   "execution_count": null,
   "metadata": {},
   "outputs": [],
   "source": []
  },
  {
   "cell_type": "code",
   "execution_count": null,
   "metadata": {},
   "outputs": [],
   "source": []
  },
  {
   "cell_type": "code",
   "execution_count": null,
   "metadata": {},
   "outputs": [],
   "source": []
  },
  {
   "cell_type": "markdown",
   "metadata": {},
   "source": [
    "**Exercise**\n",
    "\n",
    "Create a variable `my_name` and assign it the value of **your name**. For example, `my_name = \"Leo\"`.\n",
    "- `=` is the assignment operator. This is how you assign a value to a variable.\n",
    "\n",
    "Use `print()` to print `my_name` to the screen."
   ]
  },
  {
   "cell_type": "code",
   "execution_count": null,
   "metadata": {},
   "outputs": [],
   "source": [
    "# [TODO]"
   ]
  },
  {
   "cell_type": "code",
   "execution_count": null,
   "metadata": {},
   "outputs": [],
   "source": [
    "# Uncomment the following line to check if you have done it correctly\n",
    "# if isinstance(my_name, str):\n",
    "#     print(f\"Tôi tên là {my_name}.\")\n",
    "# else:\n",
    "#     print(\"Hãy điền tên của bạn.\")"
   ]
  },
  {
   "cell_type": "markdown",
   "metadata": {},
   "source": [
    "## Manipulating variables\n",
    "\n",
    "![manipulate_variable](../../images/manipulate_variable.png)"
   ]
  },
  {
   "cell_type": "code",
   "execution_count": null,
   "metadata": {},
   "outputs": [],
   "source": [
    "# set the value of the variable to \"đẹp trai\"\n",
    "\n",
    "\n",
    "# print the value of the variable\n"
   ]
  },
  {
   "cell_type": "code",
   "execution_count": null,
   "metadata": {},
   "outputs": [],
   "source": [
    "# let's change the value of the variable to \"xinh gái\"\n",
    "\n",
    "\n",
    "# print the new value of the variable\n"
   ]
  },
  {
   "cell_type": "markdown",
   "metadata": {},
   "source": [
    "**Exercise**\n",
    "\n",
    "- Create a variable `my_height` and assign it the value of **your height** in centimeters.\n",
    "- Print the value of `my_height` to the screen.\n",
    "- Increase the value of `my_height` by 10 centimeters.\n",
    "- Print the new value of `my_height` to the screen."
   ]
  },
  {
   "cell_type": "code",
   "execution_count": null,
   "metadata": {},
   "outputs": [],
   "source": [
    "# [TODO] Create a variable `my_height` and assign it the value of your height in centimeters\n",
    "\n",
    "\n",
    "# [TODO] Print the value of `my_height` to the screen\n",
    "\n",
    "\n",
    "# [TODO] Increase the value of `my_height` by 10 centimeters\n",
    "\n",
    "\n",
    "# [TODO] Print the new value of `my_height` to the screen\n"
   ]
  },
  {
   "cell_type": "markdown",
   "metadata": {},
   "source": [
    "## Using multiple variables\n",
    "\n",
    "Calculate your height in inches."
   ]
  },
  {
   "cell_type": "code",
   "execution_count": null,
   "metadata": {},
   "outputs": [],
   "source": [
    "# [TODO] Create a variable `my_height` and assign it the value of your height in centimetres\n",
    "\n",
    "\n",
    "# [TODO] Print your height in centimetres to the screen\n",
    "\n",
    "\n",
    "# [TODO] cm to inch\n",
    "\n",
    "\n",
    "# [TODO] Print your height in inches to the screen\n"
   ]
  },
  {
   "cell_type": "markdown",
   "metadata": {},
   "source": [
    "**Exercise**\n",
    "\n",
    "Calculate your height in feet.\n",
    "- `1 ft = 12 in`"
   ]
  },
  {
   "cell_type": "code",
   "execution_count": null,
   "metadata": {},
   "outputs": [],
   "source": [
    "my_height = 0\n",
    "cm_to_inch = 2.54\n",
    "ft_to_inch = 12\n",
    "\n",
    "# [TODO] Print your height in feet to the screen\n"
   ]
  },
  {
   "cell_type": "markdown",
   "metadata": {},
   "source": [
    "# Basic data types\n",
    "- `int`: integer\n",
    "- `float`: floating point number\n",
    "- `bool`: boolean\n",
    "- `str`: string"
   ]
  },
  {
   "cell_type": "markdown",
   "metadata": {},
   "source": [
    "## Integer\n",
    "\n",
    "An integer is a number that can be written without a fractional component. E.g. `1`, `2`, `-3`, etc."
   ]
  },
  {
   "cell_type": "code",
   "execution_count": null,
   "metadata": {},
   "outputs": [],
   "source": []
  },
  {
   "cell_type": "markdown",
   "metadata": {},
   "source": [
    "## Float\n",
    "\n",
    "A float is a number with fractional parts. E.g. `1.0`, `2.0123`, `-3.0234`, etc."
   ]
  },
  {
   "cell_type": "code",
   "execution_count": null,
   "metadata": {},
   "outputs": [],
   "source": []
  },
  {
   "cell_type": "code",
   "execution_count": null,
   "metadata": {},
   "outputs": [],
   "source": []
  },
  {
   "cell_type": "markdown",
   "metadata": {},
   "source": [
    "## Boolean\n",
    "\n",
    "A boolean represents a value that can be either `True` or `False`."
   ]
  },
  {
   "cell_type": "code",
   "execution_count": null,
   "metadata": {},
   "outputs": [],
   "source": []
  },
  {
   "cell_type": "markdown",
   "metadata": {},
   "source": [
    "Booleans are used to represent the truth value of an expression. Since `1 > 2` is a false statement, `var_bool2` is `False`."
   ]
  },
  {
   "cell_type": "code",
   "execution_count": null,
   "metadata": {},
   "outputs": [],
   "source": []
  },
  {
   "cell_type": "markdown",
   "metadata": {},
   "source": [
    "Switch value of `var_bool2` to `True` by using `not` operator."
   ]
  },
  {
   "cell_type": "code",
   "execution_count": null,
   "metadata": {},
   "outputs": [],
   "source": []
  },
  {
   "cell_type": "markdown",
   "metadata": {},
   "source": [
    "## String\n",
    "\n",
    "A string is a collection of characters that are enclosed in single or double quotes."
   ]
  },
  {
   "cell_type": "code",
   "execution_count": null,
   "metadata": {},
   "outputs": [],
   "source": []
  },
  {
   "cell_type": "markdown",
   "metadata": {},
   "source": [
    "Find the length of a string by using the `len()` function."
   ]
  },
  {
   "cell_type": "code",
   "execution_count": null,
   "metadata": {},
   "outputs": [],
   "source": []
  },
  {
   "cell_type": "markdown",
   "metadata": {},
   "source": [
    "**Exercise**\n",
    "\n",
    "Find the length of the following string: `\"Tôi rất mê CodingMentor\"`"
   ]
  },
  {
   "cell_type": "code",
   "execution_count": null,
   "metadata": {},
   "outputs": [],
   "source": [
    "# [TODO]\n"
   ]
  },
  {
   "cell_type": "markdown",
   "metadata": {},
   "source": [
    "**Exercise**\n",
    "\n",
    "What's the datatype of the following variable?\n",
    "- `my_number = \"2022\"`"
   ]
  },
  {
   "cell_type": "code",
   "execution_count": null,
   "metadata": {},
   "outputs": [],
   "source": [
    "# [TODO]\n"
   ]
  },
  {
   "cell_type": "markdown",
   "metadata": {},
   "source": [
    "Convert a number string to an integer by using the `int()` function."
   ]
  },
  {
   "cell_type": "code",
   "execution_count": null,
   "metadata": {},
   "outputs": [],
   "source": []
  },
  {
   "cell_type": "markdown",
   "metadata": {},
   "source": [
    "Conversion doesn't work if you pass a non-numeric string to the `int()` function."
   ]
  },
  {
   "cell_type": "code",
   "execution_count": null,
   "metadata": {},
   "outputs": [],
   "source": []
  },
  {
   "cell_type": "markdown",
   "metadata": {},
   "source": [
    "Combine 2 strings together by using the `+` operator."
   ]
  },
  {
   "cell_type": "code",
   "execution_count": null,
   "metadata": {},
   "outputs": [],
   "source": []
  },
  {
   "cell_type": "markdown",
   "metadata": {},
   "source": [
    "Multiply a string with an `int` will result in the original string repeated that many times."
   ]
  },
  {
   "cell_type": "code",
   "execution_count": null,
   "metadata": {},
   "outputs": [],
   "source": []
  },
  {
   "cell_type": "markdown",
   "metadata": {},
   "source": [
    "What if you want to multiply a string with a `float`?"
   ]
  },
  {
   "cell_type": "code",
   "execution_count": null,
   "metadata": {},
   "outputs": [],
   "source": []
  },
  {
   "cell_type": "markdown",
   "metadata": {},
   "source": [
    "# Operators\n",
    "\n",
    "You were introduced to the set of arithmetic operators in the above section. In addition, you have used the assignment operator `=` to assign a value to a variable. In this section, you'll learn about **logical and comparison operators**. \n",
    "\n",
    "|Type|Operator|Description|Syntax|\n",
    "|:-:|:-:|:-|:-:|\n",
    "|**Logical**|`and`|`True` if both operands are true|`x and y`|\n",
    "|**Logical**|`or`|`True` if either operand is true|`x or y`|\n",
    "|**Logical**|`not`|`True` if operand is false|`not x`|\n",
    "|**Comparison**|`==`|`True` if both operands are equal|`x == y`|\n",
    "|**Comparison**|`!=`|`True` if both operands are not equal|`x != y`|\n",
    "|**Comparison**|`<`|`True` if left operand is less than right operand|`x < y`|\n",
    "|**Comparison**|`>`|`True` if left operand is greater than right operand|`x > y`|\n",
    "|**Comparison**|`<=`|`True` if left operand is less than or equal to right operand|`x <= y`|\n",
    "|**Comparison**|`>=`|`True` if left operand is greater than or equal to right operand|`x >= y`|\n",
    "\n",
    "**Truth table**:\n",
    "\n",
    "|`x`|`y`|`x and y`|`x or y`|`not x`|\n",
    "|:-:|:-:|:-:|:-:|:-:|\n",
    "|`True`|`True`|`True`|`True`|`False`|\n",
    "|`True`|`False`|`False`|`False`|`False`|\n",
    "|`False`|`True`|`False`|`True`|`True`|\n",
    "|`False`|`False`|`False`|`False`|`True`|"
   ]
  },
  {
   "cell_type": "markdown",
   "metadata": {},
   "source": [
    "**Exercise**\n",
    "\n",
    "Without using Python, can you guess the truth value of the following expressions?\n",
    "- `1 == 1`\n",
    "- `1 != 2`\n",
    "- `1 > 4`\n",
    "- `1 <= 1`\n",
    "- `4 < 3`\n",
    "- `4 >= 2`"
   ]
  },
  {
   "cell_type": "code",
   "execution_count": null,
   "metadata": {},
   "outputs": [],
   "source": [
    "# [TODO]"
   ]
  },
  {
   "cell_type": "markdown",
   "metadata": {},
   "source": [
    "**Exercise**\n",
    "\n",
    "Without using Python, can you guess the truth value of the following expression?\n",
    "- `1 > 2 and 2 > 1`\n",
    "- `1 > 2 or 2 > 1`\n",
    "- `not(1 > 2)`"
   ]
  },
  {
   "cell_type": "code",
   "execution_count": 1,
   "metadata": {},
   "outputs": [],
   "source": [
    "# [TODO]"
   ]
  }
 ],
 "metadata": {
  "interpreter": {
   "hash": "358e9616752268581ae8042f297ac07aa0f075cc4b1c7c99fe72d1bc7b9b6a95"
  },
  "kernelspec": {
   "display_name": "Python 3.10.4 ('pyds')",
   "language": "python",
   "name": "python3"
  },
  "language_info": {
   "codemirror_mode": {
    "name": "ipython",
    "version": 3
   },
   "file_extension": ".py",
   "mimetype": "text/x-python",
   "name": "python",
   "nbconvert_exporter": "python",
   "pygments_lexer": "ipython3",
   "version": "3.10.4"
  },
  "orig_nbformat": 4
 },
 "nbformat": 4,
 "nbformat_minor": 2
}
