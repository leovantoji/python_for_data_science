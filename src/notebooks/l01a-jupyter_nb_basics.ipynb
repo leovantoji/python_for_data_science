{
 "cells": [
  {
   "cell_type": "markdown",
   "metadata": {},
   "source": [
    "# Jupyter Notebook\n",
    "**Jupyter Notebook** is an extremely powerful web-based tool for data scientists to interactively explore, analyze, and visualise data."
   ]
  },
  {
   "cell_type": "markdown",
   "metadata": {},
   "source": [
    "## Start Jupyter Notebook\n",
    "\n",
    "To start Jupyter Notebook, there are 2 methods: \n",
    "- **Method 1**: Open `Anaconda Navigator` and click on `Jupyter Notebook`.\n",
    "\n",
    "![navigator](../../images/navigator_1.png)\n",
    "\n",
    "- **Method 2**: Type `jupyter notebook` in the **anaconda prompt**/**terminal**.\n",
    "\n",
    "![jupyter_notebook_terminal](../../images/start_jupyter_notebook.png)\n",
    "\n",
    "Jupyter notebook dashboard is the first thing you see after you start Jupyter Notebook. The current working directory is the start-up directory, and the dashboard gives you access only to the files in the start-up directory. The URL for the dashboard `http://localhost:8888/tree` is the default address and indicates that the content is running on the local machine.\n",
    "\n",
    "![jupyter_notebook_first_look](../../images/jupyter_notebook_first_look.png)"
   ]
  },
  {
   "cell_type": "markdown",
   "metadata": {},
   "source": [
    "## Create your first notebook\n",
    "\n",
    "Create your first notebook by clicking on the `New` button and select `Python 3`.\n",
    "\n",
    "![create_a_notebook](../../images/create_a_notebook.png)\n",
    "\n",
    "This is what you'll see:\n",
    "\n",
    "![new_ipynb](../../images/new_ipynb.png)"
   ]
  },
  {
   "cell_type": "markdown",
   "metadata": {},
   "source": [
    "## Cells\n",
    "\n",
    "A cell is a block of code that can be executed in Jupyter Notebook. Two most important cell types are:\n",
    "- `Code`: \n",
    "    - Code cells are the most common type of cell. They contain code that you want to run.\n",
    "    - Code cells can contain multiple lines of code.\n",
    "- `Markdown`: \n",
    "    - Markdown cells are used to write text that is not code.\n",
    "    - Markdown cells can contain multiple lines of text.\n",
    "\n",
    "`Markdown` will be covered in a later section."
   ]
  },
  {
   "cell_type": "markdown",
   "metadata": {},
   "source": [
    "To run the cell, click on the `Run` button.\n",
    "\n",
    "Let's try typing `print(\"Hello, world!\")` into a **Code** cell and run it!\n",
    "\n",
    "![run_a_cell](../../images/run_a_cell.png)"
   ]
  },
  {
   "cell_type": "markdown",
   "metadata": {},
   "source": [
    "To insert a cell, click on the `Insert` button.\n",
    "\n",
    "![insert_a_cell](../../images/insert_a_cell.png)"
   ]
  },
  {
   "cell_type": "markdown",
   "metadata": {},
   "source": [
    "Type the followings into the newly inserted cell.\n",
    "```python\n",
    "import time\n",
    "time.sleep(5)\n",
    "```\n",
    "\n",
    "Jupyter signifies when a cell is running by changing its label to `In [*]`.\n",
    "\n",
    "![example_of_a_running_cell](../../images/example_of_a_running_cell.png)"
   ]
  },
  {
   "cell_type": "markdown",
   "metadata": {},
   "source": [
    "The active cell is highlighted with a border.\n",
    "- If the border is **green**, it indicates that the cell is in **edit** mode. You can interact with the cell by typing in it.\n",
    "\n",
    "![green_cell](../../images/green_bordered_active_cell.png)\n",
    "\n",
    "- If the border is **blue**, indicates that the cell is in **command** mode.\n",
    "\n",
    "![blue_cell](../../images/blue_bordered_active_cell.png)\n"
   ]
  },
  {
   "cell_type": "markdown",
   "metadata": {},
   "source": [
    "## Common keyboard shortcuts:\n",
    "\n",
    "- Toggle between edit and command mode with `Esc` and `Enter`, respectively.\n",
    "- Scroll up and down your cells with your `Up` and `Down` keys.\n",
    "- Press `A` or `B` to insert a new cell above or below the active cell.\n",
    "- `M` will transform the active cell to a Markdown cell.\n",
    "- `Y` will set the active cell to a code cell.\n",
    "- `D` + `D` (`D` twice) will delete the active cell.\n",
    "- `Z` will undo cell deletion.\n",
    "- Hold `Shift` and press `Up` or `Down` to select multiple cells at once. With multiple cells selected, `Shift` + `M` will merge your selection.\n",
    "- `Ctrl + Shift` + `+` or `-`, in **edit** mode, will split the active cell at the cursor."
   ]
  }
 ],
 "metadata": {
  "interpreter": {
   "hash": "358e9616752268581ae8042f297ac07aa0f075cc4b1c7c99fe72d1bc7b9b6a95"
  },
  "kernelspec": {
   "display_name": "Python 3 (ipykernel)",
   "language": "python",
   "name": "python3"
  },
  "language_info": {
   "codemirror_mode": {
    "name": "ipython",
    "version": 3
   },
   "file_extension": ".py",
   "mimetype": "text/x-python",
   "name": "python",
   "nbconvert_exporter": "python",
   "pygments_lexer": "ipython3",
   "version": "3.9.12"
  }
 },
 "nbformat": 4,
 "nbformat_minor": 2
}
