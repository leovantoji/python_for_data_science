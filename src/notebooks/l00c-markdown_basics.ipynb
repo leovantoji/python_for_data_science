{
 "cells": [
  {
   "cell_type": "markdown",
   "metadata": {},
   "source": [
    "# Markdown\n",
    "\n",
    "# Main Heading: Level 1\n",
    "\n",
    "**Markdown** is a lightweight markup language that is used to format text. It is a subset of HTML.\n",
    "\n",
    "`#` denotes a heading. Add more `#` to increase the heading level.\n",
    "\n",
    "## Sub Heading: Level 2\n",
    "\n",
    "### Sub Sub Heading: Level 3"
   ]
  },
  {
   "cell_type": "markdown",
   "metadata": {},
   "source": [
    "# Paragraphs"
   ]
  },
  {
   "cell_type": "markdown",
   "metadata": {},
   "source": [
    "This is a paragraph.\n",
    "\n",
    "Paragraphs must be separated by an empty line.\n",
    "\n",
    "To bold text, wrap `**` around the text: **bold**.\n",
    "\n",
    "To italicize text, wrap `*` around the text: *italic*.\n",
    "\n",
    "To strike through text, wrap `~~` around the text: ~~strikethrough~~."
   ]
  },
  {
   "cell_type": "markdown",
   "metadata": {},
   "source": [
    "# Lists\n",
    "\n",
    "## Bullet points (\\*)\n",
    "* Item 1\n",
    "* Item 2\n",
    "* Item 3\n",
    "\n",
    "## Bullet points (\\-)\n",
    "- Item 1\n",
    "- Item 2\n",
    "- Item 3\n",
    "\n",
    "## Numbered points\n",
    "1. Item 1\n",
    "2. Item 2\n",
    "3. Item 3"
   ]
  },
  {
   "cell_type": "markdown",
   "metadata": {},
   "source": [
    "# Lines\n",
    "\n",
    "To add a line, type `***` into the cell.\n",
    "\n",
    "***"
   ]
  },
  {
   "cell_type": "markdown",
   "metadata": {},
   "source": [
    "# Showing Code in Markdown\n",
    "\n",
    "- Wrap \\` around a line of code to make it appear as an inline code `print(\"Hello, World\")`.\n",
    "\n",
    "\n",
    "- Wrap \\``` around a block of code to make it appear as code.\n",
    "\n",
    "```\n",
    "def foo():\n",
    "    pass\n",
    "```"
   ]
  },
  {
   "cell_type": "markdown",
   "metadata": {},
   "source": [
    "# Hyperlinks\n",
    "\n",
    "```\n",
    "[Link_to_Coding_Mentor](https://codingmentor.com.au/)\n",
    "```\n",
    "\n",
    "[Coding Mentor tay ngang học code](https://codingmentor.com.au/)"
   ]
  },
  {
   "cell_type": "markdown",
   "metadata": {},
   "source": [
    "# Add image\n",
    "\n",
    "```\n",
    "![alt text](link/to/image.jpg)\n",
    "```\n",
    "\n",
    "![jupyter_nb](../../images/jupyter_notebook.jpeg)"
   ]
  },
  {
   "cell_type": "markdown",
   "metadata": {},
   "source": [
    "# Math symbols\n",
    "\n",
    "$x=5^2$"
   ]
  }
 ],
 "metadata": {
  "interpreter": {
   "hash": "358e9616752268581ae8042f297ac07aa0f075cc4b1c7c99fe72d1bc7b9b6a95"
  },
  "kernelspec": {
   "display_name": "Python 3.10.4 ('pyds')",
   "language": "python",
   "name": "python3"
  },
  "language_info": {
   "codemirror_mode": {
    "name": "ipython",
    "version": 3
   },
   "file_extension": ".py",
   "mimetype": "text/x-python",
   "name": "python",
   "nbconvert_exporter": "python",
   "pygments_lexer": "ipython3",
   "version": "3.10.4"
  },
  "orig_nbformat": 4
 },
 "nbformat": 4,
 "nbformat_minor": 2
}
