{
 "cells": [
  {
   "cell_type": "markdown",
   "metadata": {},
   "source": [
    "# Introduction\n",
    "\n",
    "Today, we'll learn how to perform customer segmentation using **Python** while leveraging the **RFM** framework.\n",
    "\n",
    "## Dataset\n",
    "\n",
    "[Online Retail Dataset](https://archive.ics.uci.edu/ml/datasets/Online+Retail)\n",
    "\n",
    "This Online Retail data set contains all the transactions occurring for a UK-based and registered, non-store online retail between `01-Dec-2010` and `09-Dec-2011`.The company mainly sells unique all-occasion gift-ware. Many customers of the company are wholesalers.\n",
    "\n",
    "Attribute Information:\n",
    "\n",
    "- `InvoiceNo`: Invoice number. Nominal. A 6-digit integral number uniquely assigned to each transaction. If this code starts with the letter 'c', it indicates a cancellation.\n",
    "- `StockCode`: Product (item) code. Nominal. A 5-digit integral number uniquely assigned to each distinct product.\n",
    "- `Description`: Product (item) name. Nominal.\n",
    "- `Quantity`: The quantities of each product (item) per transaction. Numeric.\n",
    "- `InvoiceDate`: Invoice date and time. Numeric. The day and time when a transaction was generated.\n",
    "- `UnitPrice`: Unit price. Numeric. Product price per unit in sterling (£).\n",
    "- `CustomerID`: Customer number. Nominal. A 5-digit integral number uniquely assigned to each customer.\n",
    "- `Country`: Country name. Nominal. The name of the country where a customer resides.\n",
    "\n",
    "## RFM\n",
    "\n",
    "**RFM** is commonly used to identify customers who are likely to buy more frequently, spend more, and/or are more likely to return to the company.\n",
    "\n",
    "RFM stands for the three dimensions:\n",
    "- `Recency` – How recently did the customer purchase?\n",
    "- `Frequency` – How often do they purchase?\n",
    "- `Monetary` – How much do they spend?"
   ]
  },
  {
   "cell_type": "markdown",
   "metadata": {},
   "source": [
    "# Setup\n",
    "\n",
    "Import all necessary packages. Normally, you would import these packages in the top of the notebook.\n",
    "\n",
    "|Packages|Purpose|\n",
    "|:-|:-|\n",
    "|<ul><li>`pandas`</li><li>`numpy`</li></ul>|Data wrangling and analysis|\n",
    "|<ul><li>`matplotlib`</li><li>`plotly.express`</li><li>`seaborn`</li></ul>|Data visualisation|"
   ]
  },
  {
   "cell_type": "code",
   "execution_count": null,
   "metadata": {},
   "outputs": [],
   "source": [
    "# !pip install --upgrade plotly\n",
    "# !pip install plotly-express"
   ]
  },
  {
   "cell_type": "code",
   "execution_count": null,
   "metadata": {},
   "outputs": [],
   "source": [
    "import pandas as pd\n",
    "import numpy as np\n",
    "\n",
    "import warnings\n",
    "warnings.filterwarnings('ignore')\n",
    "\n",
    "# visualisation\n",
    "import plotly.express as px\n",
    "import matplotlib.pyplot as plt\n",
    "import seaborn as sns\n",
    "\n",
    "# to make subplots\n",
    "from plotly.subplots import make_subplots\n",
    "import plotly.graph_objects as go\n",
    "\n",
    "# better matplotlib plots\n",
    "%matplotlib inline\n",
    "%config InlineBackend.figure_format=\"svg\""
   ]
  },
  {
   "cell_type": "markdown",
   "metadata": {},
   "source": [
    "# Load data\n",
    "\n",
    "Let's download the dataset from the link provided above and save it in a `data` folder. You can also save it in a different location if you prefer. \n",
    "\n",
    "This is where I store my data.\n",
    "\n",
    "![image](../../images/tree_directory.png)\n",
    "\n",
    "Once the dataset is available in your local machine, let's load it using the `pd.read_csv` function to load the data since the data is in **CSV** format\n",
    "\n",
    "```python\n",
    "data = pd.read_csv(\"../../data/OnlineRetail.csv\", encoding=\"ISO-8859-1\")\n",
    "```"
   ]
  },
  {
   "cell_type": "code",
   "execution_count": null,
   "metadata": {},
   "outputs": [],
   "source": []
  },
  {
   "cell_type": "markdown",
   "metadata": {},
   "source": [
    "**Exercise**\n",
    "\n",
    "Can you use `shape` to check the shape of the data and print out the number of **rows** and **columns** in the dataset?"
   ]
  },
  {
   "cell_type": "code",
   "execution_count": null,
   "metadata": {},
   "outputs": [],
   "source": [
    "# [TODO]\n"
   ]
  },
  {
   "cell_type": "markdown",
   "metadata": {},
   "source": [
    "**Exercise**\n",
    "\n",
    "Normally, you would like to **LOOK** at the dataset before doing any work. How do you display **5** random rows from the dataset?"
   ]
  },
  {
   "cell_type": "code",
   "execution_count": null,
   "metadata": {},
   "outputs": [],
   "source": [
    "# [TODO]\n"
   ]
  },
  {
   "cell_type": "markdown",
   "metadata": {},
   "source": [
    "**Exercise**\n",
    "\n",
    "Can you use `.info` to print out the data types of each column?\n",
    "\n",
    "Which column(s) has missing data?"
   ]
  },
  {
   "cell_type": "code",
   "execution_count": null,
   "metadata": {},
   "outputs": [],
   "source": [
    "# [TODO]\n"
   ]
  },
  {
   "cell_type": "markdown",
   "metadata": {},
   "source": [
    "**Exercise**\n",
    "\n",
    "Let's use `describe()` to print out the summary statistics of the dataset."
   ]
  },
  {
   "cell_type": "code",
   "execution_count": null,
   "metadata": {},
   "outputs": [],
   "source": [
    "# [TODO]\n"
   ]
  },
  {
   "cell_type": "code",
   "execution_count": null,
   "metadata": {},
   "outputs": [],
   "source": [
    "# [TODO]\n"
   ]
  },
  {
   "cell_type": "markdown",
   "metadata": {},
   "source": [
    "# EDA"
   ]
  },
  {
   "cell_type": "markdown",
   "metadata": {},
   "source": [
    "**Exercise**\n",
    "\n",
    "Which country do the customers from the dataset come from?\n",
    "\n",
    "**Hint**: Use `.groupby` to group the data by `Country` and `CustomerID` and then use `.nunique()` to count the number of customers per country."
   ]
  },
  {
   "cell_type": "code",
   "execution_count": null,
   "metadata": {},
   "outputs": [],
   "source": [
    "# [TODO]\n"
   ]
  },
  {
   "cell_type": "markdown",
   "metadata": {},
   "source": [
    "**Exercise**\n",
    "\n",
    "Can you calculate the percentage of customers coming from the UK?"
   ]
  },
  {
   "cell_type": "code",
   "execution_count": null,
   "metadata": {},
   "outputs": [],
   "source": [
    "# [TODO]\n"
   ]
  },
  {
   "cell_type": "markdown",
   "metadata": {},
   "source": [
    "Let's visualise the number of customers per country using a **bar plot**."
   ]
  },
  {
   "cell_type": "code",
   "execution_count": null,
   "metadata": {},
   "outputs": [],
   "source": []
  },
  {
   "cell_type": "markdown",
   "metadata": {},
   "source": [
    "**Exercise**\n",
    "\n",
    "What's the percentage of cancelled transactions out of total transactions?\n",
    "\n",
    "**Hint**: Cancelled transactions are denoted by the `InvoiceNo` column starting with the letter `c`. Convert the `InvoiceNo` column to a `string` and use `.str.contains` (or `str.startswith`) to check if the `InvoiceNo` contains with the letter `c`."
   ]
  },
  {
   "cell_type": "code",
   "execution_count": null,
   "metadata": {},
   "outputs": [],
   "source": [
    "# [TODO]\n"
   ]
  },
  {
   "cell_type": "markdown",
   "metadata": {},
   "source": [
    "# Data Preprocessing"
   ]
  },
  {
   "cell_type": "markdown",
   "metadata": {},
   "source": [
    "**Exercise**\n",
    "\n",
    "What's the data type of the `InvoiceDate` column?\n",
    "\n",
    "**Hint**: Use `.dtypes` to check the data types of all columns in the dataframe."
   ]
  },
  {
   "cell_type": "code",
   "execution_count": null,
   "metadata": {},
   "outputs": [],
   "source": [
    "# [TODO]\n"
   ]
  },
  {
   "cell_type": "markdown",
   "metadata": {},
   "source": [
    "Take 5 samples of the `InvoiceDate` column."
   ]
  },
  {
   "cell_type": "code",
   "execution_count": null,
   "metadata": {},
   "outputs": [],
   "source": []
  },
  {
   "cell_type": "markdown",
   "metadata": {},
   "source": [
    "**Exercise**\n",
    "\n",
    "How do we ensure that `InvoiceDate` is correctly of type `date`?\n",
    "\n",
    "In addition, can you convert `CustomerID` from `float` to `int`. Missing values will be ignored and kept as is. We'll handle them later.\n",
    "\n",
    "**Hint**: Use `pd.to_datetime` and `astype`"
   ]
  },
  {
   "cell_type": "code",
   "execution_count": null,
   "metadata": {},
   "outputs": [],
   "source": [
    "# [TODO]\n"
   ]
  },
  {
   "cell_type": "markdown",
   "metadata": {},
   "source": [
    "**Exercise**\n",
    "\n",
    "InvoiceNo starting with `c` indicates a cancellation. How do we remove these records from the dataset?"
   ]
  },
  {
   "cell_type": "code",
   "execution_count": null,
   "metadata": {},
   "outputs": [],
   "source": [
    "# [TODO]\n",
    "print(f\"Before: {data.shape[0]} rows and {data.shape[1]} columns.\")\n",
    "\n",
    "# INSERT YOUR CODES HERE\n",
    "\n",
    "print(f\"After : {data.shape[0]} rows and {data.shape[1]} columns.\")"
   ]
  },
  {
   "cell_type": "markdown",
   "metadata": {},
   "source": [
    "**Exercise**\n",
    "\n",
    "How do you drop the records with missing values in the dataset?\n",
    "\n",
    "**NOTE**: There are many ways to deal with missing values in a data science project. Dropping the records with missing values is the simplest method."
   ]
  },
  {
   "cell_type": "code",
   "execution_count": null,
   "metadata": {},
   "outputs": [],
   "source": [
    "# [TODO]\n",
    "print(f\"Before: {data.shape[0]} rows and {data.shape[1]} columns.\")\n",
    "\n",
    "# INSERT YOUR CODES HERE\n",
    "\n",
    "print(f\"After : {data.shape[0]} rows and {data.shape[1]} columns.\")"
   ]
  },
  {
   "cell_type": "markdown",
   "metadata": {},
   "source": [
    "By removing cancelled transactions and missing `CustomerID`, there are no longer any transactions with negative `Quantity`."
   ]
  },
  {
   "cell_type": "code",
   "execution_count": null,
   "metadata": {},
   "outputs": [],
   "source": []
  },
  {
   "cell_type": "markdown",
   "metadata": {},
   "source": [
    "**Exercise**\n",
    "\n",
    "Verify that there are no longer any missing values in the dataset"
   ]
  },
  {
   "cell_type": "code",
   "execution_count": null,
   "metadata": {},
   "outputs": [],
   "source": [
    "# [TODO]\n"
   ]
  },
  {
   "cell_type": "markdown",
   "metadata": {},
   "source": [
    "# RFM Analysis"
   ]
  },
  {
   "cell_type": "markdown",
   "metadata": {},
   "source": [
    "## Recency\n",
    "\n",
    "**Recency**: How recently did the customer purchase?\n",
    "\n",
    "In order to answer this question, we need to have an anchor date. We'll take the last `InvoiceDate` as the anchor date.\n",
    "\n",
    "**Hint**:\n",
    "```python\n",
    "LAST_INVOICE_DATE = data[\"InvoiceDate\"].max()\n",
    "```"
   ]
  },
  {
   "cell_type": "code",
   "execution_count": null,
   "metadata": {},
   "outputs": [],
   "source": []
  },
  {
   "cell_type": "markdown",
   "metadata": {},
   "source": [
    "**Recency** will be calculated as the number of days between the **anchor date** and the last `InvoiceDate` of each customer.\n",
    "- Firstly, we need to find the last `InvoiceDate` of each customer.\n",
    "- Secondly, we'll calculate the time difference between the **anchor date** and the last `InvoiceDate` of each customer. "
   ]
  },
  {
   "cell_type": "code",
   "execution_count": null,
   "metadata": {},
   "outputs": [],
   "source": [
    "# find the last InvoiceDate for each customer\n",
    "\n",
    "\n",
    "# calculate the time difference between the anchor and the last InvoiceDate of each customer\n"
   ]
  },
  {
   "cell_type": "code",
   "execution_count": null,
   "metadata": {},
   "outputs": [],
   "source": [
    "# have a look at the recency we just calculated\n"
   ]
  },
  {
   "cell_type": "code",
   "execution_count": null,
   "metadata": {},
   "outputs": [],
   "source": [
    "# Check the shape of recency data\n"
   ]
  },
  {
   "cell_type": "markdown",
   "metadata": {},
   "source": [
    "Let's take a look at the `recency` distribution. We'll visualise the distribution using both a **histogram** and a **box plot**."
   ]
  },
  {
   "cell_type": "code",
   "execution_count": null,
   "metadata": {},
   "outputs": [],
   "source": []
  },
  {
   "cell_type": "markdown",
   "metadata": {},
   "source": [
    "## Frequency"
   ]
  },
  {
   "cell_type": "markdown",
   "metadata": {},
   "source": [
    "**Exercise**\n",
    "\n",
    "**Frequency** will be calculated as the number of times the customer purchased the product.\n",
    "\n",
    "**Hint**: It will be the count of unique `InvoiceNo` per `CustomerID`."
   ]
  },
  {
   "cell_type": "code",
   "execution_count": null,
   "metadata": {},
   "outputs": [],
   "source": [
    "# [TODO]\n"
   ]
  },
  {
   "cell_type": "code",
   "execution_count": null,
   "metadata": {},
   "outputs": [],
   "source": [
    "# have a look at the frequency we just calculated\n"
   ]
  },
  {
   "cell_type": "code",
   "execution_count": null,
   "metadata": {},
   "outputs": [],
   "source": [
    "# Check the shape of frequency data\n"
   ]
  },
  {
   "cell_type": "markdown",
   "metadata": {},
   "source": [
    "**Exercise**\n",
    "\n",
    "You have learned how to visualise **recency** data above. Can you do the same for **frequency**?"
   ]
  },
  {
   "cell_type": "code",
   "execution_count": null,
   "metadata": {},
   "outputs": [],
   "source": [
    "# [TODO]\n"
   ]
  },
  {
   "cell_type": "markdown",
   "metadata": {},
   "source": [
    "## Monetary"
   ]
  },
  {
   "cell_type": "markdown",
   "metadata": {},
   "source": [
    "**Exercise**\n",
    "\n",
    "**Monetary** is will be the total amount of money the customer spent. \n",
    "\n",
    "Can you calculate **monetary**?\n",
    "\n",
    "**Hint**: \n",
    "- Use columns `Quantity` and `UnitPrice` to calculate the total amount of money spent by each customer.\n",
    "- Use `groupby` to group the data by `CustomerID` and then use `sum` to calculate the total amount of money spent by each customer."
   ]
  },
  {
   "cell_type": "code",
   "execution_count": null,
   "metadata": {},
   "outputs": [],
   "source": [
    "# [TODO]\n",
    "\n",
    "# calculate monetary value of each purchase\n",
    "\n",
    "\n",
    "# find the total amount spent for each customer\n"
   ]
  },
  {
   "cell_type": "code",
   "execution_count": null,
   "metadata": {},
   "outputs": [],
   "source": [
    "# Let's take a look at the monetary data we just calculated\n"
   ]
  },
  {
   "cell_type": "code",
   "execution_count": null,
   "metadata": {},
   "outputs": [],
   "source": [
    "# Check the shape of monetary data\n"
   ]
  },
  {
   "cell_type": "markdown",
   "metadata": {},
   "source": [
    "**Exercise**\n",
    "\n",
    "You have learned how to visualise **recency** data above. Can you do the same for **monetary**?"
   ]
  },
  {
   "cell_type": "code",
   "execution_count": null,
   "metadata": {},
   "outputs": [],
   "source": [
    "# [TODO]\n"
   ]
  },
  {
   "cell_type": "markdown",
   "metadata": {},
   "source": [
    "## Combine RFM\n",
    "\n",
    "**Exercise**\n",
    "\n",
    "Can you combine **Recency**, **Frequency** and **Monetary** into 1 single dataframe?\n",
    "\n",
    "**Hint**: Use `pd.concat`"
   ]
  },
  {
   "cell_type": "code",
   "execution_count": null,
   "metadata": {},
   "outputs": [],
   "source": [
    "# [TODO]\n"
   ]
  },
  {
   "cell_type": "code",
   "execution_count": null,
   "metadata": {},
   "outputs": [],
   "source": [
    "# Let's take a look at the combined RFM data\n"
   ]
  },
  {
   "cell_type": "code",
   "execution_count": null,
   "metadata": {},
   "outputs": [],
   "source": [
    "# Check the shape of RFM data\n"
   ]
  },
  {
   "cell_type": "markdown",
   "metadata": {},
   "source": [
    "**Recency**, **Frequency** and **Monetary** all appear to contain a lot of outliers. \n",
    "\n",
    "Therefore, we'll handle the outliers by capping the values of **Recency**, **Frequency** and **Monetary** at the `10th` and `90th` percentile values respectively."
   ]
  },
  {
   "cell_type": "code",
   "execution_count": null,
   "metadata": {},
   "outputs": [],
   "source": [
    "# treating outliers\n",
    "FLOORING = 0.1\n",
    "CAPPING = 0.9\n",
    "\n"
   ]
  },
  {
   "cell_type": "code",
   "execution_count": null,
   "metadata": {},
   "outputs": [],
   "source": [
    "# Let's take a look at the combined RFM data without outliers\n"
   ]
  },
  {
   "cell_type": "markdown",
   "metadata": {},
   "source": [
    "**Exercise**\n",
    "\n",
    "Since we keep both the original and fixed RFM data, can you use **box plot** to visualise the changes in the **Recency**, **Frequency** and **Monetary** columns?\n",
    "The final graph should look like this:\n",
    "\n",
    "![image](../../images/rfm_original_fixed.png)"
   ]
  },
  {
   "cell_type": "code",
   "execution_count": null,
   "metadata": {},
   "outputs": [],
   "source": [
    "# [TODO]\n"
   ]
  },
  {
   "cell_type": "markdown",
   "metadata": {},
   "source": [
    "Uncomment the codes below to look at another way to visualise the same thing using `seaborn`"
   ]
  },
  {
   "cell_type": "code",
   "execution_count": null,
   "metadata": {},
   "outputs": [],
   "source": [
    "# fig, axes = plt.subplots(nrows=3, ncols=2, figsize=(15, 10), sharey=True)\n",
    "\n",
    "# for r, key in enumerate([\"Recency\", \"Frequency\", \"Monetary\"]):\n",
    "#     y_axis = axes[r, 0].axes.get_yaxis()\n",
    "#     y_axis.set_visible(False)\n",
    "\n",
    "#     axes[r, 0].set_title(f\"Original: {key}\")\n",
    "#     sns.boxplot(ax=axes[r, 0], data=rfm_data[f\"{key}_Original\"], orient=\"h\")\n",
    "\n",
    "#     axes[r, 1].set_title(f\"Fixed: {key}\")\n",
    "#     sns.boxplot(ax=axes[r, 1], data=rfm_data[key], orient=\"h\", color=\"green\")"
   ]
  },
  {
   "cell_type": "markdown",
   "metadata": {},
   "source": [
    "# RFM Score\n",
    "\n",
    "RFM scores are defined such that score of `5` and `1` are the `best` and the `worst` respectively."
   ]
  },
  {
   "cell_type": "code",
   "execution_count": null,
   "metadata": {},
   "outputs": [],
   "source": [
    "# most recent purchase should receive the highest score\n",
    "\n",
    "\n",
    "# the more purchases a customer has made, the higher the score\n",
    "# Some customers will have the same number of purchases, so we'll rank the frequency score based on the first appearance\n",
    "\n",
    "\n",
    "# the more money a customer has spent, the higher the score\n"
   ]
  },
  {
   "cell_type": "code",
   "execution_count": null,
   "metadata": {},
   "outputs": [],
   "source": [
    "# Combine the scores into 1 single label column for each customer\n",
    "\n",
    "\n",
    "# Calculate the total RFM Score for each customer\n"
   ]
  },
  {
   "cell_type": "code",
   "execution_count": null,
   "metadata": {},
   "outputs": [],
   "source": [
    "# best customers\n"
   ]
  },
  {
   "cell_type": "code",
   "execution_count": null,
   "metadata": {},
   "outputs": [],
   "source": [
    "# worst customers\n"
   ]
  },
  {
   "cell_type": "markdown",
   "metadata": {},
   "source": [
    "# Segmentation with RFM\n",
    "\n",
    "Refer to [RFM Segmentation - Business Use](https://documentation.bloomreach.com/engagement/docs/rfm-segmentation) for more information.\n",
    "\n",
    "|No|Customer Segment|Activity|Actionable Tip|\n",
    "|:-:|:-|:-|:-|\n",
    "|1|Champion|Bought recently, order often and spend the most.|Reward them. Can be early adopters of new products. Will promote your brand. Most likely to send referrals.|\n",
    "|2|Loyal|Orders regularly. Responsive to promotions.|Upsell higher value products. Ask for reviews.|\n",
    "|3|Potential Loyalist|Recent customers, and spent a good amount.|Offer membership / loyalty program. Keep them engaged. Offer personalised recommendations.|\n",
    "|4|New Customers|Bought most recently.|Provide on-boarding support, give them early access, start building relationship.|\n",
    "|5|Promising|Potential loyalist a few months ago. Spends frequently and a good amount. But the last purchase was several weeks ago.|Offer coupons. Bring them back to the platform and keep them engaged. Offer personalised recommendations.|\n",
    "|6|Core|Standard customers with not too long-ago purchase.|Make limited time offers.|\n",
    "|7|Needs attention|Core customers whose last purchase happened more than one month ago.|Make limited time offers. Offer personalised recommendations.|\n",
    "|8|Cannot Lose Them|Made the largest orders, and often. But haven’t returned for a long time.|Win them back via renewals or newer products, don’t lose them to competition. Talk to them if necessary. Spend time on highest possible personalisation.|\n",
    "|9|At Risk|Similar to “Can’t lose them but losing” but with smaller monetary and frequency value.|Provide helpful resources on the site. Send personalised emails.|\n",
    "|10|Hibernating|Made their last purchase a long time ago but in the last 4 weeks either visited the site or opened an email.|Make subject lines of emails very personalised. Revive their interest by a specific discount on a specific product.|\n",
    "|11|Lost|Made last purchase long time ago and didn’t engage at all in the last 4 weeks.|Revive interest with reach out campaign. Ignore otherwise.|"
   ]
  },
  {
   "cell_type": "markdown",
   "metadata": {},
   "source": [
    "**Exercise**\n",
    "\n",
    "Use the segmentation map below to perform customer segmentation.\n",
    "\n",
    "```python\n",
    "segmentation_map = {\n",
    "    r'555|554|544|545|454|455|445': 'Champions',\n",
    "    r'543|444|435|355|354|345|344|335': 'Loyal',\n",
    "    r'553|551|552|541|542|533|532|531|452|451|442|441|431|453|433|432|423|353|352|351|342|341|333|323': 'Potential Loyalist',\n",
    "    r'512|511|422|421|412|411|311': 'New Customers',\n",
    "    r'525|524|523|522|521|515|514|513|425|424|413|414|415|315|314|313': 'Promising',\n",
    "    r'535|534|443|434|343|334|325|324': 'Need Attention',\n",
    "    r'331|321|312|221|213|231|241|251': 'About To Sleep',\n",
    "    r'255|254|245|244|253|252|243|242|235|234|225|224|153|152|145|143|142|135|134|133|125|124': 'At Risk',\n",
    "    r'155|154|144|214|215|115|114|113': 'Cannot Lose Them',\n",
    "    r'332|322|233|232|223|222|132|123|122|212|211': 'Hibernating',\n",
    "    r'111|112|121|131|141|151': 'Lost',\n",
    "}\n",
    "```\n",
    "\n",
    "The segment should be stored in a new column `RFMSegment` in the dataframe.\n",
    "\n",
    "```python\n",
    "rfm_data['RFMSegment'] = ...\n",
    "```"
   ]
  },
  {
   "cell_type": "code",
   "execution_count": null,
   "metadata": {},
   "outputs": [],
   "source": [
    "# [TODO]\n"
   ]
  },
  {
   "cell_type": "markdown",
   "metadata": {},
   "source": [
    "**Exercise**\n",
    "\n",
    "Let's calculate the `median`, `mean` and `std` of **Recency**, **Frequency**, **Monetary** for each segment in `RFMSegment` column."
   ]
  },
  {
   "cell_type": "code",
   "execution_count": null,
   "metadata": {},
   "outputs": [],
   "source": [
    "# [TODO]\n"
   ]
  },
  {
   "cell_type": "markdown",
   "metadata": {},
   "source": [
    "# Visualisation"
   ]
  },
  {
   "cell_type": "markdown",
   "metadata": {},
   "source": [
    "**Exercise**\n",
    "\n",
    "The distribution of Recency, Frequency, and Monetary need to follow the same direction since we assign 1 and 5 for the worst and the best customer respectively.\n",
    "\n",
    "Can you verify this by plotting the distribution?"
   ]
  },
  {
   "cell_type": "code",
   "execution_count": null,
   "metadata": {},
   "outputs": [],
   "source": [
    "# [TODO]\n"
   ]
  },
  {
   "cell_type": "markdown",
   "metadata": {},
   "source": [
    "Uncomment the codes below to look at another way to visualise the same thing using `seaborn`"
   ]
  },
  {
   "cell_type": "code",
   "execution_count": null,
   "metadata": {},
   "outputs": [],
   "source": [
    "# fig, axes = plt.subplots(nrows=3, ncols=2, figsize=(15, 10))\n",
    "\n",
    "# for r, key in enumerate([\"Recency\", \"Frequency\", \"Monetary\"]):\n",
    "#     sns.histplot(ax=axes[r, 0], data=rfm_data[key], bins=5, kde=True, legend=False)\n",
    "\n",
    "#     y_axis_ax1 = axes[r, 1].axes.get_yaxis()\n",
    "#     y_axis_ax1.set_visible(False)\n",
    "#     axes[r, 1].set_xlabel(f\"{key}\")\n",
    "#     sns.boxplot(ax=axes[r, 1], data=rfm_data[key], orient=\"h\")"
   ]
  },
  {
   "cell_type": "markdown",
   "metadata": {},
   "source": [
    "Let's see if Recency, Frequency and Monetary are correlated to each other using a **heatmap**."
   ]
  },
  {
   "cell_type": "code",
   "execution_count": null,
   "metadata": {},
   "outputs": [],
   "source": []
  },
  {
   "cell_type": "markdown",
   "metadata": {},
   "source": [
    "Let's visualise the customers based on the RFM Segment on a 3D **scatter plot**."
   ]
  },
  {
   "cell_type": "code",
   "execution_count": null,
   "metadata": {},
   "outputs": [],
   "source": []
  },
  {
   "cell_type": "markdown",
   "metadata": {},
   "source": [
    "Let's draw a **treemap** of the customers based on the RFM Segment"
   ]
  },
  {
   "cell_type": "code",
   "execution_count": null,
   "metadata": {},
   "outputs": [],
   "source": []
  },
  {
   "cell_type": "markdown",
   "metadata": {},
   "source": [
    "**Exercise**\n",
    "\n",
    "**VERY HARD** 🤯\n",
    "\n",
    "Plot the distribution of **Monetary** for each combination of **Recency** and **Frequency** score. \n",
    "\n",
    "**NOTE**: Ideally, we are expecting to see a diagonal line having the green bar increasing from 1 to 5 for **Monetary**.\n",
    "\n",
    "**Hint**: Use loops to loop through different combination of values of R, F.\n",
    "\n",
    "The final result should look like this:\n",
    "\n",
    "![image](../../images/rfm_M_for_each_R_and_F.png)"
   ]
  },
  {
   "cell_type": "code",
   "execution_count": null,
   "metadata": {},
   "outputs": [],
   "source": [
    "# [TODO]\n"
   ]
  },
  {
   "cell_type": "markdown",
   "metadata": {},
   "source": [
    "Uncomment the codes below to look at another way to visualise the same thing using `seaborn`"
   ]
  },
  {
   "cell_type": "code",
   "execution_count": null,
   "metadata": {},
   "outputs": [],
   "source": [
    "# fig, axes = plt.subplots(nrows=5, ncols=5,\n",
    "#                          sharex=False, sharey=True,\n",
    "#                          figsize=(10, 10))\n",
    "\n",
    "# for r in range(1, 6):\n",
    "#     for f in range(1, 6):\n",
    "#         y = rfm_data[(rfm_data[\"RScore\"] == r) & (rfm_data[\"FScore\"] == f)][\"MScore\"].value_counts().sort_index()\n",
    "#         x = y.index\n",
    "#         ax = axes[r - 1, f - 1]\n",
    "#         bars = ax.bar(x, y, color=\"grey\")\n",
    "#         if r == 5:\n",
    "#             if f == 3:\n",
    "#                 ax.set_xlabel(f\"{f}\\nF\", va='top')\n",
    "#             else:\n",
    "#                 ax.set_xlabel(f\"{f}\\n\", va='top')\n",
    "#         if f == 1:\n",
    "#             if r == 3:\n",
    "#                 ax.set_ylabel(f\"R\\n{r}\")\n",
    "#             else:\n",
    "#                 ax.set_ylabel(r)\n",
    "#         ax.set_frame_on(False)\n",
    "#         ax.tick_params(left=False, labelleft=False, bottom=False)\n",
    "#         ax.set_xticks(x)\n",
    "#         ax.set_xticklabels(x, fontsize=8)\n",
    "\n",
    "#         for bar in bars:\n",
    "#             value = bar.get_height()\n",
    "#             if value == y.max():\n",
    "#                 bar.set_color(\"green\")\n",
    "#             ax.text(bar.get_x() + bar.get_width() / 2,\n",
    "#                     value,\n",
    "#                     int(value),\n",
    "#                     ha=\"center\",\n",
    "#                     va=\"bottom\",\n",
    "#                     color=\"k\")\n",
    "# fig.suptitle(\"M distribution for each F and R\", fontsize=14)\n",
    "# plt.tight_layout()\n",
    "# plt.show()"
   ]
  }
 ],
 "metadata": {
  "kernelspec": {
   "display_name": "Python 3.9.12 ('base')",
   "language": "python",
   "name": "python3"
  },
  "language_info": {
   "codemirror_mode": {
    "name": "ipython",
    "version": 3
   },
   "file_extension": ".py",
   "mimetype": "text/x-python",
   "name": "python",
   "nbconvert_exporter": "python",
   "pygments_lexer": "ipython3",
   "version": "3.9.12"
  },
  "orig_nbformat": 4,
  "vscode": {
   "interpreter": {
    "hash": "e720081de2fd57dd700935953acd9dd6610ea2e1d5e7379bea03675c6c751eb5"
   }
  }
 },
 "nbformat": 4,
 "nbformat_minor": 2
}
