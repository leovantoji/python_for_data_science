{
 "cells": [
  {
   "cell_type": "markdown",
   "metadata": {},
   "source": [
    "# Functions\n",
    "\n",
    "Functions are a way to group a series of commands into a single unit. You have seen how to use `print()` and `input()` in the previous lessons. In this lesson, you'll learn how to use and define functions.\n",
    "\n",
    "## Define functions\n",
    "\n",
    "**Defining function** syntax:\n",
    "\n",
    "```python\n",
    "def func(arguments):\n",
    "    \"\"\"docstring\"\"\"\n",
    "    # function body\n",
    "    return value # optional\n",
    "```\n",
    "\n",
    "- Keyword `def` is used to define a function.\n",
    "- `func` is the name of the function.\n",
    "- `parameters (arguments)`: The arguments that the function takes. A function can have as many arguments as you want.\n",
    "- `:` is used to mark the end of the function definition.\n",
    "- Optional `docstring` to describe what the function does.\n",
    "- Optional `return` statement to return a value from the function.\n",
    "\n",
    "**Calling a function** syntax:\n",
    "\n",
    "```python\n",
    "func(arguments)\n",
    "```"
   ]
  },
  {
   "cell_type": "markdown",
   "metadata": {},
   "source": [
    "A very important function is `help()`. It is used to display the documentation of a function.\n",
    "\n",
    "Let's view the documentation of the `print()` function.\n",
    "\n",
    "```python\n",
    "help(print)\n",
    "```"
   ]
  },
  {
   "cell_type": "code",
   "execution_count": null,
   "metadata": {},
   "outputs": [],
   "source": []
  },
  {
   "cell_type": "markdown",
   "metadata": {},
   "source": [
    "Based on the documentation, we can see that `print()`:\n",
    "- Takes a string as an argument (`value`).\n",
    "- Default argument `sep`: The separator between different `value` passed in. Default is `space`.\n",
    "- Default argument `end`: The string to append at the end of the output. Default is `newline` (`\\n`).\n",
    "- Returns nothing (no `return` statement).\n",
    "\n",
    "Let's print something!\n",
    "\n",
    "```python\n",
    "print(\"Hello World!\", \",\", \"My name is\", \"Alberto\")\n",
    "print(\"Hello World!\", \",\", \"My name is\", \"Alberto\", sep=\"\\t\")\n",
    "print(\"Hello World!\", \",\", \"My name is\", \"Alberto\", sep=\"|\", end=\";\")\n",
    "print(\"Hello World!\", \",\", \"My name is\", \"Alberto\")\n",
    "```"
   ]
  },
  {
   "cell_type": "code",
   "execution_count": null,
   "metadata": {},
   "outputs": [],
   "source": []
  },
  {
   "cell_type": "markdown",
   "metadata": {},
   "source": [
    "Let's define your very first function to return the sum of two numbers.\n",
    "\n",
    "```python\n",
    "def sum_of_two_numbers(a, b):\n",
    "    \"\"\"This function takes in two numbers and returns the sum of them.\"\"\"\n",
    "    return a + b\n",
    "``` "
   ]
  },
  {
   "cell_type": "code",
   "execution_count": null,
   "metadata": {},
   "outputs": [],
   "source": []
  },
  {
   "cell_type": "markdown",
   "metadata": {},
   "source": [
    "Let's print the documentation of `sum_of_two_numbers`.\n",
    "- Using `help()`:\n",
    "    ```python\n",
    "    help(sum_of_two_numbers)\n",
    "    ```\n",
    "- Print only the docstring:\n",
    "    ```python\n",
    "    print(sum_of_two_numbers.__doc__)\n",
    "    ```"
   ]
  },
  {
   "cell_type": "code",
   "execution_count": null,
   "metadata": {},
   "outputs": [],
   "source": []
  },
  {
   "cell_type": "code",
   "execution_count": null,
   "metadata": {},
   "outputs": [],
   "source": []
  },
  {
   "cell_type": "markdown",
   "metadata": {},
   "source": [
    "Let's use sum_of_two_numbers by supplying two numbers to the function.\n",
    "\n",
    "```python\n",
    "print(sum_of_two_numbers(1, 2))\n",
    "```"
   ]
  },
  {
   "cell_type": "code",
   "execution_count": null,
   "metadata": {},
   "outputs": [],
   "source": []
  },
  {
   "cell_type": "markdown",
   "metadata": {},
   "source": [
    "We can save the result(s) of the function by assigning a variable to it. \n",
    "\n",
    "**NOTE:** Python exits the function immediately after encountering a `return` statement. It will then the value on the right hand side to the calling context. Thus, in our case, it will assign the value `a + b` to the variable `c`."
   ]
  },
  {
   "cell_type": "code",
   "execution_count": null,
   "metadata": {},
   "outputs": [],
   "source": []
  },
  {
   "cell_type": "markdown",
   "metadata": {},
   "source": [
    "What if we define `sum_of_two_numbers()` as follows:\n",
    "\n",
    "```python\n",
    "def sum_of_two_numbers(a, b):\n",
    "    a + b\n",
    "```\n",
    "\n",
    "If we didn't add the `return` keyword, the function would return `None`."
   ]
  },
  {
   "cell_type": "code",
   "execution_count": null,
   "metadata": {},
   "outputs": [],
   "source": []
  },
  {
   "cell_type": "markdown",
   "metadata": {},
   "source": [
    "**Exercise**\n",
    "\n",
    "1. Define a function `sum_func(n)` which takes in a single number `n` as the input argument.\n",
    "1. Check that `n` is a positive integer. If not, return `None`.\n",
    "1. Use **list comprehension** to create a list of the squares of the first `n` natural numbers.\n",
    "1. Return the sum of the even numbers in the list generated in the previous step.\n",
    "1. Write a **docstring** for the functioni `sum_func(n)` which states clearly what the function does.\n",
    "1. Print the **docstring** to the screen.\n",
    "\n",
    "```python\n",
    "def sum_func(n):\n",
    "    \"\"\"docstring\"\"\"\n",
    "    pass\n",
    "\n",
    "print(sum_func(5)) # should return 20\n",
    "```"
   ]
  },
  {
   "cell_type": "code",
   "execution_count": null,
   "metadata": {},
   "outputs": [],
   "source": [
    "# [TODO]\n"
   ]
  },
  {
   "cell_type": "markdown",
   "metadata": {},
   "source": [
    "## Function arguments in-depth\n",
    "\n",
    "When we call a function, we pass in values to the function as arguments. These values are assigned to the function's arguments according to their position.\n",
    "\n",
    "Thus, if we call the function `sum_of_two_numbers(2, 5)`, the function will assign the value `2` to the argument `a` and the value `5` to the argument `b`.\n",
    "\n",
    "Let's look at another example to see things clearer.\n",
    "\n",
    "```python\n",
    "def print_two_numbers(a, b):\n",
    "    print(f\"a = {a}\")\n",
    "    print(f\"b = {b}\")\n",
    "\n",
    "print_two_numbers(1, 2) # a = 1, b = 2\n",
    "```"
   ]
  },
  {
   "cell_type": "code",
   "execution_count": null,
   "metadata": {},
   "outputs": [],
   "source": []
  },
  {
   "cell_type": "markdown",
   "metadata": {},
   "source": [
    "Python allows us to pass in arguments in any order if we specify the argument name. These are called **keyword arguments**.\n",
    "\n",
    "Let's call the `print_two_numbers()` again but this time we specify the argument names.\n",
    "\n",
    "```python\n",
    "print_two_numbers(b=2, a=1)\n",
    "```"
   ]
  },
  {
   "cell_type": "code",
   "execution_count": null,
   "metadata": {},
   "outputs": [],
   "source": []
  },
  {
   "cell_type": "markdown",
   "metadata": {},
   "source": [
    "**Exercise**\n",
    "\n",
    "What would happen if we called `print_two_numbers(b=2, 1)`?"
   ]
  },
  {
   "cell_type": "code",
   "execution_count": null,
   "metadata": {},
   "outputs": [],
   "source": [
    "# [TODO]\n"
   ]
  },
  {
   "cell_type": "markdown",
   "metadata": {},
   "source": [
    "Just keep in mind that **keyword arguments** must follow **positional arguments**. In the above exercise, `b=2` is a keyword argument and cannot appear before `1` which is a positional argument.\n",
    "\n",
    "Thus, we need to change the function call to `print_two_numbers(1, b=2)`."
   ]
  },
  {
   "cell_type": "code",
   "execution_count": null,
   "metadata": {},
   "outputs": [],
   "source": []
  },
  {
   "cell_type": "markdown",
   "metadata": {},
   "source": [
    "## Scope\n",
    "\n",
    "**Scope of a variable** is the context in which it is used. Parameters and variables defined inside a function will only exist inside the function. For example, if we define a variable `x` in a function, it is only available inside that function.\n",
    "\n",
    "The **lifetime of a variable** is the time during which it is used. For example, if we define a variable `x` in a function, it will be available until the end of the function. `x` will be destroyed after the function finishes running. \n",
    "\n",
    "Let's take a look at the following example.\n",
    "\n",
    "```python\n",
    "def some_func():\n",
    "    x = 10\n",
    "    print(x)\n",
    "\n",
    "x = 100\n",
    "some_func() # prints 10\n",
    "\n",
    "print(x) # prints 100\n",
    "```\n",
    "\n",
    "Initially, `x` is assigned to the value of `100`. In the next step, `some_func()` is called, and another variable `x` is defined within the scope of the function `some_func()` and is assigned to the value of `10`. Thus, the `print(x)` within `some_func()` will print `10`, which is the value of `x` when it was defined in the function. The second `print(x)` is outside of `some_func()`, and thus it will print `100`, which is the value of `x` when it was defined outside of the function. The `x` inside and outside of `some_func()` are different variables with different scopes despite sharing the same name."
   ]
  },
  {
   "cell_type": "code",
   "execution_count": null,
   "metadata": {},
   "outputs": [],
   "source": []
  },
  {
   "cell_type": "markdown",
   "metadata": {},
   "source": [
    "**Exercise**\n",
    "\n",
    "Without running the program below, what would be the output of the following code?\n",
    "\n",
    "```python\n",
    "x = 100\n",
    "\n",
    "def some_func():\n",
    "    print(x)\n",
    "\n",
    "some_func()\n",
    "```"
   ]
  },
  {
   "cell_type": "code",
   "execution_count": null,
   "metadata": {},
   "outputs": [],
   "source": [
    "# [TODO]\n"
   ]
  },
  {
   "cell_type": "markdown",
   "metadata": {},
   "source": [
    "`some_func()` returns `100` because `x` is defined outside of the function. Variables defined outside of the function are visible from the inside and have `global` scope. We can read these variables from within the function, but we cannot write to them. Thus, the following program will return an error.\n",
    "\n",
    "```python\n",
    "x = 100\n",
    "\n",
    "def some_func():\n",
    "    x += 1\n",
    "    print(x) # UnboundLocalError: local variable 'x' referenced before assignment\n",
    "\n",
    "some_func()\n",
    "```"
   ]
  },
  {
   "cell_type": "markdown",
   "metadata": {},
   "source": [
    "In order to modify `global` variable inside a function, we need to use the `global` keyword.\n",
    "\n",
    "```python\n",
    "x = 100\n",
    "\n",
    "def some_func():\n",
    "    global x\n",
    "    print(x) # prints 100\n",
    "    \n",
    "    x += 1\n",
    "    print(x) # prints 101\n",
    "\n",
    "some_func()\n",
    "```"
   ]
  },
  {
   "cell_type": "markdown",
   "metadata": {},
   "source": [
    "## Anonymous functions\n",
    "\n",
    "**Anonymous functions** (also known as **lambda functions**) are functions that are not named. They are created when we use the `lambda` keyword. \n",
    "\n",
    "**Syntax**:\n",
    "```python\n",
    "lambda arguments: expression\n",
    "```\n",
    "\n",
    "**Lambda functions** can have as many arguments as necessary but only **one expression**. Anonymous functions are useful wherever function objects are required, or when we just want to have a function for a short period of time.\n",
    "\n",
    "Let's take a look at the example below.\n",
    "\n",
    "```python\n",
    "square = lambda x: x**2\n",
    "```\n",
    "\n",
    "In the above example, `lambda x: x**2` is the lambda function that contains\n",
    "- a single argument `x`.\n",
    "- an expression `x**2`.\n",
    "\n",
    "This function has no name and returns a function object which is assigned to a variable called `square`. We can use this variable to call the function in the same way we would if we have a function named `square`.\n",
    "\n",
    "```python\n",
    "print(square(4)) # prints 16\n",
    "```\n",
    "\n",
    "Thus, we see that `square = lambda x: x**2` is almost identical to the function below.\n",
    "\n",
    "```python\n",
    "def square(x):\n",
    "    return x**2\n",
    "```"
   ]
  },
  {
   "cell_type": "code",
   "execution_count": null,
   "metadata": {},
   "outputs": [],
   "source": []
  },
  {
   "cell_type": "markdown",
   "metadata": {},
   "source": [
    "**Exercise**\n",
    "\n",
    "Define an anonymous function that takes in two numbers and returns the bigger of the two."
   ]
  },
  {
   "cell_type": "code",
   "execution_count": null,
   "metadata": {},
   "outputs": [],
   "source": [
    "# [TODO]\n"
   ]
  },
  {
   "cell_type": "markdown",
   "metadata": {},
   "source": [
    "**Lambda functions** are generally used along with built-in functions like `map()`, `filter()`, etc."
   ]
  },
  {
   "cell_type": "markdown",
   "metadata": {},
   "source": [
    "**Exercise**\n",
    "\n",
    "Use `help()` function to get the documentation of the `map()` function."
   ]
  },
  {
   "cell_type": "code",
   "execution_count": null,
   "metadata": {},
   "outputs": [],
   "source": [
    "# [TODO]\n"
   ]
  },
  {
   "cell_type": "markdown",
   "metadata": {},
   "source": [
    "We can see that the `map()` function takes in a **function** as its first argument and a **list** as its second argument.\n",
    "\n",
    "`map()` is then used to apply the function to each element in the list and return the result in a new list.\n",
    "\n",
    "Let's look at an example of using the `map()` function and a **lambda function** to capitalise the first letter of each word in a list.\n",
    "\n",
    "We can reuse the list of `drinks` we have from the previous lesson\n",
    "\n",
    "```python\n",
    "if \"drinks\" not in locals():\n",
    "    drinks = [\"coffee\", \"tea\", \"coke\", \"whiskey\", \"wine\", \"milk\", \"water\", \"cocktail\", \"mocktail\", \"margarita\", \"mojito\"]\n",
    "\n",
    "capitalised_drinks = list(map(lambda x: x.capitalize(), drinks))\n",
    "print(capitalised_drinks)\n",
    "```"
   ]
  },
  {
   "cell_type": "code",
   "execution_count": null,
   "metadata": {},
   "outputs": [],
   "source": [
    "if \"drinks\" not in locals():\n",
    "    drinks = [\"coffee\", \"tea\", \"coke\", \"whiskey\", \"wine\", \"milk\", \"water\", \"cocktail\", \"mocktail\", \"margarita\", \"mojito\"]\n"
   ]
  },
  {
   "cell_type": "markdown",
   "metadata": {},
   "source": [
    "**Exercise**\n",
    "\n",
    "- Write a function that takes in a list of numbers.\n",
    "- Check if the input list is empty. If it is, `print(\"List is empty\")`.\n",
    "- Check if the input list only contains integers. If it doesn't, `print(\"List contains non-integer values\")`.\n",
    "- Perform the following transformations use **list comprehension**.\n",
    "    - Square the even numbers.\n",
    "    - Cube the odd numbers.\n",
    "\n",
    "```bash\n",
    "Input: [1, 2, 3, 4, 5, 6]\n",
    "Output: [1, 4, 27, 16, 125, 36]\n",
    "\n",
    "Input: [\"1.0\", 2, \"abc\"]\n",
    "Output: \"List contains non-integer values\"\n",
    "\n",
    "Input: []\n",
    "Output: \"List is empty\"\n",
    "```"
   ]
  },
  {
   "cell_type": "code",
   "execution_count": null,
   "metadata": {},
   "outputs": [],
   "source": [
    "# [TODO]\n"
   ]
  },
  {
   "cell_type": "markdown",
   "metadata": {},
   "source": [
    "**Exercise**\n",
    "\n",
    "1. Use **list comprehension** to define a list of numbers from 1 to 6.\n",
    "2. Use `map()` to apply the `lambda` function `lambda x: x**2` to the even number in the list.\n",
    "3. Use `map()` to apply the `lambda` function `lambda x: x**3` to the odd number in the list.\n",
    "4. Return the new list of numbers "
   ]
  },
  {
   "cell_type": "code",
   "execution_count": null,
   "metadata": {},
   "outputs": [],
   "source": [
    "# [TODO]\n"
   ]
  },
  {
   "cell_type": "markdown",
   "metadata": {},
   "source": [
    "**Exercise**\n",
    "\n",
    "Use `help()` function to get the documentation of the `filter()` function."
   ]
  },
  {
   "cell_type": "code",
   "execution_count": null,
   "metadata": {},
   "outputs": [],
   "source": [
    "# [TODO]\n"
   ]
  },
  {
   "cell_type": "markdown",
   "metadata": {},
   "source": [
    "**Exercise**\n",
    "\n",
    "We can see that the `filter()` function takes in a **function** as its first argument and a **list** as its second argument.\n",
    "\n",
    "`filter()` is used to apply the function to each element in the list and return the result for which the function evaluates to `True`.\n",
    "\n",
    "- Use the list of `drinks` we have from the previous lesson.\n",
    "- Filter out the drinks that are longer than **5 characters** using a loop (`for` or `while`).\n",
    "- Do the same thing using **list comprehension**.\n",
    "- Do the same thing using the `filter()` function and a **lambda function**.\n",
    "\n",
    "The result should be the same as the one below.\n",
    "\n",
    "```bash\n",
    "['coffee', 'whiskey', 'cocktail', 'mocktail', 'margarita', 'mojito']\n",
    "```"
   ]
  },
  {
   "cell_type": "code",
   "execution_count": null,
   "metadata": {},
   "outputs": [],
   "source": [
    "if \"drinks\" not in locals():\n",
    "    drinks = [\"coffee\", \"tea\", \"coke\", \"whiskey\", \"wine\", \"milk\", \"water\", \"cocktail\", \"mocktail\", \"margarita\", \"mojito\"]\n",
    "\n",
    "# [TODO]\n"
   ]
  },
  {
   "cell_type": "code",
   "execution_count": null,
   "metadata": {},
   "outputs": [],
   "source": [
    "if \"drinks\" not in locals():\n",
    "    drinks = [\"coffee\", \"tea\", \"coke\", \"whiskey\", \"wine\", \"milk\", \"water\", \"cocktail\", \"mocktail\", \"margarita\", \"mojito\"]\n",
    "\n",
    "# [TODO]\n"
   ]
  },
  {
   "cell_type": "code",
   "execution_count": null,
   "metadata": {},
   "outputs": [],
   "source": [
    "if \"drinks\" not in locals():\n",
    "    drinks = [\"coffee\", \"tea\", \"coke\", \"whiskey\", \"wine\", \"milk\", \"water\", \"cocktail\", \"mocktail\", \"margarita\", \"mojito\"]\n",
    "\n",
    "# [TODO]\n"
   ]
  }
 ],
 "metadata": {
  "kernelspec": {
   "display_name": "Python 3.9.12 ('base')",
   "language": "python",
   "name": "python3"
  },
  "language_info": {
   "codemirror_mode": {
    "name": "ipython",
    "version": 3
   },
   "file_extension": ".py",
   "mimetype": "text/x-python",
   "name": "python",
   "nbconvert_exporter": "python",
   "pygments_lexer": "ipython3",
   "version": "3.9.12"
  },
  "orig_nbformat": 4,
  "vscode": {
   "interpreter": {
    "hash": "e720081de2fd57dd700935953acd9dd6610ea2e1d5e7379bea03675c6c751eb5"
   }
  }
 },
 "nbformat": 4,
 "nbformat_minor": 2
}
