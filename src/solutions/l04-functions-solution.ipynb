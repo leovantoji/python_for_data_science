{
 "cells": [
  {
   "cell_type": "markdown",
   "metadata": {},
   "source": [
    "# Functions\n",
    "\n",
    "Functions are a way to group a series of commands into a single unit. You have seen how to use `print()` and `input()` in the previous lessons. In this lesson, you'll learn how to use and define functions.\n",
    "\n",
    "**Defining function** syntax:\n",
    "\n",
    "```python\n",
    "def func(arguments):\n",
    "    \"\"\"docstring\"\"\"\n",
    "    # function body\n",
    "    return value # optional\n",
    "```\n",
    "\n",
    "- Keyword `def` is used to define a function.\n",
    "- `func` is the name of the function.\n",
    "- `parameters (arguments)`: The arguments that the function takes. A function can have as many arguments as you want.\n",
    "- `:` is used to mark the end of the function definition.\n",
    "- Optional `docstring` to describe what the function does.\n",
    "- Optional `return` statement to return a value from the function.\n",
    "\n",
    "**Calling a function** syntax:\n",
    "\n",
    "```python\n",
    "func(arguments)\n",
    "```"
   ]
  },
  {
   "cell_type": "markdown",
   "metadata": {},
   "source": [
    "A very important function is `help()`. It is used to display the documentation of a function.\n",
    "\n",
    "Let's view the documentation of the `print()` function.\n",
    "\n",
    "```python\n",
    "help(print)\n",
    "```"
   ]
  },
  {
   "cell_type": "code",
   "execution_count": 1,
   "metadata": {},
   "outputs": [
    {
     "name": "stdout",
     "output_type": "stream",
     "text": [
      "Help on built-in function print in module builtins:\n",
      "\n",
      "print(...)\n",
      "    print(value, ..., sep=' ', end='\\n', file=sys.stdout, flush=False)\n",
      "    \n",
      "    Prints the values to a stream, or to sys.stdout by default.\n",
      "    Optional keyword arguments:\n",
      "    file:  a file-like object (stream); defaults to the current sys.stdout.\n",
      "    sep:   string inserted between values, default a space.\n",
      "    end:   string appended after the last value, default a newline.\n",
      "    flush: whether to forcibly flush the stream.\n",
      "\n"
     ]
    }
   ],
   "source": [
    "help(print)"
   ]
  },
  {
   "cell_type": "markdown",
   "metadata": {},
   "source": [
    "Based on the documentation, we can see that `print()`:\n",
    "- Takes a string as an argument (`value`).\n",
    "- Default argument `sep`: The separator between different `value` passed in. Default is `space`.\n",
    "- Default argument `end`: The string to append at the end of the output. Default is `newline` (`\\n`).\n",
    "- Returns nothing (no `return` statement).\n",
    "\n",
    "Let's print something!\n",
    "\n",
    "```python\n",
    "print(\"Hello World!\", \",\", \"My name is\", \"Alberto\")\n",
    "print(\"Hello World!\", \",\", \"My name is\", \"Alberto\", sep=\"\\t\")\n",
    "print(\"Hello World!\", \",\", \"My name is\", \"Alberto\", sep=\"|\", end=\";\")\n",
    "print(\"Hello World!\", \",\", \"My name is\", \"Alberto\")\n",
    "```"
   ]
  },
  {
   "cell_type": "code",
   "execution_count": 3,
   "metadata": {},
   "outputs": [
    {
     "name": "stdout",
     "output_type": "stream",
     "text": [
      "Using default arguments.\n",
      "Hello World! , My name is Alberto\n",
      "\n",
      "\n",
      "Between each values, there is a tab.\n",
      "Hello World!\t,\tMy name is\tAlberto\n",
      "\n",
      "\n",
      "No new line after the first print.\n",
      "Hello World!|,|My name is|Alberto;Hello World! , My name is Alberto\n"
     ]
    }
   ],
   "source": [
    "print(\"Using default arguments.\")\n",
    "print(\"Hello World!\", \",\", \"My name is\", \"Alberto\")\n",
    "\n",
    "print(\"\\n\")\n",
    "print(\"Between each values, there is a tab.\")\n",
    "print(\"Hello World!\", \",\", \"My name is\", \"Alberto\", sep=\"\\t\")\n",
    "\n",
    "print(\"\\n\")\n",
    "print(\"No new line after the first print.\")\n",
    "print(\"Hello World!\", \",\", \"My name is\", \"Alberto\", sep=\"|\", end=\";\")\n",
    "print(\"Hello World!\", \",\", \"My name is\", \"Alberto\")"
   ]
  },
  {
   "cell_type": "markdown",
   "metadata": {},
   "source": [
    "Let's define your very first function to return the sum of two numbers.\n",
    "\n",
    "```python\n",
    "def sum_of_two_numbers(a, b):\n",
    "    \"\"\"This function takes in two numbers and returns the sum of them.\"\"\"\n",
    "    return a + b\n",
    "``` "
   ]
  },
  {
   "cell_type": "code",
   "execution_count": 4,
   "metadata": {},
   "outputs": [],
   "source": [
    "def sum_of_two_numbers(a, b):\n",
    "    \"\"\"This function takes in two numbers and returns the sum of them.\"\"\"\n",
    "    return a + b"
   ]
  },
  {
   "cell_type": "markdown",
   "metadata": {},
   "source": [
    "Let's print the documentation of `sum_of_two_numbers`.\n",
    "- Using `help()`:\n",
    "    ```python\n",
    "    help(sum_of_two_numbers)\n",
    "    ```\n",
    "- Print only the docstring:\n",
    "    ```python\n",
    "    print(sum_of_two_numbers.__doc__)\n",
    "    ```"
   ]
  },
  {
   "cell_type": "code",
   "execution_count": 7,
   "metadata": {},
   "outputs": [
    {
     "name": "stdout",
     "output_type": "stream",
     "text": [
      "Help on function sum_of_two_numbers in module __main__:\n",
      "\n",
      "sum_of_two_numbers(a, b)\n",
      "    This function takes in two numbers and returns the sum of them.\n",
      "\n"
     ]
    }
   ],
   "source": [
    "help(sum_of_two_numbers)"
   ]
  },
  {
   "cell_type": "code",
   "execution_count": 6,
   "metadata": {},
   "outputs": [
    {
     "data": {
      "text/plain": [
       "'This function takes in two numbers and returns the sum of them.'"
      ]
     },
     "execution_count": 6,
     "metadata": {},
     "output_type": "execute_result"
    }
   ],
   "source": [
    "sum_of_two_numbers.__doc__"
   ]
  },
  {
   "cell_type": "markdown",
   "metadata": {},
   "source": [
    "Let's use sum_of_two_numbers by supplying two numbers to the function.\n",
    "\n",
    "```python\n",
    "print(sum_of_two_numbers(1, 2))\n",
    "```"
   ]
  },
  {
   "cell_type": "code",
   "execution_count": 8,
   "metadata": {},
   "outputs": [
    {
     "name": "stdout",
     "output_type": "stream",
     "text": [
      "3\n"
     ]
    }
   ],
   "source": [
    "print(sum_of_two_numbers(1, 2))"
   ]
  },
  {
   "cell_type": "markdown",
   "metadata": {},
   "source": [
    "We can save the result(s) of the function by assigning a variable to it. \n",
    "\n",
    "**NOTE:** Python exits the function immediately after encountering a `return` statement. It will then the value on the right hand side to the calling context. Thus, in our case, it will assign the value `a + b` to the variable `c`."
   ]
  },
  {
   "cell_type": "code",
   "execution_count": 9,
   "metadata": {},
   "outputs": [
    {
     "name": "stdout",
     "output_type": "stream",
     "text": [
      "35\n"
     ]
    }
   ],
   "source": [
    "c = sum_of_two_numbers(10, 25)\n",
    "print(c)"
   ]
  },
  {
   "cell_type": "markdown",
   "metadata": {},
   "source": [
    "What if we define `sum_of_two_numbers()` as follows:\n",
    "\n",
    "```python\n",
    "def sum_of_two_numbers(a, b):\n",
    "    a + b\n",
    "```\n",
    "\n",
    "If we didn't add the `return` keyword, the function would return `None`."
   ]
  },
  {
   "cell_type": "code",
   "execution_count": 11,
   "metadata": {},
   "outputs": [
    {
     "name": "stdout",
     "output_type": "stream",
     "text": [
      "None\n"
     ]
    }
   ],
   "source": [
    "def sum_of_two_numbers(a, b):\n",
    "    a + b\n",
    "\n",
    "print(sum_of_two_numbers(10, 25))"
   ]
  },
  {
   "cell_type": "markdown",
   "metadata": {},
   "source": [
    "**Exercise**\n",
    "\n",
    "1. Define a function `sum_func(n)` which takes in a single number `n` as the input argument.\n",
    "1. Check that `n` is a positive integer. If not, return `None`.\n",
    "1. Use **list comprehension** to create a list of the squares of the first `n` natural numbers.\n",
    "1. Return the sum of the even numbers in the list generated in the previous step.\n",
    "1. Write a **docstring** for the functioni `sum_func(n)` which states clearly what the function does.\n",
    "1. Print the **docstring** to the screen.\n",
    "\n",
    "```python\n",
    "def sum_func(n):\n",
    "    \"\"\"docstring\"\"\"\n",
    "    pass\n",
    "\n",
    "print(sum_func(5)) # should return 20\n",
    "```"
   ]
  },
  {
   "cell_type": "code",
   "execution_count": 19,
   "metadata": {},
   "outputs": [
    {
     "name": "stdout",
     "output_type": "stream",
     "text": [
      "20\n",
      "This function takes in a number and generate a list of squared numbers from 0 to n.\n",
      "    The function returns the sum of all even numbers in the generated list.\n",
      "    \n"
     ]
    }
   ],
   "source": [
    "# [TODO]\n",
    "\n",
    "def sum_func(n):\n",
    "    \"\"\"This function takes in a number and generate a list of squared numbers from 0 to n.\n",
    "    The function returns the sum of all even numbers in the generated list.\n",
    "    \"\"\"\n",
    "    if n <= 0:\n",
    "        return None\n",
    "\n",
    "    return sum([(i**2) for i in range(n) if (i**2) % 2 ==0])\n",
    "\n",
    "print(sum_func(5))\n",
    "print(sum_func.__doc__)"
   ]
  },
  {
   "cell_type": "markdown",
   "metadata": {},
   "source": [
    "**Scope of a variable** is the context in which it is used. Parameters and variables defined inside a function will only exist inside the function. For example, if we define a variable `x` in a function, it is only available inside that function.\n",
    "\n",
    "The **lifetime of a variable** is the time during which it is used. For example, if we define a variable `x` in a function, it will be available until the end of the function. `x` will be destroyed after the function finishes running. \n",
    "\n",
    "Let's take a look at the following example.\n",
    "\n",
    "```python\n",
    "def some_func():\n",
    "    x = 10\n",
    "    print(x)\n",
    "\n",
    "x = 100\n",
    "some_func() # prints 10\n",
    "\n",
    "print(x) # prints 100\n",
    "```\n",
    "\n",
    "Initially, `x` is assigned to the value of `100`. In the next step, `some_func()` is called, and another variable `x` is defined within the scope of the function `some_func()` and is assigned to the value of `10`. Thus, the `print(x)` within `some_func()` will print `10`, which is the value of `x` when it was defined in the function. The second `print(x)` is outside of `some_func()`, and thus it will print `100`, which is the value of `x` when it was defined outside of the function. The `x` inside and outside of `some_func()` are different variables with different scopes despite sharing the same name."
   ]
  },
  {
   "cell_type": "code",
   "execution_count": 20,
   "metadata": {},
   "outputs": [
    {
     "name": "stdout",
     "output_type": "stream",
     "text": [
      "10\n",
      "100\n"
     ]
    }
   ],
   "source": [
    "def some_func():\n",
    "    x = 10\n",
    "    print(x)\n",
    "\n",
    "x = 100\n",
    "some_func()\n",
    "\n",
    "print(x)"
   ]
  },
  {
   "cell_type": "markdown",
   "metadata": {},
   "source": [
    "**Exercise**\n",
    "\n",
    "Without running the program below, what would be the output of the following code?\n",
    "\n",
    "```python\n",
    "x = 100\n",
    "\n",
    "def some_func():\n",
    "    print(x)\n",
    "\n",
    "some_func()\n",
    "```"
   ]
  },
  {
   "cell_type": "code",
   "execution_count": 26,
   "metadata": {},
   "outputs": [
    {
     "name": "stdout",
     "output_type": "stream",
     "text": [
      "100\n"
     ]
    }
   ],
   "source": [
    "# [TODO]\n",
    "\n",
    "x = 100\n",
    "\n",
    "def some_func():\n",
    "    print(x)\n",
    "\n",
    "some_func()"
   ]
  },
  {
   "cell_type": "markdown",
   "metadata": {},
   "source": [
    "`some_func()` returns `100` because `x` is defined outside of the function. Variables defined outside of the function are visible from the inside and have `global` scope. We can read these variables from within the function, but we cannot write to them. Thus, the following program will return an error.\n",
    "\n",
    "```python\n",
    "x = 100\n",
    "\n",
    "def some_func():\n",
    "    x += 1\n",
    "    print(x) # UnboundLocalError: local variable 'x' referenced before assignment\n",
    "\n",
    "some_func()\n",
    "```"
   ]
  },
  {
   "cell_type": "markdown",
   "metadata": {},
   "source": [
    "In order to modify `global` variable inside a function, we need to use the `global` keyword.\n",
    "\n",
    "```python\n",
    "x = 100\n",
    "\n",
    "def some_func():\n",
    "    global x\n",
    "    print(x) # prints 100\n",
    "    \n",
    "    x += 1\n",
    "    print(x) # prints 101\n",
    "\n",
    "some_func()\n",
    "```"
   ]
  },
  {
   "cell_type": "code",
   "execution_count": null,
   "metadata": {},
   "outputs": [],
   "source": []
  }
 ],
 "metadata": {
  "kernelspec": {
   "display_name": "Python 3.9.12 ('base')",
   "language": "python",
   "name": "python3"
  },
  "language_info": {
   "codemirror_mode": {
    "name": "ipython",
    "version": 3
   },
   "file_extension": ".py",
   "mimetype": "text/x-python",
   "name": "python",
   "nbconvert_exporter": "python",
   "pygments_lexer": "ipython3",
   "version": "3.9.12"
  },
  "orig_nbformat": 4,
  "vscode": {
   "interpreter": {
    "hash": "e720081de2fd57dd700935953acd9dd6610ea2e1d5e7379bea03675c6c751eb5"
   }
  }
 },
 "nbformat": 4,
 "nbformat_minor": 2
}
