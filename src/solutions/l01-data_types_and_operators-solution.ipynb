{
 "cells": [
  {
   "cell_type": "markdown",
   "metadata": {},
   "source": [
    "# Printing\n",
    "Use `print()` method to print to the screen.\n",
    "- print `\"Hello, world\"`."
   ]
  },
  {
   "cell_type": "code",
   "execution_count": 1,
   "metadata": {},
   "outputs": [
    {
     "name": "stdout",
     "output_type": "stream",
     "text": [
      "Hello, world\n"
     ]
    }
   ],
   "source": [
    "print(\"Hello, world\")"
   ]
  },
  {
   "cell_type": "markdown",
   "metadata": {},
   "source": [
    "**Exercise**\n",
    "\n",
    "Use `print()` to print the following messages to the screen: \n",
    "- `\"Tôi đang học khóa học Python for Data Science\"`.\n",
    "- `\"Tôi rất mê CodingMentor\"`"
   ]
  },
  {
   "cell_type": "code",
   "execution_count": 14,
   "metadata": {},
   "outputs": [
    {
     "name": "stdout",
     "output_type": "stream",
     "text": [
      "Tôi đang học khóa học Python for Data Science\n",
      "Tôi rất mê CodingMentor\n"
     ]
    }
   ],
   "source": [
    "# [TODO]\n",
    "print(\"Tôi đang học khóa học Python for Data Science\")\n",
    "print(\"Tôi rất mê CodingMentor\")"
   ]
  },
  {
   "cell_type": "markdown",
   "metadata": {},
   "source": [
    "# Arithmetic\n",
    "\n",
    "Basic arithmetic operations in Python:\n",
    "|Operation|Symbol|Example|\n",
    "|:-|:-:|:-:|\n",
    "|Addition|`+`|`1 + 1`|\n",
    "|Subtraction|`-`|`1 - 1`|\n",
    "|Multiplication|`*`|`2 * 2`|\n",
    "|Division|`/`|`5 / 2`|\n",
    "|Division without remainder|`//`|`5 // 2`|\n",
    "|Modulo|`%`|`5 % 2`|\n",
    "|Exponent|`**`|`2 ** 3`|"
   ]
  },
  {
   "cell_type": "markdown",
   "metadata": {},
   "source": [
    "Use parentheses to control the order of the operations\n",
    "`((1 + 2) * 3) // 4`"
   ]
  },
  {
   "cell_type": "code",
   "execution_count": 2,
   "metadata": {},
   "outputs": [
    {
     "data": {
      "text/plain": [
       "2"
      ]
     },
     "execution_count": 2,
     "metadata": {},
     "output_type": "execute_result"
    }
   ],
   "source": [
    "((1 + 2) * 3) // 4"
   ]
  },
  {
   "cell_type": "markdown",
   "metadata": {},
   "source": [
    "**Exercise**\n",
    "\n",
    "Find the area of a rectangle with width `17 cm` and height `33 cm`. The formula is `Area = Width * Height`. In this exercise, there are concepts such as `f-string` and `if conditional statement`. These concepts will be covered in more details later in the course."
   ]
  },
  {
   "cell_type": "code",
   "execution_count": 3,
   "metadata": {},
   "outputs": [
    {
     "name": "stdout",
     "output_type": "stream",
     "text": [
      "561\n"
     ]
    }
   ],
   "source": [
    "# [TODO]\n",
    "rectangle_area = 17 * 33\n",
    "print(rectangle_area)"
   ]
  },
  {
   "cell_type": "code",
   "execution_count": 4,
   "metadata": {},
   "outputs": [],
   "source": [
    "# Uncomment the following line to check if you have done it correctly\n",
    "# if (rectangle_area != (17 * 33)):\n",
    "#     print(f\"Diện tích hình chữ nhật là {17 * 33} cm2. Bạn đã tính sai.\")"
   ]
  },
  {
   "cell_type": "markdown",
   "metadata": {},
   "source": [
    "**Exercise**\n",
    "\n",
    "Find the remainder of the division of `1000` by `7` and assign the result to a variable called `remainder`."
   ]
  },
  {
   "cell_type": "code",
   "execution_count": 6,
   "metadata": {},
   "outputs": [],
   "source": [
    "# [TODO]\n",
    "remainder = 1000 % 7"
   ]
  },
  {
   "cell_type": "code",
   "execution_count": 2,
   "metadata": {},
   "outputs": [
    {
     "name": "stdout",
     "output_type": "stream",
     "text": [
      "Sô dư của phép chia 1000 cho 7 là 6. Bạn đã tính sai.\n"
     ]
    }
   ],
   "source": [
    "# Uncomment the following line to check if you have done it correctly\n",
    "# if (remainder != (1000 % 7)):\n",
    "#     print(f\"Sô dư của phép chia 1000 cho 7 là {1000 % 7}. Bạn đã tính sai.\")"
   ]
  },
  {
   "cell_type": "markdown",
   "metadata": {},
   "source": [
    "# Variables\n",
    "\n",
    "Previously, you have seen how to create a `variable` and assign a value to it. In general, you can create a `variable` by choosing a name for the `variable`. The name of the `variable` has to satisfy the following rules:\n",
    "- It should be short and descriptive.\n",
    "- It can only contain letters, numbers, and underscores (e.g., `my name` is not allowed. `my_name` is allowed).\n",
    "- It **CANNOT** start with a number (e.g., `1name` is not allowed. `name1` is allowed)."
   ]
  },
  {
   "cell_type": "code",
   "execution_count": 8,
   "metadata": {},
   "outputs": [],
   "source": [
    "this_is_a_super_duper_long_variable_name_and_it_is_not_a_good_idea = 5"
   ]
  },
  {
   "cell_type": "code",
   "execution_count": 9,
   "metadata": {},
   "outputs": [
    {
     "ename": "SyntaxError",
     "evalue": "invalid syntax (1731700577.py, line 1)",
     "output_type": "error",
     "traceback": [
      "\u001b[0;36m  Input \u001b[0;32mIn [9]\u001b[0;36m\u001b[0m\n\u001b[0;31m    my name = \"Leo\"\u001b[0m\n\u001b[0m       ^\u001b[0m\n\u001b[0;31mSyntaxError\u001b[0m\u001b[0;31m:\u001b[0m invalid syntax\n"
     ]
    }
   ],
   "source": [
    "my name = \"Leo\""
   ]
  },
  {
   "cell_type": "code",
   "execution_count": 10,
   "metadata": {},
   "outputs": [
    {
     "ename": "SyntaxError",
     "evalue": "invalid decimal literal (1571191690.py, line 1)",
     "output_type": "error",
     "traceback": [
      "\u001b[0;36m  Input \u001b[0;32mIn [10]\u001b[0;36m\u001b[0m\n\u001b[0;31m    1name = \"Leo\"\u001b[0m\n\u001b[0m    ^\u001b[0m\n\u001b[0;31mSyntaxError\u001b[0m\u001b[0;31m:\u001b[0m invalid decimal literal\n"
     ]
    }
   ],
   "source": [
    "1name = \"Leo\""
   ]
  },
  {
   "cell_type": "markdown",
   "metadata": {},
   "source": [
    "**Exercise**\n",
    "\n",
    "Create a variable `my_name` and assign it the value of **your name**. For example, `my_name = \"Leo\"`.\n",
    "- `=` is the assignment operator. This is how you assign a value to a variable.\n",
    "\n",
    "Use `print()` to print `my_name` to the screen."
   ]
  },
  {
   "cell_type": "code",
   "execution_count": 12,
   "metadata": {},
   "outputs": [
    {
     "name": "stdout",
     "output_type": "stream",
     "text": [
      "Tôi tên là Leo.\n"
     ]
    }
   ],
   "source": [
    "# [TODO]\n",
    "my_name = \"Leo\""
   ]
  },
  {
   "cell_type": "code",
   "execution_count": null,
   "metadata": {},
   "outputs": [],
   "source": [
    "# Uncomment the following line to check if you have done it correctly\n",
    "# if isinstance(my_name, str):\n",
    "#     print(f\"Tôi tên là {my_name}.\")\n",
    "# else:\n",
    "#     print(\"Hãy điền tên của bạn.\")"
   ]
  },
  {
   "cell_type": "markdown",
   "metadata": {},
   "source": [
    "## Manipulating variables\n",
    "\n",
    "![manipulate_variable](../../images/manipulate_variable.png)"
   ]
  },
  {
   "cell_type": "code",
   "execution_count": 46,
   "metadata": {},
   "outputs": [
    {
     "name": "stdout",
     "output_type": "stream",
     "text": [
      "Tôi rất đẹp trai.\n"
     ]
    }
   ],
   "source": [
    "# set the value of the variable to \"đẹp trai\"\n",
    "characteristic = \"đẹp trai\"\n",
    "\n",
    "# print the value of the variable\n",
    "print(f\"Tôi rất {characteristic}.\")"
   ]
  },
  {
   "cell_type": "code",
   "execution_count": 42,
   "metadata": {},
   "outputs": [
    {
     "name": "stdout",
     "output_type": "stream",
     "text": [
      "Tôi rất xinh gái.\n"
     ]
    }
   ],
   "source": [
    "# let's change the value of the variable to \"xinh gái\"\n",
    "characteristic = \"xinh gái\"\n",
    "\n",
    "# print the new value of the variable\n",
    "print(f\"Tôi rất {characteristic}.\")"
   ]
  },
  {
   "cell_type": "markdown",
   "metadata": {},
   "source": [
    "**Exercise**\n",
    "\n",
    "- Create a variable `my_height` and assign it the value of **your height** in centimeters.\n",
    "- Print the value of `my_height` to the screen.\n",
    "- Increase the value of `my_height` by 10 centimeters.\n",
    "- Print the new value of `my_height` to the screen."
   ]
  },
  {
   "cell_type": "code",
   "execution_count": 19,
   "metadata": {},
   "outputs": [
    {
     "name": "stdout",
     "output_type": "stream",
     "text": [
      "Tôi cao 180 cm.\n",
      "Tôi cao 190 cm.\n"
     ]
    }
   ],
   "source": [
    "# TODO: Create a variable `my_height` and assign it the value of your height in centimeters\n",
    "my_height = 180\n",
    "\n",
    "# TODO: Print the value of `my_height` to the screen\n",
    "print(f\"Tôi cao {my_height} cm.\")\n",
    "\n",
    "# TODO: Increase the value of `my_height` by 10 centimeters\n",
    "my_height = my_height + 10\n",
    "\n",
    "# TODO: Print the new value of `my_height` to the screen\n",
    "print(f\"Tôi cao {my_height} cm.\")"
   ]
  },
  {
   "cell_type": "markdown",
   "metadata": {},
   "source": [
    "## Using multiple variables\n",
    "\n",
    "Calculate your height in inches."
   ]
  },
  {
   "cell_type": "code",
   "execution_count": 20,
   "metadata": {},
   "outputs": [
    {
     "name": "stdout",
     "output_type": "stream",
     "text": [
      "Tôi cao 180 cm.\n",
      "Tôi cao 70.87 inch.\n"
     ]
    }
   ],
   "source": [
    "# [TODO] Create a variable `my_height` and assign it the value of your height in centimetres\n",
    "my_height = 180\n",
    "\n",
    "# [TODO] Print your height in centimetres to the screen\n",
    "print(f\"Tôi cao {my_height} cm.\")\n",
    "\n",
    "# [TODO] cm to inch\n",
    "cm_to_inch = 2.54\n",
    "\n",
    "# [TODO] Print your height in inches to the screen\n",
    "print(f\"Tôi cao {(my_height / cm_to_inch):.2f} inch.\")"
   ]
  },
  {
   "cell_type": "markdown",
   "metadata": {},
   "source": [
    "**Exercise**\n",
    "\n",
    "Calculate your height in feet.\n",
    "- `1 ft = 12 in`"
   ]
  },
  {
   "cell_type": "code",
   "execution_count": 22,
   "metadata": {},
   "outputs": [
    {
     "name": "stdout",
     "output_type": "stream",
     "text": [
      "Tôi cao 5.91 feet.\n"
     ]
    }
   ],
   "source": [
    "my_height = 180\n",
    "cm_to_inch = 2.54\n",
    "ft_to_inch = 12\n",
    "\n",
    "# [TODO] Print your height in feet to the screen\n",
    "print(f\"Tôi cao {((my_height/cm_to_inch)/ft_to_inch):.2f} feet.\")"
   ]
  },
  {
   "cell_type": "markdown",
   "metadata": {},
   "source": [
    "# Basic data types\n",
    "- `int`: integer\n",
    "- `float`: floating point number\n",
    "- `bool`: boolean\n",
    "- `str`: string"
   ]
  },
  {
   "cell_type": "markdown",
   "metadata": {},
   "source": [
    "## Integer\n",
    "\n",
    "An integer is a number that can be written without a fractional component. E.g. `1`, `2`, `-3`, etc."
   ]
  },
  {
   "cell_type": "code",
   "execution_count": 23,
   "metadata": {},
   "outputs": [
    {
     "name": "stdout",
     "output_type": "stream",
     "text": [
      "100\n",
      "<class 'int'>\n"
     ]
    }
   ],
   "source": [
    "var_int = 100\n",
    "print(var_int)\n",
    "print(type(var_int))"
   ]
  },
  {
   "cell_type": "markdown",
   "metadata": {},
   "source": [
    "## Float\n",
    "\n",
    "A float is a number with fractional parts. E.g. `1.0`, `2.0123`, `-3.0234`, etc."
   ]
  },
  {
   "cell_type": "code",
   "execution_count": 24,
   "metadata": {},
   "outputs": [
    {
     "name": "stdout",
     "output_type": "stream",
     "text": [
      "3.141592653589793\n",
      "<class 'float'>\n"
     ]
    }
   ],
   "source": [
    "var_float = 3.141592653589793\n",
    "print(var_float)\n",
    "print(type(var_float))"
   ]
  },
  {
   "cell_type": "code",
   "execution_count": 38,
   "metadata": {},
   "outputs": [
    {
     "name": "stdout",
     "output_type": "stream",
     "text": [
      "2.5\n",
      "<class 'float'>\n"
     ]
    }
   ],
   "source": [
    "var_float = 5/2\n",
    "print(var_float)\n",
    "print(type(var_float))"
   ]
  },
  {
   "cell_type": "markdown",
   "metadata": {},
   "source": [
    "## Boolean\n",
    "\n",
    "A boolean represents a value that can be either `True` or `False`."
   ]
  },
  {
   "cell_type": "code",
   "execution_count": 26,
   "metadata": {},
   "outputs": [
    {
     "name": "stdout",
     "output_type": "stream",
     "text": [
      "True\n",
      "<class 'bool'>\n"
     ]
    }
   ],
   "source": [
    "var_bool = True\n",
    "print(var_bool)\n",
    "print(type(var_bool))"
   ]
  },
  {
   "cell_type": "markdown",
   "metadata": {},
   "source": [
    "Booleans are used to represent the truth value of an expression. Since `1 > 2` is a false statement, `var_bool2` is `False`."
   ]
  },
  {
   "cell_type": "code",
   "execution_count": 42,
   "metadata": {},
   "outputs": [
    {
     "name": "stdout",
     "output_type": "stream",
     "text": [
      "False\n",
      "<class 'bool'>\n"
     ]
    }
   ],
   "source": [
    "var_bool = 1 > 2\n",
    "print(var_bool)\n",
    "print(type(var_bool))"
   ]
  },
  {
   "cell_type": "markdown",
   "metadata": {},
   "source": [
    "Switch value of `var_bool2` to `True` by using `not` operator."
   ]
  },
  {
   "cell_type": "code",
   "execution_count": 43,
   "metadata": {},
   "outputs": [
    {
     "name": "stdout",
     "output_type": "stream",
     "text": [
      "True\n",
      "<class 'bool'>\n"
     ]
    }
   ],
   "source": [
    "var_bool2 = not(var_bool)\n",
    "print(var_bool2)\n",
    "print(type(var_bool2))"
   ]
  },
  {
   "cell_type": "markdown",
   "metadata": {},
   "source": [
    "## String\n",
    "\n",
    "A string is a collection of characters that are enclosed in single or double quotes."
   ]
  },
  {
   "cell_type": "code",
   "execution_count": 32,
   "metadata": {},
   "outputs": [
    {
     "name": "stdout",
     "output_type": "stream",
     "text": [
      "Tôi đang học khóa học Python for Data Science\n",
      "<class 'str'>\n"
     ]
    }
   ],
   "source": [
    "var_str = \"Tôi đang học khóa học Python for Data Science\"\n",
    "print(var_str)\n",
    "print(type(var_str))"
   ]
  },
  {
   "cell_type": "markdown",
   "metadata": {},
   "source": [
    "Find the length of a string by using the `len()` function."
   ]
  },
  {
   "cell_type": "code",
   "execution_count": 33,
   "metadata": {},
   "outputs": [
    {
     "name": "stdout",
     "output_type": "stream",
     "text": [
      "45\n"
     ]
    }
   ],
   "source": [
    "print(len(var_str))"
   ]
  },
  {
   "cell_type": "markdown",
   "metadata": {},
   "source": [
    "**Exercise**\n",
    "\n",
    "Find the length of the following string: `\"Tôi rất mê CodingMentor\"`"
   ]
  },
  {
   "cell_type": "code",
   "execution_count": 36,
   "metadata": {},
   "outputs": [
    {
     "name": "stdout",
     "output_type": "stream",
     "text": [
      "23\n"
     ]
    }
   ],
   "source": [
    "# [TODO]\n",
    "var_str2 = \"Tôi rất mê CodingMentor\"\n",
    "print(len(var_str2))"
   ]
  },
  {
   "cell_type": "markdown",
   "metadata": {},
   "source": [
    "**Exercise**\n",
    "\n",
    "What's the datatype of the following variable?\n",
    "- `my_number = \"2022\"`"
   ]
  },
  {
   "cell_type": "code",
   "execution_count": 44,
   "metadata": {},
   "outputs": [
    {
     "name": "stdout",
     "output_type": "stream",
     "text": [
      "<class 'str'>\n"
     ]
    }
   ],
   "source": [
    "# [TODO]\n",
    "my_number_str = \"2022\"\n",
    "print(type(my_number_str))"
   ]
  },
  {
   "cell_type": "markdown",
   "metadata": {},
   "source": [
    "Convert a number string to an integer by using the `int()` function."
   ]
  },
  {
   "cell_type": "code",
   "execution_count": 47,
   "metadata": {},
   "outputs": [
    {
     "name": "stdout",
     "output_type": "stream",
     "text": [
      "<class 'int'>\n"
     ]
    }
   ],
   "source": [
    "my_number_str = \"2022\"\n",
    "my_number_int = int(my_number_str)\n",
    "print(type(my_number_int))"
   ]
  },
  {
   "cell_type": "markdown",
   "metadata": {},
   "source": [
    "Conversion doesn't work if you pass a non-numeric string to the `int()` function."
   ]
  },
  {
   "cell_type": "code",
   "execution_count": 50,
   "metadata": {},
   "outputs": [
    {
     "ename": "ValueError",
     "evalue": "invalid literal for int() with base 10: 'This is not a number'",
     "output_type": "error",
     "traceback": [
      "\u001b[0;31m---------------------------------------------------------------------------\u001b[0m",
      "\u001b[0;31mValueError\u001b[0m                                Traceback (most recent call last)",
      "\u001b[1;32m/hdd/online_teaching/python_for_data_science/src/solutions/l00-intro-solution.ipynb Cell 52'\u001b[0m in \u001b[0;36m<cell line: 2>\u001b[0;34m()\u001b[0m\n\u001b[1;32m      <a href='vscode-notebook-cell:/hdd/online_teaching/python_for_data_science/src/solutions/l00-intro-solution.ipynb#ch0000059?line=0'>1</a>\u001b[0m var_str \u001b[39m=\u001b[39m \u001b[39m\"\u001b[39m\u001b[39mThis is not a number\u001b[39m\u001b[39m\"\u001b[39m\n\u001b[0;32m----> <a href='vscode-notebook-cell:/hdd/online_teaching/python_for_data_science/src/solutions/l00-intro-solution.ipynb#ch0000059?line=1'>2</a>\u001b[0m var_int \u001b[39m=\u001b[39m \u001b[39mint\u001b[39;49m(var_str)\n",
      "\u001b[0;31mValueError\u001b[0m: invalid literal for int() with base 10: 'This is not a number'"
     ]
    }
   ],
   "source": [
    "var_str = \"This is not a number\"\n",
    "var_int = int(var_str)"
   ]
  },
  {
   "cell_type": "markdown",
   "metadata": {},
   "source": [
    "Combine 2 strings together by using the `+` operator."
   ]
  },
  {
   "cell_type": "code",
   "execution_count": 54,
   "metadata": {},
   "outputs": [
    {
     "name": "stdout",
     "output_type": "stream",
     "text": [
      "Tôi đang học khóa học Python for Data Science\n"
     ]
    }
   ],
   "source": [
    "message = \"Tôi\"\n",
    "verb = \"đang học\"\n",
    "course = \"khóa học Python for Data Science\"\n",
    "message = message + \" \" + verb + \" \" + course\n",
    "print(message)"
   ]
  },
  {
   "cell_type": "markdown",
   "metadata": {},
   "source": [
    "Multiply a string with an `int` will result in the original string repeated that many times."
   ]
  },
  {
   "cell_type": "code",
   "execution_count": 57,
   "metadata": {},
   "outputs": [
    {
     "name": "stdout",
     "output_type": "stream",
     "text": [
      "Bef: Fun\n",
      "Aft: FunFunFun\n"
     ]
    }
   ],
   "source": [
    "var_str = \"Fun\"\n",
    "print(\"Bef: \" + var_str)\n",
    "\n",
    "var_str = var_str * 3\n",
    "print(\"Aft: \" + var_str)"
   ]
  },
  {
   "cell_type": "markdown",
   "metadata": {},
   "source": [
    "What if you want to multiple a string with a `float`?"
   ]
  },
  {
   "cell_type": "code",
   "execution_count": 59,
   "metadata": {},
   "outputs": [
    {
     "ename": "TypeError",
     "evalue": "can't multiply sequence by non-int of type 'float'",
     "output_type": "error",
     "traceback": [
      "\u001b[0;31m---------------------------------------------------------------------------\u001b[0m",
      "\u001b[0;31mTypeError\u001b[0m                                 Traceback (most recent call last)",
      "\u001b[1;32m/hdd/online_teaching/python_for_data_science/src/solutions/l00-intro-solution.ipynb Cell 59'\u001b[0m in \u001b[0;36m<cell line: 2>\u001b[0;34m()\u001b[0m\n\u001b[1;32m      <a href='vscode-notebook-cell:/hdd/online_teaching/python_for_data_science/src/solutions/l00-intro-solution.ipynb#ch0000062?line=0'>1</a>\u001b[0m var_str \u001b[39m=\u001b[39m \u001b[39m\"\u001b[39m\u001b[39mFun\u001b[39m\u001b[39m\"\u001b[39m\n\u001b[0;32m----> <a href='vscode-notebook-cell:/hdd/online_teaching/python_for_data_science/src/solutions/l00-intro-solution.ipynb#ch0000062?line=1'>2</a>\u001b[0m var_str \u001b[39m=\u001b[39m var_str \u001b[39m*\u001b[39;49m \u001b[39m3.\u001b[39;49m\n\u001b[1;32m      <a href='vscode-notebook-cell:/hdd/online_teaching/python_for_data_science/src/solutions/l00-intro-solution.ipynb#ch0000062?line=2'>3</a>\u001b[0m \u001b[39mprint\u001b[39m(var_str)\n",
      "\u001b[0;31mTypeError\u001b[0m: can't multiply sequence by non-int of type 'float'"
     ]
    }
   ],
   "source": [
    "var_str = \"Fun\"\n",
    "var_str = var_str * 3.\n",
    "print(var_str)"
   ]
  }
 ],
 "metadata": {
  "interpreter": {
   "hash": "358e9616752268581ae8042f297ac07aa0f075cc4b1c7c99fe72d1bc7b9b6a95"
  },
  "kernelspec": {
   "display_name": "Python 3.10.4 ('pyds')",
   "language": "python",
   "name": "python3"
  },
  "language_info": {
   "codemirror_mode": {
    "name": "ipython",
    "version": 3
   },
   "file_extension": ".py",
   "mimetype": "text/x-python",
   "name": "python",
   "nbconvert_exporter": "python",
   "pygments_lexer": "ipython3",
   "version": "3.10.4"
  },
  "orig_nbformat": 4
 },
 "nbformat": 4,
 "nbformat_minor": 2
}
