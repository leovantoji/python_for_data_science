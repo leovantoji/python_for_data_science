{
 "cells": [
  {
   "cell_type": "markdown",
   "metadata": {},
   "source": [
    "# Conditionals\n",
    "\n",
    "Last week, we learned about **Booleans**, which are values that can be either `true` or `false`. We have also covered **logical and comparison operators**. Conditional statements, often known as `if-else` statements, are used to perform different actions based on values of some Boolean conditions."
   ]
  },
  {
   "cell_type": "markdown",
   "metadata": {},
   "source": [
    "`if` statement syntax:\n",
    "\n",
    "```python\n",
    "if condition:\n",
    "    statements\n",
    "```\n",
    "\n",
    "![image](../../images/if-statement.png)"
   ]
  },
  {
   "cell_type": "markdown",
   "metadata": {},
   "source": [
    "`if-else` statement syntax:\n",
    "\n",
    "```python\n",
    "if condition:\n",
    "    statements\n",
    "else:\n",
    "    statements\n",
    "```\n",
    "\n",
    "![image](../../images/if-else-statement.png)"
   ]
  },
  {
   "cell_type": "markdown",
   "metadata": {},
   "source": [
    "`if-elif-else` statement syntax:\n",
    "```python\n",
    "if condition_1:\n",
    "    statements\n",
    "elif condition_2:\n",
    "    statements\n",
    "else:\n",
    "    statements\n",
    "```\n",
    "\n",
    "![image](../../images/if-elif-else-statement.png)"
   ]
  },
  {
   "cell_type": "markdown",
   "metadata": {},
   "source": [
    "Let's work on a simple example.\n",
    "1. Choose a number by running the cell below and typing in a number.\n",
    "    - `input()` is used to prompt the user for input.\n",
    "1. Observe the usage of the `if-else` statement and see how it works."
   ]
  },
  {
   "cell_type": "code",
   "execution_count": 14,
   "metadata": {},
   "outputs": [
    {
     "name": "stdout",
     "output_type": "stream",
     "text": [
      "Your chosen number is 1000\n"
     ]
    }
   ],
   "source": [
    "number = int(input(\"Choose a number: \"))\n",
    "print(f\"Your chosen number is {number}\")"
   ]
  },
  {
   "cell_type": "code",
   "execution_count": 15,
   "metadata": {},
   "outputs": [
    {
     "name": "stdout",
     "output_type": "stream",
     "text": [
      "1000 is greater than 100.\n"
     ]
    }
   ],
   "source": [
    "if number > 100:\n",
    "    print(f\"{number} is greater than 100.\")\n",
    "elif number == 100:\n",
    "    print(f\"{number} is equal to 100.\")\n",
    "else:\n",
    "    print(f\"{number} is less than 100.\")"
   ]
  },
  {
   "cell_type": "markdown",
   "metadata": {},
   "source": [
    "Let's write another `if-else` block to check if the number is even or odd."
   ]
  },
  {
   "cell_type": "code",
   "execution_count": 28,
   "metadata": {},
   "outputs": [
    {
     "name": "stdout",
     "output_type": "stream",
     "text": [
      "1000 is even.\n"
     ]
    }
   ],
   "source": [
    "if number % 2 == 0:\n",
    "    print(f\"{number} is even.\")\n",
    "else:\n",
    "    print(f\"{number} is odd.\")"
   ]
  },
  {
   "cell_type": "markdown",
   "metadata": {},
   "source": [
    "**Exercise**\n",
    "\n",
    "1. Use the above examples, prompt the user for an input and assign the input to a variable called `day_of_week`.\n",
    "1. Use the `if-else` statement to print out the following:\n",
    "    - If the input is `Monday`, print out `It's Monday!`\n",
    "    - If the input is `Tuesday`, print out `It's Tuesday!`\n",
    "    - If the input is `Wednesday`, print out `It's Wednesday!`\n",
    "    - If the input is `Thursday`, print out `It's Thursday!`\n",
    "    - If the input is `Friday`, print out `It's Friday!`\n",
    "    - If the input is `Saturday`, print out `It's Saturday!`\n",
    "    - If the input is `Sunday`, print out `It's Sunday!`\n",
    "    - If the input is anything else, print out `That's not a day of the week!!`"
   ]
  },
  {
   "cell_type": "code",
   "execution_count": 26,
   "metadata": {},
   "outputs": [
    {
     "name": "stdout",
     "output_type": "stream",
     "text": [
      "It's Sunday!\n"
     ]
    }
   ],
   "source": [
    "# [TODO]\n",
    "day_of_week = input(\"What day is it? \")\n",
    "\n",
    "if day_of_week.lower() == \"monday\":\n",
    "    print(\"It's Monday!\")\n",
    "elif day_of_week.lower() == \"tuesday\":\n",
    "    print(\"It's Tuesday!\")\n",
    "elif day_of_week.lower() == \"wednesday\":\n",
    "    print(\"It's Wednesday!\")\n",
    "elif day_of_week.lower() == \"thursday\":\n",
    "    print(\"It's Thursday!\")\n",
    "elif day_of_week.lower() == \"friday\":\n",
    "    print(\"It's Friday!\")\n",
    "elif day_of_week.lower() == \"saturday\":\n",
    "    print(\"It's Saturday!\")\n",
    "elif day_of_week.lower() == \"sunday\":\n",
    "    print(\"It's Sunday!\")\n",
    "else:\n",
    "    print(\"That's not a day of the week!\")"
   ]
  },
  {
   "cell_type": "markdown",
   "metadata": {},
   "source": [
    "**Exercise**\n",
    "\n",
    "Continuing from the previous exercise, let's use `if-else` statement to check if `day_of_week` is a weekday or a weekend day.\n",
    "- **BONUS**: You should also check if the input is a valid day of the week."
   ]
  },
  {
   "cell_type": "code",
   "execution_count": 27,
   "metadata": {},
   "outputs": [
    {
     "name": "stdout",
     "output_type": "stream",
     "text": [
      "sunday is a weekend day.\n"
     ]
    }
   ],
   "source": [
    "# [TODO]\n",
    "\n",
    "if day_of_week.lower() not in (\"monday\", \"tuesday\", \"wednesday\", \"thursday\", \"friday\", \"saturday\", \"sunday\"):\n",
    "    print(\"That's not a valid day of the week.\")\n",
    "    exit(1)\n",
    "elif day_of_week.lower() in (\"monday\", \"tuesday\", \"wednesday\", \"thursday\", \"friday\"):\n",
    "    print(f\"{day_of_week} is a weekday.\")\n",
    "else:\n",
    "    print(f\"{day_of_week} is a weekend day.\")"
   ]
  },
  {
   "cell_type": "markdown",
   "metadata": {},
   "source": [
    "# Lists\n",
    "\n",
    "**Lists** are a data structure that can store multiple values of different types in a single variable. Lists are created using square brackets.\n",
    "\n",
    "Examples:\n",
    "1. List of prime numbers: \n",
    "    ```python\n",
    "    prime_numbers = [2, 3, 5, 7, 11, 13, 17, 19, 23, 29]\n",
    "    ```\n",
    "1. List of names:\n",
    "    ```python\n",
    "    names = [\"John\", \"Jane\", \"Mary\", \"Bob\"]\n",
    "    ```\n",
    "1. List of booleans:\n",
    "    ```python\n",
    "    booleans = [True, False, True, False]\n",
    "    ```\n",
    "1. Random list:\n",
    "    ```python\n",
    "    random_list = [1, \"two\", 3.0, \"four\"]\n",
    "    ```\n"
   ]
  },
  {
   "cell_type": "code",
   "execution_count": 68,
   "metadata": {},
   "outputs": [
    {
     "name": "stdout",
     "output_type": "stream",
     "text": [
      "['coffee', 'tea', 'beer', 'wine', 'juice']\n",
      "<class 'list'>\n"
     ]
    }
   ],
   "source": [
    "# create a list of drinks\n",
    "drinks = [\"coffee\", \"tea\", \"beer\", \"wine\", \"juice\"]\n",
    "\n",
    "# print the list to the screen\n",
    "print(drinks)\n",
    "\n",
    "# print the type of the list\n",
    "print(type(drinks))"
   ]
  },
  {
   "cell_type": "markdown",
   "metadata": {},
   "source": [
    "## List items:\n",
    "\n",
    "1. **Ordered**: Items in a list are ordered by their position in the list. The first item in the list is at position `0`, the second item is at position `1`, and so on.\n",
    "1. **Changeable**: We can change, add, and remove items in a list after the list has been created.\n",
    "1. **Allow duplicates**: List can have items with the same value.\n",
    "\n",
    "![image](../../images/index_python.png)"
   ]
  },
  {
   "cell_type": "code",
   "execution_count": 69,
   "metadata": {},
   "outputs": [
    {
     "name": "stdout",
     "output_type": "stream",
     "text": [
      "The 3rd item in the list ['coffee', 'tea', 'beer', 'wine', 'juice'] is beer\n"
     ]
    }
   ],
   "source": [
    "# print the 3rd item on the list\n",
    "print(f\"The 3rd item in the list {drinks} is {drinks[2]}\")"
   ]
  },
  {
   "cell_type": "code",
   "execution_count": 70,
   "metadata": {},
   "outputs": [
    {
     "name": "stdout",
     "output_type": "stream",
     "text": [
      "Before\n",
      "\n",
      "['coffee', 'tea', 'beer', 'wine', 'juice']\n",
      "\n",
      "After\n",
      "\n",
      "['coffee', 'tea', 'whiskey', 'wine', 'juice']\n"
     ]
    }
   ],
   "source": [
    "print(f\"Before\\n\")\n",
    "print(drinks)\n",
    "\n",
    "# change the 3rd item on the list to \"whiskey\"\n",
    "drinks[2] = \"whiskey\"\n",
    "\n",
    "print(f\"\\nAfter\\n\")\n",
    "print(drinks)"
   ]
  },
  {
   "cell_type": "code",
   "execution_count": 71,
   "metadata": {},
   "outputs": [
    {
     "name": "stdout",
     "output_type": "stream",
     "text": [
      "Before\n",
      "\n",
      "['coffee', 'tea', 'whiskey', 'wine', 'juice']\n",
      "\n",
      "After\n",
      "\n",
      "['coffee', 'tea', 'whiskey', 'wine', 'juice', 'beer']\n"
     ]
    }
   ],
   "source": [
    "print(f\"Before\\n\")\n",
    "print(drinks)\n",
    "\n",
    "# add `beer` to the end of the list\n",
    "drinks.append(\"beer\")\n",
    "\n",
    "print(f\"\\nAfter\\n\")\n",
    "print(drinks)"
   ]
  },
  {
   "cell_type": "code",
   "execution_count": 72,
   "metadata": {},
   "outputs": [
    {
     "name": "stdout",
     "output_type": "stream",
     "text": [
      "Before\n",
      "\n",
      "['coffee', 'tea', 'whiskey', 'wine', 'juice', 'beer']\n",
      "\n",
      "After\n",
      "\n",
      "['coffee', 'tea', 'whiskey', 'wine', 'beer']\n"
     ]
    }
   ],
   "source": [
    "print(f\"Before\\n\")\n",
    "print(drinks)\n",
    "\n",
    "# remove `juice` from the list\n",
    "drinks.remove(\"juice\")\n",
    "# del drinks[5]\n",
    "# drinks.pop(5)\n",
    "\n",
    "print(f\"\\nAfter\\n\")\n",
    "print(drinks)"
   ]
  },
  {
   "cell_type": "code",
   "execution_count": 73,
   "metadata": {},
   "outputs": [
    {
     "name": "stdout",
     "output_type": "stream",
     "text": [
      "Before\n",
      "\n",
      "['coffee', 'tea', 'whiskey', 'wine', 'beer']\n",
      "\n",
      "After\n",
      "\n",
      "['coffee', 'tea', 'whiskey', 'wine', 'beer', 'cocktails', 'mocktails', 'margarita', 'mojito']\n"
     ]
    }
   ],
   "source": [
    "print(f\"Before\\n\")\n",
    "print(drinks)\n",
    "\n",
    "# create another list of drinks\n",
    "another_drinks = [\"cocktails\", \"mocktails\", \"margarita\", \"mojito\"]\n",
    "\n",
    "# append another_drinks to drinks\n",
    "drinks.extend(another_drinks)\n",
    "\n",
    "print(f\"\\nAfter\\n\")\n",
    "print(drinks)"
   ]
  },
  {
   "cell_type": "markdown",
   "metadata": {},
   "source": [
    "**Exercise**\n",
    "\n",
    "- Create a list of numbers within the range of 0 to 9.\n",
    "- Print that list to the screen.\n",
    "- Print the type of the list to the screen."
   ]
  },
  {
   "cell_type": "code",
   "execution_count": 49,
   "metadata": {},
   "outputs": [
    {
     "name": "stdout",
     "output_type": "stream",
     "text": [
      "[0, 1, 2, 3, 4, 5, 6, 7, 8, 9]\n",
      "<class 'list'>\n"
     ]
    }
   ],
   "source": [
    "# [TODO]\n",
    "\n",
    "numbers = [0, 1, 2, 3, 4, 5, 6, 7, 8, 9]\n",
    "print(numbers)\n",
    "print(type(numbers))"
   ]
  },
  {
   "cell_type": "markdown",
   "metadata": {},
   "source": [
    "**Exercise**\n",
    "\n",
    "Print the second item in the list `numbers` that we created above."
   ]
  },
  {
   "cell_type": "code",
   "execution_count": 50,
   "metadata": {},
   "outputs": [
    {
     "name": "stdout",
     "output_type": "stream",
     "text": [
      "The 2nd item in the list [0, 1, 2, 3, 4, 5, 6, 7, 8, 9] is 1\n"
     ]
    }
   ],
   "source": [
    "# [TODO]\n",
    "\n",
    "print(f\"The 2nd item in the list {numbers} is {numbers[1]}\")"
   ]
  },
  {
   "cell_type": "markdown",
   "metadata": {},
   "source": [
    "**Exercise**\n",
    "\n",
    "Check if the 3rd item in the list `numbers` is an odd or even number."
   ]
  },
  {
   "cell_type": "code",
   "execution_count": 51,
   "metadata": {},
   "outputs": [
    {
     "name": "stdout",
     "output_type": "stream",
     "text": [
      "Number 2, which is the 3rd item in the list, is even.\n"
     ]
    }
   ],
   "source": [
    "# [TODO]\n",
    "\n",
    "if numbers[2] % 2 == 0:\n",
    "    print(f\"Number {numbers[2]}, which is the 3rd item in the list, is even.\")\n",
    "else:\n",
    "    print(f\"Number {numbers[2]}, which is the 3rd item in the list, is odd.\")"
   ]
  },
  {
   "cell_type": "markdown",
   "metadata": {},
   "source": [
    "**Exercise**\n",
    "\n",
    "1. Print the existing list `numbers` to the screen.\n",
    "1. Print the type of the 5th item to the screen.\n",
    "1. Change the 5th item in the list `numbers` to `\"four\"`.\n",
    "1. Print the new list `numbers` to the screen.\n",
    "1. Print the type of the 5th item to the screen."
   ]
  },
  {
   "cell_type": "code",
   "execution_count": 52,
   "metadata": {},
   "outputs": [
    {
     "name": "stdout",
     "output_type": "stream",
     "text": [
      "Before\n",
      "\n",
      "[0, 1, 2, 3, 4, 5, 6, 7, 8, 9]\n",
      "<class 'int'>\n",
      "\n",
      "After\n",
      "\n",
      "[0, 1, 2, 3, 'four', 5, 6, 7, 8, 9]\n",
      "<class 'str'>\n"
     ]
    }
   ],
   "source": [
    "# [TODO]\n",
    "\n",
    "print(f\"Before\\n\")\n",
    "print(numbers)\n",
    "print(type(numbers[4]))\n",
    "\n",
    "numbers[4] = \"four\"\n",
    "\n",
    "print(f\"\\nAfter\\n\")\n",
    "print(numbers)\n",
    "print(type(numbers[4]))"
   ]
  },
  {
   "cell_type": "markdown",
   "metadata": {},
   "source": [
    "**Exercise**\n",
    "\n",
    "1. Print the existing list `numbers` to the screen.\n",
    "1. Change the value of multiple items in a range (`index` from `6` to `7`) in the list `numbers`. The value of the items should be `\"six\"` and `\"seven\"` respectively.\n",
    "1. Print the new list `numbers` to the screen."
   ]
  },
  {
   "cell_type": "code",
   "execution_count": 53,
   "metadata": {},
   "outputs": [
    {
     "name": "stdout",
     "output_type": "stream",
     "text": [
      "Before\n",
      "\n",
      "[0, 1, 2, 3, 'four', 5, 6, 7, 8, 9]\n",
      "\n",
      "After\n",
      "\n",
      "[0, 1, 2, 3, 'four', 5, 'six', 'seven', 8, 9]\n"
     ]
    }
   ],
   "source": [
    "# [TODO]\n",
    "\n",
    "print(f\"Before\\n\")\n",
    "print(numbers)\n",
    "\n",
    "numbers[6:8] = [\"six\", \"seven\"]\n",
    "\n",
    "print(f\"\\nAfter\\n\")\n",
    "print(numbers)"
   ]
  },
  {
   "cell_type": "markdown",
   "metadata": {},
   "source": [
    "**Exercise**\n",
    "\n",
    "1. Print the existing list `numbers` to the screen.\n",
    "1. Add `10` to the end of `numbers`.\n",
    "1. Print the new list `numbers` to the screen."
   ]
  },
  {
   "cell_type": "code",
   "execution_count": 55,
   "metadata": {},
   "outputs": [
    {
     "name": "stdout",
     "output_type": "stream",
     "text": [
      "Before\n",
      "\n",
      "[0, 1, 2, 3, 'four', 5, 'six', 'seven', 8, 9]\n",
      "\n",
      "After\n",
      "\n",
      "[0, 1, 2, 3, 'four', 5, 'six', 'seven', 8, 9, 10]\n"
     ]
    }
   ],
   "source": [
    "# [TODO]\n",
    "\n",
    "print(f\"Before\\n\")\n",
    "print(numbers)\n",
    "\n",
    "numbers.append(10)\n",
    "\n",
    "print(f\"\\nAfter\\n\")\n",
    "print(numbers)"
   ]
  },
  {
   "cell_type": "markdown",
   "metadata": {},
   "source": [
    "**Exercise**\n",
    "\n",
    "1. Print the existing list `numbers` to the screen.\n",
    "1. Insert `True` at the 3rd position in the list `numbers`.\n",
    "1. Print the new list `numbers` to the screen."
   ]
  },
  {
   "cell_type": "code",
   "execution_count": 56,
   "metadata": {},
   "outputs": [
    {
     "name": "stdout",
     "output_type": "stream",
     "text": [
      "Before\n",
      "\n",
      "[0, 1, 2, 3, 'four', 5, 'six', 'seven', 8, 9, 10]\n",
      "\n",
      "After\n",
      "\n",
      "[0, 1, True, 2, 3, 'four', 5, 'six', 'seven', 8, 9, 10]\n"
     ]
    }
   ],
   "source": [
    "# [TODO]\n",
    "\n",
    "print(f\"Before\\n\")\n",
    "print(numbers)\n",
    "\n",
    "numbers.insert(2, True)\n",
    "\n",
    "print(f\"\\nAfter\\n\")\n",
    "print(numbers)"
   ]
  },
  {
   "cell_type": "markdown",
   "metadata": {},
   "source": [
    "**Exercise**\n",
    "\n",
    "1. Create a new list of fruits `fruits = [\"apple\", \"banana\", \"orange\"]`.\n",
    "1. Append elements from the list `fruits` to the list `numbers`."
   ]
  },
  {
   "cell_type": "code",
   "execution_count": 57,
   "metadata": {},
   "outputs": [
    {
     "name": "stdout",
     "output_type": "stream",
     "text": [
      "None\n",
      "[0, 1, True, 2, 3, 'four', 5, 'six', 'seven', 8, 9, 10, 'apple', 'banana', 'orange']\n"
     ]
    }
   ],
   "source": [
    "# [TODO]\n",
    "\n",
    "fruits = [\"apple\", \"banana\", \"orange\"]\n",
    "numbers.extend(fruits)\n",
    "print(numbers)"
   ]
  },
  {
   "cell_type": "markdown",
   "metadata": {},
   "source": [
    "**Exercise**\n",
    "\n",
    "1. Print the existing list `numbers` to the screen.\n",
    "1. Remove the 7th item in the list `numbers`.\n",
    "1. Print the new list `numbers` to the screen."
   ]
  },
  {
   "cell_type": "code",
   "execution_count": 58,
   "metadata": {},
   "outputs": [
    {
     "name": "stdout",
     "output_type": "stream",
     "text": [
      "Before\n",
      "\n",
      "[0, 1, True, 2, 3, 'four', 5, 'six', 'seven', 8, 9, 10, 'apple', 'banana', 'orange']\n",
      "\n",
      "After\n",
      "\n",
      "[0, 1, True, 2, 3, 'four', 'six', 'seven', 8, 9, 10, 'apple', 'banana', 'orange']\n"
     ]
    }
   ],
   "source": [
    "# [TODO]\n",
    "\n",
    "print(f\"Before\\n\")\n",
    "print(numbers)\n",
    "\n",
    "numbers.pop(6)\n",
    "# numbers.remove(5)\n",
    "# del numbers[6]\n",
    "\n",
    "print(f\"\\nAfter\\n\")\n",
    "print(numbers)"
   ]
  },
  {
   "cell_type": "markdown",
   "metadata": {},
   "source": [
    "# Loops"
   ]
  },
  {
   "cell_type": "code",
   "execution_count": null,
   "metadata": {},
   "outputs": [],
   "source": []
  },
  {
   "cell_type": "code",
   "execution_count": null,
   "metadata": {},
   "outputs": [],
   "source": []
  },
  {
   "cell_type": "code",
   "execution_count": null,
   "metadata": {},
   "outputs": [],
   "source": []
  },
  {
   "cell_type": "code",
   "execution_count": null,
   "metadata": {},
   "outputs": [],
   "source": []
  },
  {
   "cell_type": "code",
   "execution_count": null,
   "metadata": {},
   "outputs": [],
   "source": []
  },
  {
   "cell_type": "markdown",
   "metadata": {},
   "source": [
    "# List comprehensions"
   ]
  },
  {
   "cell_type": "code",
   "execution_count": null,
   "metadata": {},
   "outputs": [],
   "source": []
  },
  {
   "cell_type": "code",
   "execution_count": null,
   "metadata": {},
   "outputs": [],
   "source": []
  },
  {
   "cell_type": "code",
   "execution_count": null,
   "metadata": {},
   "outputs": [],
   "source": []
  },
  {
   "cell_type": "code",
   "execution_count": null,
   "metadata": {},
   "outputs": [],
   "source": []
  }
 ],
 "metadata": {
  "kernelspec": {
   "display_name": "Python 3.9.12 ('base')",
   "language": "python",
   "name": "python3"
  },
  "language_info": {
   "codemirror_mode": {
    "name": "ipython",
    "version": 3
   },
   "file_extension": ".py",
   "mimetype": "text/x-python",
   "name": "python",
   "nbconvert_exporter": "python",
   "pygments_lexer": "ipython3",
   "version": "3.9.12"
  },
  "orig_nbformat": 4,
  "vscode": {
   "interpreter": {
    "hash": "e720081de2fd57dd700935953acd9dd6610ea2e1d5e7379bea03675c6c751eb5"
   }
  }
 },
 "nbformat": 4,
 "nbformat_minor": 2
}
