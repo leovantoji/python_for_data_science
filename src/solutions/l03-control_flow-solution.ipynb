{
 "cells": [
  {
   "cell_type": "markdown",
   "metadata": {},
   "source": [
    "# Conditionals\n",
    "\n",
    "Last week, we learned about **Booleans**, which are values that can be either `true` or `false`. We have also covered **logical and comparison operators**. Conditional statements, often known as `if-else` statements, are used to perform different actions based on values of some Boolean conditions."
   ]
  },
  {
   "cell_type": "markdown",
   "metadata": {},
   "source": [
    "`if` statement syntax:\n",
    "\n",
    "```python\n",
    "if condition:\n",
    "    statements\n",
    "```\n",
    "\n",
    "![image](../../images/if-statement.png)"
   ]
  },
  {
   "cell_type": "markdown",
   "metadata": {},
   "source": [
    "`if-else` statement syntax:\n",
    "\n",
    "```python\n",
    "if condition:\n",
    "    statements\n",
    "else:\n",
    "    statements\n",
    "```\n",
    "\n",
    "![image](../../images/if-else-statement.png)"
   ]
  },
  {
   "cell_type": "markdown",
   "metadata": {},
   "source": [
    "`if-elif-else` statement syntax:\n",
    "```python\n",
    "if condition_1:\n",
    "    statements\n",
    "elif condition_2:\n",
    "    statements\n",
    "else:\n",
    "    statements\n",
    "```\n",
    "\n",
    "![image](../../images/if-elif-else-statement.png)"
   ]
  },
  {
   "cell_type": "markdown",
   "metadata": {},
   "source": [
    "Let's work on a simple example.\n",
    "1. Choose a number by running the cell below and typing in a number.\n",
    "    - `input()` is used to prompt the user for input.\n",
    "1. Observe the usage of the `if-else` statement and see how it works."
   ]
  },
  {
   "cell_type": "code",
   "execution_count": 14,
   "metadata": {},
   "outputs": [
    {
     "name": "stdout",
     "output_type": "stream",
     "text": [
      "Your chosen number is 1000\n"
     ]
    }
   ],
   "source": [
    "number = int(input(\"Choose a number: \"))\n",
    "print(f\"Your chosen number is {number}\")"
   ]
  },
  {
   "cell_type": "code",
   "execution_count": 15,
   "metadata": {},
   "outputs": [
    {
     "name": "stdout",
     "output_type": "stream",
     "text": [
      "1000 is greater than 100.\n"
     ]
    }
   ],
   "source": [
    "if number > 100:\n",
    "    print(f\"{number} is greater than 100.\")\n",
    "elif number == 100:\n",
    "    print(f\"{number} is equal to 100.\")\n",
    "else:\n",
    "    print(f\"{number} is less than 100.\")"
   ]
  },
  {
   "cell_type": "markdown",
   "metadata": {},
   "source": [
    "Let's write another `if-else` block to check if the number is even or odd."
   ]
  },
  {
   "cell_type": "code",
   "execution_count": 28,
   "metadata": {},
   "outputs": [
    {
     "name": "stdout",
     "output_type": "stream",
     "text": [
      "1000 is even.\n"
     ]
    }
   ],
   "source": [
    "if number % 2 == 0:\n",
    "    print(f\"{number} is even.\")\n",
    "else:\n",
    "    print(f\"{number} is odd.\")"
   ]
  },
  {
   "cell_type": "markdown",
   "metadata": {},
   "source": [
    "**Exercise**\n",
    "\n",
    "1. Use the above examples, prompt the user to key in his/her age and assign the input to a variable `age`.\n",
    "2. Use the `if-else` statement to check if the user is of legal age (18 or older).\n",
    "    - If the user is of legal age, print out a message that says: \n",
    "    - Otherwise, print out a message that says *Restricted content*."
   ]
  },
  {
   "cell_type": "code",
   "execution_count": 1,
   "metadata": {},
   "outputs": [
    {
     "name": "stdout",
     "output_type": "stream",
     "text": [
      "You are old enough to watch XXX! 🙈\n"
     ]
    }
   ],
   "source": [
    "# [TODO]\n",
    "\n",
    "age = int(input(\"How old are you? \"))\n",
    "\n",
    "if age >= 18:\n",
    "    print(\"You are old enough to watch XXX! 🙈\")\n",
    "else:\n",
    "    print(\"Restricted content!\")"
   ]
  },
  {
   "cell_type": "markdown",
   "metadata": {},
   "source": [
    "**Exercise**\n",
    "\n",
    "1. Use the above examples, prompt the user for an input and assign the input to a variable called `day_of_week`.\n",
    "1. Use the `if-else` statement to print out the following:\n",
    "    - If the input is `Monday`, print out `It's Monday!`\n",
    "    - If the input is `Tuesday`, print out `It's Tuesday!`\n",
    "    - If the input is `Wednesday`, print out `It's Wednesday!`\n",
    "    - If the input is `Thursday`, print out `It's Thursday!`\n",
    "    - If the input is `Friday`, print out `It's Friday!`\n",
    "    - If the input is `Saturday`, print out `It's Saturday!`\n",
    "    - If the input is `Sunday`, print out `It's Sunday!`\n",
    "    - If the input is anything else, print out `That's not a day of the week!!`"
   ]
  },
  {
   "cell_type": "code",
   "execution_count": 26,
   "metadata": {},
   "outputs": [
    {
     "name": "stdout",
     "output_type": "stream",
     "text": [
      "It's Sunday!\n"
     ]
    }
   ],
   "source": [
    "# [TODO]\n",
    "day_of_week = input(\"What day is it? \")\n",
    "\n",
    "if day_of_week.lower() == \"monday\":\n",
    "    print(\"It's Monday!\")\n",
    "elif day_of_week.lower() == \"tuesday\":\n",
    "    print(\"It's Tuesday!\")\n",
    "elif day_of_week.lower() == \"wednesday\":\n",
    "    print(\"It's Wednesday!\")\n",
    "elif day_of_week.lower() == \"thursday\":\n",
    "    print(\"It's Thursday!\")\n",
    "elif day_of_week.lower() == \"friday\":\n",
    "    print(\"It's Friday!\")\n",
    "elif day_of_week.lower() == \"saturday\":\n",
    "    print(\"It's Saturday!\")\n",
    "elif day_of_week.lower() == \"sunday\":\n",
    "    print(\"It's Sunday!\")\n",
    "else:\n",
    "    print(\"That's not a day of the week!\")"
   ]
  },
  {
   "cell_type": "markdown",
   "metadata": {},
   "source": [
    "**Exercise**\n",
    "\n",
    "Continuing from the previous exercise, let's use `if-else` statement to check if `day_of_week` is a weekday or a weekend day.\n",
    "- **BONUS**: You should also check if the input is a valid day of the week."
   ]
  },
  {
   "cell_type": "code",
   "execution_count": 27,
   "metadata": {},
   "outputs": [
    {
     "name": "stdout",
     "output_type": "stream",
     "text": [
      "sunday is a weekend day.\n"
     ]
    }
   ],
   "source": [
    "# [TODO]\n",
    "\n",
    "if day_of_week.lower() not in (\"monday\", \"tuesday\", \"wednesday\", \"thursday\", \"friday\", \"saturday\", \"sunday\"):\n",
    "    print(\"That's not a valid day of the week.\")\n",
    "    exit(1)\n",
    "elif day_of_week.lower() in (\"monday\", \"tuesday\", \"wednesday\", \"thursday\", \"friday\"):\n",
    "    print(f\"{day_of_week} is a weekday.\")\n",
    "else:\n",
    "    print(f\"{day_of_week} is a weekend day.\")"
   ]
  },
  {
   "cell_type": "markdown",
   "metadata": {},
   "source": [
    "# Lists\n",
    "\n",
    "**Lists** are a data structure that can store multiple values of different types in a single variable. Lists are created using square brackets.\n",
    "\n",
    "Examples:\n",
    "1. List of prime numbers: \n",
    "    ```python\n",
    "    prime_numbers = [2, 3, 5, 7, 11, 13, 17, 19, 23, 29]\n",
    "    ```\n",
    "1. List of names:\n",
    "    ```python\n",
    "    names = [\"John\", \"Jane\", \"Mary\", \"Bob\"]\n",
    "    ```\n",
    "1. List of booleans:\n",
    "    ```python\n",
    "    booleans = [True, False, True, False]\n",
    "    ```\n",
    "1. Random list:\n",
    "    ```python\n",
    "    random_list = [1, \"two\", 3.0, \"four\"]\n",
    "    ```\n"
   ]
  },
  {
   "cell_type": "markdown",
   "metadata": {},
   "source": [
    "Let's create a list of drinks.\n",
    "\n",
    "```python\n",
    "drinks = [\"coffee\", \"tea\", \"beer\", \"wine\", \"juice\"]\n",
    "```"
   ]
  },
  {
   "cell_type": "code",
   "execution_count": 1,
   "metadata": {},
   "outputs": [
    {
     "name": "stdout",
     "output_type": "stream",
     "text": [
      "['coffee', 'tea', 'beer', 'wine', 'juice']\n",
      "<class 'list'>\n"
     ]
    }
   ],
   "source": [
    "# create a list of drinks\n",
    "drinks = [\"coffee\", \"tea\", \"beer\", \"wine\", \"juice\"]\n",
    "\n",
    "# print the list to the screen\n",
    "print(drinks)\n",
    "\n",
    "# print the type of the list\n",
    "print(type(drinks))"
   ]
  },
  {
   "cell_type": "markdown",
   "metadata": {},
   "source": [
    "Another way to create the list of drinks is to use the `list()` constructor\n",
    "\n",
    "```python\n",
    "drinks = list((\"coffee\", \"tea\", \"beer\", \"wine\", \"juice\"))\n",
    "```"
   ]
  },
  {
   "cell_type": "code",
   "execution_count": 32,
   "metadata": {},
   "outputs": [],
   "source": [
    "drinks = list((\"coffee\", \"tea\", \"beer\", \"wine\", \"juice\"))"
   ]
  },
  {
   "cell_type": "markdown",
   "metadata": {},
   "source": [
    "**List items**:\n",
    "\n",
    "1. **Ordered**: Items in a list are ordered by their position in the list. The first item in the list is at position `0`, the second item is at position `1`, and so on.\n",
    "1. **Changeable**: We can change, add, and remove items in a list after the list has been created.\n",
    "1. **Allow duplicates**: List can have items with the same value.\n",
    "\n",
    "![image](../../images/list_index.png)"
   ]
  },
  {
   "cell_type": "markdown",
   "metadata": {},
   "source": [
    "To **access an item in a list**, we just need to use the `index` of the item.\n",
    "\n",
    "![image](../../images/list_access_item.png)\n",
    "\n",
    "Let's print the 3rd item in the `drinks` list. Remember that the 3rd item is at index `2` in the list.\n",
    "\n",
    "```python\n",
    "print(drinks[2])\n",
    "```"
   ]
  },
  {
   "cell_type": "code",
   "execution_count": 2,
   "metadata": {},
   "outputs": [
    {
     "name": "stdout",
     "output_type": "stream",
     "text": [
      "The 3rd item in the list ['coffee', 'tea', 'beer', 'wine', 'juice'] is beer\n"
     ]
    }
   ],
   "source": [
    "# print the 3rd item on the list\n",
    "print(f\"The 3rd item in the list {drinks} is {drinks[2]}\")"
   ]
  },
  {
   "cell_type": "markdown",
   "metadata": {},
   "source": [
    "To **access multiple items in a list**, we can slice through the list by giving the start and end index.\n",
    "\n",
    "Let's print the first 3 items in the `drinks` list. \n",
    "\n",
    "We'll pass the start index as `0` and the end index as `3`. By doing so, we ask Python to print items from index `0` to `3` but not including item at index `3`.\n",
    "\n",
    "```python\n",
    "drinks[0:3]\n",
    "```\n",
    "\n",
    "NOTE:\n",
    "- The start and end indices are both optional.\n",
    "- If we don't give a start index, the start index is `0`. Thus, we can just write `drinks[:3]` to get the same result."
   ]
  },
  {
   "cell_type": "code",
   "execution_count": 9,
   "metadata": {},
   "outputs": [
    {
     "data": {
      "text/plain": [
       "['coffee', 'tea', 'coke']"
      ]
     },
     "execution_count": 9,
     "metadata": {},
     "output_type": "execute_result"
    }
   ],
   "source": [
    "drinks[0:3]"
   ]
  },
  {
   "cell_type": "markdown",
   "metadata": {},
   "source": [
    "To **change an item in a list**, we just need to use the `index` of the item and assign a new value to it.\n",
    "\n",
    "![image](../../images/list_change_item.png)\n",
    "\n",
    "Let's change the 3rd item on the list to `whiskey`. Remember that, the 3rd item is at index `2`.\n",
    "\n",
    "```python\n",
    "drinks[2] = \"whiskey\"\n",
    "```"
   ]
  },
  {
   "cell_type": "code",
   "execution_count": 3,
   "metadata": {},
   "outputs": [
    {
     "name": "stdout",
     "output_type": "stream",
     "text": [
      "Before\n",
      "\n",
      "['coffee', 'tea', 'beer', 'wine', 'juice']\n",
      "\n",
      "After\n",
      "\n",
      "['coffee', 'tea', 'whiskey', 'wine', 'juice']\n"
     ]
    }
   ],
   "source": [
    "print(f\"Before\\n\")\n",
    "print(drinks)\n",
    "\n",
    "# change the 3rd item on the list to \"whiskey\"\n",
    "drinks[2] = \"whiskey\"\n",
    "\n",
    "print(f\"\\nAfter\\n\")\n",
    "print(drinks)"
   ]
  },
  {
   "cell_type": "markdown",
   "metadata": {},
   "source": [
    "To **add an item to the end of a list**, we just need to use the `append` method.\n",
    "\n",
    "![image](../../images/list_append_item.png)\n",
    "\n",
    "Let's add `milk` to the end of `drinks` list.\n",
    "\n",
    "```python\n",
    "drinks.append(\"milk\")\n",
    "```"
   ]
  },
  {
   "cell_type": "code",
   "execution_count": 4,
   "metadata": {},
   "outputs": [
    {
     "name": "stdout",
     "output_type": "stream",
     "text": [
      "Before\n",
      "\n",
      "['coffee', 'tea', 'whiskey', 'wine', 'juice']\n",
      "\n",
      "After\n",
      "\n",
      "['coffee', 'tea', 'whiskey', 'wine', 'juice', 'milk']\n"
     ]
    }
   ],
   "source": [
    "print(f\"Before\\n\")\n",
    "print(drinks)\n",
    "\n",
    "# add `beer` to the end of the list\n",
    "drinks.append(\"milk\")\n",
    "\n",
    "print(f\"\\nAfter\\n\")\n",
    "print(drinks)"
   ]
  },
  {
   "cell_type": "markdown",
   "metadata": {},
   "source": [
    "To **insert an item at a specific position in a list**, we just need to use the `insert` method.\n",
    "\n",
    "![image](../../images/list_insert_item.png)\n",
    "\n",
    "Let's insert `coke` at the 3rd position in `drinks` list.\n",
    "\n",
    "```python\n",
    "drinks.insert(3, \"coke\")\n",
    "```\n",
    "\n",
    "Let's insert `water` at the 10th position in `drinks` list. Notice that if the given `index` is greater than the length of the list, the item will be added to the end of the list.\n",
    "\n",
    "```python\n",
    "drinks.insert(10, \"water\")\n",
    "```"
   ]
  },
  {
   "cell_type": "code",
   "execution_count": 5,
   "metadata": {},
   "outputs": [
    {
     "name": "stdout",
     "output_type": "stream",
     "text": [
      "Before\n",
      "\n",
      "['coffee', 'tea', 'whiskey', 'wine', 'juice', 'milk']\n",
      "\n",
      "After\n",
      "\n",
      "['coffee', 'tea', 'coke', 'whiskey', 'wine', 'juice', 'milk', 'water']\n"
     ]
    }
   ],
   "source": [
    "print(f\"Before\\n\")\n",
    "print(drinks)\n",
    "\n",
    "# insert `coke` at the 3rd position in the list\n",
    "drinks.insert(2, \"coke\")\n",
    "\n",
    "# insert `water` at the 10th position in the list\n",
    "drinks.insert(10, \"water\")\n",
    "\n",
    "print(f\"\\nAfter\\n\")\n",
    "print(drinks)"
   ]
  },
  {
   "cell_type": "markdown",
   "metadata": {},
   "source": [
    "To **check if an item is in a list**, we just need to use the `in` keyword.\n",
    "\n",
    "Let's check if `C2` is in the `drinks` list.\n",
    "\n",
    "```python\n",
    "if \"C2\" in drinks:\n",
    "    print(\"Yes, 'C2' is in the list.\")\n",
    "else:\n",
    "    print(\"No, 'C2' is not in the list.\")\n",
    "```"
   ]
  },
  {
   "cell_type": "code",
   "execution_count": 6,
   "metadata": {},
   "outputs": [
    {
     "name": "stdout",
     "output_type": "stream",
     "text": [
      "No, 'C2' is not in the list.\n"
     ]
    }
   ],
   "source": [
    "if \"C2\" in drinks:\n",
    "    print(\"Yes, 'C2' is in the list.\")\n",
    "else:\n",
    "    print(\"No, 'C2' is not in the list.\")"
   ]
  },
  {
   "cell_type": "markdown",
   "metadata": {},
   "source": [
    "To **find the index of an item in a list**, we just need to use the `index` method.\n",
    "\n",
    "Let's find the index of `coke` in the `drinks` list.\n",
    "\n",
    "```python\n",
    "print(drinks.index(\"coke\"))\n",
    "```"
   ]
  },
  {
   "cell_type": "code",
   "execution_count": 8,
   "metadata": {},
   "outputs": [
    {
     "name": "stdout",
     "output_type": "stream",
     "text": [
      "coke is at index 2\n"
     ]
    }
   ],
   "source": [
    "print(f\"coke is at index {drinks.index('coke')}\")"
   ]
  },
  {
   "cell_type": "markdown",
   "metadata": {},
   "source": [
    "To **remove an item** from the list, we can use several methods:\n",
    "- `remove(item_value)`: Removes the first item from the list that has the value `item_value`.\n",
    "- `pop(index)`: Removes the item at the given `index` from the list. If `index` is not given, it removes the last item in the list.\n",
    "- `del list[index]`: Removes the item at the given `index` from the list.\n",
    "\n",
    "Let's remove `juice` from the list. We can do it using either one of the above mentioned methods.\n",
    "\n",
    "```python\n",
    "drinks.remove(\"juice\")\n",
    "drinks.pop(4) # index of juice is 4\n",
    "del drinks[4]\n",
    "```\n",
    "\n",
    "**BONUS**: You should first check if `juice` is in the list. If it is, remove it. If it's not, print out `'juice'` is not in the list.\n",
    "\n",
    "```python\n",
    "if \"juice\" in drinks:\n",
    "    drinks.remove(\"juice\")\n",
    "else:\n",
    "    print(\"juice is not in the list.\")\n",
    "```"
   ]
  },
  {
   "cell_type": "code",
   "execution_count": 18,
   "metadata": {},
   "outputs": [
    {
     "name": "stdout",
     "output_type": "stream",
     "text": [
      "Before\n",
      "\n",
      "['coffee', 'tea', 'coke', 'whiskey', 'wine', 'juice', 'milk', 'water']\n",
      "\n",
      "After\n",
      "\n",
      "['coffee', 'tea', 'coke', 'whiskey', 'wine', 'milk', 'water']\n"
     ]
    }
   ],
   "source": [
    "print(f\"Before\\n\")\n",
    "print(drinks)\n",
    "\n",
    "# remove `juice` from the list\n",
    "drinks.remove(\"juice\")\n",
    "# del drinks[4]\n",
    "# drinks.pop(4)\n",
    "\n",
    "print(f\"\\nAfter\\n\")\n",
    "print(drinks)"
   ]
  },
  {
   "cell_type": "code",
   "execution_count": 20,
   "metadata": {},
   "outputs": [
    {
     "name": "stdout",
     "output_type": "stream",
     "text": [
      "juice is in the list.\n",
      "Before\n",
      "\n",
      "['coffee', 'tea', 'coke', 'whiskey', 'wine', 'milk', 'water', 'juice']\n",
      "\n",
      "After\n",
      "\n",
      "['coffee', 'tea', 'coke', 'whiskey', 'wine', 'milk', 'water']\n"
     ]
    }
   ],
   "source": [
    "if \"juice\" in drinks:\n",
    "    print(\"juice is in the list.\")\n",
    "\n",
    "    print(f\"Before\\n\")\n",
    "    print(drinks)\n",
    "    \n",
    "    drinks.remove(\"juice\")\n",
    "    \n",
    "    print(f\"\\nAfter\\n\")\n",
    "    print(drinks)\n",
    "else:\n",
    "    print(\"juice is not in the list.\")\n",
    "    drinks.append(\"juice\")"
   ]
  },
  {
   "cell_type": "markdown",
   "metadata": {},
   "source": [
    "To **add items from one list to another**, we can use the `extend` method.\n",
    "\n",
    "Let's create a new list called `other_drinks` and add `cocktail`, `mocktail`, `magarita` and `mojito` to it.\n",
    "\n",
    "After that, we'll use the `extend` method to add `other_drinks` to `drinks`.\n",
    "\n",
    "```python\n",
    "other_drinks = [\"cocktail\", \"mocktail\", \"magarita\", \"mojito\"]\n",
    "\n",
    "drinks.extend(other_drinks)\n",
    "```"
   ]
  },
  {
   "cell_type": "code",
   "execution_count": 21,
   "metadata": {},
   "outputs": [
    {
     "name": "stdout",
     "output_type": "stream",
     "text": [
      "Before\n",
      "\n",
      "['coffee', 'tea', 'coke', 'whiskey', 'wine', 'milk', 'water']\n",
      "\n",
      "After\n",
      "\n",
      "['coffee', 'tea', 'coke', 'whiskey', 'wine', 'milk', 'water', 'cocktail', 'mocktail', 'margarita', 'mojito']\n"
     ]
    }
   ],
   "source": [
    "print(f\"Before\\n\")\n",
    "print(drinks)\n",
    "\n",
    "# create a new list of drinks called other_drinks\n",
    "other_drinks = [\"cocktail\", \"mocktail\", \"margarita\", \"mojito\"]\n",
    "\n",
    "# append other_drinks to drinks\n",
    "drinks.extend(other_drinks)\n",
    "\n",
    "print(f\"\\nAfter\\n\")\n",
    "print(drinks)"
   ]
  },
  {
   "cell_type": "markdown",
   "metadata": {},
   "source": [
    "To **find the length of the list**, we can use the `len` function.\n",
    "\n",
    "```python\n",
    "print(len(drinks))\n",
    "```"
   ]
  },
  {
   "cell_type": "code",
   "execution_count": 22,
   "metadata": {},
   "outputs": [
    {
     "name": "stdout",
     "output_type": "stream",
     "text": [
      "There are 11 items in ['coffee', 'tea', 'coke', 'whiskey', 'wine', 'milk', 'water', 'cocktail', 'mocktail', 'margarita', 'mojito'].\n"
     ]
    }
   ],
   "source": [
    "print(f\"There are {len(drinks)} items in {drinks}.\")"
   ]
  },
  {
   "cell_type": "markdown",
   "metadata": {},
   "source": [
    "**Exercise**\n",
    "\n",
    "- Create a list of numbers within the range of 10 to 19.\n",
    "- Print that list to the screen.\n",
    "- Print the type of the list to the screen."
   ]
  },
  {
   "cell_type": "code",
   "execution_count": 40,
   "metadata": {},
   "outputs": [
    {
     "name": "stdout",
     "output_type": "stream",
     "text": [
      "[10, 11, 12, 13, 14, 15, 16, 17, 18, 19]\n",
      "<class 'list'>\n"
     ]
    }
   ],
   "source": [
    "# [TODO]\n",
    "\n",
    "numbers = [i for i in range(10, 20)]\n",
    "# numbers = [10, 11, 12, 13, 14, 15, 16, 17, 18, 19]\n",
    "print(numbers)\n",
    "print(type(numbers))"
   ]
  },
  {
   "cell_type": "markdown",
   "metadata": {},
   "source": [
    "**Exercise**\n",
    "\n",
    "Print the second item in the list `numbers` that we created above."
   ]
  },
  {
   "cell_type": "code",
   "execution_count": 41,
   "metadata": {},
   "outputs": [
    {
     "name": "stdout",
     "output_type": "stream",
     "text": [
      "The 2nd item in the list [10, 11, 12, 13, 14, 15, 16, 17, 18, 19] is 11\n"
     ]
    }
   ],
   "source": [
    "# [TODO]\n",
    "\n",
    "print(f\"The 2nd item in the list {numbers} is {numbers[1]}\")"
   ]
  },
  {
   "cell_type": "markdown",
   "metadata": {},
   "source": [
    "**Exercise**\n",
    "\n",
    "Check if the 8th item in the list `numbers` is an odd or even number."
   ]
  },
  {
   "cell_type": "code",
   "execution_count": 42,
   "metadata": {},
   "outputs": [
    {
     "name": "stdout",
     "output_type": "stream",
     "text": [
      "Number 17, which is the 8th item in the list, is odd.\n"
     ]
    }
   ],
   "source": [
    "# [TODO]\n",
    "\n",
    "if numbers[7] % 2 == 0:\n",
    "    print(f\"Number {numbers[7]}, which is the 8th item in the list, is even.\")\n",
    "else:\n",
    "    print(f\"Number {numbers[7]}, which is the 8th item in the list, is odd.\")"
   ]
  },
  {
   "cell_type": "markdown",
   "metadata": {},
   "source": [
    "**Exercise**\n",
    "\n",
    "1. Print the existing list `numbers` to the screen.\n",
    "1. Print the type of the 5th item to the screen.\n",
    "1. Change the 5th item in the list `numbers` to `\"fourteen\"`.\n",
    "1. Print the new list `numbers` to the screen.\n",
    "1. Print the type of the 5th item to the screen."
   ]
  },
  {
   "cell_type": "code",
   "execution_count": 43,
   "metadata": {},
   "outputs": [
    {
     "name": "stdout",
     "output_type": "stream",
     "text": [
      "Before\n",
      "\n",
      "[10, 11, 12, 13, 14, 15, 16, 17, 18, 19]\n",
      "<class 'int'>\n",
      "\n",
      "After\n",
      "\n",
      "[10, 11, 12, 13, 'fourteen', 15, 16, 17, 18, 19]\n",
      "<class 'str'>\n"
     ]
    }
   ],
   "source": [
    "# [TODO]\n",
    "\n",
    "print(f\"Before\\n\")\n",
    "print(numbers)\n",
    "print(type(numbers[4]))\n",
    "\n",
    "numbers[4] = \"fourteen\"\n",
    "\n",
    "print(f\"\\nAfter\\n\")\n",
    "print(numbers)\n",
    "print(type(numbers[4]))"
   ]
  },
  {
   "cell_type": "markdown",
   "metadata": {},
   "source": [
    "**Exercise**\n",
    "\n",
    "1. Print the existing list `numbers` to the screen.\n",
    "1. Change the value of multiple items in a range (`index` from `6` to `7`) in the list `numbers`. The value of the items should be `\"six\"` and `\"seven\"` respectively.\n",
    "1. Print the new list `numbers` to the screen."
   ]
  },
  {
   "cell_type": "code",
   "execution_count": 44,
   "metadata": {},
   "outputs": [
    {
     "name": "stdout",
     "output_type": "stream",
     "text": [
      "Before\n",
      "\n",
      "[10, 11, 12, 13, 'fourteen', 15, 16, 17, 18, 19]\n",
      "\n",
      "After\n",
      "\n",
      "[10, 11, 12, 13, 'fourteen', 15, 'sixteen', 'seventeen', 18, 19]\n"
     ]
    }
   ],
   "source": [
    "# [TODO]\n",
    "\n",
    "print(f\"Before\\n\")\n",
    "print(numbers)\n",
    "\n",
    "numbers[6:8] = [\"sixteen\", \"seventeen\"]\n",
    "\n",
    "print(f\"\\nAfter\\n\")\n",
    "print(numbers)"
   ]
  },
  {
   "cell_type": "markdown",
   "metadata": {},
   "source": [
    "**Exercise**\n",
    "\n",
    "1. Print the existing list `numbers` to the screen.\n",
    "1. Add `20` to the end of `numbers`.\n",
    "1. Print the new list `numbers` to the screen."
   ]
  },
  {
   "cell_type": "code",
   "execution_count": 45,
   "metadata": {},
   "outputs": [
    {
     "name": "stdout",
     "output_type": "stream",
     "text": [
      "Before\n",
      "\n",
      "[10, 11, 12, 13, 'fourteen', 15, 'sixteen', 'seventeen', 18, 19]\n",
      "\n",
      "After\n",
      "\n",
      "[10, 11, 12, 13, 'fourteen', 15, 'sixteen', 'seventeen', 18, 19, 20]\n"
     ]
    }
   ],
   "source": [
    "# [TODO]\n",
    "\n",
    "print(f\"Before\\n\")\n",
    "print(numbers)\n",
    "\n",
    "numbers.append(20)\n",
    "\n",
    "print(f\"\\nAfter\\n\")\n",
    "print(numbers)"
   ]
  },
  {
   "cell_type": "markdown",
   "metadata": {},
   "source": [
    "**Exercise**\n",
    "\n",
    "1. Print the existing list `numbers` to the screen.\n",
    "1. Insert `-1000.0` at the 3rd position in the list `numbers`.\n",
    "1. Print the new list `numbers` to the screen."
   ]
  },
  {
   "cell_type": "code",
   "execution_count": 46,
   "metadata": {},
   "outputs": [
    {
     "name": "stdout",
     "output_type": "stream",
     "text": [
      "Before\n",
      "\n",
      "[10, 11, 12, 13, 'fourteen', 15, 'sixteen', 'seventeen', 18, 19, 20]\n",
      "\n",
      "After\n",
      "\n",
      "[10, 11, -1000.0, 12, 13, 'fourteen', 15, 'sixteen', 'seventeen', 18, 19, 20]\n"
     ]
    }
   ],
   "source": [
    "# [TODO]\n",
    "\n",
    "print(f\"Before\\n\")\n",
    "print(numbers)\n",
    "\n",
    "numbers.insert(2, -1000.0)\n",
    "\n",
    "print(f\"\\nAfter\\n\")\n",
    "print(numbers)"
   ]
  },
  {
   "cell_type": "markdown",
   "metadata": {},
   "source": [
    "**Exercise**\n",
    "\n",
    "Check if the list `numbers` contains the value `-1000.0`."
   ]
  },
  {
   "cell_type": "code",
   "execution_count": 50,
   "metadata": {},
   "outputs": [
    {
     "name": "stdout",
     "output_type": "stream",
     "text": [
      "-1000.0 is in the list.\n"
     ]
    }
   ],
   "source": [
    "# [TODO]\n",
    "\n",
    "if -1000.0 in numbers:\n",
    "    print(\"-1000.0 is in the list.\")\n",
    "else:\n",
    "    print(\"-1000.0 is not in the list.\")"
   ]
  },
  {
   "cell_type": "markdown",
   "metadata": {},
   "source": [
    "**Exercise**\n",
    "\n",
    "1. Print the existing list `numbers` to the screen.\n",
    "1. Remove the 3rd item in the list `numbers`.\n",
    "1. Print the new list `numbers` to the screen."
   ]
  },
  {
   "cell_type": "code",
   "execution_count": 51,
   "metadata": {},
   "outputs": [
    {
     "name": "stdout",
     "output_type": "stream",
     "text": [
      "Before\n",
      "\n",
      "[10, 11, -1000.0, 12, 13, 'fourteen', 'sixteen', 'seventeen', 18, 19, 20, '21', 'twenty two', 23]\n",
      "\n",
      "After\n",
      "\n",
      "[10, 11, 12, 13, 'fourteen', 'sixteen', 'seventeen', 18, 19, 20, '21', 'twenty two', 23]\n"
     ]
    }
   ],
   "source": [
    "# [TODO]\n",
    "\n",
    "print(f\"Before\\n\")\n",
    "print(numbers)\n",
    "\n",
    "numbers.remove(-1000.0)\n",
    "# numbers.pop(2)\n",
    "# del numbers[2]\n",
    "\n",
    "print(f\"\\nAfter\\n\")\n",
    "print(numbers)"
   ]
  },
  {
   "cell_type": "markdown",
   "metadata": {},
   "source": [
    "**Exercise**\n",
    "\n",
    "1. Create a new list of numbers `other_numbers = [\"21\", \"twenty two\", 23]`.\n",
    "1. Append elements from the list `other_numbers` to the list `numbers`."
   ]
  },
  {
   "cell_type": "code",
   "execution_count": 47,
   "metadata": {},
   "outputs": [
    {
     "name": "stdout",
     "output_type": "stream",
     "text": [
      "Before\n",
      "\n",
      "[10, 11, -1000.0, 12, 13, 'fourteen', 15, 'sixteen', 'seventeen', 18, 19, 20]\n",
      "\n",
      "After\n",
      "\n",
      "[10, 11, -1000.0, 12, 13, 'fourteen', 15, 'sixteen', 'seventeen', 18, 19, 20, '21', 'twenty two', 23]\n"
     ]
    }
   ],
   "source": [
    "# [TODO]\n",
    "\n",
    "print(f\"Before\\n\")\n",
    "print(numbers)\n",
    "\n",
    "other_numbers = [\"21\", \"twenty two\", 23]\n",
    "numbers.extend(other_numbers)\n",
    "\n",
    "print(f\"\\nAfter\\n\")\n",
    "print(numbers)"
   ]
  },
  {
   "cell_type": "markdown",
   "metadata": {},
   "source": [
    "**Exercise**\n",
    "\n",
    "Find the length of the list `numbers`."
   ]
  },
  {
   "cell_type": "code",
   "execution_count": 49,
   "metadata": {},
   "outputs": [
    {
     "name": "stdout",
     "output_type": "stream",
     "text": [
      "There are 14 items in [10, 11, -1000.0, 12, 13, 'fourteen', 'sixteen', 'seventeen', 18, 19, 20, '21', 'twenty two', 23].\n"
     ]
    }
   ],
   "source": [
    "# [TODO]\n",
    "\n",
    "print(f\"There are {len(numbers)} items in {numbers}.\")"
   ]
  },
  {
   "cell_type": "markdown",
   "metadata": {},
   "source": [
    "# Loops\n",
    "\n",
    "**Loops** are used to repeat a block of code a certain number of times.\n",
    "\n",
    "Below is the flowchart of `for` loop.\n",
    "\n",
    "![image](../../images/for_loop.png)\n",
    "\n",
    "Syntax:\n",
    "\n",
    "```python\n",
    "for item in a_random_list:\n",
    "    # do something\n",
    "```"
   ]
  },
  {
   "cell_type": "markdown",
   "metadata": {},
   "source": [
    "Let's start with a simple `for` loop to print out the items in the list `drinks` one by one.\n",
    "\n",
    "```python\n",
    "for drink in drinks:\n",
    "    print(drink)\n",
    "```"
   ]
  },
  {
   "cell_type": "code",
   "execution_count": 37,
   "metadata": {},
   "outputs": [
    {
     "name": "stdout",
     "output_type": "stream",
     "text": [
      "coffee\n",
      "tea\n",
      "coke\n",
      "whiskey\n",
      "wine\n",
      "milk\n",
      "water\n",
      "cocktail\n",
      "mocktail\n",
      "margarita\n",
      "mojito\n"
     ]
    }
   ],
   "source": [
    "# check if variable drinks is defined. If it's not, define drinks\n",
    "if \"drinks\" not in locals():\n",
    "    drinks = [\"coffee\", \"tea\", \"coke\", \"whiskey\", \"wine\", \"milk\", \"water\", \"cocktail\", \"mocktail\", \"margarita\", \"mojito\"]\n",
    "\n",
    "for drink in drinks:\n",
    "    print(drink)"
   ]
  },
  {
   "cell_type": "markdown",
   "metadata": {},
   "source": [
    "We can loop through `drinks` by referring to the index of each drink in the list.\n",
    "\n",
    "```python\n",
    "for i in range(len(drinks)):\n",
    "    print(drinks[i])\n",
    "```\n",
    "\n",
    "Notice the usage of `range()` and `len()` methods in the above block of code.\n",
    "- `len()` is to get the length of the list `drinks` to make sure that we are not trying to access an item that doesn't exist.\n",
    "- `range()` is to create a range of numbers.\n",
    "\n",
    "`range(10)` will generate numbers from 0 to 9 (10 numbers).\n",
    "We can also use `range(start, end)` to generate numbers from `start` to `end` (`end` is not included).\n",
    "\n",
    "```python\n",
    "range(1, 11) # same as range(10)\n",
    "```\n",
    "\n",
    "We can also define `step_size` to generate numbers from `start` to `end` with a step size of `step_size`. Default value of `step_size` is 1.\n",
    "\n",
    "```python\n",
    "range(1, 11, 1) # same as range(10)\n",
    "```"
   ]
  },
  {
   "cell_type": "code",
   "execution_count": 24,
   "metadata": {},
   "outputs": [
    {
     "name": "stdout",
     "output_type": "stream",
     "text": [
      "coffee\n",
      "tea\n",
      "coke\n",
      "whiskey\n",
      "wine\n",
      "milk\n",
      "water\n",
      "cocktail\n",
      "mocktail\n",
      "margarita\n",
      "mojito\n"
     ]
    }
   ],
   "source": [
    "for i in range(len(drinks)):\n",
    "    print(drinks[i])"
   ]
  },
  {
   "cell_type": "markdown",
   "metadata": {},
   "source": [
    "`for` loop can have an optional `else` block that will be executed if the loop is finished without encountering an `break` statement.\n",
    "\n",
    "```python\n",
    "for drink in drinks:\n",
    "    print(drink)\n",
    "else:\n",
    "    print(\"-----------------------------\")\n",
    "    print(\"All drinks have been printed.\")\n",
    "```"
   ]
  },
  {
   "cell_type": "code",
   "execution_count": 40,
   "metadata": {},
   "outputs": [
    {
     "name": "stdout",
     "output_type": "stream",
     "text": [
      "coffee\n",
      "tea\n",
      "coke\n",
      "whiskey\n",
      "wine\n",
      "milk\n",
      "water\n",
      "cocktail\n",
      "mocktail\n",
      "margarita\n",
      "mojito\n",
      "-----------------------------\n",
      "All drinks have been printed.\n"
     ]
    }
   ],
   "source": [
    "for drink in drinks:\n",
    "    print(drink)\n",
    "else:\n",
    "    print(\"-----------------------------\")\n",
    "    print(\"All drinks have been printed.\")"
   ]
  },
  {
   "cell_type": "markdown",
   "metadata": {},
   "source": [
    "The `while` loop is used to repeat a block of code while a condition is true. Generally, when we don't know the number of times we want to repeat a block of code, we use `while` loop.\n",
    "\n",
    "Below is the flowchart of `while` loop.\n",
    "\n",
    "![image](../../images/while_loop.png)\n",
    "\n",
    "Syntax:\n",
    "\n",
    "```python\n",
    "while condition:\n",
    "    # do something\n",
    "```"
   ]
  },
  {
   "cell_type": "markdown",
   "metadata": {},
   "source": [
    "This time, we'll use a `while` loop to loop through all the items in `drinks` and print each item out on the screen.\n",
    "\n",
    "```python\n",
    "i = 0\n",
    "while i < len(drinks):\n",
    "    print(drinks[i])\n",
    "    i += 1\n",
    "```"
   ]
  },
  {
   "cell_type": "code",
   "execution_count": 38,
   "metadata": {},
   "outputs": [
    {
     "name": "stdout",
     "output_type": "stream",
     "text": [
      "coffee\n",
      "tea\n",
      "coke\n",
      "whiskey\n",
      "wine\n",
      "milk\n",
      "water\n",
      "cocktail\n",
      "mocktail\n",
      "margarita\n",
      "mojito\n"
     ]
    }
   ],
   "source": [
    "i = 0\n",
    "while i < len(drinks):\n",
    "    print(drinks[i])\n",
    "    i += 1"
   ]
  },
  {
   "cell_type": "markdown",
   "metadata": {},
   "source": [
    "Similar to the `for` loop, `while` loop also has an optional `else` block that will be executed if the condition in the while loop is `False`.\n",
    "\n",
    "```python\n",
    "i = 0\n",
    "while i < len(drinks):\n",
    "    print(drinks[i])\n",
    "    i += 1\n",
    "else:\n",
    "    print(\"-----------------------------\")\n",
    "    print(\"All drinks have been printed.\")\n",
    "```"
   ]
  },
  {
   "cell_type": "code",
   "execution_count": 42,
   "metadata": {},
   "outputs": [
    {
     "name": "stdout",
     "output_type": "stream",
     "text": [
      "coffee\n",
      "tea\n",
      "coke\n",
      "whiskey\n",
      "wine\n",
      "milk\n",
      "water\n",
      "cocktail\n",
      "mocktail\n",
      "margarita\n",
      "mojito\n",
      "-----------------------------\n",
      "All drinks have been printed.\n"
     ]
    }
   ],
   "source": [
    "i = 0\n",
    "while i < len(drinks):\n",
    "    print(drinks[i])\n",
    "    i += 1\n",
    "else:\n",
    "    print(\"-----------------------------\")\n",
    "    print(\"All drinks have been printed.\")"
   ]
  },
  {
   "cell_type": "markdown",
   "metadata": {},
   "source": [
    "**Exercise**\n",
    "\n",
    "Previously, you have created a list `numbers` containing numbers from 11 to 19.\n",
    "\n",
    "```python\n",
    "numbers = [11, 12, 13, 14, 15, 16, 17, 18, 19]\n",
    "```\n",
    "\n",
    "Let's use the `list()` constructor and the `range()` method to create the same list without having to specify all numbers from 11 to 19."
   ]
  },
  {
   "cell_type": "code",
   "execution_count": 29,
   "metadata": {},
   "outputs": [
    {
     "name": "stdout",
     "output_type": "stream",
     "text": [
      "[11, 12, 13, 14, 15, 16, 17, 18, 19]\n"
     ]
    }
   ],
   "source": [
    "# [TODO]\n",
    "\n",
    "numbers = list(range(11, 20))\n",
    "print(numbers)"
   ]
  },
  {
   "cell_type": "markdown",
   "metadata": {},
   "source": [
    "**Exercise**\n",
    "\n",
    "Loop through the list of numbers and print each number to the screen."
   ]
  },
  {
   "cell_type": "code",
   "execution_count": 33,
   "metadata": {},
   "outputs": [
    {
     "name": "stdout",
     "output_type": "stream",
     "text": [
      "11\n",
      "12\n",
      "13\n",
      "14\n",
      "15\n",
      "16\n",
      "17\n",
      "18\n",
      "19\n"
     ]
    }
   ],
   "source": [
    "# [TODO]\n",
    "\n",
    "for number in numbers:\n",
    "    print(number)"
   ]
  },
  {
   "cell_type": "markdown",
   "metadata": {},
   "source": [
    "**Exercise**\n",
    "\n",
    "Calculate the sum of all the numbers in the list `numbers` by using a `for` or a `while` loop."
   ]
  },
  {
   "cell_type": "code",
   "execution_count": 43,
   "metadata": {},
   "outputs": [
    {
     "name": "stdout",
     "output_type": "stream",
     "text": [
      "135 is the sum of all numbers in [11, 12, 13, 14, 15, 16, 17, 18, 19].\n"
     ]
    }
   ],
   "source": [
    "# [TODO]\n",
    "\n",
    "total = 0\n",
    "for i in numbers:\n",
    "    total += i\n",
    "\n",
    "print(f\"{total} is the sum of all numbers in {numbers}.\")"
   ]
  },
  {
   "cell_type": "markdown",
   "metadata": {},
   "source": [
    "`break` and `continue` statements can be used to alter the flow of a loop. \n",
    "\n",
    "If we want to stop the loop, we use `break` statement\n",
    "\n",
    "Flowchart of `break`:\n",
    "\n",
    "![image](../../images/break_flowchart.png)\n",
    "\n",
    "If we want to skip the current iteration, we use `continue` statement.\n",
    "\n",
    "Flowchart of `continue`:\n",
    "\n",
    "![image](../../images/continue_flowchart.png)"
   ]
  },
  {
   "cell_type": "markdown",
   "metadata": {},
   "source": [
    "Using `for` loop, let's loop through the items in `drinks`, print the items in `drinks` and stop the loop when we encounter `water`.\n",
    "\n",
    "```python\n",
    "for drink in drinks:\n",
    "    if drink != \"water\":\n",
    "        print(drink)\n",
    "    else:\n",
    "        break\n",
    "```"
   ]
  },
  {
   "cell_type": "code",
   "execution_count": 5,
   "metadata": {},
   "outputs": [
    {
     "name": "stdout",
     "output_type": "stream",
     "text": [
      "coffee\n",
      "tea\n",
      "coke\n",
      "whiskey\n",
      "wine\n",
      "milk\n"
     ]
    }
   ],
   "source": [
    "# regenerate drinks if drinks list has not been defined\n",
    "if \"drinks\" not in locals():\n",
    "    drinks = [\"coffee\", \"tea\", \"coke\", \"whiskey\", \"wine\", \"milk\", \"water\", \"cocktail\", \"mocktail\", \"margarita\", \"mojito\"]\n",
    "\n",
    "for drink in drinks:\n",
    "    if drink != \"water\":\n",
    "        print(drink)\n",
    "    else:\n",
    "        break"
   ]
  },
  {
   "cell_type": "markdown",
   "metadata": {},
   "source": [
    "**Exercise**\n",
    "\n",
    "Using `while` loop, let's loop through the items in `drinks`, print the items in `drinks` and stop the loop when we encounter `water`."
   ]
  },
  {
   "cell_type": "code",
   "execution_count": 45,
   "metadata": {},
   "outputs": [
    {
     "name": "stdout",
     "output_type": "stream",
     "text": [
      "coffee\n",
      "tea\n",
      "coke\n",
      "whiskey\n",
      "wine\n",
      "milk\n"
     ]
    }
   ],
   "source": [
    "# [TODO]\n",
    "\n",
    "i = 0\n",
    "while i < len(drinks):\n",
    "    if drinks[i] != \"water\":\n",
    "        print(drinks[i])\n",
    "    else:\n",
    "        break\n",
    "    i += 1"
   ]
  },
  {
   "cell_type": "markdown",
   "metadata": {},
   "source": [
    "Let's find the total of all even numbers in the `numbers` list generated earlier."
   ]
  },
  {
   "cell_type": "code",
   "execution_count": 46,
   "metadata": {},
   "outputs": [
    {
     "name": "stdout",
     "output_type": "stream",
     "text": [
      "60 is the sum of all even numbers in [11, 12, 13, 14, 15, 16, 17, 18, 19].\n"
     ]
    }
   ],
   "source": [
    "# regenerate numbers if numbers list has not been defined\n",
    "if \"numbers\" not in locals():\n",
    "    numbers = list(range(11, 20))\n",
    "\n",
    "total_even = 0\n",
    "for num in numbers:\n",
    "    if num % 2 == 0:\n",
    "        total_even += num\n",
    "    else:\n",
    "        continue\n",
    "\n",
    "\n",
    "print(f\"{total_even} is the sum of all even numbers in {numbers}.\")"
   ]
  },
  {
   "cell_type": "markdown",
   "metadata": {},
   "source": [
    "**Exercise**\n",
    "\n",
    "Without running the code block below, can you tell me what will be printed to the screen?\n",
    "\n",
    "```python\n",
    "some_numbers = list(range(1, 7))\n",
    "\n",
    "for i in range(len(some_numbers)):\n",
    "    if some_numbers[i] % 3 == 0:\n",
    "        continue\n",
    "    \n",
    "    print(some_numbers[i])\n",
    "```"
   ]
  },
  {
   "cell_type": "code",
   "execution_count": 4,
   "metadata": {},
   "outputs": [
    {
     "name": "stdout",
     "output_type": "stream",
     "text": [
      "1\n",
      "2\n",
      "4\n",
      "5\n"
     ]
    }
   ],
   "source": [
    "# [TODO]\n",
    "some_numbers = list(range(1, 7))\n",
    "\n",
    "for i in range(len(some_numbers)):\n",
    "    if some_numbers[i] % 3 == 0:\n",
    "        continue\n",
    "    \n",
    "    print(some_numbers[i])"
   ]
  },
  {
   "cell_type": "markdown",
   "metadata": {},
   "source": [
    "**Exercise**\n",
    "\n",
    "Find the total of all odd numbers in the `numbers` list generated earlier. Let's use a `while` loop instead of `for` loop."
   ]
  },
  {
   "cell_type": "code",
   "execution_count": 7,
   "metadata": {},
   "outputs": [
    {
     "name": "stdout",
     "output_type": "stream",
     "text": [
      "75 is the sum of all odd numbers in [11, 12, 13, 14, 15, 16, 17, 18, 19].\n"
     ]
    }
   ],
   "source": [
    "# [TODO]\n",
    "\n",
    "# regenerate numbers if numbers list has not been defined\n",
    "if \"numbers\" not in locals():\n",
    "    numbers = list(range(11, 20))\n",
    "\n",
    "total_odd = 0\n",
    "i = -1\n",
    "\n",
    "while i < (len(numbers) - 1):\n",
    "    i += 1\n",
    "    if numbers[i] % 2 != 0:\n",
    "        total_odd += numbers[i]\n",
    "    else:\n",
    "        continue\n",
    "\n",
    "print(f\"{total_odd} is the sum of all odd numbers in {numbers}.\")"
   ]
  },
  {
   "cell_type": "markdown",
   "metadata": {},
   "source": [
    "# List comprehension\n",
    "\n",
    "**List comprehension** is a concise way to create a new list from an existing list.\n",
    "\n",
    "Syntax:\n",
    "\n",
    "```python\n",
    "new_list = [expression for item in iterable if condition == True] \n",
    "```"
   ]
  },
  {
   "cell_type": "markdown",
   "metadata": {},
   "source": [
    "For example, let's say we want to get all drinks that contains \"c\" in the name from the list `drinks`.\n",
    "\n",
    "This is how we can do that without using **list comprehension**.\n",
    "\n",
    "```python\n",
    "new_list = []\n",
    "\n",
    "for drink in drinks:\n",
    "    if \"c\" in drink:\n",
    "        new_list.append(drink)\n",
    "```\n",
    "\n",
    "`new_list` should be equal to `[\"coffee\", \"coke\", \"cocktail\", \"mocktail\"]`."
   ]
  },
  {
   "cell_type": "code",
   "execution_count": 62,
   "metadata": {},
   "outputs": [
    {
     "name": "stdout",
     "output_type": "stream",
     "text": [
      "['coffee', 'coke', 'cocktail', 'mocktail']\n"
     ]
    }
   ],
   "source": [
    "if \"drinks\" not in locals():\n",
    "    drinks = [\"coffee\", \"tea\", \"coke\", \"whiskey\", \"wine\", \"milk\", \"water\", \"cocktail\", \"mocktail\", \"margarita\", \"mojito\"]\n",
    "\n",
    "new_list = []\n",
    "\n",
    "for drink in drinks:\n",
    "    if \"c\" in drink:\n",
    "        new_list.append(drink)\n",
    "\n",
    "print(new_list)"
   ]
  },
  {
   "cell_type": "markdown",
   "metadata": {},
   "source": [
    "Let's do the exact same thing using **list comprehension**.\n",
    "\n",
    "```python\n",
    "new_list = [drink for drink in drinks if \"c\" in drink]\n",
    "\n",
    "print(new_list)\n",
    "```"
   ]
  },
  {
   "cell_type": "code",
   "execution_count": 63,
   "metadata": {},
   "outputs": [
    {
     "name": "stdout",
     "output_type": "stream",
     "text": [
      "['coffee', 'coke', 'cocktail', 'mocktail']\n"
     ]
    }
   ],
   "source": [
    "new_list = [drink for drink in drinks if \"c\" in drink]\n",
    "\n",
    "print(new_list)"
   ]
  },
  {
   "cell_type": "markdown",
   "metadata": {},
   "source": [
    "**Exercise**\n",
    "\n",
    "Let's find all even numbers in `numbers` using **list comprehension**."
   ]
  },
  {
   "cell_type": "code",
   "execution_count": 64,
   "metadata": {},
   "outputs": [
    {
     "name": "stdout",
     "output_type": "stream",
     "text": [
      "[12, 14, 16, 18]\n"
     ]
    }
   ],
   "source": [
    "# [TODO]\n",
    "\n",
    "even_numbers = [num for num in numbers if num % 2 == 0]\n",
    "\n",
    "print(even_numbers)"
   ]
  }
 ],
 "metadata": {
  "kernelspec": {
   "display_name": "Python 3.9.12 ('base')",
   "language": "python",
   "name": "python3"
  },
  "language_info": {
   "codemirror_mode": {
    "name": "ipython",
    "version": 3
   },
   "file_extension": ".py",
   "mimetype": "text/x-python",
   "name": "python",
   "nbconvert_exporter": "python",
   "pygments_lexer": "ipython3",
   "version": "3.9.12"
  },
  "orig_nbformat": 4,
  "vscode": {
   "interpreter": {
    "hash": "e720081de2fd57dd700935953acd9dd6610ea2e1d5e7379bea03675c6c751eb5"
   }
  }
 },
 "nbformat": 4,
 "nbformat_minor": 2
}
